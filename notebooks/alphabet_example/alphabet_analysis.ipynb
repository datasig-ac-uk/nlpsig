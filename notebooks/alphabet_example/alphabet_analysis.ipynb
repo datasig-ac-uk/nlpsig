{
 "cells": [
  {
   "cell_type": "code",
   "execution_count": 15,
   "id": "f24b12b2",
   "metadata": {},
   "outputs": [
    {
     "name": "stderr",
     "output_type": "stream",
     "text": [
      "100%|███████████████████████████████████████████████████████████████████████████████████████████████| 2000/2000 [00:00<00:00, 122631.50it/s]\n",
      "100%|███████████████████████████████████████████████████████████████████████████████████████████████| 2000/2000 [00:00<00:00, 120890.73it/s]\n",
      "100%|███████████████████████████████████████████████████████████████████████████████████████████████| 2000/2000 [00:00<00:00, 125500.94it/s]\n",
      "100%|███████████████████████████████████████████████████████████████████████████████████████████████| 2000/2000 [00:00<00:00, 124570.95it/s]\n",
      "100%|███████████████████████████████████████████████████████████████████████████████████████████████| 2000/2000 [00:00<00:00, 121669.25it/s]\n",
      "100%|███████████████████████████████████████████████████████████████████████████████████████████████| 2000/2000 [00:00<00:00, 121876.07it/s]\n"
     ]
    }
   ],
   "source": [
    "import numpy as np\n",
    "from lang_utils import load_paths\n",
    "\n",
    "N = 2000 # num words per language\n",
    "langs = ['en','de','fr','it','pl', 'sv'] # which languages to use\n",
    "path = './dicts/' # path to dictionaries\n",
    "max_word_len = 20 # max length of path (will truncate words longer than this)\n",
    "alpha_len = 26 # length of alphabet \n",
    "\n",
    "words,paths,labels = load_paths(\n",
    "    N,\n",
    "    langs=langs,\n",
    "    path=path,\n",
    "    max_word_len=max_word_len,\n",
    "    alpha_len=alpha_len\n",
    ")\n",
    "\n",
    "# start all paths with the empty word (all zeros)\n",
    "empty_words = np.zeros((paths.shape[0],1,paths.shape[2]))\n",
    "paths = np.concatenate([empty_words,paths],axis=1)"
   ]
  },
  {
   "cell_type": "code",
   "execution_count": 16,
   "id": "63c9c4a5",
   "metadata": {},
   "outputs": [
    {
     "data": {
      "text/plain": [
       "(12000, 21, 26)"
      ]
     },
     "execution_count": 16,
     "metadata": {},
     "output_type": "execute_result"
    }
   ],
   "source": []
  },
  {
   "cell_type": "code",
   "execution_count": 14,
   "id": "556d947d",
   "metadata": {},
   "outputs": [
    {
     "data": {
      "text/plain": [
       "12000"
      ]
     },
     "execution_count": 14,
     "metadata": {},
     "output_type": "execute_result"
    }
   ],
   "source": []
  },
  {
   "cell_type": "code",
   "execution_count": 12,
   "id": "788bce2e",
   "metadata": {},
   "outputs": [
    {
     "data": {
      "text/plain": [
       "'ceremonials'"
      ]
     },
     "execution_count": 12,
     "metadata": {},
     "output_type": "execute_result"
    }
   ],
   "source": [
    "words[0"
   ]
  },
  {
   "cell_type": "code",
   "execution_count": null,
   "id": "059975c0",
   "metadata": {},
   "outputs": [],
   "source": []
  }
 ],
 "metadata": {
  "kernelspec": {
   "display_name": "Python (py38esig)",
   "language": "python",
   "name": "py38esig"
  },
  "language_info": {
   "codemirror_mode": {
    "name": "ipython",
    "version": 3
   },
   "file_extension": ".py",
   "mimetype": "text/x-python",
   "name": "python",
   "nbconvert_exporter": "python",
   "pygments_lexer": "ipython3",
   "version": "3.8.13"
  }
 },
 "nbformat": 4,
 "nbformat_minor": 5
}
