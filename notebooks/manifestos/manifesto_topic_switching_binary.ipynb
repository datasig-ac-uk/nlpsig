{
 "cells": [
  {
   "cell_type": "code",
   "execution_count": 1,
   "id": "901ff218",
   "metadata": {},
   "outputs": [
    {
     "name": "stderr",
     "output_type": "stream",
     "text": [
      "/Users/rchan/opt/miniconda3/envs/py38esig/lib/python3.8/site-packages/tqdm/auto.py:22: TqdmWarning: IProgress not found. Please update jupyter and ipywidgets. See https://ipywidgets.readthedocs.io/en/stable/user_install.html\n",
      "  from .autonotebook import tqdm as notebook_tqdm\n"
     ]
    }
   ],
   "source": [
    "import pandas as pd\n",
    "import pandas as pd\n",
    "import torch\n",
    "import pickle\n",
    "import os\n",
    "\n",
    "import nlpsig\n",
    "from nlpsig.ffn import FeedforwardNeuralNetModel\n",
    "from nlpsig.focal_loss import FocalLoss"
   ]
  },
  {
   "cell_type": "code",
   "execution_count": 2,
   "id": "768ea271",
   "metadata": {},
   "outputs": [],
   "source": [
    "def concatenate_data(data_folder_path):\n",
    "    print(f\"looking in {data_folder_path} directory...\")\n",
    "    manifesto_dfs = []\n",
    "    for filename in os.listdir(data_folder_path):\n",
    "        print(f\"- reading {filename}...\")\n",
    "        # parse filename for metadata\n",
    "        filename_split = filename.split(\"_\")\n",
    "        party_id = int(filename_split[0])\n",
    "        year = int(filename_split[1][0:4])\n",
    "        month = int(filename_split[1][4:6])\n",
    "        doc_id = f\"{party_id}_{year}\"\n",
    "        # read dataframe and add metadata\n",
    "        df = pd.read_csv(f\"data/{filename}\")[[\"text\", \"cmp_code\"]]\n",
    "        df = df[df[\"cmp_code\"]!=\"H\"].dropna().reset_index(drop=True)\n",
    "        df[\"topic\"] = [int(str(code)[0]) for code in df[\"cmp_code\"]]\n",
    "        df[\"switched_topic\"] = [True] + [df[\"topic\"].iloc[i]!=df[\"topic\"].iloc[i-1]\n",
    "                                         for i in range(1, len(df))]\n",
    "        df[\"party_id\"] = party_id\n",
    "        df[\"doc_id\"] = f\"{party_id}_{year}\"\n",
    "        df[\"datetime\"] = pd.Timestamp(f\"{year}-{month}\")\n",
    "        manifesto_dfs.append(df)\n",
    "    return pd.concat(manifesto_dfs).reset_index(drop=True)"
   ]
  },
  {
   "cell_type": "code",
   "execution_count": 3,
   "id": "159adae2",
   "metadata": {},
   "outputs": [
    {
     "name": "stdout",
     "output_type": "stream",
     "text": [
      "looking in data/ directory...\n",
      "- reading 51902_201706.csv...\n",
      "- reading 51902_201505.csv...\n",
      "- reading 51320_201912.csv...\n",
      "- reading 51620_201706.csv...\n",
      "- reading 51620_201505.csv...\n",
      "- reading 51421_201706.csv...\n",
      "- reading 51421_201505.csv...\n",
      "- reading 51421_201912.csv...\n",
      "- reading 51902_201912.csv...\n",
      "- reading 51320_201706.csv...\n",
      "- reading 51620_201912.csv...\n",
      "- reading 51320_201505.csv...\n"
     ]
    }
   ],
   "source": [
    "manifesto_df = concatenate_data(\"data/\")"
   ]
  },
  {
   "cell_type": "code",
   "execution_count": 4,
   "id": "5f044c7f",
   "metadata": {},
   "outputs": [
    {
     "data": {
      "text/html": [
       "<div>\n",
       "<style scoped>\n",
       "    .dataframe tbody tr th:only-of-type {\n",
       "        vertical-align: middle;\n",
       "    }\n",
       "\n",
       "    .dataframe tbody tr th {\n",
       "        vertical-align: top;\n",
       "    }\n",
       "\n",
       "    .dataframe thead th {\n",
       "        text-align: right;\n",
       "    }\n",
       "</style>\n",
       "<table border=\"1\" class=\"dataframe\">\n",
       "  <thead>\n",
       "    <tr style=\"text-align: right;\">\n",
       "      <th></th>\n",
       "      <th>text</th>\n",
       "      <th>cmp_code</th>\n",
       "      <th>topic</th>\n",
       "      <th>switched_topic</th>\n",
       "      <th>party_id</th>\n",
       "      <th>doc_id</th>\n",
       "      <th>datetime</th>\n",
       "    </tr>\n",
       "  </thead>\n",
       "  <tbody>\n",
       "    <tr>\n",
       "      <th>0</th>\n",
       "      <td>SNP MPs have used their influence to deliver p...</td>\n",
       "      <td>305.1</td>\n",
       "      <td>3</td>\n",
       "      <td>True</td>\n",
       "      <td>51902</td>\n",
       "      <td>51902_2017</td>\n",
       "      <td>2017-06-01</td>\n",
       "    </tr>\n",
       "    <tr>\n",
       "      <th>1</th>\n",
       "      <td>Here’s just some of what a strong team of SNP ...</td>\n",
       "      <td>305.1</td>\n",
       "      <td>3</td>\n",
       "      <td>False</td>\n",
       "      <td>51902</td>\n",
       "      <td>51902_2017</td>\n",
       "      <td>2017-06-01</td>\n",
       "    </tr>\n",
       "    <tr>\n",
       "      <th>2</th>\n",
       "      <td>When the Scotland Bill was going through Westm...</td>\n",
       "      <td>301</td>\n",
       "      <td>3</td>\n",
       "      <td>False</td>\n",
       "      <td>51902</td>\n",
       "      <td>51902_2017</td>\n",
       "      <td>2017-06-01</td>\n",
       "    </tr>\n",
       "    <tr>\n",
       "      <th>3</th>\n",
       "      <td>And it was SNP MPs, working with the Scottish ...</td>\n",
       "      <td>301</td>\n",
       "      <td>3</td>\n",
       "      <td>False</td>\n",
       "      <td>51902</td>\n",
       "      <td>51902_2017</td>\n",
       "      <td>2017-06-01</td>\n",
       "    </tr>\n",
       "    <tr>\n",
       "      <th>4</th>\n",
       "      <td>The SNP secured a deal that ensures Scotland w...</td>\n",
       "      <td>301</td>\n",
       "      <td>3</td>\n",
       "      <td>False</td>\n",
       "      <td>51902</td>\n",
       "      <td>51902_2017</td>\n",
       "      <td>2017-06-01</td>\n",
       "    </tr>\n",
       "    <tr>\n",
       "      <th>5</th>\n",
       "      <td>SNP MPs have consistently opposed Tory austerity.</td>\n",
       "      <td>504</td>\n",
       "      <td>5</td>\n",
       "      <td>True</td>\n",
       "      <td>51902</td>\n",
       "      <td>51902_2017</td>\n",
       "      <td>2017-06-01</td>\n",
       "    </tr>\n",
       "    <tr>\n",
       "      <th>6</th>\n",
       "      <td>Our MPs have been instrumental in forcing UK g...</td>\n",
       "      <td>504</td>\n",
       "      <td>5</td>\n",
       "      <td>False</td>\n",
       "      <td>51902</td>\n",
       "      <td>51902_2017</td>\n",
       "      <td>2017-06-01</td>\n",
       "    </tr>\n",
       "    <tr>\n",
       "      <th>7</th>\n",
       "      <td>Alison Thewliss has been at the forefront of t...</td>\n",
       "      <td>504</td>\n",
       "      <td>5</td>\n",
       "      <td>False</td>\n",
       "      <td>51902</td>\n",
       "      <td>51902_2017</td>\n",
       "      <td>2017-06-01</td>\n",
       "    </tr>\n",
       "    <tr>\n",
       "      <th>8</th>\n",
       "      <td>and force women to prove they have been raped ...</td>\n",
       "      <td>503</td>\n",
       "      <td>5</td>\n",
       "      <td>False</td>\n",
       "      <td>51902</td>\n",
       "      <td>51902_2017</td>\n",
       "      <td>2017-06-01</td>\n",
       "    </tr>\n",
       "    <tr>\n",
       "      <th>9</th>\n",
       "      <td>SNP MPs have worked with Women Against State P...</td>\n",
       "      <td>503</td>\n",
       "      <td>5</td>\n",
       "      <td>False</td>\n",
       "      <td>51902</td>\n",
       "      <td>51902_2017</td>\n",
       "      <td>2017-06-01</td>\n",
       "    </tr>\n",
       "  </tbody>\n",
       "</table>\n",
       "</div>"
      ],
      "text/plain": [
       "                                                text cmp_code  topic  \\\n",
       "0  SNP MPs have used their influence to deliver p...    305.1      3   \n",
       "1  Here’s just some of what a strong team of SNP ...    305.1      3   \n",
       "2  When the Scotland Bill was going through Westm...      301      3   \n",
       "3  And it was SNP MPs, working with the Scottish ...      301      3   \n",
       "4  The SNP secured a deal that ensures Scotland w...      301      3   \n",
       "5  SNP MPs have consistently opposed Tory austerity.      504      5   \n",
       "6  Our MPs have been instrumental in forcing UK g...      504      5   \n",
       "7  Alison Thewliss has been at the forefront of t...      504      5   \n",
       "8  and force women to prove they have been raped ...      503      5   \n",
       "9  SNP MPs have worked with Women Against State P...      503      5   \n",
       "\n",
       "   switched_topic  party_id      doc_id   datetime  \n",
       "0            True     51902  51902_2017 2017-06-01  \n",
       "1           False     51902  51902_2017 2017-06-01  \n",
       "2           False     51902  51902_2017 2017-06-01  \n",
       "3           False     51902  51902_2017 2017-06-01  \n",
       "4           False     51902  51902_2017 2017-06-01  \n",
       "5            True     51902  51902_2017 2017-06-01  \n",
       "6           False     51902  51902_2017 2017-06-01  \n",
       "7           False     51902  51902_2017 2017-06-01  \n",
       "8           False     51902  51902_2017 2017-06-01  \n",
       "9           False     51902  51902_2017 2017-06-01  "
      ]
     },
     "execution_count": 4,
     "metadata": {},
     "output_type": "execute_result"
    }
   ],
   "source": [
    "manifesto_df.head(10)"
   ]
  },
  {
   "cell_type": "code",
   "execution_count": 5,
   "id": "2ec9984a",
   "metadata": {
    "scrolled": true
   },
   "outputs": [
    {
     "data": {
      "text/plain": [
       "5    5300\n",
       "4    3872\n",
       "6    1547\n",
       "1    1504\n",
       "2    1235\n",
       "3    1101\n",
       "7    1024\n",
       "0      27\n",
       "Name: topic, dtype: int64"
      ]
     },
     "execution_count": 5,
     "metadata": {},
     "output_type": "execute_result"
    }
   ],
   "source": [
    "manifesto_df[\"topic\"].value_counts()"
   ]
  },
  {
   "cell_type": "code",
   "execution_count": 6,
   "id": "1faba6f2",
   "metadata": {},
   "outputs": [
    {
     "data": {
      "text/plain": [
       "51421    4515\n",
       "51620    4307\n",
       "51320    4039\n",
       "51902    2749\n",
       "Name: party_id, dtype: int64"
      ]
     },
     "execution_count": 6,
     "metadata": {},
     "output_type": "execute_result"
    }
   ],
   "source": [
    "manifesto_df[\"party_id\"].value_counts()"
   ]
  },
  {
   "cell_type": "code",
   "execution_count": 7,
   "id": "99bf3b01",
   "metadata": {},
   "outputs": [
    {
     "data": {
      "text/plain": [
       "51421_2015    1917\n",
       "51320_2019    1702\n",
       "51620_2015    1588\n",
       "51620_2017    1496\n",
       "51421_2019    1467\n",
       "51320_2017    1328\n",
       "51620_2019    1223\n",
       "51421_2017    1131\n",
       "51902_2019    1071\n",
       "51320_2015    1009\n",
       "51902_2015     892\n",
       "51902_2017     786\n",
       "Name: doc_id, dtype: int64"
      ]
     },
     "execution_count": 7,
     "metadata": {},
     "output_type": "execute_result"
    }
   ],
   "source": [
    "manifesto_df[\"doc_id\"].value_counts()"
   ]
  },
  {
   "cell_type": "markdown",
   "id": "28065b69",
   "metadata": {},
   "source": [
    "## Model specifics\n",
    "\n",
    "Nested dictionary for models specifications.\n",
    "\n",
    "This includes models for encoding text, path signature and etc."
   ]
  },
  {
   "cell_type": "code",
   "execution_count": 8,
   "id": "97fc5be0",
   "metadata": {},
   "outputs": [],
   "source": [
    "model_specifics = {\n",
    "    \"encoder_args\": {\n",
    "        \"col_name_text\": \"text\", # column corresponding to the sentences\n",
    "        \"model_name\": \"all-MiniLM-L6-v2\", #options: all-mpnet-base-v2, all-distilroberta-v1, all-MiniLM-L12-v2\n",
    "        \"model_args\": {\n",
    "            \"batch_size\": 64,\n",
    "            \"show_progress_bar\": True,\n",
    "            \"output_value\": 'sentence_embedding', \n",
    "            \"convert_to_numpy\": True,\n",
    "            \"convert_to_tensor\": False,\n",
    "            \"device\": None,\n",
    "            \"normalize_embeddings\": False\n",
    "        }\n",
    "    },\n",
    "    \"dim_reduction\": {\n",
    "        \"method\": 'umap', #options: ppapca, ppapcappa, umap\n",
    "        \"n_components\": 10, # options: any int number between 1 and embedding dimensions\n",
    "    },\n",
    "    \"embedding\":{\n",
    "        \"global_embedding_tp\": 'SBERT', #options: SBERT, BERT_cls , BERT_mean, BERT_max\n",
    "        \"post_embedding_tp\": 'sentence', #options: sentence, reduced\n",
    "        \"feature_combination_method\": 'attention', #options concatenation, attention \n",
    "    },\n",
    "    \"time_injection\": {\n",
    "        \"history_tp\": 'timestamp', #options: timestamp, None\n",
    "        \"post_tp\": 'timestamp', #options: timestamp, timediff, None\n",
    "    },\n",
    "    \"signature\": {\n",
    "        \"dimensions\": 3, #options: any int number larger than 1\n",
    "        \"method\": 'log', # options: log, sig\n",
    "        \"interval\": 1/12\n",
    "    }\n",
    "}"
   ]
  },
  {
   "cell_type": "markdown",
   "id": "62bf71a1",
   "metadata": {},
   "source": [
    "## Obtaining SBERT Embeddings\n",
    "\n",
    "We can use the `TextEncoder` class within `nlpsig` to obtain sentence embeddings from a model. Here, we have defined the encoder arguments in `model_specifics`."
   ]
  },
  {
   "cell_type": "code",
   "execution_count": 9,
   "id": "86179204",
   "metadata": {},
   "outputs": [
    {
     "data": {
      "text/plain": [
       "{'col_name_text': 'text',\n",
       " 'model_name': 'all-MiniLM-L6-v2',\n",
       " 'model_args': {'batch_size': 64,\n",
       "  'show_progress_bar': True,\n",
       "  'output_value': 'sentence_embedding',\n",
       "  'convert_to_numpy': True,\n",
       "  'convert_to_tensor': False,\n",
       "  'device': None,\n",
       "  'normalize_embeddings': False}}"
      ]
     },
     "execution_count": 9,
     "metadata": {},
     "output_type": "execute_result"
    }
   ],
   "source": [
    "model_specifics[\"encoder_args\"]"
   ]
  },
  {
   "cell_type": "markdown",
   "id": "45af564d",
   "metadata": {},
   "source": [
    "We can pass these into the constructor of the class to initialise our text encoder as follows:"
   ]
  },
  {
   "cell_type": "code",
   "execution_count": 10,
   "id": "a9c24ce6",
   "metadata": {},
   "outputs": [],
   "source": [
    "# initialise the Text Encoder \n",
    "text_encoder = nlpsig.TextEncoder(manifesto_df, **model_specifics[\"encoder_args\"])"
   ]
  },
  {
   "cell_type": "markdown",
   "id": "5c7c1ec6",
   "metadata": {},
   "source": [
    "The class has a `.encode_sentence_transformer()` method which first loads in the model (using the `model_name` and `model_args` attributes) and then obtains an embedding for each sentence. These sentence embeddings are then stored in the `embeddings_sentence` attribute of the object."
   ]
  },
  {
   "cell_type": "code",
   "execution_count": 11,
   "id": "585b6262",
   "metadata": {},
   "outputs": [
    {
     "name": "stdout",
     "output_type": "stream",
     "text": [
      "[INFO] number of sentences to encode: 15610\n"
     ]
    },
    {
     "name": "stderr",
     "output_type": "stream",
     "text": [
      "Batches: 100%|████████████████████████████████████████████████████████████████████████████████████████████| 244/244 [00:35<00:00,  6.80it/s]\n"
     ]
    }
   ],
   "source": [
    "text_encoder.encode_sentence_transformer()\n",
    "embeddings_sentence = text_encoder.embeddings_sentence"
   ]
  },
  {
   "cell_type": "markdown",
   "id": "ac20230d",
   "metadata": {},
   "source": [
    "## Dimensionality Reduction with UMAP\n",
    "\n",
    "Here we specified our choices in `model_specifics` above:"
   ]
  },
  {
   "cell_type": "code",
   "execution_count": 12,
   "id": "8f516fdb",
   "metadata": {},
   "outputs": [
    {
     "data": {
      "text/plain": [
       "{'method': 'umap', 'n_components': 10}"
      ]
     },
     "execution_count": 12,
     "metadata": {},
     "output_type": "execute_result"
    }
   ],
   "source": [
    "model_specifics[\"dim_reduction\"]"
   ]
  },
  {
   "cell_type": "code",
   "execution_count": 13,
   "id": "696734fe",
   "metadata": {},
   "outputs": [],
   "source": [
    "reduction = nlpsig.DimReduce(**model_specifics[\"dim_reduction\"])\n",
    "embeddings_reduced = reduction.fit_transform(embeddings_sentence)"
   ]
  },
  {
   "cell_type": "code",
   "execution_count": 14,
   "id": "2c8003d2",
   "metadata": {},
   "outputs": [
    {
     "name": "stdout",
     "output_type": "stream",
     "text": [
      "(15610, 384)\n",
      "(15610, 10)\n"
     ]
    }
   ],
   "source": [
    "print(embeddings_sentence.shape)\n",
    "print(embeddings_reduced.shape)"
   ]
  },
  {
   "cell_type": "markdown",
   "id": "180f28e6",
   "metadata": {},
   "source": [
    "## Data preparation: Time injection and Padding"
   ]
  },
  {
   "cell_type": "code",
   "execution_count": 15,
   "id": "dc339da3",
   "metadata": {
    "scrolled": false
   },
   "outputs": [
    {
     "name": "stdout",
     "output_type": "stream",
     "text": [
      "[INFO] Adding time feature columns into dataframe in .df\n"
     ]
    }
   ],
   "source": [
    "manifesto_data = nlpsig.PrepareData(manifesto_df,\n",
    "                                    id_column=\"doc_id\",\n",
    "                                    labels_column=\"switched_topic\",\n",
    "                                    embeddings=embeddings_sentence,\n",
    "                                    embeddings_reduced=embeddings_reduced)"
   ]
  },
  {
   "cell_type": "code",
   "execution_count": 16,
   "id": "1bfc80ad",
   "metadata": {},
   "outputs": [
    {
     "data": {
      "text/plain": [
       "51421_2015    1917\n",
       "51320_2019    1702\n",
       "51620_2015    1588\n",
       "51620_2017    1496\n",
       "51421_2019    1467\n",
       "51320_2017    1328\n",
       "51620_2019    1223\n",
       "51421_2017    1131\n",
       "51902_2019    1071\n",
       "51320_2015    1009\n",
       "51902_2015     892\n",
       "51902_2017     786\n",
       "Name: doc_id, dtype: int64"
      ]
     },
     "execution_count": 16,
     "metadata": {},
     "output_type": "execute_result"
    }
   ],
   "source": [
    "manifesto_data.df[\"doc_id\"].value_counts()"
   ]
  },
  {
   "cell_type": "code",
   "execution_count": 17,
   "id": "8769f0cb",
   "metadata": {},
   "outputs": [
    {
     "data": {
      "text/html": [
       "<div>\n",
       "<style scoped>\n",
       "    .dataframe tbody tr th:only-of-type {\n",
       "        vertical-align: middle;\n",
       "    }\n",
       "\n",
       "    .dataframe tbody tr th {\n",
       "        vertical-align: top;\n",
       "    }\n",
       "\n",
       "    .dataframe thead th {\n",
       "        text-align: right;\n",
       "    }\n",
       "</style>\n",
       "<table border=\"1\" class=\"dataframe\">\n",
       "  <thead>\n",
       "    <tr style=\"text-align: right;\">\n",
       "      <th></th>\n",
       "      <th>text</th>\n",
       "      <th>cmp_code</th>\n",
       "      <th>topic</th>\n",
       "      <th>switched_topic</th>\n",
       "      <th>party_id</th>\n",
       "      <th>doc_id</th>\n",
       "      <th>datetime</th>\n",
       "      <th>d1</th>\n",
       "      <th>d2</th>\n",
       "      <th>d3</th>\n",
       "      <th>...</th>\n",
       "      <th>e378</th>\n",
       "      <th>e379</th>\n",
       "      <th>e380</th>\n",
       "      <th>e381</th>\n",
       "      <th>e382</th>\n",
       "      <th>e383</th>\n",
       "      <th>e384</th>\n",
       "      <th>time_encoding</th>\n",
       "      <th>time_diff</th>\n",
       "      <th>timeline_index</th>\n",
       "    </tr>\n",
       "  </thead>\n",
       "  <tbody>\n",
       "    <tr>\n",
       "      <th>13753</th>\n",
       "      <td>SNP MPs have used their influence to deliver p...</td>\n",
       "      <td>305.1</td>\n",
       "      <td>3</td>\n",
       "      <td>True</td>\n",
       "      <td>51902</td>\n",
       "      <td>51902_2017</td>\n",
       "      <td>2017-06-01</td>\n",
       "      <td>7.076446</td>\n",
       "      <td>4.272100</td>\n",
       "      <td>7.765581</td>\n",
       "      <td>...</td>\n",
       "      <td>0.005326</td>\n",
       "      <td>0.037123</td>\n",
       "      <td>0.016147</td>\n",
       "      <td>0.055606</td>\n",
       "      <td>0.008570</td>\n",
       "      <td>0.026209</td>\n",
       "      <td>-0.021132</td>\n",
       "      <td>2017.413699</td>\n",
       "      <td>0</td>\n",
       "      <td>1</td>\n",
       "    </tr>\n",
       "    <tr>\n",
       "      <th>13754</th>\n",
       "      <td>Here’s just some of what a strong team of SNP ...</td>\n",
       "      <td>305.1</td>\n",
       "      <td>3</td>\n",
       "      <td>False</td>\n",
       "      <td>51902</td>\n",
       "      <td>51902_2017</td>\n",
       "      <td>2017-06-01</td>\n",
       "      <td>6.945519</td>\n",
       "      <td>4.231819</td>\n",
       "      <td>7.687037</td>\n",
       "      <td>...</td>\n",
       "      <td>-0.022241</td>\n",
       "      <td>-0.003946</td>\n",
       "      <td>0.018906</td>\n",
       "      <td>0.033558</td>\n",
       "      <td>-0.001041</td>\n",
       "      <td>0.002696</td>\n",
       "      <td>0.039106</td>\n",
       "      <td>2017.413699</td>\n",
       "      <td>0</td>\n",
       "      <td>2</td>\n",
       "    </tr>\n",
       "    <tr>\n",
       "      <th>13755</th>\n",
       "      <td>When the Scotland Bill was going through Westm...</td>\n",
       "      <td>301</td>\n",
       "      <td>3</td>\n",
       "      <td>False</td>\n",
       "      <td>51902</td>\n",
       "      <td>51902_2017</td>\n",
       "      <td>2017-06-01</td>\n",
       "      <td>7.170236</td>\n",
       "      <td>4.472499</td>\n",
       "      <td>8.550349</td>\n",
       "      <td>...</td>\n",
       "      <td>-0.037495</td>\n",
       "      <td>-0.051820</td>\n",
       "      <td>0.005708</td>\n",
       "      <td>0.042825</td>\n",
       "      <td>0.048136</td>\n",
       "      <td>0.034429</td>\n",
       "      <td>-0.040953</td>\n",
       "      <td>2017.413699</td>\n",
       "      <td>0</td>\n",
       "      <td>3</td>\n",
       "    </tr>\n",
       "    <tr>\n",
       "      <th>13756</th>\n",
       "      <td>And it was SNP MPs, working with the Scottish ...</td>\n",
       "      <td>301</td>\n",
       "      <td>3</td>\n",
       "      <td>False</td>\n",
       "      <td>51902</td>\n",
       "      <td>51902_2017</td>\n",
       "      <td>2017-06-01</td>\n",
       "      <td>7.223161</td>\n",
       "      <td>4.530838</td>\n",
       "      <td>8.441557</td>\n",
       "      <td>...</td>\n",
       "      <td>-0.020897</td>\n",
       "      <td>-0.088878</td>\n",
       "      <td>-0.045942</td>\n",
       "      <td>0.015616</td>\n",
       "      <td>-0.015972</td>\n",
       "      <td>0.036915</td>\n",
       "      <td>0.012497</td>\n",
       "      <td>2017.413699</td>\n",
       "      <td>0</td>\n",
       "      <td>4</td>\n",
       "    </tr>\n",
       "    <tr>\n",
       "      <th>13757</th>\n",
       "      <td>The SNP secured a deal that ensures Scotland w...</td>\n",
       "      <td>301</td>\n",
       "      <td>3</td>\n",
       "      <td>False</td>\n",
       "      <td>51902</td>\n",
       "      <td>51902_2017</td>\n",
       "      <td>2017-06-01</td>\n",
       "      <td>7.302962</td>\n",
       "      <td>4.455559</td>\n",
       "      <td>8.645349</td>\n",
       "      <td>...</td>\n",
       "      <td>0.020309</td>\n",
       "      <td>-0.034161</td>\n",
       "      <td>-0.037054</td>\n",
       "      <td>-0.051635</td>\n",
       "      <td>-0.082328</td>\n",
       "      <td>-0.005767</td>\n",
       "      <td>-0.041583</td>\n",
       "      <td>2017.413699</td>\n",
       "      <td>0</td>\n",
       "      <td>5</td>\n",
       "    </tr>\n",
       "    <tr>\n",
       "      <th>...</th>\n",
       "      <td>...</td>\n",
       "      <td>...</td>\n",
       "      <td>...</td>\n",
       "      <td>...</td>\n",
       "      <td>...</td>\n",
       "      <td>...</td>\n",
       "      <td>...</td>\n",
       "      <td>...</td>\n",
       "      <td>...</td>\n",
       "      <td>...</td>\n",
       "      <td>...</td>\n",
       "      <td>...</td>\n",
       "      <td>...</td>\n",
       "      <td>...</td>\n",
       "      <td>...</td>\n",
       "      <td>...</td>\n",
       "      <td>...</td>\n",
       "      <td>...</td>\n",
       "      <td>...</td>\n",
       "      <td>...</td>\n",
       "      <td>...</td>\n",
       "    </tr>\n",
       "    <tr>\n",
       "      <th>14534</th>\n",
       "      <td>The disgraceful condition of the housing provi...</td>\n",
       "      <td>201.2</td>\n",
       "      <td>2</td>\n",
       "      <td>False</td>\n",
       "      <td>51902</td>\n",
       "      <td>51902_2017</td>\n",
       "      <td>2017-06-01</td>\n",
       "      <td>5.455401</td>\n",
       "      <td>3.690897</td>\n",
       "      <td>8.006092</td>\n",
       "      <td>...</td>\n",
       "      <td>-0.058051</td>\n",
       "      <td>-0.012283</td>\n",
       "      <td>0.056241</td>\n",
       "      <td>-0.059958</td>\n",
       "      <td>-0.062718</td>\n",
       "      <td>0.068832</td>\n",
       "      <td>0.033046</td>\n",
       "      <td>2017.413699</td>\n",
       "      <td>0</td>\n",
       "      <td>782</td>\n",
       "    </tr>\n",
       "    <tr>\n",
       "      <th>14535</th>\n",
       "      <td>The Scottish Government’s work to resettle Syr...</td>\n",
       "      <td>201.2</td>\n",
       "      <td>2</td>\n",
       "      <td>False</td>\n",
       "      <td>51902</td>\n",
       "      <td>51902_2017</td>\n",
       "      <td>2017-06-01</td>\n",
       "      <td>5.445345</td>\n",
       "      <td>4.447828</td>\n",
       "      <td>7.652509</td>\n",
       "      <td>...</td>\n",
       "      <td>0.040820</td>\n",
       "      <td>0.043064</td>\n",
       "      <td>0.039066</td>\n",
       "      <td>0.044445</td>\n",
       "      <td>0.076865</td>\n",
       "      <td>0.004159</td>\n",
       "      <td>0.005174</td>\n",
       "      <td>2017.413699</td>\n",
       "      <td>0</td>\n",
       "      <td>783</td>\n",
       "    </tr>\n",
       "    <tr>\n",
       "      <th>14536</th>\n",
       "      <td>We will urge the UK government to work with th...</td>\n",
       "      <td>301</td>\n",
       "      <td>3</td>\n",
       "      <td>True</td>\n",
       "      <td>51902</td>\n",
       "      <td>51902_2017</td>\n",
       "      <td>2017-06-01</td>\n",
       "      <td>5.239152</td>\n",
       "      <td>4.309934</td>\n",
       "      <td>7.645834</td>\n",
       "      <td>...</td>\n",
       "      <td>-0.008096</td>\n",
       "      <td>0.020132</td>\n",
       "      <td>0.048608</td>\n",
       "      <td>0.039107</td>\n",
       "      <td>0.038743</td>\n",
       "      <td>-0.023217</td>\n",
       "      <td>-0.010533</td>\n",
       "      <td>2017.413699</td>\n",
       "      <td>0</td>\n",
       "      <td>784</td>\n",
       "    </tr>\n",
       "    <tr>\n",
       "      <th>14537</th>\n",
       "      <td>rather than use private contractors who have p...</td>\n",
       "      <td>413</td>\n",
       "      <td>4</td>\n",
       "      <td>True</td>\n",
       "      <td>51902</td>\n",
       "      <td>51902_2017</td>\n",
       "      <td>2017-06-01</td>\n",
       "      <td>5.336844</td>\n",
       "      <td>2.650033</td>\n",
       "      <td>8.115968</td>\n",
       "      <td>...</td>\n",
       "      <td>0.004935</td>\n",
       "      <td>-0.016151</td>\n",
       "      <td>0.000850</td>\n",
       "      <td>-0.079934</td>\n",
       "      <td>-0.067935</td>\n",
       "      <td>0.046949</td>\n",
       "      <td>0.015082</td>\n",
       "      <td>2017.413699</td>\n",
       "      <td>0</td>\n",
       "      <td>785</td>\n",
       "    </tr>\n",
       "    <tr>\n",
       "      <th>14538</th>\n",
       "      <td>There needs to be reform to the detention and ...</td>\n",
       "      <td>201.2</td>\n",
       "      <td>2</td>\n",
       "      <td>True</td>\n",
       "      <td>51902</td>\n",
       "      <td>51902_2017</td>\n",
       "      <td>2017-06-01</td>\n",
       "      <td>4.712148</td>\n",
       "      <td>4.631866</td>\n",
       "      <td>6.832268</td>\n",
       "      <td>...</td>\n",
       "      <td>0.032272</td>\n",
       "      <td>-0.068364</td>\n",
       "      <td>0.075854</td>\n",
       "      <td>0.039403</td>\n",
       "      <td>0.012658</td>\n",
       "      <td>0.027627</td>\n",
       "      <td>-0.067257</td>\n",
       "      <td>2017.413699</td>\n",
       "      <td>0</td>\n",
       "      <td>786</td>\n",
       "    </tr>\n",
       "  </tbody>\n",
       "</table>\n",
       "<p>786 rows × 404 columns</p>\n",
       "</div>"
      ],
      "text/plain": [
       "                                                    text cmp_code  topic  \\\n",
       "13753  SNP MPs have used their influence to deliver p...    305.1      3   \n",
       "13754  Here’s just some of what a strong team of SNP ...    305.1      3   \n",
       "13755  When the Scotland Bill was going through Westm...      301      3   \n",
       "13756  And it was SNP MPs, working with the Scottish ...      301      3   \n",
       "13757  The SNP secured a deal that ensures Scotland w...      301      3   \n",
       "...                                                  ...      ...    ...   \n",
       "14534  The disgraceful condition of the housing provi...    201.2      2   \n",
       "14535  The Scottish Government’s work to resettle Syr...    201.2      2   \n",
       "14536  We will urge the UK government to work with th...      301      3   \n",
       "14537  rather than use private contractors who have p...      413      4   \n",
       "14538  There needs to be reform to the detention and ...    201.2      2   \n",
       "\n",
       "       switched_topic  party_id      doc_id   datetime        d1        d2  \\\n",
       "13753            True     51902  51902_2017 2017-06-01  7.076446  4.272100   \n",
       "13754           False     51902  51902_2017 2017-06-01  6.945519  4.231819   \n",
       "13755           False     51902  51902_2017 2017-06-01  7.170236  4.472499   \n",
       "13756           False     51902  51902_2017 2017-06-01  7.223161  4.530838   \n",
       "13757           False     51902  51902_2017 2017-06-01  7.302962  4.455559   \n",
       "...               ...       ...         ...        ...       ...       ...   \n",
       "14534           False     51902  51902_2017 2017-06-01  5.455401  3.690897   \n",
       "14535           False     51902  51902_2017 2017-06-01  5.445345  4.447828   \n",
       "14536            True     51902  51902_2017 2017-06-01  5.239152  4.309934   \n",
       "14537            True     51902  51902_2017 2017-06-01  5.336844  2.650033   \n",
       "14538            True     51902  51902_2017 2017-06-01  4.712148  4.631866   \n",
       "\n",
       "             d3  ...      e378      e379      e380      e381      e382  \\\n",
       "13753  7.765581  ...  0.005326  0.037123  0.016147  0.055606  0.008570   \n",
       "13754  7.687037  ... -0.022241 -0.003946  0.018906  0.033558 -0.001041   \n",
       "13755  8.550349  ... -0.037495 -0.051820  0.005708  0.042825  0.048136   \n",
       "13756  8.441557  ... -0.020897 -0.088878 -0.045942  0.015616 -0.015972   \n",
       "13757  8.645349  ...  0.020309 -0.034161 -0.037054 -0.051635 -0.082328   \n",
       "...         ...  ...       ...       ...       ...       ...       ...   \n",
       "14534  8.006092  ... -0.058051 -0.012283  0.056241 -0.059958 -0.062718   \n",
       "14535  7.652509  ...  0.040820  0.043064  0.039066  0.044445  0.076865   \n",
       "14536  7.645834  ... -0.008096  0.020132  0.048608  0.039107  0.038743   \n",
       "14537  8.115968  ...  0.004935 -0.016151  0.000850 -0.079934 -0.067935   \n",
       "14538  6.832268  ...  0.032272 -0.068364  0.075854  0.039403  0.012658   \n",
       "\n",
       "           e383      e384  time_encoding  time_diff  timeline_index  \n",
       "13753  0.026209 -0.021132    2017.413699          0               1  \n",
       "13754  0.002696  0.039106    2017.413699          0               2  \n",
       "13755  0.034429 -0.040953    2017.413699          0               3  \n",
       "13756  0.036915  0.012497    2017.413699          0               4  \n",
       "13757 -0.005767 -0.041583    2017.413699          0               5  \n",
       "...         ...       ...            ...        ...             ...  \n",
       "14534  0.068832  0.033046    2017.413699          0             782  \n",
       "14535  0.004159  0.005174    2017.413699          0             783  \n",
       "14536 -0.023217 -0.010533    2017.413699          0             784  \n",
       "14537  0.046949  0.015082    2017.413699          0             785  \n",
       "14538  0.027627 -0.067257    2017.413699          0             786  \n",
       "\n",
       "[786 rows x 404 columns]"
      ]
     },
     "execution_count": 17,
     "metadata": {},
     "output_type": "execute_result"
    }
   ],
   "source": [
    "manifesto_data.df[manifesto_data.df[\"doc_id\"]==\"51902_2017\"]"
   ]
  },
  {
   "cell_type": "code",
   "execution_count": 18,
   "id": "c49a1183",
   "metadata": {},
   "outputs": [
    {
     "name": "stdout",
     "output_type": "stream",
     "text": [
      "[INFO] Padding ids and storing in .df_padded and .array_padded attributes\n"
     ]
    }
   ],
   "source": [
    "history_path = manifesto_data.pad(pad_by=\"history\",\n",
    "                                  method=\"k_last\",\n",
    "                                  zero_padding=True,\n",
    "                                  k=5,\n",
    "                                  time_feature=\"timeline_index\",\n",
    "                                  embeddings=\"dim_reduced\")"
   ]
  },
  {
   "cell_type": "code",
   "execution_count": 19,
   "id": "226b7263",
   "metadata": {},
   "outputs": [
    {
     "data": {
      "text/plain": [
       "(15610, 5, 13)"
      ]
     },
     "execution_count": 19,
     "metadata": {},
     "output_type": "execute_result"
    }
   ],
   "source": [
    "history_path.shape"
   ]
  },
  {
   "cell_type": "code",
   "execution_count": 20,
   "id": "da417d5d",
   "metadata": {},
   "outputs": [
    {
     "data": {
      "text/plain": [
       "array([['51320_2015', -1, 0, 0.0, 0.0, 0.0, 0.0, 0.0, 0.0, 0.0, 0.0, 0.0,\n",
       "        0.0],\n",
       "       ['51320_2015', -1, 0, 0.0, 0.0, 0.0, 0.0, 0.0, 0.0, 0.0, 0.0, 0.0,\n",
       "        0.0],\n",
       "       ['51320_2015', -1, 0, 0.0, 0.0, 0.0, 0.0, 0.0, 0.0, 0.0, 0.0, 0.0,\n",
       "        0.0],\n",
       "       ['51320_2015', -1, 0, 0.0, 0.0, 0.0, 0.0, 0.0, 0.0, 0.0, 0.0, 0.0,\n",
       "        0.0],\n",
       "       ['51320_2015', -1, 0, 0.0, 0.0, 0.0, 0.0, 0.0, 0.0, 0.0, 0.0, 0.0,\n",
       "        0.0]], dtype=object)"
      ]
     },
     "execution_count": 20,
     "metadata": {},
     "output_type": "execute_result"
    }
   ],
   "source": [
    "history_path[0]"
   ]
  },
  {
   "cell_type": "code",
   "execution_count": 21,
   "id": "65555da4",
   "metadata": {},
   "outputs": [
    {
     "data": {
      "text/plain": [
       "array([['51320_2015', -1, 0, 0.0, 0.0, 0.0, 0.0, 0.0, 0.0, 0.0, 0.0, 0.0,\n",
       "        0.0],\n",
       "       ['51320_2015', -1, 0, 0.0, 0.0, 0.0, 0.0, 0.0, 0.0, 0.0, 0.0, 0.0,\n",
       "        0.0],\n",
       "       ['51320_2015', 1, 1, 5.452658653259277, 3.6029112339019775,\n",
       "        8.050925254821777, 10.075458526611328, 3.9113845825195312,\n",
       "        9.213820457458496, 5.951642990112305, 4.27547025680542,\n",
       "        1.1885640621185303, 2.751408576965332],\n",
       "       ['51320_2015', 0, 2, 5.111911773681641, 3.5011675357818604,\n",
       "        7.9254584312438965, 10.427611351013184, 3.838214874267578,\n",
       "        9.157601356506348, 6.385989189147949, 4.594970703125,\n",
       "        1.2000325918197632, 3.1077473163604736],\n",
       "       ['51320_2015', 0, 3, 5.043741703033447, 3.5229599475860596,\n",
       "        7.4684038162231445, 9.6045560836792, 3.8596458435058594,\n",
       "        9.537117004394531, 6.133909225463867, 4.508759498596191,\n",
       "        0.9306520223617554, 2.9496004581451416]], dtype=object)"
      ]
     },
     "execution_count": 21,
     "metadata": {},
     "output_type": "execute_result"
    }
   ],
   "source": [
    "history_path[3]"
   ]
  },
  {
   "cell_type": "code",
   "execution_count": null,
   "id": "e43d13c5",
   "metadata": {},
   "outputs": [],
   "source": []
  }
 ],
 "metadata": {
  "kernelspec": {
   "display_name": "Python (py38esig)",
   "language": "python",
   "name": "py38esig"
  },
  "language_info": {
   "codemirror_mode": {
    "name": "ipython",
    "version": 3
   },
   "file_extension": ".py",
   "mimetype": "text/x-python",
   "name": "python",
   "nbconvert_exporter": "python",
   "pygments_lexer": "ipython3",
   "version": "3.8.13"
  }
 },
 "nbformat": 4,
 "nbformat_minor": 5
}
