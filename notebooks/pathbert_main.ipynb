{
 "cells": [
  {
   "cell_type": "markdown",
   "metadata": {},
   "source": [
    "# Extract features from textual data using BERT and Path signature"
   ]
  },
  {
   "cell_type": "code",
   "execution_count": 1,
   "metadata": {},
   "outputs": [
    {
     "name": "stderr",
     "output_type": "stream",
     "text": [
      "/Users/rchan/opt/miniconda3/envs/py38esig/lib/python3.8/site-packages/tqdm/auto.py:22: TqdmWarning: IProgress not found. Please update jupyter and ipywidgets. See https://ipywidgets.readthedocs.io/en/stable/user_install.html\n",
      "  from .autonotebook import tqdm as notebook_tqdm\n"
     ]
    }
   ],
   "source": [
    "import pandas as pd\n",
    "import torch\n",
    "import pickle\n",
    "import re\n",
    "\n",
    "import nlpsig\n",
    "from nlpsig.ffn import FeedforwardNeuralNetModel\n",
    "from nlpsig.focal_loss import FocalLoss\n",
    "from nlpsig.huggingface_loader import loadHF"
   ]
  },
  {
   "cell_type": "markdown",
   "metadata": {},
   "source": [
    "## Load dataset"
   ]
  },
  {
   "cell_type": "markdown",
   "metadata": {},
   "source": [
    "In this notebook, we use the `newspop` dataset from Huggingface and add timeline IDs and post IDs to each item. The `loadHF` class is to process this dataset."
   ]
  },
  {
   "cell_type": "code",
   "execution_count": 2,
   "metadata": {},
   "outputs": [
    {
     "name": "stdout",
     "output_type": "stream",
     "text": [
      "[INFO] load dataframe, split: train...\n"
     ]
    },
    {
     "name": "stderr",
     "output_type": "stream",
     "text": [
      "Found cached dataset newspop (/Users/rchan/.cache/huggingface/datasets/newspop/default/0.0.0/9904d4082ffd3c0953efa538ff926c43d27da8f37c9b5d6a13f51ab96740474e)\n",
      "100%|██████████████████████████████████████████████████████████████████████████| 1/1 [00:00<00:00, 296.23it/s]\n"
     ]
    },
    {
     "name": "stdout",
     "output_type": "stream",
     "text": [
      "[INFO] preprocess...\n",
      "[INFO] preprocessed dataframe can be accessed: .dataset_df\n"
     ]
    }
   ],
   "source": [
    "# loadHF: load a dataset from hugging face\n",
    "data_loader = loadHF(dataset_name=\"newspop\", split_name=\"train\")\n",
    "data_loader.load_preprocessed_df(default_preprocess=\"newspop\")\n",
    "dataset_df = data_loader.dataset_df"
   ]
  },
  {
   "cell_type": "code",
   "execution_count": 3,
   "metadata": {},
   "outputs": [
    {
     "data": {
      "text/html": [
       "<div>\n",
       "<style scoped>\n",
       "    .dataframe tbody tr th:only-of-type {\n",
       "        vertical-align: middle;\n",
       "    }\n",
       "\n",
       "    .dataframe tbody tr th {\n",
       "        vertical-align: top;\n",
       "    }\n",
       "\n",
       "    .dataframe thead th {\n",
       "        text-align: right;\n",
       "    }\n",
       "</style>\n",
       "<table border=\"1\" class=\"dataframe\">\n",
       "  <thead>\n",
       "    <tr style=\"text-align: right;\">\n",
       "      <th></th>\n",
       "      <th>content</th>\n",
       "      <th>datetime</th>\n",
       "      <th>label</th>\n",
       "      <th>timeline_id</th>\n",
       "      <th>post_id</th>\n",
       "    </tr>\n",
       "  </thead>\n",
       "  <tbody>\n",
       "    <tr>\n",
       "      <th>0</th>\n",
       "      <td>Obama Lays Wreath at Arlington National Cemete...</td>\n",
       "      <td>2015-01-02 00:12:00</td>\n",
       "      <td>1</td>\n",
       "      <td>3</td>\n",
       "      <td>9</td>\n",
       "    </tr>\n",
       "    <tr>\n",
       "      <th>1</th>\n",
       "      <td>Tim Haywood, investment director business-unit...</td>\n",
       "      <td>2015-01-05 00:00:00</td>\n",
       "      <td>2</td>\n",
       "      <td>8</td>\n",
       "      <td>2</td>\n",
       "    </tr>\n",
       "    <tr>\n",
       "      <th>2</th>\n",
       "      <td>Nouriel Roubini, NYU professor and chairman at...</td>\n",
       "      <td>2015-01-04 00:12:00</td>\n",
       "      <td>2</td>\n",
       "      <td>7</td>\n",
       "      <td>6</td>\n",
       "    </tr>\n",
       "    <tr>\n",
       "      <th>3</th>\n",
       "      <td>Finland's economy expanded marginally in the t...</td>\n",
       "      <td>2015-01-03 00:12:00</td>\n",
       "      <td>2</td>\n",
       "      <td>5</td>\n",
       "      <td>6</td>\n",
       "    </tr>\n",
       "    <tr>\n",
       "      <th>4</th>\n",
       "      <td>Tourism and public spending continued to boost...</td>\n",
       "      <td>2015-01-04 00:00:00</td>\n",
       "      <td>2</td>\n",
       "      <td>6</td>\n",
       "      <td>4</td>\n",
       "    </tr>\n",
       "  </tbody>\n",
       "</table>\n",
       "</div>"
      ],
      "text/plain": [
       "                                             content            datetime  \\\n",
       "0  Obama Lays Wreath at Arlington National Cemete... 2015-01-02 00:12:00   \n",
       "1  Tim Haywood, investment director business-unit... 2015-01-05 00:00:00   \n",
       "2  Nouriel Roubini, NYU professor and chairman at... 2015-01-04 00:12:00   \n",
       "3  Finland's economy expanded marginally in the t... 2015-01-03 00:12:00   \n",
       "4  Tourism and public spending continued to boost... 2015-01-04 00:00:00   \n",
       "\n",
       "   label  timeline_id  post_id  \n",
       "0      1            3        9  \n",
       "1      2            8        2  \n",
       "2      2            7        6  \n",
       "3      2            5        6  \n",
       "4      2            6        4  "
      ]
     },
     "execution_count": 3,
     "metadata": {},
     "output_type": "execute_result"
    }
   ],
   "source": [
    "dataset_df.head()"
   ]
  },
  {
   "cell_type": "code",
   "execution_count": 4,
   "metadata": {
    "scrolled": true
   },
   "outputs": [
    {
     "data": {
      "text/plain": [
       "93239"
      ]
     },
     "execution_count": 4,
     "metadata": {},
     "output_type": "execute_result"
    }
   ],
   "source": [
    "len(dataset_df)"
   ]
  },
  {
   "cell_type": "markdown",
   "metadata": {},
   "source": [
    "We use a smaller subset of the data here."
   ]
  },
  {
   "cell_type": "code",
   "execution_count": 5,
   "metadata": {},
   "outputs": [
    {
     "data": {
      "text/plain": [
       "0    1131\n",
       "2     845\n",
       "1      24\n",
       "Name: label, dtype: int64"
      ]
     },
     "execution_count": 5,
     "metadata": {},
     "output_type": "execute_result"
    }
   ],
   "source": [
    "dataset_df = dataset_df[:2000]\n",
    "dataset_df[\"label\"].value_counts()"
   ]
  },
  {
   "cell_type": "markdown",
   "metadata": {},
   "source": [
    "## Model specifics\n",
    "\n",
    "Nested dictionary for models specifications.\n",
    "\n",
    "This includes models for encoding text, path signature and etc."
   ]
  },
  {
   "cell_type": "code",
   "execution_count": 6,
   "metadata": {},
   "outputs": [],
   "source": [
    "model_specifics = {\n",
    "    \"encoder_args\": {\n",
    "        \"col_name_text\": \"content\",\n",
    "        \"model_name\": \"all-MiniLM-L6-v2\",\n",
    "        \"model_args\": {\n",
    "            \"batch_size\": 64,\n",
    "            \"show_progress_bar\": True,\n",
    "            \"output_value\": 'sentence_embedding', \n",
    "            \"convert_to_numpy\": True,\n",
    "            \"convert_to_tensor\": False,\n",
    "            \"device\": None,\n",
    "            \"normalize_embeddings\": False\n",
    "        }\n",
    "    },\n",
    "    \"dim_reduction\": {\n",
    "        \"method\": 'umap', #options: ppapca, ppapcappa, umap\n",
    "        \"num_components\": 10, # options: any int number between 1 and embedding dimensions\n",
    "    },\n",
    "    \"embedding\":{\n",
    "        \"global_embedding_tp\": 'SBERT', #options: SBERT, BERT_cls , BERT_mean, BERT_max\n",
    "        \"post_embedding_tp\": 'sentence', #options: sentence, reduced\n",
    "        \"feature_combination_method\": 'attention', #options concatenation, attention \n",
    "    },\n",
    "    \"time_injection\": {\n",
    "        \"history_tp\": 'timestamp', #options: timestamp, None\n",
    "        \"post_tp\": 'timestamp', #options: timestamp, timediff, None\n",
    "    },\n",
    "    \"signature\": {\n",
    "        \"dimensions\": 3, #options: any int number larger than 1\n",
    "        \"method\": 'log', # options: log, sig\n",
    "        \"interval\": 1/12\n",
    "    }\n",
    "}"
   ]
  },
  {
   "cell_type": "markdown",
   "metadata": {},
   "source": [
    "## Encode text: obtaining sentence embeddings"
   ]
  },
  {
   "cell_type": "markdown",
   "metadata": {},
   "source": [
    "We can use the `TextEncoder` class within `nlpsig` to obtain sentence embeddings from a model. Here, we have defined the encoder arguments in `model_specifics`."
   ]
  },
  {
   "cell_type": "code",
   "execution_count": 7,
   "metadata": {},
   "outputs": [
    {
     "data": {
      "text/plain": [
       "{'col_name_text': 'content',\n",
       " 'model_name': 'all-MiniLM-L6-v2',\n",
       " 'model_args': {'batch_size': 64,\n",
       "  'show_progress_bar': True,\n",
       "  'output_value': 'sentence_embedding',\n",
       "  'convert_to_numpy': True,\n",
       "  'convert_to_tensor': False,\n",
       "  'device': None,\n",
       "  'normalize_embeddings': False}}"
      ]
     },
     "execution_count": 7,
     "metadata": {},
     "output_type": "execute_result"
    }
   ],
   "source": [
    "model_specifics[\"encoder_args\"]"
   ]
  },
  {
   "cell_type": "markdown",
   "metadata": {},
   "source": [
    "We can pass these into the constructor of the class to initialise our text encoder as follows:"
   ]
  },
  {
   "cell_type": "code",
   "execution_count": 8,
   "metadata": {},
   "outputs": [],
   "source": [
    "# initialise the Text Encoder \n",
    "text_encoder = nlpsig.TextEncoder(dataset_df,\n",
    "                                  col_name_text = model_specifics[\"encoder_args\"][\"col_name_text\"], \n",
    "                                  model_name = model_specifics[\"encoder_args\"][\"model_name\"],\n",
    "                                  model_args = model_specifics[\"encoder_args\"][\"model_args\"])"
   ]
  },
  {
   "cell_type": "markdown",
   "metadata": {},
   "source": [
    "We can see that these are stored as attributes in the object:"
   ]
  },
  {
   "cell_type": "code",
   "execution_count": 9,
   "metadata": {},
   "outputs": [
    {
     "data": {
      "text/html": [
       "<div>\n",
       "<style scoped>\n",
       "    .dataframe tbody tr th:only-of-type {\n",
       "        vertical-align: middle;\n",
       "    }\n",
       "\n",
       "    .dataframe tbody tr th {\n",
       "        vertical-align: top;\n",
       "    }\n",
       "\n",
       "    .dataframe thead th {\n",
       "        text-align: right;\n",
       "    }\n",
       "</style>\n",
       "<table border=\"1\" class=\"dataframe\">\n",
       "  <thead>\n",
       "    <tr style=\"text-align: right;\">\n",
       "      <th></th>\n",
       "      <th>content</th>\n",
       "      <th>datetime</th>\n",
       "      <th>label</th>\n",
       "      <th>timeline_id</th>\n",
       "      <th>post_id</th>\n",
       "    </tr>\n",
       "  </thead>\n",
       "  <tbody>\n",
       "    <tr>\n",
       "      <th>0</th>\n",
       "      <td>Obama Lays Wreath at Arlington National Cemete...</td>\n",
       "      <td>2015-01-02 00:12:00</td>\n",
       "      <td>1</td>\n",
       "      <td>3</td>\n",
       "      <td>9</td>\n",
       "    </tr>\n",
       "    <tr>\n",
       "      <th>1</th>\n",
       "      <td>Tim Haywood, investment director business-unit...</td>\n",
       "      <td>2015-01-05 00:00:00</td>\n",
       "      <td>2</td>\n",
       "      <td>8</td>\n",
       "      <td>2</td>\n",
       "    </tr>\n",
       "    <tr>\n",
       "      <th>2</th>\n",
       "      <td>Nouriel Roubini, NYU professor and chairman at...</td>\n",
       "      <td>2015-01-04 00:12:00</td>\n",
       "      <td>2</td>\n",
       "      <td>7</td>\n",
       "      <td>6</td>\n",
       "    </tr>\n",
       "    <tr>\n",
       "      <th>3</th>\n",
       "      <td>Finland's economy expanded marginally in the t...</td>\n",
       "      <td>2015-01-03 00:12:00</td>\n",
       "      <td>2</td>\n",
       "      <td>5</td>\n",
       "      <td>6</td>\n",
       "    </tr>\n",
       "    <tr>\n",
       "      <th>4</th>\n",
       "      <td>Tourism and public spending continued to boost...</td>\n",
       "      <td>2015-01-04 00:00:00</td>\n",
       "      <td>2</td>\n",
       "      <td>6</td>\n",
       "      <td>4</td>\n",
       "    </tr>\n",
       "    <tr>\n",
       "      <th>...</th>\n",
       "      <td>...</td>\n",
       "      <td>...</td>\n",
       "      <td>...</td>\n",
       "      <td>...</td>\n",
       "      <td>...</td>\n",
       "    </tr>\n",
       "    <tr>\n",
       "      <th>1995</th>\n",
       "      <td>Over time, resilient rural producers help form...</td>\n",
       "      <td>2015-01-03 00:12:00</td>\n",
       "      <td>2</td>\n",
       "      <td>5</td>\n",
       "      <td>7</td>\n",
       "    </tr>\n",
       "    <tr>\n",
       "      <th>1996</th>\n",
       "      <td>So Jealous reminds Democratic candidates in 20...</td>\n",
       "      <td>2015-01-03 00:12:00</td>\n",
       "      <td>2</td>\n",
       "      <td>5</td>\n",
       "      <td>0</td>\n",
       "    </tr>\n",
       "    <tr>\n",
       "      <th>1997</th>\n",
       "      <td>Driven by surging manufacturing across North A...</td>\n",
       "      <td>2015-01-01 00:00:00</td>\n",
       "      <td>2</td>\n",
       "      <td>0</td>\n",
       "      <td>0</td>\n",
       "    </tr>\n",
       "    <tr>\n",
       "      <th>1998</th>\n",
       "      <td>Microsoft has started to roll out the first ma...</td>\n",
       "      <td>2015-01-01 00:12:00</td>\n",
       "      <td>0</td>\n",
       "      <td>1</td>\n",
       "      <td>9</td>\n",
       "    </tr>\n",
       "    <tr>\n",
       "      <th>1999</th>\n",
       "      <td>Bank Economist: UK Economy 'Losing Speed'. And...</td>\n",
       "      <td>2015-01-06 00:00:00</td>\n",
       "      <td>2</td>\n",
       "      <td>10</td>\n",
       "      <td>4</td>\n",
       "    </tr>\n",
       "  </tbody>\n",
       "</table>\n",
       "<p>2000 rows × 5 columns</p>\n",
       "</div>"
      ],
      "text/plain": [
       "                                                content            datetime  \\\n",
       "0     Obama Lays Wreath at Arlington National Cemete... 2015-01-02 00:12:00   \n",
       "1     Tim Haywood, investment director business-unit... 2015-01-05 00:00:00   \n",
       "2     Nouriel Roubini, NYU professor and chairman at... 2015-01-04 00:12:00   \n",
       "3     Finland's economy expanded marginally in the t... 2015-01-03 00:12:00   \n",
       "4     Tourism and public spending continued to boost... 2015-01-04 00:00:00   \n",
       "...                                                 ...                 ...   \n",
       "1995  Over time, resilient rural producers help form... 2015-01-03 00:12:00   \n",
       "1996  So Jealous reminds Democratic candidates in 20... 2015-01-03 00:12:00   \n",
       "1997  Driven by surging manufacturing across North A... 2015-01-01 00:00:00   \n",
       "1998  Microsoft has started to roll out the first ma... 2015-01-01 00:12:00   \n",
       "1999  Bank Economist: UK Economy 'Losing Speed'. And... 2015-01-06 00:00:00   \n",
       "\n",
       "      label  timeline_id  post_id  \n",
       "0         1            3        9  \n",
       "1         2            8        2  \n",
       "2         2            7        6  \n",
       "3         2            5        6  \n",
       "4         2            6        4  \n",
       "...     ...          ...      ...  \n",
       "1995      2            5        7  \n",
       "1996      2            5        0  \n",
       "1997      2            0        0  \n",
       "1998      0            1        9  \n",
       "1999      2           10        4  \n",
       "\n",
       "[2000 rows x 5 columns]"
      ]
     },
     "execution_count": 9,
     "metadata": {},
     "output_type": "execute_result"
    }
   ],
   "source": [
    "text_encoder.df"
   ]
  },
  {
   "cell_type": "code",
   "execution_count": 10,
   "metadata": {},
   "outputs": [
    {
     "data": {
      "text/plain": [
       "'content'"
      ]
     },
     "execution_count": 10,
     "metadata": {},
     "output_type": "execute_result"
    }
   ],
   "source": [
    "text_encoder.col_name_text"
   ]
  },
  {
   "cell_type": "code",
   "execution_count": 11,
   "metadata": {},
   "outputs": [
    {
     "data": {
      "text/plain": [
       "'all-MiniLM-L6-v2'"
      ]
     },
     "execution_count": 11,
     "metadata": {},
     "output_type": "execute_result"
    }
   ],
   "source": [
    "text_encoder.model_name"
   ]
  },
  {
   "cell_type": "code",
   "execution_count": 12,
   "metadata": {},
   "outputs": [
    {
     "data": {
      "text/plain": [
       "{'batch_size': 64,\n",
       " 'show_progress_bar': True,\n",
       " 'output_value': 'sentence_embedding',\n",
       " 'convert_to_numpy': True,\n",
       " 'convert_to_tensor': False,\n",
       " 'device': None,\n",
       " 'normalize_embeddings': False}"
      ]
     },
     "execution_count": 12,
     "metadata": {},
     "output_type": "execute_result"
    }
   ],
   "source": [
    "text_encoder.model_args"
   ]
  },
  {
   "cell_type": "markdown",
   "metadata": {},
   "source": [
    "There are other attributes `embeddings_sentence` and `model` which are `None` type when the class is initialised:"
   ]
  },
  {
   "cell_type": "code",
   "execution_count": 13,
   "metadata": {},
   "outputs": [
    {
     "name": "stdout",
     "output_type": "stream",
     "text": [
      "None\n",
      "None\n"
     ]
    }
   ],
   "source": [
    "print(text_encoder.embeddings_sentence)\n",
    "print(text_encoder.model)"
   ]
  },
  {
   "cell_type": "markdown",
   "metadata": {},
   "source": [
    "The class has a `.encode_sentence_transformer()` method which first loads in the model (using the `model_name` and `model_args` attributes) and then obtains an embedding for each sentence. These sentence embeddings are then stored in the `embeddings_sentence` attribute of the object."
   ]
  },
  {
   "cell_type": "code",
   "execution_count": 14,
   "metadata": {
    "scrolled": true
   },
   "outputs": [
    {
     "name": "stdout",
     "output_type": "stream",
     "text": [
      "[INFO] number of sentences to encode: 2000\n"
     ]
    },
    {
     "name": "stderr",
     "output_type": "stream",
     "text": [
      "Batches: 100%|████████████████████████████████████████████████████████████████| 32/32 [00:06<00:00,  4.77it/s]\n"
     ]
    }
   ],
   "source": [
    "text_encoder.encode_sentence_transformer()\n",
    "embeddings_sentence = text_encoder.embeddings_sentence"
   ]
  },
  {
   "cell_type": "markdown",
   "metadata": {},
   "source": [
    "### Obtaining embeddings from a pickle file"
   ]
  },
  {
   "cell_type": "markdown",
   "metadata": {},
   "source": [
    "Note that we could also optionally pass in any pre-computed sentence embeddings (which are saved with a pickle file) if we wanted to. So in this directory, there is a file named `pre_comp_emb.pkl`, we can load these in by:"
   ]
  },
  {
   "cell_type": "code",
   "execution_count": 15,
   "metadata": {},
   "outputs": [],
   "source": [
    "text_encoder = nlpsig.TextEncoder(df = dataset_df,\n",
    "                                  pre_computed_embeddings_file = \"pre_comp_emb.pkl\")"
   ]
  },
  {
   "cell_type": "code",
   "execution_count": 16,
   "metadata": {},
   "outputs": [
    {
     "data": {
      "text/plain": [
       "array([[ 0.04053079,  0.12677227,  0.03034634, ...,  0.01346129,\n",
       "         0.00509907, -0.02261563],\n",
       "       [ 0.00132176, -0.0018716 ,  0.04704979, ..., -0.12755243,\n",
       "        -0.00235985, -0.01032072],\n",
       "       [-0.00446173, -0.07742908, -0.02367788, ..., -0.12149315,\n",
       "        -0.02713374, -0.01476178],\n",
       "       ...,\n",
       "       [ 0.11392148, -0.08496089,  0.04116976, ..., -0.06292846,\n",
       "        -0.01069093,  0.05599773],\n",
       "       [-0.00467583,  0.03044874,  0.0136638 , ...,  0.01504119,\n",
       "         0.07309043,  0.05808413],\n",
       "       [ 0.00844448, -0.04087541,  0.0106803 , ..., -0.02920137,\n",
       "         0.03407754,  0.04248996]], dtype=float32)"
      ]
     },
     "execution_count": 16,
     "metadata": {},
     "output_type": "execute_result"
    }
   ],
   "source": [
    "text_encoder.embeddings_sentence"
   ]
  },
  {
   "cell_type": "markdown",
   "metadata": {},
   "source": [
    "As we passed in a pickle file, `model_name`, `model_args`, and `model` are given default values to highlight this:"
   ]
  },
  {
   "cell_type": "code",
   "execution_count": 17,
   "metadata": {},
   "outputs": [
    {
     "name": "stdout",
     "output_type": "stream",
     "text": [
      "model_name: pre-computed\n",
      "model_args: None\n",
      "model: pre-computed\n"
     ]
    }
   ],
   "source": [
    "print(\"model_name: \" + text_encoder.model_name)\n",
    "print(\"model_args: \" + str(text_encoder.model_args))\n",
    "print(\"model: \" + text_encoder.model)"
   ]
  },
  {
   "cell_type": "markdown",
   "metadata": {},
   "source": [
    "## Plotting the embeddings with dimensionality reduction"
   ]
  },
  {
   "cell_type": "markdown",
   "metadata": {},
   "source": [
    "There is a `PlotEmbedding` class within `nlpsig` which can produce two-dimensional plots of the embeddings by first performing a dimensionality reduction. We will do this here using `UMAP`:"
   ]
  },
  {
   "cell_type": "code",
   "execution_count": 18,
   "metadata": {},
   "outputs": [
    {
     "data": {
      "image/png": "[encoded data removed]",
      "text/plain": [
       "<Figure size 640x480 with 1 Axes>"
      ]
     },
     "metadata": {},
     "output_type": "display_data"
    }
   ],
   "source": [
    "plt_embed = nlpsig.PlotEmbedding(x_data = embeddings_sentence,\n",
    "                                 y_data = dataset_df[\"label\"].values)\n",
    "\n",
    "plt_embed.plt_2d(\n",
    "    embed_args = {\n",
    "        \"method\": \"umap\",\n",
    "        \"dim\": 2\n",
    "    }\n",
    ")"
   ]
  },
  {
   "cell_type": "markdown",
   "metadata": {},
   "source": [
    "## Dimensionality reduction"
   ]
  },
  {
   "cell_type": "markdown",
   "metadata": {},
   "source": [
    "While the `PlotEmbedding` class allows us to visualise the embeddings, the `DimReduce` is more specific to reducing the dimensionality of the embedding space to be used later on (rather than just focus on using it for plotting). We can initialise the object by passing in what method we want to use, choosing out of:\n",
    "\n",
    "* pca\n",
    "* umap\n",
    "* tsne\n",
    "* ppapca\n",
    "* ppapcappa\n",
    "\n",
    "Here we specified our choices in `model_specifics` above:"
   ]
  },
  {
   "cell_type": "code",
   "execution_count": 19,
   "metadata": {},
   "outputs": [
    {
     "data": {
      "text/plain": [
       "{'method': 'umap', 'num_components': 10}"
      ]
     },
     "execution_count": 19,
     "metadata": {},
     "output_type": "execute_result"
    }
   ],
   "source": [
    "model_specifics[\"dim_reduction\"]"
   ]
  },
  {
   "cell_type": "markdown",
   "metadata": {},
   "source": [
    "The `.fit_transform()` method performs the dimensionality reduction and returns the reduced vectors (they also save them into the `embedding` attribute of the object."
   ]
  },
  {
   "cell_type": "code",
   "execution_count": 20,
   "metadata": {},
   "outputs": [],
   "source": [
    "reduction = nlpsig.DimReduce(method = model_specifics[\"dim_reduction\"]['method'], \n",
    "                             components = model_specifics[\"dim_reduction\"]['num_components'])\n",
    "embeddings_reduced = reduction.fit_transform(embeddings_sentence)"
   ]
  },
  {
   "cell_type": "code",
   "execution_count": 21,
   "metadata": {},
   "outputs": [
    {
     "name": "stdout",
     "output_type": "stream",
     "text": [
      "(2000, 384)\n",
      "(2000, 10)\n"
     ]
    }
   ],
   "source": [
    "print(embeddings_sentence.shape)\n",
    "print(embeddings_reduced.shape)"
   ]
  },
  {
   "cell_type": "markdown",
   "metadata": {},
   "source": [
    "We can again visualise these using the `PlotEmbedding` class."
   ]
  },
  {
   "cell_type": "code",
   "execution_count": 22,
   "metadata": {},
   "outputs": [
    {
     "data": {
      "image/png": "[encoded data removed]",
      "text/plain": [
       "<Figure size 640x480 with 1 Axes>"
      ]
     },
     "metadata": {},
     "output_type": "display_data"
    }
   ],
   "source": [
    "plt_embed = nlpsig.PlotEmbedding(x_data = embeddings_reduced,\n",
    "                                 y_data = dataset_df[\"label\"].values)\n",
    "\n",
    "plt_embed.plt_2d(\n",
    "    embed_args = {\n",
    "        \"method\": \"umap\",\n",
    "        \"dim\": 2\n",
    "    }\n",
    ")"
   ]
  },
  {
   "cell_type": "markdown",
   "metadata": {},
   "source": [
    "## Data preparation: Time injection and Padding"
   ]
  },
  {
   "cell_type": "markdown",
   "metadata": {},
   "source": [
    "Note to Talia: the `PrepareData` class now has all the `TimeInjection` and `Padding` methods and `get_modelling_df()` (so I've just combined these all together as they're all related to preparing the dataset into the correct form for later).\n",
    "\n",
    "To use `PrepareData` class, you pass in the dataframe containing the data, the sentence embeddings, and optionally the dimension reduced sentence embeddings:"
   ]
  },
  {
   "cell_type": "code",
   "execution_count": 23,
   "metadata": {},
   "outputs": [],
   "source": [
    "dataset = nlpsig.PrepareData(dataset_df, embeddings_sentence)"
   ]
  },
  {
   "cell_type": "markdown",
   "metadata": {},
   "source": [
    "The dataset is saved in `.dataset_df`, the sentence embeddings are saved in `.embeddings_sentence` and the dimension reduced embeddings are saved in `.embeddings_reduced`."
   ]
  },
  {
   "cell_type": "code",
   "execution_count": 24,
   "metadata": {},
   "outputs": [
    {
     "data": {
      "text/html": [
       "<div>\n",
       "<style scoped>\n",
       "    .dataframe tbody tr th:only-of-type {\n",
       "        vertical-align: middle;\n",
       "    }\n",
       "\n",
       "    .dataframe tbody tr th {\n",
       "        vertical-align: top;\n",
       "    }\n",
       "\n",
       "    .dataframe thead th {\n",
       "        text-align: right;\n",
       "    }\n",
       "</style>\n",
       "<table border=\"1\" class=\"dataframe\">\n",
       "  <thead>\n",
       "    <tr style=\"text-align: right;\">\n",
       "      <th></th>\n",
       "      <th>content</th>\n",
       "      <th>datetime</th>\n",
       "      <th>label</th>\n",
       "      <th>timeline_id</th>\n",
       "      <th>post_id</th>\n",
       "    </tr>\n",
       "  </thead>\n",
       "  <tbody>\n",
       "    <tr>\n",
       "      <th>0</th>\n",
       "      <td>Obama Lays Wreath at Arlington National Cemete...</td>\n",
       "      <td>2015-01-02 00:12:00</td>\n",
       "      <td>1</td>\n",
       "      <td>3</td>\n",
       "      <td>9</td>\n",
       "    </tr>\n",
       "    <tr>\n",
       "      <th>1</th>\n",
       "      <td>Tim Haywood, investment director business-unit...</td>\n",
       "      <td>2015-01-05 00:00:00</td>\n",
       "      <td>2</td>\n",
       "      <td>8</td>\n",
       "      <td>2</td>\n",
       "    </tr>\n",
       "    <tr>\n",
       "      <th>2</th>\n",
       "      <td>Nouriel Roubini, NYU professor and chairman at...</td>\n",
       "      <td>2015-01-04 00:12:00</td>\n",
       "      <td>2</td>\n",
       "      <td>7</td>\n",
       "      <td>6</td>\n",
       "    </tr>\n",
       "    <tr>\n",
       "      <th>3</th>\n",
       "      <td>Finland's economy expanded marginally in the t...</td>\n",
       "      <td>2015-01-03 00:12:00</td>\n",
       "      <td>2</td>\n",
       "      <td>5</td>\n",
       "      <td>6</td>\n",
       "    </tr>\n",
       "    <tr>\n",
       "      <th>4</th>\n",
       "      <td>Tourism and public spending continued to boost...</td>\n",
       "      <td>2015-01-04 00:00:00</td>\n",
       "      <td>2</td>\n",
       "      <td>6</td>\n",
       "      <td>4</td>\n",
       "    </tr>\n",
       "    <tr>\n",
       "      <th>...</th>\n",
       "      <td>...</td>\n",
       "      <td>...</td>\n",
       "      <td>...</td>\n",
       "      <td>...</td>\n",
       "      <td>...</td>\n",
       "    </tr>\n",
       "    <tr>\n",
       "      <th>1995</th>\n",
       "      <td>Over time, resilient rural producers help form...</td>\n",
       "      <td>2015-01-03 00:12:00</td>\n",
       "      <td>2</td>\n",
       "      <td>5</td>\n",
       "      <td>7</td>\n",
       "    </tr>\n",
       "    <tr>\n",
       "      <th>1996</th>\n",
       "      <td>So Jealous reminds Democratic candidates in 20...</td>\n",
       "      <td>2015-01-03 00:12:00</td>\n",
       "      <td>2</td>\n",
       "      <td>5</td>\n",
       "      <td>0</td>\n",
       "    </tr>\n",
       "    <tr>\n",
       "      <th>1997</th>\n",
       "      <td>Driven by surging manufacturing across North A...</td>\n",
       "      <td>2015-01-01 00:00:00</td>\n",
       "      <td>2</td>\n",
       "      <td>0</td>\n",
       "      <td>0</td>\n",
       "    </tr>\n",
       "    <tr>\n",
       "      <th>1998</th>\n",
       "      <td>Microsoft has started to roll out the first ma...</td>\n",
       "      <td>2015-01-01 00:12:00</td>\n",
       "      <td>0</td>\n",
       "      <td>1</td>\n",
       "      <td>9</td>\n",
       "    </tr>\n",
       "    <tr>\n",
       "      <th>1999</th>\n",
       "      <td>Bank Economist: UK Economy 'Losing Speed'. And...</td>\n",
       "      <td>2015-01-06 00:00:00</td>\n",
       "      <td>2</td>\n",
       "      <td>10</td>\n",
       "      <td>4</td>\n",
       "    </tr>\n",
       "  </tbody>\n",
       "</table>\n",
       "<p>2000 rows × 5 columns</p>\n",
       "</div>"
      ],
      "text/plain": [
       "                                                content            datetime  \\\n",
       "0     Obama Lays Wreath at Arlington National Cemete... 2015-01-02 00:12:00   \n",
       "1     Tim Haywood, investment director business-unit... 2015-01-05 00:00:00   \n",
       "2     Nouriel Roubini, NYU professor and chairman at... 2015-01-04 00:12:00   \n",
       "3     Finland's economy expanded marginally in the t... 2015-01-03 00:12:00   \n",
       "4     Tourism and public spending continued to boost... 2015-01-04 00:00:00   \n",
       "...                                                 ...                 ...   \n",
       "1995  Over time, resilient rural producers help form... 2015-01-03 00:12:00   \n",
       "1996  So Jealous reminds Democratic candidates in 20... 2015-01-03 00:12:00   \n",
       "1997  Driven by surging manufacturing across North A... 2015-01-01 00:00:00   \n",
       "1998  Microsoft has started to roll out the first ma... 2015-01-01 00:12:00   \n",
       "1999  Bank Economist: UK Economy 'Losing Speed'. And... 2015-01-06 00:00:00   \n",
       "\n",
       "      label  timeline_id  post_id  \n",
       "0         1            3        9  \n",
       "1         2            8        2  \n",
       "2         2            7        6  \n",
       "3         2            5        6  \n",
       "4         2            6        4  \n",
       "...     ...          ...      ...  \n",
       "1995      2            5        7  \n",
       "1996      2            5        0  \n",
       "1997      2            0        0  \n",
       "1998      0            1        9  \n",
       "1999      2           10        4  \n",
       "\n",
       "[2000 rows x 5 columns]"
      ]
     },
     "execution_count": 24,
     "metadata": {},
     "output_type": "execute_result"
    }
   ],
   "source": [
    "dataset.dataset_df"
   ]
  },
  {
   "cell_type": "code",
   "execution_count": 25,
   "metadata": {},
   "outputs": [
    {
     "data": {
      "text/plain": [
       "array([[ 0.04053079,  0.12677227,  0.03034634, ...,  0.01346129,\n",
       "         0.00509907, -0.02261563],\n",
       "       [ 0.00132176, -0.0018716 ,  0.04704979, ..., -0.12755243,\n",
       "        -0.00235985, -0.01032072],\n",
       "       [-0.00446173, -0.07742908, -0.02367788, ..., -0.12149315,\n",
       "        -0.02713374, -0.01476178],\n",
       "       ...,\n",
       "       [ 0.11392148, -0.08496089,  0.04116976, ..., -0.06292846,\n",
       "        -0.01069093,  0.05599773],\n",
       "       [-0.00467583,  0.03044874,  0.0136638 , ...,  0.01504119,\n",
       "         0.07309043,  0.05808413],\n",
       "       [ 0.00844448, -0.04087541,  0.0106803 , ..., -0.02920137,\n",
       "         0.03407754,  0.04248996]], dtype=float32)"
      ]
     },
     "execution_count": 25,
     "metadata": {},
     "output_type": "execute_result"
    }
   ],
   "source": [
    "dataset.embeddings_sentence"
   ]
  },
  {
   "cell_type": "code",
   "execution_count": 26,
   "metadata": {},
   "outputs": [],
   "source": [
    "dataset.embeddings_reduced"
   ]
  },
  {
   "cell_type": "markdown",
   "metadata": {},
   "source": [
    "When initialising the object, it calls `get_modelling_df()` which combines all of three objects together, where the naming convention is `d_` for dimension reduced embeddings and `e_` for the sentence embeddings."
   ]
  },
  {
   "cell_type": "code",
   "execution_count": 27,
   "metadata": {},
   "outputs": [
    {
     "data": {
      "text/html": [
       "<div>\n",
       "<style scoped>\n",
       "    .dataframe tbody tr th:only-of-type {\n",
       "        vertical-align: middle;\n",
       "    }\n",
       "\n",
       "    .dataframe tbody tr th {\n",
       "        vertical-align: top;\n",
       "    }\n",
       "\n",
       "    .dataframe thead th {\n",
       "        text-align: right;\n",
       "    }\n",
       "</style>\n",
       "<table border=\"1\" class=\"dataframe\">\n",
       "  <thead>\n",
       "    <tr style=\"text-align: right;\">\n",
       "      <th></th>\n",
       "      <th>content</th>\n",
       "      <th>datetime</th>\n",
       "      <th>label</th>\n",
       "      <th>timeline_id</th>\n",
       "      <th>post_id</th>\n",
       "      <th>e1</th>\n",
       "      <th>e2</th>\n",
       "      <th>e3</th>\n",
       "      <th>e4</th>\n",
       "      <th>e5</th>\n",
       "      <th>...</th>\n",
       "      <th>e375</th>\n",
       "      <th>e376</th>\n",
       "      <th>e377</th>\n",
       "      <th>e378</th>\n",
       "      <th>e379</th>\n",
       "      <th>e380</th>\n",
       "      <th>e381</th>\n",
       "      <th>e382</th>\n",
       "      <th>e383</th>\n",
       "      <th>e384</th>\n",
       "    </tr>\n",
       "  </thead>\n",
       "  <tbody>\n",
       "    <tr>\n",
       "      <th>0</th>\n",
       "      <td>Obama Lays Wreath at Arlington National Cemete...</td>\n",
       "      <td>2015-01-02 00:12:00</td>\n",
       "      <td>1</td>\n",
       "      <td>3</td>\n",
       "      <td>9</td>\n",
       "      <td>0.040531</td>\n",
       "      <td>0.126772</td>\n",
       "      <td>0.030346</td>\n",
       "      <td>-0.027757</td>\n",
       "      <td>-0.070095</td>\n",
       "      <td>...</td>\n",
       "      <td>0.028961</td>\n",
       "      <td>-0.038166</td>\n",
       "      <td>0.046012</td>\n",
       "      <td>0.005251</td>\n",
       "      <td>0.089081</td>\n",
       "      <td>0.020392</td>\n",
       "      <td>0.056016</td>\n",
       "      <td>0.013461</td>\n",
       "      <td>0.005099</td>\n",
       "      <td>-0.022616</td>\n",
       "    </tr>\n",
       "    <tr>\n",
       "      <th>1</th>\n",
       "      <td>Tim Haywood, investment director business-unit...</td>\n",
       "      <td>2015-01-05 00:00:00</td>\n",
       "      <td>2</td>\n",
       "      <td>8</td>\n",
       "      <td>2</td>\n",
       "      <td>0.001322</td>\n",
       "      <td>-0.001872</td>\n",
       "      <td>0.047050</td>\n",
       "      <td>0.043921</td>\n",
       "      <td>-0.011818</td>\n",
       "      <td>...</td>\n",
       "      <td>-0.012189</td>\n",
       "      <td>-0.046185</td>\n",
       "      <td>-0.016253</td>\n",
       "      <td>-0.018461</td>\n",
       "      <td>-0.018076</td>\n",
       "      <td>-0.086854</td>\n",
       "      <td>-0.027245</td>\n",
       "      <td>-0.127552</td>\n",
       "      <td>-0.002360</td>\n",
       "      <td>-0.010321</td>\n",
       "    </tr>\n",
       "    <tr>\n",
       "      <th>2</th>\n",
       "      <td>Nouriel Roubini, NYU professor and chairman at...</td>\n",
       "      <td>2015-01-04 00:12:00</td>\n",
       "      <td>2</td>\n",
       "      <td>7</td>\n",
       "      <td>6</td>\n",
       "      <td>-0.004462</td>\n",
       "      <td>-0.077429</td>\n",
       "      <td>-0.023678</td>\n",
       "      <td>0.026943</td>\n",
       "      <td>0.120486</td>\n",
       "      <td>...</td>\n",
       "      <td>0.060394</td>\n",
       "      <td>-0.088560</td>\n",
       "      <td>-0.029271</td>\n",
       "      <td>0.005344</td>\n",
       "      <td>-0.070950</td>\n",
       "      <td>0.051149</td>\n",
       "      <td>-0.032960</td>\n",
       "      <td>-0.121493</td>\n",
       "      <td>-0.027134</td>\n",
       "      <td>-0.014762</td>\n",
       "    </tr>\n",
       "    <tr>\n",
       "      <th>3</th>\n",
       "      <td>Finland's economy expanded marginally in the t...</td>\n",
       "      <td>2015-01-03 00:12:00</td>\n",
       "      <td>2</td>\n",
       "      <td>5</td>\n",
       "      <td>6</td>\n",
       "      <td>0.022701</td>\n",
       "      <td>-0.080027</td>\n",
       "      <td>-0.015411</td>\n",
       "      <td>0.026807</td>\n",
       "      <td>0.076854</td>\n",
       "      <td>...</td>\n",
       "      <td>-0.029949</td>\n",
       "      <td>-0.046079</td>\n",
       "      <td>0.001978</td>\n",
       "      <td>0.036257</td>\n",
       "      <td>-0.062178</td>\n",
       "      <td>0.075887</td>\n",
       "      <td>-0.143670</td>\n",
       "      <td>-0.059523</td>\n",
       "      <td>-0.059800</td>\n",
       "      <td>0.010529</td>\n",
       "    </tr>\n",
       "    <tr>\n",
       "      <th>4</th>\n",
       "      <td>Tourism and public spending continued to boost...</td>\n",
       "      <td>2015-01-04 00:00:00</td>\n",
       "      <td>2</td>\n",
       "      <td>6</td>\n",
       "      <td>4</td>\n",
       "      <td>0.053463</td>\n",
       "      <td>0.010656</td>\n",
       "      <td>-0.011442</td>\n",
       "      <td>0.029953</td>\n",
       "      <td>0.124642</td>\n",
       "      <td>...</td>\n",
       "      <td>-0.006316</td>\n",
       "      <td>0.000714</td>\n",
       "      <td>-0.021139</td>\n",
       "      <td>0.090500</td>\n",
       "      <td>-0.078927</td>\n",
       "      <td>-0.000175</td>\n",
       "      <td>0.003710</td>\n",
       "      <td>-0.012330</td>\n",
       "      <td>0.004813</td>\n",
       "      <td>0.035966</td>\n",
       "    </tr>\n",
       "    <tr>\n",
       "      <th>...</th>\n",
       "      <td>...</td>\n",
       "      <td>...</td>\n",
       "      <td>...</td>\n",
       "      <td>...</td>\n",
       "      <td>...</td>\n",
       "      <td>...</td>\n",
       "      <td>...</td>\n",
       "      <td>...</td>\n",
       "      <td>...</td>\n",
       "      <td>...</td>\n",
       "      <td>...</td>\n",
       "      <td>...</td>\n",
       "      <td>...</td>\n",
       "      <td>...</td>\n",
       "      <td>...</td>\n",
       "      <td>...</td>\n",
       "      <td>...</td>\n",
       "      <td>...</td>\n",
       "      <td>...</td>\n",
       "      <td>...</td>\n",
       "      <td>...</td>\n",
       "    </tr>\n",
       "    <tr>\n",
       "      <th>1995</th>\n",
       "      <td>Over time, resilient rural producers help form...</td>\n",
       "      <td>2015-01-03 00:12:00</td>\n",
       "      <td>2</td>\n",
       "      <td>5</td>\n",
       "      <td>7</td>\n",
       "      <td>-0.026742</td>\n",
       "      <td>-0.036379</td>\n",
       "      <td>-0.014359</td>\n",
       "      <td>0.020848</td>\n",
       "      <td>0.081460</td>\n",
       "      <td>...</td>\n",
       "      <td>0.037064</td>\n",
       "      <td>-0.060899</td>\n",
       "      <td>0.069690</td>\n",
       "      <td>0.006893</td>\n",
       "      <td>0.048772</td>\n",
       "      <td>-0.013123</td>\n",
       "      <td>-0.095821</td>\n",
       "      <td>0.043459</td>\n",
       "      <td>0.079164</td>\n",
       "      <td>-0.013033</td>\n",
       "    </tr>\n",
       "    <tr>\n",
       "      <th>1996</th>\n",
       "      <td>So Jealous reminds Democratic candidates in 20...</td>\n",
       "      <td>2015-01-03 00:12:00</td>\n",
       "      <td>2</td>\n",
       "      <td>5</td>\n",
       "      <td>0</td>\n",
       "      <td>0.021244</td>\n",
       "      <td>-0.000772</td>\n",
       "      <td>0.022687</td>\n",
       "      <td>-0.031602</td>\n",
       "      <td>0.089683</td>\n",
       "      <td>...</td>\n",
       "      <td>0.041955</td>\n",
       "      <td>-0.060911</td>\n",
       "      <td>0.018343</td>\n",
       "      <td>0.019738</td>\n",
       "      <td>-0.077389</td>\n",
       "      <td>0.005970</td>\n",
       "      <td>0.066027</td>\n",
       "      <td>0.006970</td>\n",
       "      <td>0.006157</td>\n",
       "      <td>-0.018834</td>\n",
       "    </tr>\n",
       "    <tr>\n",
       "      <th>1997</th>\n",
       "      <td>Driven by surging manufacturing across North A...</td>\n",
       "      <td>2015-01-01 00:00:00</td>\n",
       "      <td>2</td>\n",
       "      <td>0</td>\n",
       "      <td>0</td>\n",
       "      <td>0.113921</td>\n",
       "      <td>-0.084961</td>\n",
       "      <td>0.041170</td>\n",
       "      <td>0.026886</td>\n",
       "      <td>0.053265</td>\n",
       "      <td>...</td>\n",
       "      <td>0.001202</td>\n",
       "      <td>-0.088741</td>\n",
       "      <td>-0.044822</td>\n",
       "      <td>-0.013509</td>\n",
       "      <td>-0.010990</td>\n",
       "      <td>0.023929</td>\n",
       "      <td>0.071145</td>\n",
       "      <td>-0.062928</td>\n",
       "      <td>-0.010691</td>\n",
       "      <td>0.055998</td>\n",
       "    </tr>\n",
       "    <tr>\n",
       "      <th>1998</th>\n",
       "      <td>Microsoft has started to roll out the first ma...</td>\n",
       "      <td>2015-01-01 00:12:00</td>\n",
       "      <td>0</td>\n",
       "      <td>1</td>\n",
       "      <td>9</td>\n",
       "      <td>-0.004676</td>\n",
       "      <td>0.030449</td>\n",
       "      <td>0.013664</td>\n",
       "      <td>-0.005347</td>\n",
       "      <td>0.065621</td>\n",
       "      <td>...</td>\n",
       "      <td>-0.039909</td>\n",
       "      <td>-0.001782</td>\n",
       "      <td>0.008776</td>\n",
       "      <td>-0.053096</td>\n",
       "      <td>-0.020846</td>\n",
       "      <td>0.104553</td>\n",
       "      <td>-0.036112</td>\n",
       "      <td>0.015041</td>\n",
       "      <td>0.073090</td>\n",
       "      <td>0.058084</td>\n",
       "    </tr>\n",
       "    <tr>\n",
       "      <th>1999</th>\n",
       "      <td>Bank Economist: UK Economy 'Losing Speed'. And...</td>\n",
       "      <td>2015-01-06 00:00:00</td>\n",
       "      <td>2</td>\n",
       "      <td>10</td>\n",
       "      <td>4</td>\n",
       "      <td>0.008444</td>\n",
       "      <td>-0.040875</td>\n",
       "      <td>0.010680</td>\n",
       "      <td>0.013658</td>\n",
       "      <td>0.088012</td>\n",
       "      <td>...</td>\n",
       "      <td>0.076451</td>\n",
       "      <td>-0.049070</td>\n",
       "      <td>-0.066750</td>\n",
       "      <td>-0.056102</td>\n",
       "      <td>-0.082826</td>\n",
       "      <td>0.002984</td>\n",
       "      <td>-0.005583</td>\n",
       "      <td>-0.029201</td>\n",
       "      <td>0.034078</td>\n",
       "      <td>0.042490</td>\n",
       "    </tr>\n",
       "  </tbody>\n",
       "</table>\n",
       "<p>2000 rows × 389 columns</p>\n",
       "</div>"
      ],
      "text/plain": [
       "                                                content            datetime  \\\n",
       "0     Obama Lays Wreath at Arlington National Cemete... 2015-01-02 00:12:00   \n",
       "1     Tim Haywood, investment director business-unit... 2015-01-05 00:00:00   \n",
       "2     Nouriel Roubini, NYU professor and chairman at... 2015-01-04 00:12:00   \n",
       "3     Finland's economy expanded marginally in the t... 2015-01-03 00:12:00   \n",
       "4     Tourism and public spending continued to boost... 2015-01-04 00:00:00   \n",
       "...                                                 ...                 ...   \n",
       "1995  Over time, resilient rural producers help form... 2015-01-03 00:12:00   \n",
       "1996  So Jealous reminds Democratic candidates in 20... 2015-01-03 00:12:00   \n",
       "1997  Driven by surging manufacturing across North A... 2015-01-01 00:00:00   \n",
       "1998  Microsoft has started to roll out the first ma... 2015-01-01 00:12:00   \n",
       "1999  Bank Economist: UK Economy 'Losing Speed'. And... 2015-01-06 00:00:00   \n",
       "\n",
       "      label  timeline_id  post_id        e1        e2        e3        e4  \\\n",
       "0         1            3        9  0.040531  0.126772  0.030346 -0.027757   \n",
       "1         2            8        2  0.001322 -0.001872  0.047050  0.043921   \n",
       "2         2            7        6 -0.004462 -0.077429 -0.023678  0.026943   \n",
       "3         2            5        6  0.022701 -0.080027 -0.015411  0.026807   \n",
       "4         2            6        4  0.053463  0.010656 -0.011442  0.029953   \n",
       "...     ...          ...      ...       ...       ...       ...       ...   \n",
       "1995      2            5        7 -0.026742 -0.036379 -0.014359  0.020848   \n",
       "1996      2            5        0  0.021244 -0.000772  0.022687 -0.031602   \n",
       "1997      2            0        0  0.113921 -0.084961  0.041170  0.026886   \n",
       "1998      0            1        9 -0.004676  0.030449  0.013664 -0.005347   \n",
       "1999      2           10        4  0.008444 -0.040875  0.010680  0.013658   \n",
       "\n",
       "            e5  ...      e375      e376      e377      e378      e379  \\\n",
       "0    -0.070095  ...  0.028961 -0.038166  0.046012  0.005251  0.089081   \n",
       "1    -0.011818  ... -0.012189 -0.046185 -0.016253 -0.018461 -0.018076   \n",
       "2     0.120486  ...  0.060394 -0.088560 -0.029271  0.005344 -0.070950   \n",
       "3     0.076854  ... -0.029949 -0.046079  0.001978  0.036257 -0.062178   \n",
       "4     0.124642  ... -0.006316  0.000714 -0.021139  0.090500 -0.078927   \n",
       "...        ...  ...       ...       ...       ...       ...       ...   \n",
       "1995  0.081460  ...  0.037064 -0.060899  0.069690  0.006893  0.048772   \n",
       "1996  0.089683  ...  0.041955 -0.060911  0.018343  0.019738 -0.077389   \n",
       "1997  0.053265  ...  0.001202 -0.088741 -0.044822 -0.013509 -0.010990   \n",
       "1998  0.065621  ... -0.039909 -0.001782  0.008776 -0.053096 -0.020846   \n",
       "1999  0.088012  ...  0.076451 -0.049070 -0.066750 -0.056102 -0.082826   \n",
       "\n",
       "          e380      e381      e382      e383      e384  \n",
       "0     0.020392  0.056016  0.013461  0.005099 -0.022616  \n",
       "1    -0.086854 -0.027245 -0.127552 -0.002360 -0.010321  \n",
       "2     0.051149 -0.032960 -0.121493 -0.027134 -0.014762  \n",
       "3     0.075887 -0.143670 -0.059523 -0.059800  0.010529  \n",
       "4    -0.000175  0.003710 -0.012330  0.004813  0.035966  \n",
       "...        ...       ...       ...       ...       ...  \n",
       "1995 -0.013123 -0.095821  0.043459  0.079164 -0.013033  \n",
       "1996  0.005970  0.066027  0.006970  0.006157 -0.018834  \n",
       "1997  0.023929  0.071145 -0.062928 -0.010691  0.055998  \n",
       "1998  0.104553 -0.036112  0.015041  0.073090  0.058084  \n",
       "1999  0.002984 -0.005583 -0.029201  0.034078  0.042490  \n",
       "\n",
       "[2000 rows x 389 columns]"
      ]
     },
     "execution_count": 27,
     "metadata": {},
     "output_type": "execute_result"
    }
   ],
   "source": [
    "dataset.df"
   ]
  },
  {
   "cell_type": "markdown",
   "metadata": {},
   "source": [
    "We can set the time features by calling the `.set_time_feautres()` method, which adds some columns regarding time (`time_encoding`, `time_diff` and `timeline_index` (maybe this one should get renamed actually))."
   ]
  },
  {
   "cell_type": "code",
   "execution_count": 28,
   "metadata": {},
   "outputs": [
    {
     "data": {
      "text/html": [
       "<div>\n",
       "<style scoped>\n",
       "    .dataframe tbody tr th:only-of-type {\n",
       "        vertical-align: middle;\n",
       "    }\n",
       "\n",
       "    .dataframe tbody tr th {\n",
       "        vertical-align: top;\n",
       "    }\n",
       "\n",
       "    .dataframe thead th {\n",
       "        text-align: right;\n",
       "    }\n",
       "</style>\n",
       "<table border=\"1\" class=\"dataframe\">\n",
       "  <thead>\n",
       "    <tr style=\"text-align: right;\">\n",
       "      <th></th>\n",
       "      <th>content</th>\n",
       "      <th>datetime</th>\n",
       "      <th>label</th>\n",
       "      <th>timeline_id</th>\n",
       "      <th>post_id</th>\n",
       "      <th>e1</th>\n",
       "      <th>e2</th>\n",
       "      <th>e3</th>\n",
       "      <th>e4</th>\n",
       "      <th>e5</th>\n",
       "      <th>...</th>\n",
       "      <th>e378</th>\n",
       "      <th>e379</th>\n",
       "      <th>e380</th>\n",
       "      <th>e381</th>\n",
       "      <th>e382</th>\n",
       "      <th>e383</th>\n",
       "      <th>e384</th>\n",
       "      <th>time_encoding</th>\n",
       "      <th>time_diff</th>\n",
       "      <th>timeline_index</th>\n",
       "    </tr>\n",
       "  </thead>\n",
       "  <tbody>\n",
       "    <tr>\n",
       "      <th>0</th>\n",
       "      <td>What is A + B? Welcome to our review of Word f...</td>\n",
       "      <td>2015-01-01 00:00:00</td>\n",
       "      <td>0</td>\n",
       "      <td>0</td>\n",
       "      <td>9</td>\n",
       "      <td>-0.079867</td>\n",
       "      <td>-0.008263</td>\n",
       "      <td>-0.001711</td>\n",
       "      <td>0.019486</td>\n",
       "      <td>-0.035367</td>\n",
       "      <td>...</td>\n",
       "      <td>-0.031530</td>\n",
       "      <td>0.014281</td>\n",
       "      <td>0.040966</td>\n",
       "      <td>0.094512</td>\n",
       "      <td>-0.053163</td>\n",
       "      <td>-0.018061</td>\n",
       "      <td>0.076371</td>\n",
       "      <td>2015.000000</td>\n",
       "      <td>0</td>\n",
       "      <td>0</td>\n",
       "    </tr>\n",
       "    <tr>\n",
       "      <th>1</th>\n",
       "      <td>President Barack Obama is launching a version of</td>\n",
       "      <td>2015-01-01 00:00:00</td>\n",
       "      <td>1</td>\n",
       "      <td>0</td>\n",
       "      <td>5</td>\n",
       "      <td>0.015549</td>\n",
       "      <td>0.009248</td>\n",
       "      <td>0.074484</td>\n",
       "      <td>-0.040729</td>\n",
       "      <td>-0.090240</td>\n",
       "      <td>...</td>\n",
       "      <td>-0.101167</td>\n",
       "      <td>0.025462</td>\n",
       "      <td>0.011384</td>\n",
       "      <td>0.043213</td>\n",
       "      <td>-0.020444</td>\n",
       "      <td>0.013591</td>\n",
       "      <td>0.027662</td>\n",
       "      <td>2015.000000</td>\n",
       "      <td>0</td>\n",
       "      <td>1</td>\n",
       "    </tr>\n",
       "    <tr>\n",
       "      <th>2</th>\n",
       "      <td>New Delhi, Feb 29 (IANS) Focusing on rural eco...</td>\n",
       "      <td>2015-01-01 00:00:00</td>\n",
       "      <td>2</td>\n",
       "      <td>0</td>\n",
       "      <td>5</td>\n",
       "      <td>0.032265</td>\n",
       "      <td>0.015483</td>\n",
       "      <td>-0.057310</td>\n",
       "      <td>-0.010212</td>\n",
       "      <td>0.047558</td>\n",
       "      <td>...</td>\n",
       "      <td>0.087058</td>\n",
       "      <td>-0.053317</td>\n",
       "      <td>-0.063224</td>\n",
       "      <td>0.035390</td>\n",
       "      <td>-0.045189</td>\n",
       "      <td>-0.009946</td>\n",
       "      <td>-0.016942</td>\n",
       "      <td>2015.000000</td>\n",
       "      <td>0</td>\n",
       "      <td>2</td>\n",
       "    </tr>\n",
       "    <tr>\n",
       "      <th>3</th>\n",
       "      <td>BEIJING: China’s central bank on Monday cut th...</td>\n",
       "      <td>2015-01-01 00:00:00</td>\n",
       "      <td>2</td>\n",
       "      <td>0</td>\n",
       "      <td>2</td>\n",
       "      <td>0.020815</td>\n",
       "      <td>0.041313</td>\n",
       "      <td>-0.047905</td>\n",
       "      <td>0.015516</td>\n",
       "      <td>0.033342</td>\n",
       "      <td>...</td>\n",
       "      <td>0.025686</td>\n",
       "      <td>-0.083074</td>\n",
       "      <td>-0.065246</td>\n",
       "      <td>-0.031321</td>\n",
       "      <td>-0.036033</td>\n",
       "      <td>-0.029446</td>\n",
       "      <td>-0.028828</td>\n",
       "      <td>2015.000000</td>\n",
       "      <td>0</td>\n",
       "      <td>3</td>\n",
       "    </tr>\n",
       "    <tr>\n",
       "      <th>4</th>\n",
       "      <td>Microsoft has targeted its smartphones toward ...</td>\n",
       "      <td>2015-01-01 00:00:00</td>\n",
       "      <td>0</td>\n",
       "      <td>0</td>\n",
       "      <td>9</td>\n",
       "      <td>0.009601</td>\n",
       "      <td>-0.054628</td>\n",
       "      <td>0.076478</td>\n",
       "      <td>-0.018516</td>\n",
       "      <td>0.102176</td>\n",
       "      <td>...</td>\n",
       "      <td>-0.085658</td>\n",
       "      <td>0.036755</td>\n",
       "      <td>0.080678</td>\n",
       "      <td>0.058800</td>\n",
       "      <td>-0.030263</td>\n",
       "      <td>0.059188</td>\n",
       "      <td>0.081989</td>\n",
       "      <td>2015.000000</td>\n",
       "      <td>0</td>\n",
       "      <td>4</td>\n",
       "    </tr>\n",
       "    <tr>\n",
       "      <th>...</th>\n",
       "      <td>...</td>\n",
       "      <td>...</td>\n",
       "      <td>...</td>\n",
       "      <td>...</td>\n",
       "      <td>...</td>\n",
       "      <td>...</td>\n",
       "      <td>...</td>\n",
       "      <td>...</td>\n",
       "      <td>...</td>\n",
       "      <td>...</td>\n",
       "      <td>...</td>\n",
       "      <td>...</td>\n",
       "      <td>...</td>\n",
       "      <td>...</td>\n",
       "      <td>...</td>\n",
       "      <td>...</td>\n",
       "      <td>...</td>\n",
       "      <td>...</td>\n",
       "      <td>...</td>\n",
       "      <td>...</td>\n",
       "      <td>...</td>\n",
       "    </tr>\n",
       "    <tr>\n",
       "      <th>1995</th>\n",
       "      <td>Greece's state statistics agency on Friday sai...</td>\n",
       "      <td>2015-01-06 00:12:00</td>\n",
       "      <td>2</td>\n",
       "      <td>11</td>\n",
       "      <td>7</td>\n",
       "      <td>0.024654</td>\n",
       "      <td>-0.029529</td>\n",
       "      <td>-0.030035</td>\n",
       "      <td>0.020795</td>\n",
       "      <td>0.055636</td>\n",
       "      <td>...</td>\n",
       "      <td>0.021195</td>\n",
       "      <td>-0.105262</td>\n",
       "      <td>-0.001257</td>\n",
       "      <td>-0.100573</td>\n",
       "      <td>-0.026909</td>\n",
       "      <td>0.008489</td>\n",
       "      <td>-0.054728</td>\n",
       "      <td>2015.013721</td>\n",
       "      <td>0</td>\n",
       "      <td>186</td>\n",
       "    </tr>\n",
       "    <tr>\n",
       "      <th>1996</th>\n",
       "      <td>Microsoft's marketing is really going all out ...</td>\n",
       "      <td>2015-01-06 00:12:00</td>\n",
       "      <td>0</td>\n",
       "      <td>11</td>\n",
       "      <td>3</td>\n",
       "      <td>0.019495</td>\n",
       "      <td>-0.004537</td>\n",
       "      <td>0.000939</td>\n",
       "      <td>-0.099831</td>\n",
       "      <td>0.030381</td>\n",
       "      <td>...</td>\n",
       "      <td>-0.018534</td>\n",
       "      <td>0.036568</td>\n",
       "      <td>0.149857</td>\n",
       "      <td>0.063044</td>\n",
       "      <td>-0.096566</td>\n",
       "      <td>0.039875</td>\n",
       "      <td>0.098764</td>\n",
       "      <td>2015.013721</td>\n",
       "      <td>0</td>\n",
       "      <td>187</td>\n",
       "    </tr>\n",
       "    <tr>\n",
       "      <th>1997</th>\n",
       "      <td>General counsel still waiting for people to le...</td>\n",
       "      <td>2015-01-06 00:12:00</td>\n",
       "      <td>0</td>\n",
       "      <td>11</td>\n",
       "      <td>1</td>\n",
       "      <td>-0.048954</td>\n",
       "      <td>0.002250</td>\n",
       "      <td>0.016024</td>\n",
       "      <td>-0.031268</td>\n",
       "      <td>0.078445</td>\n",
       "      <td>...</td>\n",
       "      <td>-0.058210</td>\n",
       "      <td>-0.035671</td>\n",
       "      <td>0.011765</td>\n",
       "      <td>0.043951</td>\n",
       "      <td>-0.002290</td>\n",
       "      <td>-0.022666</td>\n",
       "      <td>-0.007701</td>\n",
       "      <td>2015.013721</td>\n",
       "      <td>0</td>\n",
       "      <td>188</td>\n",
       "    </tr>\n",
       "    <tr>\n",
       "      <th>1998</th>\n",
       "      <td>Wooing British investors, Prime Minister Naren...</td>\n",
       "      <td>2015-01-06 00:12:00</td>\n",
       "      <td>2</td>\n",
       "      <td>11</td>\n",
       "      <td>2</td>\n",
       "      <td>-0.014889</td>\n",
       "      <td>0.026375</td>\n",
       "      <td>0.050502</td>\n",
       "      <td>0.031618</td>\n",
       "      <td>0.064115</td>\n",
       "      <td>...</td>\n",
       "      <td>0.042637</td>\n",
       "      <td>-0.074313</td>\n",
       "      <td>-0.074671</td>\n",
       "      <td>0.038090</td>\n",
       "      <td>-0.006466</td>\n",
       "      <td>-0.078479</td>\n",
       "      <td>-0.036731</td>\n",
       "      <td>2015.013721</td>\n",
       "      <td>0</td>\n",
       "      <td>189</td>\n",
       "    </tr>\n",
       "    <tr>\n",
       "      <th>1999</th>\n",
       "      <td>Indian economy is still not out of the woods a...</td>\n",
       "      <td>2015-01-06 00:12:00</td>\n",
       "      <td>2</td>\n",
       "      <td>11</td>\n",
       "      <td>2</td>\n",
       "      <td>0.063822</td>\n",
       "      <td>-0.036153</td>\n",
       "      <td>-0.011823</td>\n",
       "      <td>0.055463</td>\n",
       "      <td>0.096392</td>\n",
       "      <td>...</td>\n",
       "      <td>0.021873</td>\n",
       "      <td>-0.154850</td>\n",
       "      <td>-0.048426</td>\n",
       "      <td>0.012281</td>\n",
       "      <td>-0.119089</td>\n",
       "      <td>-0.019863</td>\n",
       "      <td>0.028800</td>\n",
       "      <td>2015.013721</td>\n",
       "      <td>0</td>\n",
       "      <td>190</td>\n",
       "    </tr>\n",
       "  </tbody>\n",
       "</table>\n",
       "<p>2000 rows × 392 columns</p>\n",
       "</div>"
      ],
      "text/plain": [
       "                                                content            datetime  \\\n",
       "0     What is A + B? Welcome to our review of Word f... 2015-01-01 00:00:00   \n",
       "1     President Barack Obama is launching a version of  2015-01-01 00:00:00   \n",
       "2     New Delhi, Feb 29 (IANS) Focusing on rural eco... 2015-01-01 00:00:00   \n",
       "3     BEIJING: China’s central bank on Monday cut th... 2015-01-01 00:00:00   \n",
       "4     Microsoft has targeted its smartphones toward ... 2015-01-01 00:00:00   \n",
       "...                                                 ...                 ...   \n",
       "1995  Greece's state statistics agency on Friday sai... 2015-01-06 00:12:00   \n",
       "1996  Microsoft's marketing is really going all out ... 2015-01-06 00:12:00   \n",
       "1997  General counsel still waiting for people to le... 2015-01-06 00:12:00   \n",
       "1998  Wooing British investors, Prime Minister Naren... 2015-01-06 00:12:00   \n",
       "1999  Indian economy is still not out of the woods a... 2015-01-06 00:12:00   \n",
       "\n",
       "      label  timeline_id  post_id        e1        e2        e3        e4  \\\n",
       "0         0            0        9 -0.079867 -0.008263 -0.001711  0.019486   \n",
       "1         1            0        5  0.015549  0.009248  0.074484 -0.040729   \n",
       "2         2            0        5  0.032265  0.015483 -0.057310 -0.010212   \n",
       "3         2            0        2  0.020815  0.041313 -0.047905  0.015516   \n",
       "4         0            0        9  0.009601 -0.054628  0.076478 -0.018516   \n",
       "...     ...          ...      ...       ...       ...       ...       ...   \n",
       "1995      2           11        7  0.024654 -0.029529 -0.030035  0.020795   \n",
       "1996      0           11        3  0.019495 -0.004537  0.000939 -0.099831   \n",
       "1997      0           11        1 -0.048954  0.002250  0.016024 -0.031268   \n",
       "1998      2           11        2 -0.014889  0.026375  0.050502  0.031618   \n",
       "1999      2           11        2  0.063822 -0.036153 -0.011823  0.055463   \n",
       "\n",
       "            e5  ...      e378      e379      e380      e381      e382  \\\n",
       "0    -0.035367  ... -0.031530  0.014281  0.040966  0.094512 -0.053163   \n",
       "1    -0.090240  ... -0.101167  0.025462  0.011384  0.043213 -0.020444   \n",
       "2     0.047558  ...  0.087058 -0.053317 -0.063224  0.035390 -0.045189   \n",
       "3     0.033342  ...  0.025686 -0.083074 -0.065246 -0.031321 -0.036033   \n",
       "4     0.102176  ... -0.085658  0.036755  0.080678  0.058800 -0.030263   \n",
       "...        ...  ...       ...       ...       ...       ...       ...   \n",
       "1995  0.055636  ...  0.021195 -0.105262 -0.001257 -0.100573 -0.026909   \n",
       "1996  0.030381  ... -0.018534  0.036568  0.149857  0.063044 -0.096566   \n",
       "1997  0.078445  ... -0.058210 -0.035671  0.011765  0.043951 -0.002290   \n",
       "1998  0.064115  ...  0.042637 -0.074313 -0.074671  0.038090 -0.006466   \n",
       "1999  0.096392  ...  0.021873 -0.154850 -0.048426  0.012281 -0.119089   \n",
       "\n",
       "          e383      e384  time_encoding  time_diff  timeline_index  \n",
       "0    -0.018061  0.076371    2015.000000          0               0  \n",
       "1     0.013591  0.027662    2015.000000          0               1  \n",
       "2    -0.009946 -0.016942    2015.000000          0               2  \n",
       "3    -0.029446 -0.028828    2015.000000          0               3  \n",
       "4     0.059188  0.081989    2015.000000          0               4  \n",
       "...        ...       ...            ...        ...             ...  \n",
       "1995  0.008489 -0.054728    2015.013721          0             186  \n",
       "1996  0.039875  0.098764    2015.013721          0             187  \n",
       "1997 -0.022666 -0.007701    2015.013721          0             188  \n",
       "1998 -0.078479 -0.036731    2015.013721          0             189  \n",
       "1999 -0.019863  0.028800    2015.013721          0             190  \n",
       "\n",
       "[2000 rows x 392 columns]"
      ]
     },
     "execution_count": 28,
     "metadata": {},
     "output_type": "execute_result"
    }
   ],
   "source": [
    "dataset.set_time_features()\n",
    "dataset.df"
   ]
  },
  {
   "cell_type": "markdown",
   "metadata": {},
   "source": [
    "We can pad the data using `.pad_timelines()`. This returns the padded dataset as a 3-dimensional array (first dimension is the timeline, second is the individual records, third is the features)."
   ]
  },
  {
   "cell_type": "code",
   "execution_count": 29,
   "metadata": {},
   "outputs": [
    {
     "data": {
      "text/plain": [
       "(12, 191, 3)"
      ]
     },
     "execution_count": 29,
     "metadata": {},
     "output_type": "execute_result"
    }
   ],
   "source": [
    "array_padded = dataset.pad_timelines()\n",
    "array_padded.shape"
   ]
  },
  {
   "cell_type": "code",
   "execution_count": 30,
   "metadata": {},
   "outputs": [
    {
     "data": {
      "text/plain": [
       "(12, 191, 3)"
      ]
     },
     "execution_count": 30,
     "metadata": {},
     "output_type": "execute_result"
    }
   ],
   "source": [
    "dataset.array_padded.shape"
   ]
  },
  {
   "cell_type": "markdown",
   "metadata": {},
   "source": [
    "Note to Talia: I've actually changed the code a bit for the padding - the final result is the same it returns the same result, but I think the code is a bit clearer now. So `_pad_timeline()` is a method which returns the padded dataframe for a given index (using a similar method like you wrote), but instead of concatenating to a data frame and needing to pass a variable `i` which keeps track of the index, we don't have that anymore.\n",
    "\n",
    "Instead, I can just call `._pad_timeline()` for each timeline id in a list comprehension so I have a list of dataframes (where each of these are padded to have the same number of records) which I can just concatenate at the end.\n",
    "\n",
    "This concatenated dataframe is stored in `.df_padded`. We can see here that the ones with `timeline_id==0` have a couple of "
   ]
  },
  {
   "cell_type": "code",
   "execution_count": 31,
   "metadata": {},
   "outputs": [
    {
     "data": {
      "text/html": [
       "<div>\n",
       "<style scoped>\n",
       "    .dataframe tbody tr th:only-of-type {\n",
       "        vertical-align: middle;\n",
       "    }\n",
       "\n",
       "    .dataframe tbody tr th {\n",
       "        vertical-align: top;\n",
       "    }\n",
       "\n",
       "    .dataframe thead th {\n",
       "        text-align: right;\n",
       "    }\n",
       "</style>\n",
       "<table border=\"1\" class=\"dataframe\">\n",
       "  <thead>\n",
       "    <tr style=\"text-align: right;\">\n",
       "      <th></th>\n",
       "      <th>timeline_id</th>\n",
       "      <th>label</th>\n",
       "      <th>time_encoding</th>\n",
       "    </tr>\n",
       "  </thead>\n",
       "  <tbody>\n",
       "    <tr>\n",
       "      <th>0</th>\n",
       "      <td>0</td>\n",
       "      <td>0</td>\n",
       "      <td>2015.0</td>\n",
       "    </tr>\n",
       "    <tr>\n",
       "      <th>1</th>\n",
       "      <td>0</td>\n",
       "      <td>1</td>\n",
       "      <td>2015.0</td>\n",
       "    </tr>\n",
       "    <tr>\n",
       "      <th>2</th>\n",
       "      <td>0</td>\n",
       "      <td>2</td>\n",
       "      <td>2015.0</td>\n",
       "    </tr>\n",
       "    <tr>\n",
       "      <th>3</th>\n",
       "      <td>0</td>\n",
       "      <td>2</td>\n",
       "      <td>2015.0</td>\n",
       "    </tr>\n",
       "    <tr>\n",
       "      <th>4</th>\n",
       "      <td>0</td>\n",
       "      <td>0</td>\n",
       "      <td>2015.0</td>\n",
       "    </tr>\n",
       "    <tr>\n",
       "      <th>...</th>\n",
       "      <td>...</td>\n",
       "      <td>...</td>\n",
       "      <td>...</td>\n",
       "    </tr>\n",
       "    <tr>\n",
       "      <th>186</th>\n",
       "      <td>0</td>\n",
       "      <td>-1</td>\n",
       "      <td>0.0</td>\n",
       "    </tr>\n",
       "    <tr>\n",
       "      <th>187</th>\n",
       "      <td>0</td>\n",
       "      <td>-1</td>\n",
       "      <td>0.0</td>\n",
       "    </tr>\n",
       "    <tr>\n",
       "      <th>188</th>\n",
       "      <td>0</td>\n",
       "      <td>-1</td>\n",
       "      <td>0.0</td>\n",
       "    </tr>\n",
       "    <tr>\n",
       "      <th>189</th>\n",
       "      <td>0</td>\n",
       "      <td>-1</td>\n",
       "      <td>0.0</td>\n",
       "    </tr>\n",
       "    <tr>\n",
       "      <th>190</th>\n",
       "      <td>0</td>\n",
       "      <td>-1</td>\n",
       "      <td>0.0</td>\n",
       "    </tr>\n",
       "  </tbody>\n",
       "</table>\n",
       "<p>191 rows × 3 columns</p>\n",
       "</div>"
      ],
      "text/plain": [
       "     timeline_id  label  time_encoding\n",
       "0              0      0         2015.0\n",
       "1              0      1         2015.0\n",
       "2              0      2         2015.0\n",
       "3              0      2         2015.0\n",
       "4              0      0         2015.0\n",
       "..           ...    ...            ...\n",
       "186            0     -1            0.0\n",
       "187            0     -1            0.0\n",
       "188            0     -1            0.0\n",
       "189            0     -1            0.0\n",
       "190            0     -1            0.0\n",
       "\n",
       "[191 rows x 3 columns]"
      ]
     },
     "execution_count": 31,
     "metadata": {},
     "output_type": "execute_result"
    }
   ],
   "source": [
    "dataset.df_padded[dataset.df_padded[\"timeline_id\"]==0]"
   ]
  },
  {
   "cell_type": "code",
   "execution_count": 32,
   "metadata": {},
   "outputs": [
    {
     "data": {
      "text/html": [
       "<div>\n",
       "<style scoped>\n",
       "    .dataframe tbody tr th:only-of-type {\n",
       "        vertical-align: middle;\n",
       "    }\n",
       "\n",
       "    .dataframe tbody tr th {\n",
       "        vertical-align: top;\n",
       "    }\n",
       "\n",
       "    .dataframe thead th {\n",
       "        text-align: right;\n",
       "    }\n",
       "</style>\n",
       "<table border=\"1\" class=\"dataframe\">\n",
       "  <thead>\n",
       "    <tr style=\"text-align: right;\">\n",
       "      <th></th>\n",
       "      <th>content</th>\n",
       "      <th>datetime</th>\n",
       "      <th>label</th>\n",
       "      <th>post_id</th>\n",
       "    </tr>\n",
       "  </thead>\n",
       "  <tbody>\n",
       "    <tr>\n",
       "      <th>0</th>\n",
       "      <td>Finland's economy expanded marginally in the t...</td>\n",
       "      <td>2015-01-01 00:00:00</td>\n",
       "      <td>2</td>\n",
       "      <td>0</td>\n",
       "    </tr>\n",
       "    <tr>\n",
       "      <th>1</th>\n",
       "      <td>Microsoft may have burned off one bridge, but ...</td>\n",
       "      <td>2015-01-01 00:00:00</td>\n",
       "      <td>0</td>\n",
       "      <td>4</td>\n",
       "    </tr>\n",
       "    <tr>\n",
       "      <th>2</th>\n",
       "      <td>BEIJING: China’s central bank on Monday cut th...</td>\n",
       "      <td>2015-01-01 00:00:00</td>\n",
       "      <td>2</td>\n",
       "      <td>6</td>\n",
       "    </tr>\n",
       "    <tr>\n",
       "      <th>3</th>\n",
       "      <td>President Barack Obama's hard road to fill a v...</td>\n",
       "      <td>2015-01-01 00:00:00</td>\n",
       "      <td>1</td>\n",
       "      <td>4</td>\n",
       "    </tr>\n",
       "    <tr>\n",
       "      <th>4</th>\n",
       "      <td>The role of the government in growing and dire...</td>\n",
       "      <td>2015-01-01 00:00:00</td>\n",
       "      <td>2</td>\n",
       "      <td>2</td>\n",
       "    </tr>\n",
       "    <tr>\n",
       "      <th>...</th>\n",
       "      <td>...</td>\n",
       "      <td>...</td>\n",
       "      <td>...</td>\n",
       "      <td>...</td>\n",
       "    </tr>\n",
       "    <tr>\n",
       "      <th>1995</th>\n",
       "      <td>The first major update for Windows 10 packs se...</td>\n",
       "      <td>2015-01-06 00:12:00</td>\n",
       "      <td>0</td>\n",
       "      <td>8</td>\n",
       "    </tr>\n",
       "    <tr>\n",
       "      <th>1996</th>\n",
       "      <td>03/11/2015: Microsoft has set an end date for ...</td>\n",
       "      <td>2015-01-06 00:12:00</td>\n",
       "      <td>0</td>\n",
       "      <td>8</td>\n",
       "    </tr>\n",
       "    <tr>\n",
       "      <th>1997</th>\n",
       "      <td>Wooing British investors, Prime Minister Naren...</td>\n",
       "      <td>2015-01-06 00:12:00</td>\n",
       "      <td>2</td>\n",
       "      <td>9</td>\n",
       "    </tr>\n",
       "    <tr>\n",
       "      <th>1998</th>\n",
       "      <td>Windows is under assault like it's never been ...</td>\n",
       "      <td>2015-01-06 00:12:00</td>\n",
       "      <td>0</td>\n",
       "      <td>0</td>\n",
       "    </tr>\n",
       "    <tr>\n",
       "      <th>1999</th>\n",
       "      <td>So Jealous reminds Democratic candidates in 20...</td>\n",
       "      <td>2015-01-06 00:12:00</td>\n",
       "      <td>2</td>\n",
       "      <td>5</td>\n",
       "    </tr>\n",
       "  </tbody>\n",
       "</table>\n",
       "<p>2000 rows × 4 columns</p>\n",
       "</div>"
      ],
      "text/plain": [
       "                                                content            datetime  \\\n",
       "0     Finland's economy expanded marginally in the t... 2015-01-01 00:00:00   \n",
       "1     Microsoft may have burned off one bridge, but ... 2015-01-01 00:00:00   \n",
       "2     BEIJING: China’s central bank on Monday cut th... 2015-01-01 00:00:00   \n",
       "3     President Barack Obama's hard road to fill a v... 2015-01-01 00:00:00   \n",
       "4     The role of the government in growing and dire... 2015-01-01 00:00:00   \n",
       "...                                                 ...                 ...   \n",
       "1995  The first major update for Windows 10 packs se... 2015-01-06 00:12:00   \n",
       "1996  03/11/2015: Microsoft has set an end date for ... 2015-01-06 00:12:00   \n",
       "1997  Wooing British investors, Prime Minister Naren... 2015-01-06 00:12:00   \n",
       "1998  Windows is under assault like it's never been ... 2015-01-06 00:12:00   \n",
       "1999  So Jealous reminds Democratic candidates in 20... 2015-01-06 00:12:00   \n",
       "\n",
       "      label  post_id  \n",
       "0         2        0  \n",
       "1         0        4  \n",
       "2         2        6  \n",
       "3         1        4  \n",
       "4         2        2  \n",
       "...     ...      ...  \n",
       "1995      0        8  \n",
       "1996      0        8  \n",
       "1997      2        9  \n",
       "1998      0        0  \n",
       "1999      2        5  \n",
       "\n",
       "[2000 rows x 4 columns]"
      ]
     },
     "execution_count": 32,
     "metadata": {},
     "output_type": "execute_result"
    }
   ],
   "source": [
    "dataset.df[[\"content\", \"datetime\", \"label\", \"post_id\"]]"
   ]
  },
  {
   "cell_type": "markdown",
   "metadata": {},
   "source": [
    "Note that passing in the dimension reduced embeddings is optional:"
   ]
  },
  {
   "cell_type": "code",
   "execution_count": 32,
   "metadata": {},
   "outputs": [],
   "source": [
    "dataset_2 = nlpsig.PrepareData(dataset_df, embeddings_sentence)"
   ]
  },
  {
   "cell_type": "code",
   "execution_count": 33,
   "metadata": {},
   "outputs": [],
   "source": [
    "dataset_2.set_time_features()"
   ]
  },
  {
   "cell_type": "markdown",
   "metadata": {},
   "source": [
    "By default `.pad_timelines()` doesn't consider the sentence embeddings, so we would just get the `timeline_id`, `label` and `time_encoding` columns:"
   ]
  },
  {
   "cell_type": "code",
   "execution_count": 39,
   "metadata": {},
   "outputs": [
    {
     "data": {
      "text/plain": [
       "(12, 191, 3)"
      ]
     },
     "execution_count": 39,
     "metadata": {},
     "output_type": "execute_result"
    }
   ],
   "source": [
    "dataset_2.pad_timelines().shape"
   ]
  },
  {
   "cell_type": "code",
   "execution_count": 35,
   "metadata": {},
   "outputs": [
    {
     "data": {
      "text/html": [
       "<div>\n",
       "<style scoped>\n",
       "    .dataframe tbody tr th:only-of-type {\n",
       "        vertical-align: middle;\n",
       "    }\n",
       "\n",
       "    .dataframe tbody tr th {\n",
       "        vertical-align: top;\n",
       "    }\n",
       "\n",
       "    .dataframe thead th {\n",
       "        text-align: right;\n",
       "    }\n",
       "</style>\n",
       "<table border=\"1\" class=\"dataframe\">\n",
       "  <thead>\n",
       "    <tr style=\"text-align: right;\">\n",
       "      <th></th>\n",
       "      <th>timeline_id</th>\n",
       "      <th>label</th>\n",
       "      <th>time_encoding</th>\n",
       "    </tr>\n",
       "  </thead>\n",
       "  <tbody>\n",
       "    <tr>\n",
       "      <th>0</th>\n",
       "      <td>0</td>\n",
       "      <td>0</td>\n",
       "      <td>2015.000000</td>\n",
       "    </tr>\n",
       "    <tr>\n",
       "      <th>1</th>\n",
       "      <td>0</td>\n",
       "      <td>1</td>\n",
       "      <td>2015.000000</td>\n",
       "    </tr>\n",
       "    <tr>\n",
       "      <th>2</th>\n",
       "      <td>0</td>\n",
       "      <td>2</td>\n",
       "      <td>2015.000000</td>\n",
       "    </tr>\n",
       "    <tr>\n",
       "      <th>3</th>\n",
       "      <td>0</td>\n",
       "      <td>2</td>\n",
       "      <td>2015.000000</td>\n",
       "    </tr>\n",
       "    <tr>\n",
       "      <th>4</th>\n",
       "      <td>0</td>\n",
       "      <td>0</td>\n",
       "      <td>2015.000000</td>\n",
       "    </tr>\n",
       "    <tr>\n",
       "      <th>...</th>\n",
       "      <td>...</td>\n",
       "      <td>...</td>\n",
       "      <td>...</td>\n",
       "    </tr>\n",
       "    <tr>\n",
       "      <th>2287</th>\n",
       "      <td>11</td>\n",
       "      <td>2</td>\n",
       "      <td>2015.013721</td>\n",
       "    </tr>\n",
       "    <tr>\n",
       "      <th>2288</th>\n",
       "      <td>11</td>\n",
       "      <td>0</td>\n",
       "      <td>2015.013721</td>\n",
       "    </tr>\n",
       "    <tr>\n",
       "      <th>2289</th>\n",
       "      <td>11</td>\n",
       "      <td>0</td>\n",
       "      <td>2015.013721</td>\n",
       "    </tr>\n",
       "    <tr>\n",
       "      <th>2290</th>\n",
       "      <td>11</td>\n",
       "      <td>2</td>\n",
       "      <td>2015.013721</td>\n",
       "    </tr>\n",
       "    <tr>\n",
       "      <th>2291</th>\n",
       "      <td>11</td>\n",
       "      <td>2</td>\n",
       "      <td>2015.013721</td>\n",
       "    </tr>\n",
       "  </tbody>\n",
       "</table>\n",
       "<p>2292 rows × 3 columns</p>\n",
       "</div>"
      ],
      "text/plain": [
       "      timeline_id  label  time_encoding\n",
       "0               0      0    2015.000000\n",
       "1               0      1    2015.000000\n",
       "2               0      2    2015.000000\n",
       "3               0      2    2015.000000\n",
       "4               0      0    2015.000000\n",
       "...           ...    ...            ...\n",
       "2287           11      2    2015.013721\n",
       "2288           11      0    2015.013721\n",
       "2289           11      0    2015.013721\n",
       "2290           11      2    2015.013721\n",
       "2291           11      2    2015.013721\n",
       "\n",
       "[2292 rows x 3 columns]"
      ]
     },
     "execution_count": 35,
     "metadata": {},
     "output_type": "execute_result"
    }
   ],
   "source": [
    "dataset_2.df_padded"
   ]
  },
  {
   "cell_type": "markdown",
   "metadata": {},
   "source": [
    "But we can set `keep_embedding_sentences=True` if we wanted to:"
   ]
  },
  {
   "cell_type": "code",
   "execution_count": 38,
   "metadata": {},
   "outputs": [
    {
     "data": {
      "text/plain": [
       "(12, 191, 387)"
      ]
     },
     "execution_count": 38,
     "metadata": {},
     "output_type": "execute_result"
    }
   ],
   "source": [
    "dataset_2.pad_timelines(keep_embedding_sentences=True).shape"
   ]
  },
  {
   "cell_type": "code",
   "execution_count": 37,
   "metadata": {},
   "outputs": [
    {
     "data": {
      "text/html": [
       "<div>\n",
       "<style scoped>\n",
       "    .dataframe tbody tr th:only-of-type {\n",
       "        vertical-align: middle;\n",
       "    }\n",
       "\n",
       "    .dataframe tbody tr th {\n",
       "        vertical-align: top;\n",
       "    }\n",
       "\n",
       "    .dataframe thead th {\n",
       "        text-align: right;\n",
       "    }\n",
       "</style>\n",
       "<table border=\"1\" class=\"dataframe\">\n",
       "  <thead>\n",
       "    <tr style=\"text-align: right;\">\n",
       "      <th></th>\n",
       "      <th>timeline_id</th>\n",
       "      <th>label</th>\n",
       "      <th>time_encoding</th>\n",
       "      <th>e1</th>\n",
       "      <th>e2</th>\n",
       "      <th>e3</th>\n",
       "      <th>e4</th>\n",
       "      <th>e5</th>\n",
       "      <th>e6</th>\n",
       "      <th>e7</th>\n",
       "      <th>...</th>\n",
       "      <th>e375</th>\n",
       "      <th>e376</th>\n",
       "      <th>e377</th>\n",
       "      <th>e378</th>\n",
       "      <th>e379</th>\n",
       "      <th>e380</th>\n",
       "      <th>e381</th>\n",
       "      <th>e382</th>\n",
       "      <th>e383</th>\n",
       "      <th>e384</th>\n",
       "    </tr>\n",
       "  </thead>\n",
       "  <tbody>\n",
       "    <tr>\n",
       "      <th>0</th>\n",
       "      <td>0</td>\n",
       "      <td>0</td>\n",
       "      <td>2015.000000</td>\n",
       "      <td>-0.079867</td>\n",
       "      <td>-0.008263</td>\n",
       "      <td>-0.001711</td>\n",
       "      <td>0.019486</td>\n",
       "      <td>-0.035367</td>\n",
       "      <td>0.045631</td>\n",
       "      <td>0.058303</td>\n",
       "      <td>...</td>\n",
       "      <td>-0.050485</td>\n",
       "      <td>0.005639</td>\n",
       "      <td>-0.014745</td>\n",
       "      <td>-0.031530</td>\n",
       "      <td>0.014281</td>\n",
       "      <td>0.040966</td>\n",
       "      <td>0.094512</td>\n",
       "      <td>-0.053163</td>\n",
       "      <td>-0.018061</td>\n",
       "      <td>0.076371</td>\n",
       "    </tr>\n",
       "    <tr>\n",
       "      <th>1</th>\n",
       "      <td>0</td>\n",
       "      <td>1</td>\n",
       "      <td>2015.000000</td>\n",
       "      <td>0.015549</td>\n",
       "      <td>0.009248</td>\n",
       "      <td>0.074484</td>\n",
       "      <td>-0.040729</td>\n",
       "      <td>-0.090240</td>\n",
       "      <td>0.084197</td>\n",
       "      <td>-0.036883</td>\n",
       "      <td>...</td>\n",
       "      <td>0.117097</td>\n",
       "      <td>0.028837</td>\n",
       "      <td>-0.011454</td>\n",
       "      <td>-0.101167</td>\n",
       "      <td>0.025462</td>\n",
       "      <td>0.011384</td>\n",
       "      <td>0.043213</td>\n",
       "      <td>-0.020444</td>\n",
       "      <td>0.013591</td>\n",
       "      <td>0.027662</td>\n",
       "    </tr>\n",
       "    <tr>\n",
       "      <th>2</th>\n",
       "      <td>0</td>\n",
       "      <td>2</td>\n",
       "      <td>2015.000000</td>\n",
       "      <td>0.032265</td>\n",
       "      <td>0.015483</td>\n",
       "      <td>-0.057310</td>\n",
       "      <td>-0.010212</td>\n",
       "      <td>0.047558</td>\n",
       "      <td>0.025016</td>\n",
       "      <td>0.017131</td>\n",
       "      <td>...</td>\n",
       "      <td>0.039802</td>\n",
       "      <td>-0.017149</td>\n",
       "      <td>-0.061715</td>\n",
       "      <td>0.087058</td>\n",
       "      <td>-0.053317</td>\n",
       "      <td>-0.063224</td>\n",
       "      <td>0.035390</td>\n",
       "      <td>-0.045189</td>\n",
       "      <td>-0.009946</td>\n",
       "      <td>-0.016942</td>\n",
       "    </tr>\n",
       "    <tr>\n",
       "      <th>3</th>\n",
       "      <td>0</td>\n",
       "      <td>2</td>\n",
       "      <td>2015.000000</td>\n",
       "      <td>0.020815</td>\n",
       "      <td>0.041313</td>\n",
       "      <td>-0.047905</td>\n",
       "      <td>0.015516</td>\n",
       "      <td>0.033342</td>\n",
       "      <td>-0.012879</td>\n",
       "      <td>0.025409</td>\n",
       "      <td>...</td>\n",
       "      <td>0.066838</td>\n",
       "      <td>0.059578</td>\n",
       "      <td>-0.067038</td>\n",
       "      <td>0.025686</td>\n",
       "      <td>-0.083074</td>\n",
       "      <td>-0.065246</td>\n",
       "      <td>-0.031321</td>\n",
       "      <td>-0.036033</td>\n",
       "      <td>-0.029446</td>\n",
       "      <td>-0.028828</td>\n",
       "    </tr>\n",
       "    <tr>\n",
       "      <th>4</th>\n",
       "      <td>0</td>\n",
       "      <td>0</td>\n",
       "      <td>2015.000000</td>\n",
       "      <td>0.009601</td>\n",
       "      <td>-0.054628</td>\n",
       "      <td>0.076478</td>\n",
       "      <td>-0.018516</td>\n",
       "      <td>0.102176</td>\n",
       "      <td>-0.015148</td>\n",
       "      <td>-0.021302</td>\n",
       "      <td>...</td>\n",
       "      <td>-0.019474</td>\n",
       "      <td>-0.031690</td>\n",
       "      <td>0.038113</td>\n",
       "      <td>-0.085658</td>\n",
       "      <td>0.036755</td>\n",
       "      <td>0.080678</td>\n",
       "      <td>0.058800</td>\n",
       "      <td>-0.030263</td>\n",
       "      <td>0.059188</td>\n",
       "      <td>0.081989</td>\n",
       "    </tr>\n",
       "    <tr>\n",
       "      <th>...</th>\n",
       "      <td>...</td>\n",
       "      <td>...</td>\n",
       "      <td>...</td>\n",
       "      <td>...</td>\n",
       "      <td>...</td>\n",
       "      <td>...</td>\n",
       "      <td>...</td>\n",
       "      <td>...</td>\n",
       "      <td>...</td>\n",
       "      <td>...</td>\n",
       "      <td>...</td>\n",
       "      <td>...</td>\n",
       "      <td>...</td>\n",
       "      <td>...</td>\n",
       "      <td>...</td>\n",
       "      <td>...</td>\n",
       "      <td>...</td>\n",
       "      <td>...</td>\n",
       "      <td>...</td>\n",
       "      <td>...</td>\n",
       "      <td>...</td>\n",
       "    </tr>\n",
       "    <tr>\n",
       "      <th>2287</th>\n",
       "      <td>11</td>\n",
       "      <td>2</td>\n",
       "      <td>2015.013721</td>\n",
       "      <td>0.024654</td>\n",
       "      <td>-0.029529</td>\n",
       "      <td>-0.030035</td>\n",
       "      <td>0.020795</td>\n",
       "      <td>0.055636</td>\n",
       "      <td>-0.026956</td>\n",
       "      <td>-0.007071</td>\n",
       "      <td>...</td>\n",
       "      <td>0.060821</td>\n",
       "      <td>-0.091076</td>\n",
       "      <td>-0.065990</td>\n",
       "      <td>0.021195</td>\n",
       "      <td>-0.105262</td>\n",
       "      <td>-0.001257</td>\n",
       "      <td>-0.100573</td>\n",
       "      <td>-0.026909</td>\n",
       "      <td>0.008489</td>\n",
       "      <td>-0.054728</td>\n",
       "    </tr>\n",
       "    <tr>\n",
       "      <th>2288</th>\n",
       "      <td>11</td>\n",
       "      <td>0</td>\n",
       "      <td>2015.013721</td>\n",
       "      <td>0.019495</td>\n",
       "      <td>-0.004537</td>\n",
       "      <td>0.000939</td>\n",
       "      <td>-0.099831</td>\n",
       "      <td>0.030381</td>\n",
       "      <td>0.027126</td>\n",
       "      <td>-0.026463</td>\n",
       "      <td>...</td>\n",
       "      <td>0.058581</td>\n",
       "      <td>0.004731</td>\n",
       "      <td>0.010608</td>\n",
       "      <td>-0.018534</td>\n",
       "      <td>0.036568</td>\n",
       "      <td>0.149857</td>\n",
       "      <td>0.063044</td>\n",
       "      <td>-0.096566</td>\n",
       "      <td>0.039875</td>\n",
       "      <td>0.098764</td>\n",
       "    </tr>\n",
       "    <tr>\n",
       "      <th>2289</th>\n",
       "      <td>11</td>\n",
       "      <td>0</td>\n",
       "      <td>2015.013721</td>\n",
       "      <td>-0.048954</td>\n",
       "      <td>0.002250</td>\n",
       "      <td>0.016024</td>\n",
       "      <td>-0.031268</td>\n",
       "      <td>0.078445</td>\n",
       "      <td>0.083410</td>\n",
       "      <td>0.024256</td>\n",
       "      <td>...</td>\n",
       "      <td>0.031160</td>\n",
       "      <td>0.043420</td>\n",
       "      <td>0.093419</td>\n",
       "      <td>-0.058210</td>\n",
       "      <td>-0.035671</td>\n",
       "      <td>0.011765</td>\n",
       "      <td>0.043951</td>\n",
       "      <td>-0.002290</td>\n",
       "      <td>-0.022666</td>\n",
       "      <td>-0.007701</td>\n",
       "    </tr>\n",
       "    <tr>\n",
       "      <th>2290</th>\n",
       "      <td>11</td>\n",
       "      <td>2</td>\n",
       "      <td>2015.013721</td>\n",
       "      <td>-0.014889</td>\n",
       "      <td>0.026375</td>\n",
       "      <td>0.050502</td>\n",
       "      <td>0.031618</td>\n",
       "      <td>0.064115</td>\n",
       "      <td>-0.024642</td>\n",
       "      <td>0.115795</td>\n",
       "      <td>...</td>\n",
       "      <td>0.012948</td>\n",
       "      <td>0.023635</td>\n",
       "      <td>-0.083252</td>\n",
       "      <td>0.042637</td>\n",
       "      <td>-0.074313</td>\n",
       "      <td>-0.074671</td>\n",
       "      <td>0.038090</td>\n",
       "      <td>-0.006466</td>\n",
       "      <td>-0.078479</td>\n",
       "      <td>-0.036731</td>\n",
       "    </tr>\n",
       "    <tr>\n",
       "      <th>2291</th>\n",
       "      <td>11</td>\n",
       "      <td>2</td>\n",
       "      <td>2015.013721</td>\n",
       "      <td>0.063822</td>\n",
       "      <td>-0.036153</td>\n",
       "      <td>-0.011823</td>\n",
       "      <td>0.055463</td>\n",
       "      <td>0.096392</td>\n",
       "      <td>-0.042728</td>\n",
       "      <td>-0.097622</td>\n",
       "      <td>...</td>\n",
       "      <td>0.025915</td>\n",
       "      <td>-0.062183</td>\n",
       "      <td>-0.050186</td>\n",
       "      <td>0.021873</td>\n",
       "      <td>-0.154850</td>\n",
       "      <td>-0.048426</td>\n",
       "      <td>0.012281</td>\n",
       "      <td>-0.119089</td>\n",
       "      <td>-0.019863</td>\n",
       "      <td>0.028800</td>\n",
       "    </tr>\n",
       "  </tbody>\n",
       "</table>\n",
       "<p>2292 rows × 387 columns</p>\n",
       "</div>"
      ],
      "text/plain": [
       "      timeline_id  label  time_encoding        e1        e2        e3  \\\n",
       "0               0      0    2015.000000 -0.079867 -0.008263 -0.001711   \n",
       "1               0      1    2015.000000  0.015549  0.009248  0.074484   \n",
       "2               0      2    2015.000000  0.032265  0.015483 -0.057310   \n",
       "3               0      2    2015.000000  0.020815  0.041313 -0.047905   \n",
       "4               0      0    2015.000000  0.009601 -0.054628  0.076478   \n",
       "...           ...    ...            ...       ...       ...       ...   \n",
       "2287           11      2    2015.013721  0.024654 -0.029529 -0.030035   \n",
       "2288           11      0    2015.013721  0.019495 -0.004537  0.000939   \n",
       "2289           11      0    2015.013721 -0.048954  0.002250  0.016024   \n",
       "2290           11      2    2015.013721 -0.014889  0.026375  0.050502   \n",
       "2291           11      2    2015.013721  0.063822 -0.036153 -0.011823   \n",
       "\n",
       "            e4        e5        e6        e7  ...      e375      e376  \\\n",
       "0     0.019486 -0.035367  0.045631  0.058303  ... -0.050485  0.005639   \n",
       "1    -0.040729 -0.090240  0.084197 -0.036883  ...  0.117097  0.028837   \n",
       "2    -0.010212  0.047558  0.025016  0.017131  ...  0.039802 -0.017149   \n",
       "3     0.015516  0.033342 -0.012879  0.025409  ...  0.066838  0.059578   \n",
       "4    -0.018516  0.102176 -0.015148 -0.021302  ... -0.019474 -0.031690   \n",
       "...        ...       ...       ...       ...  ...       ...       ...   \n",
       "2287  0.020795  0.055636 -0.026956 -0.007071  ...  0.060821 -0.091076   \n",
       "2288 -0.099831  0.030381  0.027126 -0.026463  ...  0.058581  0.004731   \n",
       "2289 -0.031268  0.078445  0.083410  0.024256  ...  0.031160  0.043420   \n",
       "2290  0.031618  0.064115 -0.024642  0.115795  ...  0.012948  0.023635   \n",
       "2291  0.055463  0.096392 -0.042728 -0.097622  ...  0.025915 -0.062183   \n",
       "\n",
       "          e377      e378      e379      e380      e381      e382      e383  \\\n",
       "0    -0.014745 -0.031530  0.014281  0.040966  0.094512 -0.053163 -0.018061   \n",
       "1    -0.011454 -0.101167  0.025462  0.011384  0.043213 -0.020444  0.013591   \n",
       "2    -0.061715  0.087058 -0.053317 -0.063224  0.035390 -0.045189 -0.009946   \n",
       "3    -0.067038  0.025686 -0.083074 -0.065246 -0.031321 -0.036033 -0.029446   \n",
       "4     0.038113 -0.085658  0.036755  0.080678  0.058800 -0.030263  0.059188   \n",
       "...        ...       ...       ...       ...       ...       ...       ...   \n",
       "2287 -0.065990  0.021195 -0.105262 -0.001257 -0.100573 -0.026909  0.008489   \n",
       "2288  0.010608 -0.018534  0.036568  0.149857  0.063044 -0.096566  0.039875   \n",
       "2289  0.093419 -0.058210 -0.035671  0.011765  0.043951 -0.002290 -0.022666   \n",
       "2290 -0.083252  0.042637 -0.074313 -0.074671  0.038090 -0.006466 -0.078479   \n",
       "2291 -0.050186  0.021873 -0.154850 -0.048426  0.012281 -0.119089 -0.019863   \n",
       "\n",
       "          e384  \n",
       "0     0.076371  \n",
       "1     0.027662  \n",
       "2    -0.016942  \n",
       "3    -0.028828  \n",
       "4     0.081989  \n",
       "...        ...  \n",
       "2287 -0.054728  \n",
       "2288  0.098764  \n",
       "2289 -0.007701  \n",
       "2290 -0.036731  \n",
       "2291  0.028800  \n",
       "\n",
       "[2292 rows x 387 columns]"
      ]
     },
     "execution_count": 37,
     "metadata": {},
     "output_type": "execute_result"
    }
   ],
   "source": [
    "dataset_2.df_padded"
   ]
  },
  {
   "cell_type": "markdown",
   "metadata": {},
   "source": [
    "Of course, if we passed in `embeddings_reduced` at the start, we would also have those in as well."
   ]
  },
  {
   "cell_type": "markdown",
   "metadata": {},
   "source": [
    "### Ryan: need to figure out what's going on here\n",
    "\n",
    "Would be good to be able to add this to a class - maybe `PrepareData`?"
   ]
  },
  {
   "cell_type": "code",
   "execution_count": 33,
   "metadata": {},
   "outputs": [],
   "source": [
    "if (model_specifics[\"time_injection\"][\"history_tp\"] == 'timestamp'):\n",
    "    path = torch.from_numpy(array_padded[: , : , 2:].astype(float))\n",
    "else:\n",
    "    path = torch.from_numpy(array_padded[: , : , 3:].astype(float))\n",
    "\n",
    "if (model_specifics[\"time_injection\"][\"post_tp\"]== 'timestamp'):\n",
    "    time_feature = torch.tensor((dataset.df[['time_encoding']].values - dataset.df['time_encoding'].mean()) / dataset.df['time_encoding'].std())\n",
    "    post_time = True\n",
    "elif (model_specifics[\"time_injection\"][\"post_tp\"]== 'timediff'):\n",
    "    time_feature = torch.tensor((dataset.df[['time_diff']].values - dataset.df['time_diff'].mean()) / dataset.df['time_diff'].std())\n",
    "    post_time = True  \n",
    "else: \n",
    "    time_feature = None\n",
    "    post_time = False\n",
    "    \n",
    "if (model_specifics[\"embedding\"]['post_embedding_tp'] == 'sentence'):\n",
    "    bert_embeddings = torch.tensor(dataset.df[[c for c in dataset.df.columns if re.match(\"^e\\w*[0-9]\", c)]].values)\n",
    "else:\n",
    "    bert_embeddings = None"
   ]
  },
  {
   "cell_type": "code",
   "execution_count": 34,
   "metadata": {},
   "outputs": [],
   "source": [
    "# path = path.squeeze()"
   ]
  },
  {
   "cell_type": "markdown",
   "metadata": {},
   "source": [
    "## Compute signature and create features"
   ]
  },
  {
   "cell_type": "markdown",
   "metadata": {},
   "source": [
    "### Ryan: still need to go over DyadicSignatures class"
   ]
  },
  {
   "cell_type": "code",
   "execution_count": 35,
   "metadata": {},
   "outputs": [
    {
     "data": {
      "text/plain": [
       "torch.Size([12, 195, 11])"
      ]
     },
     "execution_count": 35,
     "metadata": {},
     "output_type": "execute_result"
    }
   ],
   "source": [
    "path.shape"
   ]
  },
  {
   "cell_type": "code",
   "execution_count": 36,
   "metadata": {},
   "outputs": [],
   "source": [
    "# calculate paths\n",
    "dsig = nlpsig.DyadicSignatures(original_size = dataset.df.shape[0], \n",
    "                               dim = path.shape[2], \n",
    "                               sig_dim = model_specifics[\"signature\"]['dimensions'],\n",
    "                               intervals = model_specifics[\"signature\"][\"interval\"], \n",
    "                               k_history= None, \n",
    "                               embedding_tp = model_specifics[\"embedding\"]['post_embedding_tp'],\n",
    "                               method = model_specifics[\"embedding\"]['feature_combination_method'],\n",
    "                               history_tp = model_specifics[\"signature\"]['method'], \n",
    "                               add_time = post_time)"
   ]
  },
  {
   "cell_type": "code",
   "execution_count": 37,
   "metadata": {},
   "outputs": [],
   "source": [
    "sig, last_index_dt_all = dsig.compute_signatures(path)\n",
    "sig_combined = dsig.combine_signatures(sig)"
   ]
  },
  {
   "cell_type": "code",
   "execution_count": 38,
   "metadata": {},
   "outputs": [],
   "source": [
    "x_data = dsig.create_features(path,\n",
    "                              sig_combined,\n",
    "                              last_index_dt_all,\n",
    "                              bert_embeddings,\n",
    "                              time_feature)"
   ]
  },
  {
   "cell_type": "code",
   "execution_count": 39,
   "metadata": {},
   "outputs": [
    {
     "data": {
      "text/plain": [
       "(torch.Size([12, 108, 1463]),\n",
       " torch.Size([12, 108]),\n",
       " torch.Size([12, 108, 1463]),\n",
       " torch.Size([2000, 507]))"
      ]
     },
     "execution_count": 39,
     "metadata": {},
     "output_type": "execute_result"
    }
   ],
   "source": [
    "sig.shape, last_index_dt_all.shape, sig_combined.shape, x_data.shape"
   ]
  },
  {
   "cell_type": "markdown",
   "metadata": {},
   "source": [
    "## Plot embeddings"
   ]
  },
  {
   "cell_type": "markdown",
   "metadata": {},
   "source": [
    "We can again plot the embeddings for each of these."
   ]
  },
  {
   "cell_type": "code",
   "execution_count": 40,
   "metadata": {},
   "outputs": [
    {
     "data": {
      "image/png": "[encoded data removed]",
      "text/plain": [
       "<Figure size 640x480 with 1 Axes>"
      ]
     },
     "metadata": {},
     "output_type": "display_data"
    }
   ],
   "source": [
    "plt_embed = nlpsig.PlotEmbedding(x_data = x_data,\n",
    "                                 y_data = dataset.df[\"label\"].values)\n",
    "plt_embed.plt_2d(\n",
    "    embed_args = {\n",
    "        \"method\": \"pca\",\n",
    "        \"dim\": 2\n",
    "    }\n",
    ")"
   ]
  },
  {
   "cell_type": "code",
   "execution_count": 41,
   "metadata": {},
   "outputs": [
    {
     "data": {
      "image/png": "[encoded data removed]",
      "text/plain": [
       "<Figure size 640x480 with 1 Axes>"
      ]
     },
     "metadata": {},
     "output_type": "display_data"
    }
   ],
   "source": [
    "plt_embed.plt_2d(\n",
    "    embed_args = {\n",
    "        \"method\": \"umap\",\n",
    "        \"dim\": 3\n",
    "    }\n",
    ")"
   ]
  },
  {
   "cell_type": "markdown",
   "metadata": {},
   "source": [
    "## Training a FFN for classification"
   ]
  },
  {
   "cell_type": "markdown",
   "metadata": {},
   "source": [
    "First we set some parameters for this specific example:"
   ]
  },
  {
   "cell_type": "code",
   "execution_count": 42,
   "metadata": {},
   "outputs": [],
   "source": [
    "input_dim = x_data.shape[1]\n",
    "hidden_dim = 200 #200\n",
    "output_dim = 3\n",
    "dropout_rate = 0.35 #0.35 #higher dropout than 0.25 and specifically 0.35 is very promising\n",
    "num_epochs = 100\n",
    "learning_rate = 0.0003 #0.0003 #empirically optimal lr value: 0.0001\n",
    "gamma = 2 #3 #empirically optimal gamma value: 3\n",
    "BATCH_SIZE = 64\n",
    "NUM_folds = 5\n",
    "patience = 2\n",
    "weight_decay_adam = 0.0001"
   ]
  },
  {
   "cell_type": "markdown",
   "metadata": {},
   "source": [
    "### KFold (splitting by groups)"
   ]
  },
  {
   "cell_type": "markdown",
   "metadata": {},
   "source": [
    "The `GroupFolds` class in `nlpsig` splits the data in folds which can be used later on for K-Fold validation. We can pass in the groups into the initialisation of the object as follows:"
   ]
  },
  {
   "cell_type": "code",
   "execution_count": 43,
   "metadata": {},
   "outputs": [],
   "source": [
    "data_folds = nlpsig.GroupFolds(df = dataset.df,\n",
    "                               x_data = x_data,\n",
    "                               y_data = torch.tensor(dataset.df[\"label\"]),\n",
    "                               groups = dataset.df[\"timeline_id\"],\n",
    "                               n_splits = NUM_folds)"
   ]
  },
  {
   "cell_type": "markdown",
   "metadata": {},
   "source": [
    "By default, the class uses the [`GroupKFold`](https://scikit-learn.org/stable/modules/generated/sklearn.model_selection.GroupKFold.html) class from [scikit-learn](https://scikit-learn.org/stable/). This ensures that each group will appear exactly once in the test set across all folds, but it does not allow for shuffling the dataset.\n",
    "\n",
    "If you'd like to shuffle the dataset, you can set `shuffle = True` (remember to set a seed number in `random_state` - but even if you don't, this defaults to `42`). In this case, the class uses [`GroupShuffleSplit`](https://scikit-learn.org/stable/modules/generated/sklearn.model_selection.GroupShuffleSplit.html). This *does not* ensure that each group will appear at least once in a test set. So in this choice, it is possible that some groups are never used to test in the K-Fold evalatuion."
   ]
  },
  {
   "cell_type": "code",
   "execution_count": 44,
   "metadata": {},
   "outputs": [],
   "source": [
    "data_folds_shuffled = nlpsig.GroupFolds(df = dataset.df,\n",
    "                                        x_data = x_data,\n",
    "                                        y_data = torch.tensor(dataset.df[\"label\"]),\n",
    "                                        groups = dataset.df[\"timeline_id\"],\n",
    "                                        n_splits = NUM_folds,\n",
    "                                        shuffle = True,\n",
    "                                        random_state = 2022)"
   ]
  },
  {
   "cell_type": "markdown",
   "metadata": {},
   "source": [
    "The indicies for each fold are saved in `fold_indices` attribute"
   ]
  },
  {
   "cell_type": "code",
   "execution_count": 45,
   "metadata": {},
   "outputs": [
    {
     "data": {
      "text/plain": [
       "(array([   0,    1,    2, ..., 1997, 1998, 1999]),\n",
       " array([ 488,  489,  490,  491,  492,  493,  494,  495,  496,  497,  498,\n",
       "         499,  500,  501,  502,  503,  504,  505,  506,  507,  508,  509,\n",
       "         510,  511,  512,  513,  514,  515,  516,  517,  518,  519,  520,\n",
       "         521,  522,  523,  524,  525,  526,  527,  528,  529,  530,  531,\n",
       "         532,  533,  534,  535,  536,  537,  538,  539,  540,  541,  542,\n",
       "         543,  544,  545,  546,  547,  548,  549,  550,  551,  552,  553,\n",
       "         554,  555,  556,  557,  558,  559,  560,  561,  562,  563,  564,\n",
       "         565,  566,  567,  568,  569,  570,  571,  572,  573,  574,  575,\n",
       "         576,  577,  578,  579,  580,  581,  582,  583,  584,  585,  586,\n",
       "         587,  588,  589,  590,  591,  592,  593,  594,  595,  596,  597,\n",
       "         598,  599,  600,  601,  602,  603,  604,  605,  606,  607,  608,\n",
       "         609,  610,  611,  612,  613,  614,  615,  616,  617,  618,  619,\n",
       "         620,  621,  622,  623,  624,  625,  626,  627,  628,  629,  630,\n",
       "         631,  632,  633,  634,  635,  636,  637,  638,  639,  640,  641,\n",
       "         642,  643,  644,  645,  646,  647,  648,  649,  650,  651,  652,\n",
       "         653,  654,  655,  656,  657,  658,  659,  660,  661,  662,  663,\n",
       "         664,  665,  666,  667,  668,  669,  670,  671,  672,  673,  674,\n",
       "         675,  676,  677,  678,  679,  680,  681,  682,  866,  867,  868,\n",
       "         869,  870,  871,  872,  873,  874,  875,  876,  877,  878,  879,\n",
       "         880,  881,  882,  883,  884,  885,  886,  887,  888,  889,  890,\n",
       "         891,  892,  893,  894,  895,  896,  897,  898,  899,  900,  901,\n",
       "         902,  903,  904,  905,  906,  907,  908,  909,  910,  911,  912,\n",
       "         913,  914,  915,  916,  917,  918,  919,  920,  921,  922,  923,\n",
       "         924,  925,  926,  927,  928,  929,  930,  931,  932,  933,  934,\n",
       "         935,  936,  937,  938,  939,  940,  941,  942,  943,  944,  945,\n",
       "         946,  947,  948,  949,  950,  951,  952,  953,  954,  955,  956,\n",
       "         957,  958,  959,  960,  961,  962,  963,  964,  965,  966,  967,\n",
       "         968,  969,  970,  971,  972,  973,  974,  975,  976,  977,  978,\n",
       "         979,  980,  981,  982,  983,  984,  985,  986,  987,  988,  989,\n",
       "         990,  991,  992,  993,  994,  995,  996,  997,  998,  999, 1000,\n",
       "        1001, 1002, 1003, 1004, 1005, 1006, 1007, 1008, 1009, 1010, 1011,\n",
       "        1012, 1013, 1014, 1015, 1016, 1017, 1018, 1019, 1020, 1021, 1022]))"
      ]
     },
     "execution_count": 45,
     "metadata": {},
     "output_type": "execute_result"
    }
   ],
   "source": [
    "data_folds.fold_indices[0]"
   ]
  },
  {
   "cell_type": "markdown",
   "metadata": {},
   "source": [
    "We can obtain training dataset, validation dataset, test datasets via the `.get_splits()` method, which slices the data using the indicies stored in `fold_indices` for a given fold. For example, if we wanted training, validation, and test datasets for the first fold, we have:"
   ]
  },
  {
   "cell_type": "code",
   "execution_count": 46,
   "metadata": {
    "scrolled": false
   },
   "outputs": [
    {
     "data": {
      "text/plain": [
       "(tensor([[ 0.0000e+00,  0.0000e+00,  0.0000e+00,  ...,  0.0000e+00,\n",
       "           0.0000e+00, -8.6165e-01],\n",
       "         [ 0.0000e+00,  0.0000e+00,  0.0000e+00,  ...,  0.0000e+00,\n",
       "           0.0000e+00, -8.6165e-01],\n",
       "         [ 0.0000e+00, -1.0716e+00,  2.6635e+00,  ..., -7.4506e-09,\n",
       "           7.4506e-09, -8.6165e-01],\n",
       "         ...,\n",
       "         [ 0.0000e+00, -1.3126e+00,  2.0622e+00,  ..., -6.6639e+00,\n",
       "          -2.8657e+00, -2.7305e-01],\n",
       "         [ 0.0000e+00, -9.5420e-01,  4.5656e+00,  ..., -9.5276e+00,\n",
       "           1.4164e+00, -2.7305e-01],\n",
       "         [ 0.0000e+00, -3.0094e-01, -2.3632e-01,  ..., -2.7043e+00,\n",
       "          -1.1181e+01, -2.7305e-01]]),\n",
       " tensor([1, 0, 0, 0, 0, 0, 0, 0, 0, 0, 0, 0, 2, 2, 0, 0, 2, 2, 0, 0, 0, 0, 0, 0,\n",
       "         0, 0, 0, 0, 0, 0, 0, 0, 0, 2, 0, 0, 0, 0, 0, 0, 0, 0, 0, 0, 0, 0, 0, 2,\n",
       "         0, 0, 0, 0, 2, 0, 0, 0, 0, 2, 2, 0, 0, 1, 0, 2, 2, 0, 0, 0, 0, 2, 0, 2,\n",
       "         2, 0, 0, 0, 2, 0, 0, 2, 2, 0, 0, 2, 0, 2, 0, 0, 0, 2, 2, 0, 2, 0, 2, 0,\n",
       "         2, 2, 2, 0, 0, 2, 0, 0, 0, 0, 0, 0, 2, 2, 2, 0, 2, 0, 2, 0, 2, 2, 0, 2,\n",
       "         0, 2, 2, 0, 2, 2, 2, 0, 0, 0, 2, 2, 2, 2, 2, 0, 2, 2, 0, 0, 2, 0, 0, 2,\n",
       "         0, 0, 2, 2, 0, 0, 0, 2, 2, 2, 2, 0, 0, 2, 2, 2, 2, 0, 2, 0, 0, 0, 0, 0,\n",
       "         2, 2, 0, 2, 2, 2, 0, 0, 2, 1, 0, 2, 2, 2, 2, 0, 2, 2, 2, 2, 2, 2, 2, 0,\n",
       "         0, 2, 0, 0, 0, 0, 1, 2, 0, 0, 0, 0, 2, 0, 0, 0, 2, 0, 2, 0, 0, 0, 2, 0,\n",
       "         0, 0, 0, 0, 0, 0, 2, 2, 0, 0, 2, 0, 0, 0, 0, 2, 0, 2, 0, 0, 0, 0, 2, 0,\n",
       "         0, 0, 2, 0, 0, 0, 2, 0, 2, 0, 0, 0, 0, 0, 2, 0, 2, 2, 2, 2, 2, 0, 0, 0,\n",
       "         0, 2, 0, 0, 0, 0, 0, 2, 2, 2, 0, 2, 2, 0, 2, 0, 0, 2, 0, 0, 2, 2, 2, 0,\n",
       "         2, 2, 0, 0, 2, 0, 2, 2, 2, 2, 2, 2, 2, 2, 0, 2, 2, 2, 2, 0, 0, 0, 0, 2,\n",
       "         2, 0, 0, 0, 0, 0, 2, 2, 0, 0, 2, 2, 2, 2, 0, 2, 0, 0, 2, 2, 2, 0, 2, 2,\n",
       "         2, 0, 2, 0, 2, 2, 0, 0, 2, 0, 2, 2, 2, 0, 2, 2]),\n",
       " tensor([[ 0.0000,  1.4424, -1.1121,  ..., -1.4308,  1.7537,  0.8992],\n",
       "         [ 0.0000,  1.5887,  3.4880,  ..., -1.8389,  1.6961,  0.8992],\n",
       "         [ 0.0000,  0.9304, -0.2633,  ..., -1.4330,  1.8981,  0.8992],\n",
       "         ...,\n",
       "         [ 0.0000, -0.5057,  3.4988,  ..., -0.2568, -2.3070,  1.4927],\n",
       "         [ 0.0000, -0.0939, -1.6393,  ...,  0.9766,  1.5051,  1.4927],\n",
       "         [ 0.0000, -0.0133,  4.1306,  ..., -2.6740, -2.3883,  1.4927]]),\n",
       " tensor([0, 0, 1, 2, 2, 2, 2, 2, 2, 0, 0, 2, 2, 0, 0, 2, 0, 0, 0, 2, 2, 2, 2, 2,\n",
       "         0, 2, 0, 0, 2, 2, 0, 0, 0, 0, 2, 2, 2, 2, 0, 2, 0, 2, 0, 0, 0, 2, 2, 2,\n",
       "         2, 2, 2, 2, 0, 2, 2, 2, 2, 2, 2, 0, 0, 0, 0, 2, 2, 2, 2, 2, 2, 2, 0, 0,\n",
       "         0, 0, 0, 2, 0, 0, 0, 0, 0, 0, 0, 0, 0, 0, 0, 0, 2, 0, 0, 2, 2, 0, 0, 2,\n",
       "         0, 0, 0, 0, 0, 0, 2, 2, 0, 0, 0, 0, 0, 2, 0, 0, 0, 0, 0, 1, 0, 2, 2, 0,\n",
       "         0, 0, 0, 0, 2, 2, 2, 0, 0, 2, 2, 0, 0, 0, 0, 2, 2, 2, 2, 0, 0, 0, 2, 2,\n",
       "         2, 2, 2, 0, 0, 2, 0, 2, 0, 2, 0, 2, 2, 2, 0, 0, 0, 2, 0, 0, 0, 0, 2, 0,\n",
       "         0, 2, 0, 0, 0, 0, 0, 2, 2, 2, 0, 2, 2, 0, 2, 0, 2, 0, 2, 0, 0, 0, 2, 0,\n",
       "         2, 2, 0, 2, 0, 0, 0, 2, 2, 0, 2, 2, 0, 2, 2, 2, 2, 0, 2, 2, 2, 2, 0, 2,\n",
       "         2, 2, 2, 2, 2, 2, 0, 2, 2, 0, 0, 0, 2, 0, 0, 2, 0, 0, 0, 0, 0, 0, 0, 0,\n",
       "         0, 0, 0, 0, 0, 0, 0, 0, 0, 0, 2, 2, 0, 0, 2, 0, 0, 0, 0, 0, 0, 0, 0, 0,\n",
       "         0, 2, 0, 2, 0, 0, 0, 2, 2, 2, 0, 0, 0, 2, 2, 0, 2, 2, 2, 0, 2, 2, 2, 2,\n",
       "         2, 0, 0, 2, 0, 0, 2, 0, 0, 0, 0, 2, 2, 2, 2, 0, 2, 2, 0, 0, 2, 2, 2, 2,\n",
       "         2, 2, 0, 0, 0, 2, 2, 0, 2, 2, 2, 2, 2, 2, 0, 0, 2, 0, 0, 0, 2, 0, 0, 0,\n",
       "         0, 2, 2, 2, 0, 2, 0, 2, 0, 2, 0, 0, 0, 2, 2, 0, 0, 2, 2, 2, 2, 2, 0, 2,\n",
       "         2, 0, 2, 0, 0, 0, 2, 1, 0, 0, 0, 2, 0, 1, 0, 2, 0, 2, 0, 2, 0, 0, 0, 0,\n",
       "         0, 0, 0, 0, 0, 0, 0, 2, 0, 0, 2, 0, 0, 0, 0, 0, 0, 0, 2, 2, 0, 0, 2, 0,\n",
       "         0, 2, 0, 0, 0, 0, 0, 0, 0, 0, 0, 2, 0, 2, 2, 2, 0, 0, 0, 2, 2, 2, 2, 2,\n",
       "         0, 2, 2, 2, 2, 2, 0, 2, 0, 0, 2, 0, 2, 2, 2, 2, 2, 2, 0, 2, 2, 2, 2, 0,\n",
       "         0, 1, 2, 0, 2, 2, 2, 0, 0, 2, 2, 0, 0, 0, 0, 2, 2, 0, 2, 2, 2, 2, 2, 2,\n",
       "         2, 0, 2, 0, 2, 0, 2, 0, 0, 2, 2, 2, 2, 0, 0, 2, 2, 2, 2, 0, 2, 2, 2, 0,\n",
       "         0, 0, 2, 0, 0, 2, 2, 0, 0, 0, 0, 0, 2, 2, 0, 2, 0, 0, 0, 0, 2, 2, 2, 2,\n",
       "         2, 0, 2, 2, 0, 0, 2, 2, 2, 2, 0, 0, 0, 2, 0, 2]),\n",
       " tensor([[ 0.0000e+00,  0.0000e+00,  0.0000e+00,  ...,  0.0000e+00,\n",
       "           0.0000e+00, -1.4551e+00],\n",
       "         [ 0.0000e+00,  0.0000e+00,  0.0000e+00,  ...,  0.0000e+00,\n",
       "           0.0000e+00, -1.4551e+00],\n",
       "         [ 0.0000e+00, -1.6018e-01,  4.6733e+00,  ...,  5.9605e-08,\n",
       "          -1.1921e-07, -1.4551e+00],\n",
       "         ...,\n",
       "         [ 0.0000e+00,  7.7248e-01,  8.8227e-01,  ..., -1.8655e+00,\n",
       "           4.7171e-01,  8.9922e-01],\n",
       "         [ 0.0000e+00,  4.7731e-01,  1.1526e+00,  ..., -2.1595e+00,\n",
       "           1.2621e+00,  8.9922e-01],\n",
       "         [ 0.0000e+00,  1.3012e+00,  4.2497e-01,  ..., -1.4721e+00,\n",
       "           1.8520e+00,  8.9922e-01]]),\n",
       " tensor([2, 0, 2,  ..., 2, 0, 2]))"
      ]
     },
     "execution_count": 46,
     "metadata": {},
     "output_type": "execute_result"
    }
   ],
   "source": [
    "data_folds.get_splits(0)"
   ]
  },
  {
   "cell_type": "markdown",
   "metadata": {},
   "source": [
    "By default, these will be in torch Tensors, but if we wanted them in as torch `DataLoader` objects, we set `as_DataLoader = True`:"
   ]
  },
  {
   "cell_type": "code",
   "execution_count": 47,
   "metadata": {},
   "outputs": [
    {
     "data": {
      "text/plain": [
       "(<torch.utils.data.dataloader.DataLoader at 0x2a1d53070>,\n",
       " <torch.utils.data.dataloader.DataLoader at 0x2a1d53640>,\n",
       " <torch.utils.data.dataloader.DataLoader at 0x2a1d534f0>)"
      ]
     },
     "execution_count": 47,
     "metadata": {},
     "output_type": "execute_result"
    }
   ],
   "source": [
    "data_folds.get_splits(fold_index = 0,\n",
    "                      as_DataLoader = True)"
   ]
  },
  {
   "cell_type": "markdown",
   "metadata": {},
   "source": [
    "### Fitting a PyTorch model"
   ]
  },
  {
   "cell_type": "markdown",
   "metadata": {},
   "source": [
    "There are `validation_pytorch`, `training_pytorch` and `testing_pytorch` functions which we can use to train our model. We will do this with the first fold given above:"
   ]
  },
  {
   "cell_type": "code",
   "execution_count": 48,
   "metadata": {},
   "outputs": [],
   "source": [
    "train, valid, test = data_folds.get_splits(fold_index = 0,\n",
    "                                           as_DataLoader = True)"
   ]
  },
  {
   "cell_type": "markdown",
   "metadata": {},
   "source": [
    "`training_pytorch` does all the training (and uses the validation set and `validation_pytorch` to do so):"
   ]
  },
  {
   "cell_type": "code",
   "execution_count": 49,
   "metadata": {},
   "outputs": [],
   "source": [
    "# initial model definitions\n",
    "model = FeedforwardNeuralNetModel(input_dim,\n",
    "                                  hidden_dim,\n",
    "                                  output_dim,\n",
    "                                  dropout_rate)\n",
    "criterion = FocalLoss(gamma = gamma)\n",
    "# set the alpha value in FocalLoss by passing in the y_labels\n",
    "# I just noticed that you do this only using the y_labels for the training set, I'll fix this later!\n",
    "criterion.set_alpha_from_y(y = torch.tensor(dataset.df[\"label\"]))\n",
    "optimizer = torch.optim.Adam(model.parameters(),\n",
    "                             lr = learning_rate,\n",
    "                             weight_decay = weight_decay_adam)"
   ]
  },
  {
   "cell_type": "code",
   "execution_count": 50,
   "metadata": {},
   "outputs": [
    {
     "name": "stdout",
     "output_type": "stream",
     "text": [
      "Epoch: 1/1000 || Item: 0/1104 || Loss: 0.22246290743350983\n",
      "Epoch: 1/1000 || Item: 1000/1104 || Loss: 0.600662112236023\n",
      "--------------------------------------------------\n",
      "##### Epoch: 1/1000 || Loss: 0.2657047510147095\n",
      "--------------------------------------------------\n",
      "Epoch: 1 || Loss: 0.5566740445227718 || Accuracy: 0.5477941036224365 || F1-score: 0.4258036733935069.\n",
      "Early stopping at epoch 12!\n"
     ]
    }
   ],
   "source": [
    "trained_model = nlpsig.training_pytorch(model = model,\n",
    "                                        train_loader = train,\n",
    "                                        valid_loader = valid,\n",
    "                                        criterion = criterion,\n",
    "                                        optimizer = optimizer,\n",
    "                                        num_epochs=1000,\n",
    "                                        seed = 2022,\n",
    "                                        verbose = True)"
   ]
  },
  {
   "cell_type": "markdown",
   "metadata": {},
   "source": [
    "Lets see how well it performs on the test set:"
   ]
  },
  {
   "cell_type": "code",
   "execution_count": 51,
   "metadata": {},
   "outputs": [],
   "source": [
    "predicted, labels = nlpsig.testing_pytorch(model = model,\n",
    "                                           test_loader = test)"
   ]
  },
  {
   "cell_type": "code",
   "execution_count": 52,
   "metadata": {},
   "outputs": [
    {
     "name": "stdout",
     "output_type": "stream",
     "text": [
      "accuracy: 0.4630681872367859\n"
     ]
    }
   ],
   "source": [
    "print(\"accuracy: \" + str(((predicted == labels).sum() / labels.size(0)).item()))"
   ]
  },
  {
   "cell_type": "markdown",
   "metadata": {},
   "source": [
    "### KFold evaluation of a PyTorch model"
   ]
  },
  {
   "cell_type": "markdown",
   "metadata": {},
   "source": [
    "We have created a function called `KFold_pytorch` which allows you to pass in a `GroupFolds` object (which stores the folds and data), a Pytorch model, loss function and optimizer in and will perform the K-Fold evaluation. This returns the accuracy and F1-scores of each fold as a dataframe.\n",
    "\n",
    "We need to initialise the models first. It is vital that these are untrained, as we will do the K-Fold evaluation by first saving the PyTorch model and optimizer states. For each fold, these are re-loaded and then training and testing is performed for that particular fold."
   ]
  },
  {
   "cell_type": "code",
   "execution_count": 53,
   "metadata": {},
   "outputs": [],
   "source": [
    "# initial model definitions\n",
    "model = FeedforwardNeuralNetModel(input_dim,\n",
    "                                  hidden_dim,\n",
    "                                  output_dim,\n",
    "                                  dropout_rate)\n",
    "criterion = FocalLoss(gamma = gamma)\n",
    "# set the alpha value in FocalLoss by passing in the y_labels\n",
    "# I just noticed that you do this only using the y_labels for the training set, I'll fix this later!\n",
    "criterion.set_alpha_from_y(y = torch.tensor(dataset.df[\"label\"]))\n",
    "optimizer = torch.optim.Adam(model.parameters(),\n",
    "                             lr = learning_rate,\n",
    "                             weight_decay = weight_decay_adam)"
   ]
  },
  {
   "cell_type": "markdown",
   "metadata": {},
   "source": [
    "We simply pass this into `KFold_pytorch` function as follows:"
   ]
  },
  {
   "cell_type": "code",
   "execution_count": 54,
   "metadata": {},
   "outputs": [
    {
     "name": "stdout",
     "output_type": "stream",
     "text": [
      "\n",
      "**************************************************\n",
      "Fold: 1 / 5\n",
      "**************************************************\n",
      "Epoch: 1/1000 || Item: 0/1104 || Loss: 1.6029776334762573\n",
      "--------------------------------------------------\n",
      "##### Epoch: 1/1000 || Loss: 0.8922750353813171\n",
      "--------------------------------------------------\n",
      "Epoch: 1 || Loss: 0.4977462316301706 || Accuracy: 0.5238970518112183 || F1-score: 0.3506400409626216.\n",
      "Early stopping at epoch 9!\n",
      "\n",
      "**************************************************\n",
      "Fold: 2 / 5\n",
      "**************************************************\n",
      "Epoch: 1/1000 || Item: 0/1111 || Loss: 1.5786627531051636\n",
      "--------------------------------------------------\n",
      "##### Epoch: 1/1000 || Loss: 0.524823784828186\n",
      "--------------------------------------------------\n",
      "Epoch: 1 || Loss: 0.5248538739707348 || Accuracy: 0.5364963412284851 || F1-score: 0.3045078708856734.\n",
      "Early stopping at epoch 5!\n",
      "\n",
      "**************************************************\n",
      "Fold: 3 / 5\n",
      "**************************************************\n",
      "Epoch: 1/1000 || Item: 0/1020 || Loss: 0.48381921648979187\n",
      "--------------------------------------------------\n",
      "##### Epoch: 1/1000 || Loss: 0.49443766474723816\n",
      "--------------------------------------------------\n",
      "Epoch: 1 || Loss: 0.5860732962445876 || Accuracy: 0.5208747386932373 || F1-score: 0.34939210872046694.\n",
      "Early stopping at epoch 7!\n",
      "\n",
      "**************************************************\n",
      "Fold: 4 / 5\n",
      "**************************************************\n",
      "Epoch: 1/1000 || Item: 0/1110 || Loss: 0.5605696439743042\n",
      "--------------------------------------------------\n",
      "##### Epoch: 1/1000 || Loss: 0.45917022228240967\n",
      "--------------------------------------------------\n",
      "Epoch: 1 || Loss: 0.5238662137171227 || Accuracy: 0.5091241002082825 || F1-score: 0.3396074841014456.\n",
      "Epoch: 21/1000 || Item: 0/1110 || Loss: 0.2615286409854889\n",
      "--------------------------------------------------\n",
      "##### Epoch: 21/1000 || Loss: 0.26640769839286804\n",
      "--------------------------------------------------\n",
      "Epoch: 21 || Loss: 1.3086765912902014 || Accuracy: 0.5091241002082825 || F1-score: 0.3175039423293535.\n",
      "Epoch: 41/1000 || Item: 0/1110 || Loss: 0.019946875050663948\n",
      "--------------------------------------------------\n",
      "##### Epoch: 41/1000 || Loss: 0.4980771243572235\n",
      "--------------------------------------------------\n",
      "Epoch: 41 || Loss: 2.6670812112554 || Accuracy: 0.5310218930244446 || F1-score: 0.3231901927653377.\n",
      "Early stopping at epoch 45!\n",
      "\n",
      "**************************************************\n",
      "Fold: 5 / 5\n",
      "**************************************************\n",
      "Epoch: 1/1000 || Item: 0/1013 || Loss: 1.6847299337387085\n",
      "--------------------------------------------------\n",
      "##### Epoch: 1/1000 || Loss: 2.3485426902770996\n",
      "--------------------------------------------------\n",
      "Epoch: 1 || Loss: 0.4766343134139965 || Accuracy: 0.52304607629776 || F1-score: 0.3500382632919388.\n",
      "Epoch: 21/1000 || Item: 0/1013 || Loss: 0.4532196819782257\n",
      "--------------------------------------------------\n",
      "##### Epoch: 21/1000 || Loss: 0.2588459253311157\n",
      "--------------------------------------------------\n",
      "Epoch: 21 || Loss: 1.3821182117085478 || Accuracy: 0.5250501036643982 || F1-score: 0.3528075514975078.\n",
      "Early stopping at epoch 32!\n"
     ]
    }
   ],
   "source": [
    "kfold_eval = nlpsig.KFold_pytorch(data_folds,\n",
    "                                  model = model,\n",
    "                                  criterion = criterion,\n",
    "                                  optimizer = optimizer,\n",
    "                                  num_epochs = 1000,\n",
    "                                  verbose_args = {\n",
    "                                      \"verbose\": True,\n",
    "                                      \"verbose_epoch\": 20,\n",
    "                                      \"verbose_item\": 10000\n",
    "                                  })"
   ]
  },
  {
   "cell_type": "markdown",
   "metadata": {},
   "source": [
    "The accuracy and F1-scores are then saved as follows:"
   ]
  },
  {
   "cell_type": "code",
   "execution_count": 55,
   "metadata": {},
   "outputs": [
    {
     "data": {
      "text/html": [
       "<div>\n",
       "<style scoped>\n",
       "    .dataframe tbody tr th:only-of-type {\n",
       "        vertical-align: middle;\n",
       "    }\n",
       "\n",
       "    .dataframe tbody tr th {\n",
       "        vertical-align: top;\n",
       "    }\n",
       "\n",
       "    .dataframe thead th {\n",
       "        text-align: right;\n",
       "    }\n",
       "</style>\n",
       "<table border=\"1\" class=\"dataframe\">\n",
       "  <thead>\n",
       "    <tr style=\"text-align: right;\">\n",
       "      <th></th>\n",
       "      <th>accuracy</th>\n",
       "      <th>f1_score</th>\n",
       "    </tr>\n",
       "  </thead>\n",
       "  <tbody>\n",
       "    <tr>\n",
       "      <th>0</th>\n",
       "      <td>0.542614</td>\n",
       "      <td>0.243677</td>\n",
       "    </tr>\n",
       "    <tr>\n",
       "      <th>1</th>\n",
       "      <td>0.416422</td>\n",
       "      <td>0.283423</td>\n",
       "    </tr>\n",
       "    <tr>\n",
       "      <th>2</th>\n",
       "      <td>0.473795</td>\n",
       "      <td>0.339904</td>\n",
       "    </tr>\n",
       "    <tr>\n",
       "      <th>3</th>\n",
       "      <td>0.491228</td>\n",
       "      <td>0.360212</td>\n",
       "    </tr>\n",
       "    <tr>\n",
       "      <th>4</th>\n",
       "      <td>0.522541</td>\n",
       "      <td>0.345063</td>\n",
       "    </tr>\n",
       "  </tbody>\n",
       "</table>\n",
       "</div>"
      ],
      "text/plain": [
       "   accuracy  f1_score\n",
       "0  0.542614  0.243677\n",
       "1  0.416422  0.283423\n",
       "2  0.473795  0.339904\n",
       "3  0.491228  0.360212\n",
       "4  0.522541  0.345063"
      ]
     },
     "execution_count": 55,
     "metadata": {},
     "output_type": "execute_result"
    }
   ],
   "source": [
    "kfold_eval"
   ]
  }
 ],
 "metadata": {
  "kernelspec": {
   "display_name": "Python (py38esig)",
   "language": "python",
   "name": "py38esig"
  },
  "language_info": {
   "codemirror_mode": {
    "name": "ipython",
    "version": 3
   },
   "file_extension": ".py",
   "mimetype": "text/x-python",
   "name": "python",
   "nbconvert_exporter": "python",
   "pygments_lexer": "ipython3",
   "version": "3.8.13"
  },
  "vscode": {
   "interpreter": {
    "hash": "bc2069cb215c7de2e5937e427ca306059c4ba817c7096ba614207074d673f065"
   }
  }
 },
 "nbformat": 4,
 "nbformat_minor": 2
}
