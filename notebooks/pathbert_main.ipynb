{
 "cells": [
  {
   "cell_type": "markdown",
   "metadata": {},
   "source": [
    "# Extract features from textual data using BERT and Path signature"
   ]
  },
  {
   "cell_type": "code",
   "execution_count": 1,
   "metadata": {},
   "outputs": [
    {
     "name": "stderr",
     "output_type": "stream",
     "text": [
      "/Users/rchan/opt/miniconda3/envs/py38esig/lib/python3.8/site-packages/tqdm/auto.py:22: TqdmWarning: IProgress not found. Please update jupyter and ipywidgets. See https://ipywidgets.readthedocs.io/en/stable/user_install.html\n",
      "  from .autonotebook import tqdm as notebook_tqdm\n"
     ]
    }
   ],
   "source": [
    "import pandas as pd\n",
    "import torch\n",
    "import pickle\n",
    "import re\n",
    "\n",
    "import nlpsig\n",
    "from nlpsig.ffn import FeedforwardNeuralNetModel\n",
    "from nlpsig.focal_loss import FocalLoss\n",
    "from nlpsig.huggingface_loader import loadHF"
   ]
  },
  {
   "cell_type": "markdown",
   "metadata": {},
   "source": [
    "## Load dataset"
   ]
  },
  {
   "cell_type": "markdown",
   "metadata": {},
   "source": [
    "In this notebook, we use the `newspop` dataset from Huggingface and add timeline IDs and post IDs to each item. The `loadHF` class is to process this dataset."
   ]
  },
  {
   "cell_type": "code",
   "execution_count": 2,
   "metadata": {},
   "outputs": [
    {
     "name": "stdout",
     "output_type": "stream",
     "text": [
      "[INFO] load dataframe, split: train...\n"
     ]
    },
    {
     "name": "stderr",
     "output_type": "stream",
     "text": [
      "Found cached dataset newspop (/Users/rchan/.cache/huggingface/datasets/newspop/default/0.0.0/9904d4082ffd3c0953efa538ff926c43d27da8f37c9b5d6a13f51ab96740474e)\n",
      "100%|████████████████████████████████████████████████████████████████████████████████████████████████████████| 1/1 [00:00<00:00, 157.47it/s]\n"
     ]
    },
    {
     "name": "stdout",
     "output_type": "stream",
     "text": [
      "[INFO] preprocess...\n",
      "[INFO] preprocessed dataframe can be accessed: .dataset_df\n"
     ]
    }
   ],
   "source": [
    "# loadHF: load a dataset from hugging face\n",
    "data_loader = loadHF(dataset_name=\"newspop\", split_name=\"train\")\n",
    "data_loader.load_preprocessed_df(default_preprocess=\"newspop\")\n",
    "dataset_df = data_loader.dataset_df"
   ]
  },
  {
   "cell_type": "code",
   "execution_count": 3,
   "metadata": {},
   "outputs": [
    {
     "data": {
      "text/html": [
       "<div>\n",
       "<style scoped>\n",
       "    .dataframe tbody tr th:only-of-type {\n",
       "        vertical-align: middle;\n",
       "    }\n",
       "\n",
       "    .dataframe tbody tr th {\n",
       "        vertical-align: top;\n",
       "    }\n",
       "\n",
       "    .dataframe thead th {\n",
       "        text-align: right;\n",
       "    }\n",
       "</style>\n",
       "<table border=\"1\" class=\"dataframe\">\n",
       "  <thead>\n",
       "    <tr style=\"text-align: right;\">\n",
       "      <th></th>\n",
       "      <th>content</th>\n",
       "      <th>datetime</th>\n",
       "      <th>label</th>\n",
       "      <th>timeline_id</th>\n",
       "      <th>post_id</th>\n",
       "    </tr>\n",
       "  </thead>\n",
       "  <tbody>\n",
       "    <tr>\n",
       "      <th>0</th>\n",
       "      <td>Obama Lays Wreath at Arlington National Cemete...</td>\n",
       "      <td>2015-01-01 00:12:00</td>\n",
       "      <td>1</td>\n",
       "      <td>1</td>\n",
       "      <td>8</td>\n",
       "    </tr>\n",
       "    <tr>\n",
       "      <th>1</th>\n",
       "      <td>Tim Haywood, investment director business-unit...</td>\n",
       "      <td>2015-01-03 00:12:00</td>\n",
       "      <td>2</td>\n",
       "      <td>5</td>\n",
       "      <td>4</td>\n",
       "    </tr>\n",
       "    <tr>\n",
       "      <th>2</th>\n",
       "      <td>Nouriel Roubini, NYU professor and chairman at...</td>\n",
       "      <td>2015-01-06 00:00:00</td>\n",
       "      <td>2</td>\n",
       "      <td>10</td>\n",
       "      <td>4</td>\n",
       "    </tr>\n",
       "    <tr>\n",
       "      <th>3</th>\n",
       "      <td>Finland's economy expanded marginally in the t...</td>\n",
       "      <td>2015-01-05 00:00:00</td>\n",
       "      <td>2</td>\n",
       "      <td>8</td>\n",
       "      <td>2</td>\n",
       "    </tr>\n",
       "    <tr>\n",
       "      <th>4</th>\n",
       "      <td>Tourism and public spending continued to boost...</td>\n",
       "      <td>2015-01-06 00:00:00</td>\n",
       "      <td>2</td>\n",
       "      <td>10</td>\n",
       "      <td>7</td>\n",
       "    </tr>\n",
       "  </tbody>\n",
       "</table>\n",
       "</div>"
      ],
      "text/plain": [
       "                                             content            datetime  \\\n",
       "0  Obama Lays Wreath at Arlington National Cemete... 2015-01-01 00:12:00   \n",
       "1  Tim Haywood, investment director business-unit... 2015-01-03 00:12:00   \n",
       "2  Nouriel Roubini, NYU professor and chairman at... 2015-01-06 00:00:00   \n",
       "3  Finland's economy expanded marginally in the t... 2015-01-05 00:00:00   \n",
       "4  Tourism and public spending continued to boost... 2015-01-06 00:00:00   \n",
       "\n",
       "   label  timeline_id  post_id  \n",
       "0      1            1        8  \n",
       "1      2            5        4  \n",
       "2      2           10        4  \n",
       "3      2            8        2  \n",
       "4      2           10        7  "
      ]
     },
     "execution_count": 3,
     "metadata": {},
     "output_type": "execute_result"
    }
   ],
   "source": [
    "dataset_df.head()"
   ]
  },
  {
   "cell_type": "code",
   "execution_count": 4,
   "metadata": {
    "scrolled": true
   },
   "outputs": [
    {
     "data": {
      "text/plain": [
       "93239"
      ]
     },
     "execution_count": 4,
     "metadata": {},
     "output_type": "execute_result"
    }
   ],
   "source": [
    "len(dataset_df)"
   ]
  },
  {
   "cell_type": "markdown",
   "metadata": {},
   "source": [
    "We use a smaller subset of the data here."
   ]
  },
  {
   "cell_type": "code",
   "execution_count": 5,
   "metadata": {},
   "outputs": [
    {
     "data": {
      "text/plain": [
       "0    1131\n",
       "2     845\n",
       "1      24\n",
       "Name: label, dtype: int64"
      ]
     },
     "execution_count": 5,
     "metadata": {},
     "output_type": "execute_result"
    }
   ],
   "source": [
    "dataset_df = dataset_df[:2000]\n",
    "dataset_df[\"label\"].value_counts()"
   ]
  },
  {
   "cell_type": "markdown",
   "metadata": {},
   "source": [
    "## Model specifics\n",
    "\n",
    "Nested dictionary for models specifications.\n",
    "\n",
    "This includes models for encoding text, path signature and etc."
   ]
  },
  {
   "cell_type": "code",
   "execution_count": 6,
   "metadata": {},
   "outputs": [],
   "source": [
    "model_specifics = {\n",
    "    \"encoder_args\": {\n",
    "        \"col_name_text\": \"content\",\n",
    "        \"model_name\": \"all-MiniLM-L6-v2\", #options: all-mpnet-base-v2, all-distilroberta-v1, all-MiniLM-L12-v2\n",
    "        \"model_args\": {\n",
    "            \"batch_size\": 64,\n",
    "            \"show_progress_bar\": True,\n",
    "            \"output_value\": 'sentence_embedding', \n",
    "            \"convert_to_numpy\": True,\n",
    "            \"convert_to_tensor\": False,\n",
    "            \"device\": None,\n",
    "            \"normalize_embeddings\": False\n",
    "        }\n",
    "    },\n",
    "    \"dim_reduction\": {\n",
    "        \"method\": 'umap', #options: ppapca, ppapcappa, umap\n",
    "        \"num_components\": 10, # options: any int number between 1 and embedding dimensions\n",
    "    },\n",
    "    \"embedding\":{\n",
    "        \"global_embedding_tp\": 'SBERT', #options: SBERT, BERT_cls , BERT_mean, BERT_max\n",
    "        \"post_embedding_tp\": 'sentence', #options: sentence, reduced\n",
    "        \"feature_combination_method\": 'attention', #options concatenation, attention \n",
    "    },\n",
    "    \"time_injection\": {\n",
    "        \"history_tp\": 'timestamp', #options: timestamp, None\n",
    "        \"post_tp\": 'timestamp', #options: timestamp, timediff, None\n",
    "    },\n",
    "    \"signature\": {\n",
    "        \"dimensions\": 3, #options: any int number larger than 1\n",
    "        \"method\": 'log', # options: log, sig\n",
    "        \"interval\": 1/12\n",
    "    }\n",
    "}"
   ]
  },
  {
   "cell_type": "markdown",
   "metadata": {},
   "source": [
    "## Encode text: obtaining sentence embeddings"
   ]
  },
  {
   "cell_type": "markdown",
   "metadata": {},
   "source": [
    "We can use the `TextEncoder` class within `nlpsig` to obtain sentence embeddings from a model. Here, we have defined the encoder arguments in `model_specifics`."
   ]
  },
  {
   "cell_type": "code",
   "execution_count": 7,
   "metadata": {},
   "outputs": [
    {
     "data": {
      "text/plain": [
       "{'col_name_text': 'content',\n",
       " 'model_name': 'all-MiniLM-L6-v2',\n",
       " 'model_args': {'batch_size': 64,\n",
       "  'show_progress_bar': True,\n",
       "  'output_value': 'sentence_embedding',\n",
       "  'convert_to_numpy': True,\n",
       "  'convert_to_tensor': False,\n",
       "  'device': None,\n",
       "  'normalize_embeddings': False}}"
      ]
     },
     "execution_count": 7,
     "metadata": {},
     "output_type": "execute_result"
    }
   ],
   "source": [
    "model_specifics[\"encoder_args\"]"
   ]
  },
  {
   "cell_type": "markdown",
   "metadata": {},
   "source": [
    "We can pass these into the constructor of the class to initialise our text encoder as follows:"
   ]
  },
  {
   "cell_type": "code",
   "execution_count": 8,
   "metadata": {},
   "outputs": [],
   "source": [
    "# initialise the Text Encoder \n",
    "text_encoder = nlpsig.TextEncoder(dataset_df,\n",
    "                                  col_name_text = model_specifics[\"encoder_args\"][\"col_name_text\"], \n",
    "                                  model_name = model_specifics[\"encoder_args\"][\"model_name\"],\n",
    "                                  model_args = model_specifics[\"encoder_args\"][\"model_args\"])"
   ]
  },
  {
   "cell_type": "markdown",
   "metadata": {},
   "source": [
    "We can see that these are stored as attributes in the object:"
   ]
  },
  {
   "cell_type": "code",
   "execution_count": 9,
   "metadata": {},
   "outputs": [
    {
     "data": {
      "text/html": [
       "<div>\n",
       "<style scoped>\n",
       "    .dataframe tbody tr th:only-of-type {\n",
       "        vertical-align: middle;\n",
       "    }\n",
       "\n",
       "    .dataframe tbody tr th {\n",
       "        vertical-align: top;\n",
       "    }\n",
       "\n",
       "    .dataframe thead th {\n",
       "        text-align: right;\n",
       "    }\n",
       "</style>\n",
       "<table border=\"1\" class=\"dataframe\">\n",
       "  <thead>\n",
       "    <tr style=\"text-align: right;\">\n",
       "      <th></th>\n",
       "      <th>content</th>\n",
       "      <th>datetime</th>\n",
       "      <th>label</th>\n",
       "      <th>timeline_id</th>\n",
       "      <th>post_id</th>\n",
       "    </tr>\n",
       "  </thead>\n",
       "  <tbody>\n",
       "    <tr>\n",
       "      <th>0</th>\n",
       "      <td>Obama Lays Wreath at Arlington National Cemete...</td>\n",
       "      <td>2015-01-01 00:12:00</td>\n",
       "      <td>1</td>\n",
       "      <td>1</td>\n",
       "      <td>8</td>\n",
       "    </tr>\n",
       "    <tr>\n",
       "      <th>1</th>\n",
       "      <td>Tim Haywood, investment director business-unit...</td>\n",
       "      <td>2015-01-03 00:12:00</td>\n",
       "      <td>2</td>\n",
       "      <td>5</td>\n",
       "      <td>4</td>\n",
       "    </tr>\n",
       "    <tr>\n",
       "      <th>2</th>\n",
       "      <td>Nouriel Roubini, NYU professor and chairman at...</td>\n",
       "      <td>2015-01-06 00:00:00</td>\n",
       "      <td>2</td>\n",
       "      <td>10</td>\n",
       "      <td>4</td>\n",
       "    </tr>\n",
       "    <tr>\n",
       "      <th>3</th>\n",
       "      <td>Finland's economy expanded marginally in the t...</td>\n",
       "      <td>2015-01-05 00:00:00</td>\n",
       "      <td>2</td>\n",
       "      <td>8</td>\n",
       "      <td>2</td>\n",
       "    </tr>\n",
       "    <tr>\n",
       "      <th>4</th>\n",
       "      <td>Tourism and public spending continued to boost...</td>\n",
       "      <td>2015-01-06 00:00:00</td>\n",
       "      <td>2</td>\n",
       "      <td>10</td>\n",
       "      <td>7</td>\n",
       "    </tr>\n",
       "    <tr>\n",
       "      <th>...</th>\n",
       "      <td>...</td>\n",
       "      <td>...</td>\n",
       "      <td>...</td>\n",
       "      <td>...</td>\n",
       "      <td>...</td>\n",
       "    </tr>\n",
       "    <tr>\n",
       "      <th>1995</th>\n",
       "      <td>Over time, resilient rural producers help form...</td>\n",
       "      <td>2015-01-05 00:12:00</td>\n",
       "      <td>2</td>\n",
       "      <td>9</td>\n",
       "      <td>6</td>\n",
       "    </tr>\n",
       "    <tr>\n",
       "      <th>1996</th>\n",
       "      <td>So Jealous reminds Democratic candidates in 20...</td>\n",
       "      <td>2015-01-02 00:12:00</td>\n",
       "      <td>2</td>\n",
       "      <td>3</td>\n",
       "      <td>0</td>\n",
       "    </tr>\n",
       "    <tr>\n",
       "      <th>1997</th>\n",
       "      <td>Driven by surging manufacturing across North A...</td>\n",
       "      <td>2015-01-06 00:12:00</td>\n",
       "      <td>2</td>\n",
       "      <td>11</td>\n",
       "      <td>4</td>\n",
       "    </tr>\n",
       "    <tr>\n",
       "      <th>1998</th>\n",
       "      <td>Microsoft has started to roll out the first ma...</td>\n",
       "      <td>2015-01-05 00:12:00</td>\n",
       "      <td>0</td>\n",
       "      <td>9</td>\n",
       "      <td>4</td>\n",
       "    </tr>\n",
       "    <tr>\n",
       "      <th>1999</th>\n",
       "      <td>Bank Economist: UK Economy 'Losing Speed'. And...</td>\n",
       "      <td>2015-01-05 00:12:00</td>\n",
       "      <td>2</td>\n",
       "      <td>9</td>\n",
       "      <td>3</td>\n",
       "    </tr>\n",
       "  </tbody>\n",
       "</table>\n",
       "<p>2000 rows × 5 columns</p>\n",
       "</div>"
      ],
      "text/plain": [
       "                                                content            datetime  \\\n",
       "0     Obama Lays Wreath at Arlington National Cemete... 2015-01-01 00:12:00   \n",
       "1     Tim Haywood, investment director business-unit... 2015-01-03 00:12:00   \n",
       "2     Nouriel Roubini, NYU professor and chairman at... 2015-01-06 00:00:00   \n",
       "3     Finland's economy expanded marginally in the t... 2015-01-05 00:00:00   \n",
       "4     Tourism and public spending continued to boost... 2015-01-06 00:00:00   \n",
       "...                                                 ...                 ...   \n",
       "1995  Over time, resilient rural producers help form... 2015-01-05 00:12:00   \n",
       "1996  So Jealous reminds Democratic candidates in 20... 2015-01-02 00:12:00   \n",
       "1997  Driven by surging manufacturing across North A... 2015-01-06 00:12:00   \n",
       "1998  Microsoft has started to roll out the first ma... 2015-01-05 00:12:00   \n",
       "1999  Bank Economist: UK Economy 'Losing Speed'. And... 2015-01-05 00:12:00   \n",
       "\n",
       "      label  timeline_id  post_id  \n",
       "0         1            1        8  \n",
       "1         2            5        4  \n",
       "2         2           10        4  \n",
       "3         2            8        2  \n",
       "4         2           10        7  \n",
       "...     ...          ...      ...  \n",
       "1995      2            9        6  \n",
       "1996      2            3        0  \n",
       "1997      2           11        4  \n",
       "1998      0            9        4  \n",
       "1999      2            9        3  \n",
       "\n",
       "[2000 rows x 5 columns]"
      ]
     },
     "execution_count": 9,
     "metadata": {},
     "output_type": "execute_result"
    }
   ],
   "source": [
    "text_encoder.df"
   ]
  },
  {
   "cell_type": "code",
   "execution_count": 10,
   "metadata": {},
   "outputs": [
    {
     "data": {
      "text/plain": [
       "'content'"
      ]
     },
     "execution_count": 10,
     "metadata": {},
     "output_type": "execute_result"
    }
   ],
   "source": [
    "text_encoder.col_name_text"
   ]
  },
  {
   "cell_type": "code",
   "execution_count": 11,
   "metadata": {},
   "outputs": [
    {
     "data": {
      "text/plain": [
       "'all-MiniLM-L6-v2'"
      ]
     },
     "execution_count": 11,
     "metadata": {},
     "output_type": "execute_result"
    }
   ],
   "source": [
    "text_encoder.model_name"
   ]
  },
  {
   "cell_type": "code",
   "execution_count": 12,
   "metadata": {},
   "outputs": [
    {
     "data": {
      "text/plain": [
       "{'batch_size': 64,\n",
       " 'show_progress_bar': True,\n",
       " 'output_value': 'sentence_embedding',\n",
       " 'convert_to_numpy': True,\n",
       " 'convert_to_tensor': False,\n",
       " 'device': None,\n",
       " 'normalize_embeddings': False}"
      ]
     },
     "execution_count": 12,
     "metadata": {},
     "output_type": "execute_result"
    }
   ],
   "source": [
    "text_encoder.model_args"
   ]
  },
  {
   "cell_type": "markdown",
   "metadata": {},
   "source": [
    "There are other attributes `embeddings_sentence` and `model` which are `None` type when the class is initialised:"
   ]
  },
  {
   "cell_type": "code",
   "execution_count": 13,
   "metadata": {},
   "outputs": [
    {
     "name": "stdout",
     "output_type": "stream",
     "text": [
      "None\n",
      "None\n"
     ]
    }
   ],
   "source": [
    "print(text_encoder.embeddings_sentence)\n",
    "print(text_encoder.model)"
   ]
  },
  {
   "cell_type": "markdown",
   "metadata": {},
   "source": [
    "The class has a `.encode_sentence_transformer()` method which first loads in the model (using the `model_name` and `model_args` attributes) and then obtains an embedding for each sentence. These sentence embeddings are then stored in the `embeddings_sentence` attribute of the object."
   ]
  },
  {
   "cell_type": "code",
   "execution_count": 14,
   "metadata": {
    "scrolled": true
   },
   "outputs": [
    {
     "name": "stdout",
     "output_type": "stream",
     "text": [
      "[INFO] number of sentences to encode: 2000\n"
     ]
    },
    {
     "name": "stderr",
     "output_type": "stream",
     "text": [
      "Batches: 100%|██████████████████████████████████████████████████████████████████████████████████████████████| 32/32 [00:05<00:00,  5.43it/s]\n"
     ]
    }
   ],
   "source": [
    "text_encoder.encode_sentence_transformer()\n",
    "embeddings_sentence = text_encoder.embeddings_sentence"
   ]
  },
  {
   "cell_type": "markdown",
   "metadata": {},
   "source": [
    "### Obtaining embeddings from a pickle file"
   ]
  },
  {
   "cell_type": "markdown",
   "metadata": {},
   "source": [
    "Note that we could also optionally pass in any pre-computed sentence embeddings (which are saved with a pickle file) if we wanted to. So in this directory, there is a file named `pre_comp_emb.pkl`, we can load these in by:"
   ]
  },
  {
   "cell_type": "code",
   "execution_count": 15,
   "metadata": {},
   "outputs": [],
   "source": [
    "text_encoder = nlpsig.TextEncoder(df = dataset_df,\n",
    "                                  pre_computed_embeddings_file = \"pre_comp_emb.pkl\")"
   ]
  },
  {
   "cell_type": "code",
   "execution_count": 16,
   "metadata": {},
   "outputs": [
    {
     "data": {
      "text/plain": [
       "array([[ 0.04053079,  0.12677227,  0.03034634, ...,  0.01346129,\n",
       "         0.00509907, -0.02261563],\n",
       "       [ 0.00132176, -0.0018716 ,  0.04704979, ..., -0.12755243,\n",
       "        -0.00235985, -0.01032072],\n",
       "       [-0.00446173, -0.07742908, -0.02367788, ..., -0.12149315,\n",
       "        -0.02713374, -0.01476178],\n",
       "       ...,\n",
       "       [ 0.11392148, -0.08496089,  0.04116976, ..., -0.06292846,\n",
       "        -0.01069093,  0.05599773],\n",
       "       [-0.00467583,  0.03044874,  0.0136638 , ...,  0.01504119,\n",
       "         0.07309043,  0.05808413],\n",
       "       [ 0.00844448, -0.04087541,  0.0106803 , ..., -0.02920137,\n",
       "         0.03407754,  0.04248996]], dtype=float32)"
      ]
     },
     "execution_count": 16,
     "metadata": {},
     "output_type": "execute_result"
    }
   ],
   "source": [
    "text_encoder.embeddings_sentence"
   ]
  },
  {
   "cell_type": "markdown",
   "metadata": {},
   "source": [
    "As we passed in a pickle file, `model_name`, `model_args`, and `model` are given default values to highlight this:"
   ]
  },
  {
   "cell_type": "code",
   "execution_count": 17,
   "metadata": {},
   "outputs": [
    {
     "name": "stdout",
     "output_type": "stream",
     "text": [
      "model_name: pre-computed\n",
      "model_args: None\n",
      "model: pre-computed\n"
     ]
    }
   ],
   "source": [
    "print(\"model_name: \" + text_encoder.model_name)\n",
    "print(\"model_args: \" + str(text_encoder.model_args))\n",
    "print(\"model: \" + text_encoder.model)"
   ]
  },
  {
   "cell_type": "markdown",
   "metadata": {},
   "source": [
    "## Plotting the embeddings with dimensionality reduction"
   ]
  },
  {
   "cell_type": "markdown",
   "metadata": {},
   "source": [
    "There is a `PlotEmbedding` class within `nlpsig` which can produce two-dimensional plots of the embeddings by first performing a dimensionality reduction. We will do this here using `UMAP`:"
   ]
  },
  {
   "cell_type": "code",
   "execution_count": 18,
   "metadata": {},
   "outputs": [
    {
     "data": {
      "image/png": "[encoded data removed]",
      "text/plain": [
       "<Figure size 640x480 with 1 Axes>"
      ]
     },
     "metadata": {},
     "output_type": "display_data"
    }
   ],
   "source": [
    "plt_embed = nlpsig.PlotEmbedding(x_data = embeddings_sentence,\n",
    "                                 y_data = dataset_df[\"label\"].values)\n",
    "\n",
    "plt_embed.plt_2d(\n",
    "    embed_args = {\n",
    "        \"method\": \"umap\",\n",
    "        \"dim\": 2\n",
    "    }\n",
    ")"
   ]
  },
  {
   "cell_type": "markdown",
   "metadata": {},
   "source": [
    "## Dimensionality reduction"
   ]
  },
  {
   "cell_type": "markdown",
   "metadata": {},
   "source": [
    "While the `PlotEmbedding` class allows us to visualise the embeddings, the `DimReduce` is more specific to reducing the dimensionality of the embedding space to be used later on (rather than just focus on using it for plotting). We can initialise the object by passing in what method we want to use, choosing out of:\n",
    "\n",
    "* pca\n",
    "* umap\n",
    "* tsne\n",
    "* ppapca\n",
    "* ppapcappa\n",
    "\n",
    "Here we specified our choices in `model_specifics` above:"
   ]
  },
  {
   "cell_type": "code",
   "execution_count": 18,
   "metadata": {},
   "outputs": [
    {
     "data": {
      "text/plain": [
       "{'method': 'umap', 'num_components': 10}"
      ]
     },
     "execution_count": 18,
     "metadata": {},
     "output_type": "execute_result"
    }
   ],
   "source": [
    "model_specifics[\"dim_reduction\"]"
   ]
  },
  {
   "cell_type": "markdown",
   "metadata": {},
   "source": [
    "The `.fit_transform()` method performs the dimensionality reduction and returns the reduced vectors (they also save them into the `embedding` attribute of the object."
   ]
  },
  {
   "cell_type": "code",
   "execution_count": 19,
   "metadata": {},
   "outputs": [],
   "source": [
    "reduction = nlpsig.DimReduce(method = model_specifics[\"dim_reduction\"]['method'], \n",
    "                             components = model_specifics[\"dim_reduction\"]['num_components'])\n",
    "embeddings_reduced = reduction.fit_transform(embeddings_sentence)"
   ]
  },
  {
   "cell_type": "code",
   "execution_count": 20,
   "metadata": {},
   "outputs": [
    {
     "name": "stdout",
     "output_type": "stream",
     "text": [
      "(2000, 384)\n",
      "(2000, 10)\n"
     ]
    }
   ],
   "source": [
    "print(embeddings_sentence.shape)\n",
    "print(embeddings_reduced.shape)"
   ]
  },
  {
   "cell_type": "markdown",
   "metadata": {},
   "source": [
    "We can again visualise these using the `PlotEmbedding` class."
   ]
  },
  {
   "cell_type": "code",
   "execution_count": 22,
   "metadata": {},
   "outputs": [
    {
     "data": {
      "image/png": "[encoded data removed]",
      "text/plain": [
       "<Figure size 640x480 with 1 Axes>"
      ]
     },
     "metadata": {},
     "output_type": "display_data"
    }
   ],
   "source": [
    "plt_embed = nlpsig.PlotEmbedding(x_data = embeddings_reduced,\n",
    "                                 y_data = dataset_df[\"label\"].values)\n",
    "\n",
    "plt_embed.plt_2d(\n",
    "    embed_args = {\n",
    "        \"method\": \"umap\",\n",
    "        \"dim\": 2\n",
    "    }\n",
    ")"
   ]
  },
  {
   "cell_type": "markdown",
   "metadata": {},
   "source": [
    "## Data preparation: Time injection and Padding"
   ]
  },
  {
   "cell_type": "code",
   "execution_count": 21,
   "metadata": {},
   "outputs": [
    {
     "data": {
      "text/plain": [
       "2000"
      ]
     },
     "execution_count": 21,
     "metadata": {},
     "output_type": "execute_result"
    }
   ],
   "source": [
    "len(dataset_df)"
   ]
  },
  {
   "cell_type": "code",
   "execution_count": 22,
   "metadata": {},
   "outputs": [
    {
     "data": {
      "text/plain": [
       "(2000, 384)"
      ]
     },
     "execution_count": 22,
     "metadata": {},
     "output_type": "execute_result"
    }
   ],
   "source": [
    "embeddings_sentence.shape"
   ]
  },
  {
   "cell_type": "code",
   "execution_count": 23,
   "metadata": {},
   "outputs": [
    {
     "data": {
      "text/plain": [
       "(2000, 10)"
      ]
     },
     "execution_count": 23,
     "metadata": {},
     "output_type": "execute_result"
    }
   ],
   "source": [
    "embeddings_reduced.shape"
   ]
  },
  {
   "cell_type": "markdown",
   "metadata": {},
   "source": [
    "Note to Talia: the `PrepareData` class now has all the `TimeInjection` and `Padding` methods and `get_modelling_df()` (so I've just combined these all together as they're all related to preparing the dataset into the correct form for later).\n",
    "\n",
    "To use `PrepareData` class, you pass in the dataframe containing the data, the sentence embeddings, and optionally the dimension reduced sentence embeddings:"
   ]
  },
  {
   "cell_type": "code",
   "execution_count": 24,
   "metadata": {},
   "outputs": [
    {
     "name": "stdout",
     "output_type": "stream",
     "text": [
      "[INFO] Adding time feature columns into dataframe in .df\n"
     ]
    }
   ],
   "source": [
    "dataset = nlpsig.PrepareData(dataset_df,\n",
    "                             id_column=\"timeline_id\",\n",
    "                             embeddings=embeddings_sentence,\n",
    "                             embeddings_reduced=embeddings_reduced)"
   ]
  },
  {
   "cell_type": "markdown",
   "metadata": {},
   "source": [
    "The dataset is saved in `.dataset_df`, the sentence embeddings are saved in `.embeddings` and the dimension reduced embeddings are saved in `.embeddings_reduced`."
   ]
  },
  {
   "cell_type": "code",
   "execution_count": 25,
   "metadata": {},
   "outputs": [
    {
     "data": {
      "text/html": [
       "<div>\n",
       "<style scoped>\n",
       "    .dataframe tbody tr th:only-of-type {\n",
       "        vertical-align: middle;\n",
       "    }\n",
       "\n",
       "    .dataframe tbody tr th {\n",
       "        vertical-align: top;\n",
       "    }\n",
       "\n",
       "    .dataframe thead th {\n",
       "        text-align: right;\n",
       "    }\n",
       "</style>\n",
       "<table border=\"1\" class=\"dataframe\">\n",
       "  <thead>\n",
       "    <tr style=\"text-align: right;\">\n",
       "      <th></th>\n",
       "      <th>content</th>\n",
       "      <th>datetime</th>\n",
       "      <th>label</th>\n",
       "      <th>timeline_id</th>\n",
       "      <th>post_id</th>\n",
       "    </tr>\n",
       "  </thead>\n",
       "  <tbody>\n",
       "    <tr>\n",
       "      <th>0</th>\n",
       "      <td>Obama Lays Wreath at Arlington National Cemete...</td>\n",
       "      <td>2015-01-01 00:12:00</td>\n",
       "      <td>1</td>\n",
       "      <td>1</td>\n",
       "      <td>8</td>\n",
       "    </tr>\n",
       "    <tr>\n",
       "      <th>1</th>\n",
       "      <td>Tim Haywood, investment director business-unit...</td>\n",
       "      <td>2015-01-03 00:12:00</td>\n",
       "      <td>2</td>\n",
       "      <td>5</td>\n",
       "      <td>4</td>\n",
       "    </tr>\n",
       "    <tr>\n",
       "      <th>2</th>\n",
       "      <td>Nouriel Roubini, NYU professor and chairman at...</td>\n",
       "      <td>2015-01-06 00:00:00</td>\n",
       "      <td>2</td>\n",
       "      <td>10</td>\n",
       "      <td>4</td>\n",
       "    </tr>\n",
       "    <tr>\n",
       "      <th>3</th>\n",
       "      <td>Finland's economy expanded marginally in the t...</td>\n",
       "      <td>2015-01-05 00:00:00</td>\n",
       "      <td>2</td>\n",
       "      <td>8</td>\n",
       "      <td>2</td>\n",
       "    </tr>\n",
       "    <tr>\n",
       "      <th>4</th>\n",
       "      <td>Tourism and public spending continued to boost...</td>\n",
       "      <td>2015-01-06 00:00:00</td>\n",
       "      <td>2</td>\n",
       "      <td>10</td>\n",
       "      <td>7</td>\n",
       "    </tr>\n",
       "    <tr>\n",
       "      <th>...</th>\n",
       "      <td>...</td>\n",
       "      <td>...</td>\n",
       "      <td>...</td>\n",
       "      <td>...</td>\n",
       "      <td>...</td>\n",
       "    </tr>\n",
       "    <tr>\n",
       "      <th>1995</th>\n",
       "      <td>Over time, resilient rural producers help form...</td>\n",
       "      <td>2015-01-05 00:12:00</td>\n",
       "      <td>2</td>\n",
       "      <td>9</td>\n",
       "      <td>6</td>\n",
       "    </tr>\n",
       "    <tr>\n",
       "      <th>1996</th>\n",
       "      <td>So Jealous reminds Democratic candidates in 20...</td>\n",
       "      <td>2015-01-02 00:12:00</td>\n",
       "      <td>2</td>\n",
       "      <td>3</td>\n",
       "      <td>0</td>\n",
       "    </tr>\n",
       "    <tr>\n",
       "      <th>1997</th>\n",
       "      <td>Driven by surging manufacturing across North A...</td>\n",
       "      <td>2015-01-06 00:12:00</td>\n",
       "      <td>2</td>\n",
       "      <td>11</td>\n",
       "      <td>4</td>\n",
       "    </tr>\n",
       "    <tr>\n",
       "      <th>1998</th>\n",
       "      <td>Microsoft has started to roll out the first ma...</td>\n",
       "      <td>2015-01-05 00:12:00</td>\n",
       "      <td>0</td>\n",
       "      <td>9</td>\n",
       "      <td>4</td>\n",
       "    </tr>\n",
       "    <tr>\n",
       "      <th>1999</th>\n",
       "      <td>Bank Economist: UK Economy 'Losing Speed'. And...</td>\n",
       "      <td>2015-01-05 00:12:00</td>\n",
       "      <td>2</td>\n",
       "      <td>9</td>\n",
       "      <td>3</td>\n",
       "    </tr>\n",
       "  </tbody>\n",
       "</table>\n",
       "<p>2000 rows × 5 columns</p>\n",
       "</div>"
      ],
      "text/plain": [
       "                                                content            datetime  \\\n",
       "0     Obama Lays Wreath at Arlington National Cemete... 2015-01-01 00:12:00   \n",
       "1     Tim Haywood, investment director business-unit... 2015-01-03 00:12:00   \n",
       "2     Nouriel Roubini, NYU professor and chairman at... 2015-01-06 00:00:00   \n",
       "3     Finland's economy expanded marginally in the t... 2015-01-05 00:00:00   \n",
       "4     Tourism and public spending continued to boost... 2015-01-06 00:00:00   \n",
       "...                                                 ...                 ...   \n",
       "1995  Over time, resilient rural producers help form... 2015-01-05 00:12:00   \n",
       "1996  So Jealous reminds Democratic candidates in 20... 2015-01-02 00:12:00   \n",
       "1997  Driven by surging manufacturing across North A... 2015-01-06 00:12:00   \n",
       "1998  Microsoft has started to roll out the first ma... 2015-01-05 00:12:00   \n",
       "1999  Bank Economist: UK Economy 'Losing Speed'. And... 2015-01-05 00:12:00   \n",
       "\n",
       "      label  timeline_id  post_id  \n",
       "0         1            1        8  \n",
       "1         2            5        4  \n",
       "2         2           10        4  \n",
       "3         2            8        2  \n",
       "4         2           10        7  \n",
       "...     ...          ...      ...  \n",
       "1995      2            9        6  \n",
       "1996      2            3        0  \n",
       "1997      2           11        4  \n",
       "1998      0            9        4  \n",
       "1999      2            9        3  \n",
       "\n",
       "[2000 rows x 5 columns]"
      ]
     },
     "execution_count": 25,
     "metadata": {},
     "output_type": "execute_result"
    }
   ],
   "source": [
    "dataset.dataset_df"
   ]
  },
  {
   "cell_type": "code",
   "execution_count": 26,
   "metadata": {},
   "outputs": [
    {
     "data": {
      "text/plain": [
       "array([[ 0.04053079,  0.12677227,  0.03034634, ...,  0.01346129,\n",
       "         0.00509907, -0.02261563],\n",
       "       [ 0.00132176, -0.0018716 ,  0.04704979, ..., -0.12755243,\n",
       "        -0.00235985, -0.01032072],\n",
       "       [-0.00446173, -0.07742908, -0.02367788, ..., -0.12149315,\n",
       "        -0.02713374, -0.01476178],\n",
       "       ...,\n",
       "       [ 0.11392148, -0.08496089,  0.04116976, ..., -0.06292846,\n",
       "        -0.01069093,  0.05599773],\n",
       "       [-0.00467583,  0.03044874,  0.0136638 , ...,  0.01504119,\n",
       "         0.07309043,  0.05808413],\n",
       "       [ 0.00844448, -0.04087541,  0.0106803 , ..., -0.02920137,\n",
       "         0.03407754,  0.04248996]], dtype=float32)"
      ]
     },
     "execution_count": 26,
     "metadata": {},
     "output_type": "execute_result"
    }
   ],
   "source": [
    "dataset.embeddings"
   ]
  },
  {
   "cell_type": "code",
   "execution_count": 27,
   "metadata": {},
   "outputs": [
    {
     "data": {
      "text/plain": [
       "array([[ 4.936433  ,  6.493924  , -0.11072106, ...,  7.0296464 ,\n",
       "        10.750452  ,  4.7098427 ],\n",
       "       [ 4.5180726 ,  6.1551723 , -1.9758633 , ...,  8.525169  ,\n",
       "        12.055894  ,  4.466243  ],\n",
       "       [ 4.475151  ,  5.547805  , -1.1352187 , ...,  8.3394    ,\n",
       "        11.823152  ,  5.0529327 ],\n",
       "       ...,\n",
       "       [ 4.363275  ,  6.921214  , -1.1200932 , ...,  8.875484  ,\n",
       "        11.563797  ,  5.282164  ],\n",
       "       [ 4.3113284 , 10.814843  , -4.189246  , ...,  9.7759    ,\n",
       "        12.214205  ,  3.7648683 ],\n",
       "       [ 3.3975155 ,  5.8468423 , -1.0891767 , ...,  9.2930765 ,\n",
       "        12.733386  ,  5.3261213 ]], dtype=float32)"
      ]
     },
     "execution_count": 27,
     "metadata": {},
     "output_type": "execute_result"
    }
   ],
   "source": [
    "dataset.embeddings_reduced"
   ]
  },
  {
   "cell_type": "markdown",
   "metadata": {},
   "source": [
    "When initialising the object, it calls `get_modelling_df()` which combines all of three objects together, where the naming convention is `d_` for dimension reduced embeddings and `e_` for the sentence embeddings.\n",
    "\n",
    "We also adds some columns regarding time (`time_encoding`, `time_diff` and `timeline_index`). This also orders the dataframe using the `time_encoding` column."
   ]
  },
  {
   "cell_type": "code",
   "execution_count": 193,
   "metadata": {},
   "outputs": [
    {
     "data": {
      "text/html": [
       "<div>\n",
       "<style scoped>\n",
       "    .dataframe tbody tr th:only-of-type {\n",
       "        vertical-align: middle;\n",
       "    }\n",
       "\n",
       "    .dataframe tbody tr th {\n",
       "        vertical-align: top;\n",
       "    }\n",
       "\n",
       "    .dataframe thead th {\n",
       "        text-align: right;\n",
       "    }\n",
       "</style>\n",
       "<table border=\"1\" class=\"dataframe\">\n",
       "  <thead>\n",
       "    <tr style=\"text-align: right;\">\n",
       "      <th></th>\n",
       "      <th>content</th>\n",
       "      <th>datetime</th>\n",
       "      <th>label</th>\n",
       "      <th>timeline_id</th>\n",
       "      <th>post_id</th>\n",
       "      <th>d1</th>\n",
       "      <th>d2</th>\n",
       "      <th>d3</th>\n",
       "      <th>d4</th>\n",
       "      <th>d5</th>\n",
       "      <th>...</th>\n",
       "      <th>e378</th>\n",
       "      <th>e379</th>\n",
       "      <th>e380</th>\n",
       "      <th>e381</th>\n",
       "      <th>e382</th>\n",
       "      <th>e383</th>\n",
       "      <th>e384</th>\n",
       "      <th>time_encoding</th>\n",
       "      <th>time_diff</th>\n",
       "      <th>timeline_index</th>\n",
       "    </tr>\n",
       "  </thead>\n",
       "  <tbody>\n",
       "    <tr>\n",
       "      <th>0</th>\n",
       "      <td>Developers can now pre-order the Microsoft Hol...</td>\n",
       "      <td>2015-01-01</td>\n",
       "      <td>0</td>\n",
       "      <td>0</td>\n",
       "      <td>5</td>\n",
       "      <td>3.334255</td>\n",
       "      <td>10.469114</td>\n",
       "      <td>-3.866774</td>\n",
       "      <td>4.296772</td>\n",
       "      <td>-0.334444</td>\n",
       "      <td>...</td>\n",
       "      <td>-0.052768</td>\n",
       "      <td>0.008949</td>\n",
       "      <td>0.010086</td>\n",
       "      <td>-0.045254</td>\n",
       "      <td>-0.013505</td>\n",
       "      <td>0.088497</td>\n",
       "      <td>0.069710</td>\n",
       "      <td>2015.0</td>\n",
       "      <td>0</td>\n",
       "      <td>1</td>\n",
       "    </tr>\n",
       "    <tr>\n",
       "      <th>1</th>\n",
       "      <td>Microsoft wants to make Mac users jealous with...</td>\n",
       "      <td>2015-01-01</td>\n",
       "      <td>0</td>\n",
       "      <td>0</td>\n",
       "      <td>4</td>\n",
       "      <td>3.815245</td>\n",
       "      <td>9.653834</td>\n",
       "      <td>-3.682890</td>\n",
       "      <td>3.565714</td>\n",
       "      <td>-0.329182</td>\n",
       "      <td>...</td>\n",
       "      <td>-0.074273</td>\n",
       "      <td>0.001119</td>\n",
       "      <td>0.109086</td>\n",
       "      <td>0.018501</td>\n",
       "      <td>0.048336</td>\n",
       "      <td>0.023726</td>\n",
       "      <td>0.067584</td>\n",
       "      <td>2015.0</td>\n",
       "      <td>0</td>\n",
       "      <td>2</td>\n",
       "    </tr>\n",
       "    <tr>\n",
       "      <th>2</th>\n",
       "      <td>RAMALLAH, February 29, 2016 (WAFA) - The Gover...</td>\n",
       "      <td>2015-01-01</td>\n",
       "      <td>0</td>\n",
       "      <td>0</td>\n",
       "      <td>4</td>\n",
       "      <td>4.592554</td>\n",
       "      <td>5.804713</td>\n",
       "      <td>-1.366395</td>\n",
       "      <td>2.615705</td>\n",
       "      <td>-0.594617</td>\n",
       "      <td>...</td>\n",
       "      <td>-0.066268</td>\n",
       "      <td>0.021359</td>\n",
       "      <td>0.050444</td>\n",
       "      <td>0.051063</td>\n",
       "      <td>-0.083018</td>\n",
       "      <td>-0.011544</td>\n",
       "      <td>0.000283</td>\n",
       "      <td>2015.0</td>\n",
       "      <td>0</td>\n",
       "      <td>3</td>\n",
       "    </tr>\n",
       "    <tr>\n",
       "      <th>3</th>\n",
       "      <td>Microsoft is getting its HoloLens Augmented R...</td>\n",
       "      <td>2015-01-01</td>\n",
       "      <td>0</td>\n",
       "      <td>0</td>\n",
       "      <td>8</td>\n",
       "      <td>3.149473</td>\n",
       "      <td>10.205669</td>\n",
       "      <td>-3.502867</td>\n",
       "      <td>4.219214</td>\n",
       "      <td>-0.655134</td>\n",
       "      <td>...</td>\n",
       "      <td>-0.088538</td>\n",
       "      <td>0.012163</td>\n",
       "      <td>0.104758</td>\n",
       "      <td>0.006401</td>\n",
       "      <td>-0.026268</td>\n",
       "      <td>0.006340</td>\n",
       "      <td>0.150734</td>\n",
       "      <td>2015.0</td>\n",
       "      <td>0</td>\n",
       "      <td>4</td>\n",
       "    </tr>\n",
       "    <tr>\n",
       "      <th>4</th>\n",
       "      <td>Mass Innovation Nights is collaborating with M...</td>\n",
       "      <td>2015-01-01</td>\n",
       "      <td>0</td>\n",
       "      <td>0</td>\n",
       "      <td>2</td>\n",
       "      <td>4.505234</td>\n",
       "      <td>9.445736</td>\n",
       "      <td>-3.157454</td>\n",
       "      <td>2.693311</td>\n",
       "      <td>-0.553362</td>\n",
       "      <td>...</td>\n",
       "      <td>0.028603</td>\n",
       "      <td>0.095372</td>\n",
       "      <td>-0.007269</td>\n",
       "      <td>0.061429</td>\n",
       "      <td>-0.049493</td>\n",
       "      <td>-0.005983</td>\n",
       "      <td>-0.021128</td>\n",
       "      <td>2015.0</td>\n",
       "      <td>0</td>\n",
       "      <td>5</td>\n",
       "    </tr>\n",
       "  </tbody>\n",
       "</table>\n",
       "<p>5 rows × 402 columns</p>\n",
       "</div>"
      ],
      "text/plain": [
       "                                             content   datetime  label  \\\n",
       "0  Developers can now pre-order the Microsoft Hol... 2015-01-01      0   \n",
       "1  Microsoft wants to make Mac users jealous with... 2015-01-01      0   \n",
       "2  RAMALLAH, February 29, 2016 (WAFA) - The Gover... 2015-01-01      0   \n",
       "3   Microsoft is getting its HoloLens Augmented R... 2015-01-01      0   \n",
       "4  Mass Innovation Nights is collaborating with M... 2015-01-01      0   \n",
       "\n",
       "   timeline_id  post_id        d1         d2        d3        d4        d5  \\\n",
       "0            0        5  3.334255  10.469114 -3.866774  4.296772 -0.334444   \n",
       "1            0        4  3.815245   9.653834 -3.682890  3.565714 -0.329182   \n",
       "2            0        4  4.592554   5.804713 -1.366395  2.615705 -0.594617   \n",
       "3            0        8  3.149473  10.205669 -3.502867  4.219214 -0.655134   \n",
       "4            0        2  4.505234   9.445736 -3.157454  2.693311 -0.553362   \n",
       "\n",
       "   ...      e378      e379      e380      e381      e382      e383      e384  \\\n",
       "0  ... -0.052768  0.008949  0.010086 -0.045254 -0.013505  0.088497  0.069710   \n",
       "1  ... -0.074273  0.001119  0.109086  0.018501  0.048336  0.023726  0.067584   \n",
       "2  ... -0.066268  0.021359  0.050444  0.051063 -0.083018 -0.011544  0.000283   \n",
       "3  ... -0.088538  0.012163  0.104758  0.006401 -0.026268  0.006340  0.150734   \n",
       "4  ...  0.028603  0.095372 -0.007269  0.061429 -0.049493 -0.005983 -0.021128   \n",
       "\n",
       "   time_encoding  time_diff  timeline_index  \n",
       "0         2015.0          0               1  \n",
       "1         2015.0          0               2  \n",
       "2         2015.0          0               3  \n",
       "3         2015.0          0               4  \n",
       "4         2015.0          0               5  \n",
       "\n",
       "[5 rows x 402 columns]"
      ]
     },
     "execution_count": 193,
     "metadata": {},
     "output_type": "execute_result"
    }
   ],
   "source": [
    "dataset.df.head()"
   ]
  },
  {
   "cell_type": "markdown",
   "metadata": {},
   "source": [
    "## Constructing a path (as a numpy array)"
   ]
  },
  {
   "cell_type": "markdown",
   "metadata": {},
   "source": [
    "We can construct a path two ways:\n",
    "1. Obtaining the history of the path for each timeline\n",
    "2. Obtaining the history of the post for each post\n",
    "\n",
    "The key difference here is that by looking at the history of the post rather than for the full timeline, we can obtain a path for each post in the dataset. If we constructed a path for each timeline, we only get a path for each timeline.\n",
    "\n",
    "We construct a path using the `.pad()` method.\n",
    "\n",
    "Note that it has an argument `time_feature`. Currently, you can pass in:\n",
    "- `time_encoding` or `[\"time_encoding\"]`: means that it keeps the `time_encoding` column\n",
    "- `time_diff` or `[\"time_diff\"]`: means that it keeps the `time_diff` column\n",
    "- `timeline_index` or `[\"timeline_index\"]`: means that it keeps the `timeline_index` column\n",
    "- Any list containing a combination of the three above.\n",
    "- `None`: means that it keeps any of the time feature columns\n",
    "\n",
    "If you pass anything else, it will give you an error.\n",
    "\n",
    "Note that `time_encoding` and `time_diff` could not exist if the `datetime` column didn't exist in the original dataset. In which case, only `timeline_index` would be valid."
   ]
  },
  {
   "cell_type": "markdown",
   "metadata": {},
   "source": [
    "## Method 1: By timeline"
   ]
  },
  {
   "cell_type": "markdown",
   "metadata": {},
   "source": [
    "We will first obtain a path for each timeline. We do this by setting `pad_by=\"id\"`. By default, this finds the `k` last posts in a timeline, and by default `k=5`, but we can just change this by specifying our own value for `k` as follows:"
   ]
  },
  {
   "cell_type": "code",
   "execution_count": 59,
   "metadata": {},
   "outputs": [
    {
     "name": "stdout",
     "output_type": "stream",
     "text": [
      "[INFO] Padding ids and storing in .df_padded and .array_padded attributes\n"
     ]
    },
    {
     "data": {
      "text/plain": [
       "(12, 20, 387)"
      ]
     },
     "execution_count": 59,
     "metadata": {},
     "output_type": "execute_result"
    }
   ],
   "source": [
    "timeline_path = dataset.pad(pad_by=\"id\",\n",
    "                            zero_padding=True,\n",
    "                            k=20,\n",
    "                            time_feature=[\"timeline_index\", \"time_diff\"])\n",
    "timeline_path.shape"
   ]
  },
  {
   "cell_type": "markdown",
   "metadata": {},
   "source": [
    "Note that by default, we only keep the full embeddings, but we can override this by using the `embeddings` argument and passing `\"dim_reduced\"` (for dimension reduced embeddings), or `\"both\"` (for both full and dimension reduced embeddings). By default it is set to `\"full\"`.\n",
    "\n",
    "In this example, we have 12 timelines, have set `k=20`, our embeddings are 384 dimensional and we also keep the label and the two time features, meaning our shape is (12, 20, 387).\n",
    "\n",
    "Furthermore, padding was not necessary here as each timeline has more than 20 posts. But alternatively, we can make each path have the same length as the maximum number of posts for a timeline by setting `method=max`. In this case `k` is ignored:"
   ]
  },
  {
   "cell_type": "code",
   "execution_count": 60,
   "metadata": {},
   "outputs": [
    {
     "name": "stdout",
     "output_type": "stream",
     "text": [
      "[INFO] Padding ids and storing in .df_padded and .array_padded attributes\n"
     ]
    },
    {
     "data": {
      "text/plain": [
       "(12, 180, 387)"
      ]
     },
     "execution_count": 60,
     "metadata": {},
     "output_type": "execute_result"
    }
   ],
   "source": [
    "timeline_path = dataset.pad(pad_by=\"id\",\n",
    "                            method=\"max\",\n",
    "                            zero_padding=True,\n",
    "                            time_feature=[\"timeline_index\", \"time_diff\"])\n",
    "timeline_path.shape"
   ]
  },
  {
   "cell_type": "markdown",
   "metadata": {},
   "source": [
    "We can see where 180 comes from by looking at the value counts of the `timeline_id` column..."
   ]
  },
  {
   "cell_type": "code",
   "execution_count": 61,
   "metadata": {
    "scrolled": true
   },
   "outputs": [
    {
     "data": {
      "text/plain": [
       "9     180\n",
       "5     176\n",
       "3     174\n",
       "11    172\n",
       "7     170\n",
       "0     165\n",
       "4     165\n",
       "6     165\n",
       "10    163\n",
       "1     161\n",
       "8     157\n",
       "2     152\n",
       "Name: timeline_id, dtype: int64"
      ]
     },
     "execution_count": 61,
     "metadata": {},
     "output_type": "execute_result"
    }
   ],
   "source": [
    "dataset.df[\"timeline_id\"].value_counts()"
   ]
  },
  {
   "cell_type": "markdown",
   "metadata": {},
   "source": [
    "We can see that we are padding by zeros:"
   ]
  },
  {
   "cell_type": "code",
   "execution_count": 62,
   "metadata": {},
   "outputs": [
    {
     "data": {
      "text/plain": [
       "array([[ 0.00000000e+00,  0.00000000e+00,  0.00000000e+00, ...,\n",
       "         0.00000000e+00,  0.00000000e+00,  0.00000000e+00],\n",
       "       [ 0.00000000e+00,  0.00000000e+00,  0.00000000e+00, ...,\n",
       "         0.00000000e+00,  0.00000000e+00,  0.00000000e+00],\n",
       "       [ 0.00000000e+00,  0.00000000e+00,  0.00000000e+00, ...,\n",
       "         0.00000000e+00,  0.00000000e+00,  0.00000000e+00],\n",
       "       ...,\n",
       "       [ 0.00000000e+00,  1.63000000e+02,  0.00000000e+00, ...,\n",
       "        -2.45601200e-02,  3.87683213e-02,  2.06314586e-03],\n",
       "       [ 0.00000000e+00,  1.64000000e+02,  0.00000000e+00, ...,\n",
       "        -7.16003180e-02,  2.44067777e-02,  4.56551909e-02],\n",
       "       [ 0.00000000e+00,  1.65000000e+02,  0.00000000e+00, ...,\n",
       "        -1.19088657e-01, -1.98633093e-02,  2.88002435e-02]])"
      ]
     },
     "execution_count": 62,
     "metadata": {},
     "output_type": "execute_result"
    }
   ],
   "source": [
    "timeline_path[0]"
   ]
  },
  {
   "cell_type": "markdown",
   "metadata": {},
   "source": [
    "If we had `zero_padding=False`, we would pad by repeating the last post:"
   ]
  },
  {
   "cell_type": "code",
   "execution_count": 63,
   "metadata": {
    "scrolled": true
   },
   "outputs": [
    {
     "name": "stdout",
     "output_type": "stream",
     "text": [
      "[INFO] Padding ids and storing in .df_padded and .array_padded attributes\n"
     ]
    },
    {
     "data": {
      "text/plain": [
       "(12, 180, 387)"
      ]
     },
     "execution_count": 63,
     "metadata": {},
     "output_type": "execute_result"
    }
   ],
   "source": [
    "timeline_path = dataset.pad(pad_by=\"id\",\n",
    "                            method=\"max\",\n",
    "                            zero_padding=False,\n",
    "                            time_feature=[\"timeline_index\", \"time_diff\"])\n",
    "timeline_path.shape"
   ]
  },
  {
   "cell_type": "code",
   "execution_count": 64,
   "metadata": {},
   "outputs": [
    {
     "data": {
      "text/plain": [
       "array([[ 0.00000000e+00,  1.00000000e+00,  0.00000000e+00, ...,\n",
       "        -2.42625829e-02,  1.19019762e-01, -1.62435845e-02],\n",
       "       [ 0.00000000e+00,  2.00000000e+00,  0.00000000e+00, ...,\n",
       "        -6.80494234e-02, -2.70874128e-02,  3.53744924e-02],\n",
       "       [ 0.00000000e+00,  3.00000000e+00,  0.00000000e+00, ...,\n",
       "        -1.82125941e-02,  7.75605738e-02,  9.62344930e-02],\n",
       "       ...,\n",
       "       [ 0.00000000e+00,  1.65000000e+02,  0.00000000e+00, ...,\n",
       "        -1.19088657e-01, -1.98633093e-02,  2.88002435e-02],\n",
       "       [ 0.00000000e+00,  1.65000000e+02,  0.00000000e+00, ...,\n",
       "        -1.19088657e-01, -1.98633093e-02,  2.88002435e-02],\n",
       "       [ 0.00000000e+00,  1.65000000e+02,  0.00000000e+00, ...,\n",
       "        -1.19088657e-01, -1.98633093e-02,  2.88002435e-02]])"
      ]
     },
     "execution_count": 64,
     "metadata": {},
     "output_type": "execute_result"
    }
   ],
   "source": [
    "timeline_path[0]"
   ]
  },
  {
   "cell_type": "markdown",
   "metadata": {},
   "source": [
    "Note that these are saved in `.array_padded` and `.df_padded`:"
   ]
  },
  {
   "cell_type": "code",
   "execution_count": 65,
   "metadata": {},
   "outputs": [
    {
     "data": {
      "text/plain": [
       "(12, 180, 387)"
      ]
     },
     "execution_count": 65,
     "metadata": {},
     "output_type": "execute_result"
    }
   ],
   "source": [
    "dataset.array_padded.shape"
   ]
  },
  {
   "cell_type": "markdown",
   "metadata": {},
   "source": [
    "The `.df_padded` is just the concatenated dataframe of the padded timelines:"
   ]
  },
  {
   "cell_type": "code",
   "execution_count": 66,
   "metadata": {},
   "outputs": [
    {
     "data": {
      "text/html": [
       "<div>\n",
       "<style scoped>\n",
       "    .dataframe tbody tr th:only-of-type {\n",
       "        vertical-align: middle;\n",
       "    }\n",
       "\n",
       "    .dataframe tbody tr th {\n",
       "        vertical-align: top;\n",
       "    }\n",
       "\n",
       "    .dataframe thead th {\n",
       "        text-align: right;\n",
       "    }\n",
       "</style>\n",
       "<table border=\"1\" class=\"dataframe\">\n",
       "  <thead>\n",
       "    <tr style=\"text-align: right;\">\n",
       "      <th></th>\n",
       "      <th>timeline_id</th>\n",
       "      <th>timeline_index</th>\n",
       "      <th>time_diff</th>\n",
       "      <th>e1</th>\n",
       "      <th>e2</th>\n",
       "      <th>e3</th>\n",
       "      <th>e4</th>\n",
       "      <th>e5</th>\n",
       "      <th>e6</th>\n",
       "      <th>e7</th>\n",
       "      <th>...</th>\n",
       "      <th>e375</th>\n",
       "      <th>e376</th>\n",
       "      <th>e377</th>\n",
       "      <th>e378</th>\n",
       "      <th>e379</th>\n",
       "      <th>e380</th>\n",
       "      <th>e381</th>\n",
       "      <th>e382</th>\n",
       "      <th>e383</th>\n",
       "      <th>e384</th>\n",
       "    </tr>\n",
       "  </thead>\n",
       "  <tbody>\n",
       "    <tr>\n",
       "      <th>0</th>\n",
       "      <td>0</td>\n",
       "      <td>1</td>\n",
       "      <td>0</td>\n",
       "      <td>-0.033914</td>\n",
       "      <td>-0.056344</td>\n",
       "      <td>-0.018686</td>\n",
       "      <td>-0.044377</td>\n",
       "      <td>0.046446</td>\n",
       "      <td>0.049675</td>\n",
       "      <td>0.068462</td>\n",
       "      <td>...</td>\n",
       "      <td>0.010260</td>\n",
       "      <td>0.011031</td>\n",
       "      <td>0.007589</td>\n",
       "      <td>-0.021461</td>\n",
       "      <td>0.060242</td>\n",
       "      <td>0.117523</td>\n",
       "      <td>0.017214</td>\n",
       "      <td>-0.024263</td>\n",
       "      <td>0.119020</td>\n",
       "      <td>-0.016244</td>\n",
       "    </tr>\n",
       "    <tr>\n",
       "      <th>1</th>\n",
       "      <td>0</td>\n",
       "      <td>2</td>\n",
       "      <td>0</td>\n",
       "      <td>0.054954</td>\n",
       "      <td>-0.071623</td>\n",
       "      <td>0.009873</td>\n",
       "      <td>-0.026837</td>\n",
       "      <td>0.033548</td>\n",
       "      <td>-0.019022</td>\n",
       "      <td>-0.004354</td>\n",
       "      <td>...</td>\n",
       "      <td>0.033689</td>\n",
       "      <td>-0.064126</td>\n",
       "      <td>-0.031007</td>\n",
       "      <td>0.001700</td>\n",
       "      <td>-0.048721</td>\n",
       "      <td>-0.039767</td>\n",
       "      <td>0.098562</td>\n",
       "      <td>-0.068049</td>\n",
       "      <td>-0.027087</td>\n",
       "      <td>0.035374</td>\n",
       "    </tr>\n",
       "    <tr>\n",
       "      <th>2</th>\n",
       "      <td>0</td>\n",
       "      <td>3</td>\n",
       "      <td>0</td>\n",
       "      <td>0.013112</td>\n",
       "      <td>-0.045922</td>\n",
       "      <td>0.039516</td>\n",
       "      <td>0.020252</td>\n",
       "      <td>0.109262</td>\n",
       "      <td>-0.041117</td>\n",
       "      <td>-0.002435</td>\n",
       "      <td>...</td>\n",
       "      <td>0.040395</td>\n",
       "      <td>0.064763</td>\n",
       "      <td>-0.026375</td>\n",
       "      <td>-0.009620</td>\n",
       "      <td>0.008540</td>\n",
       "      <td>0.066074</td>\n",
       "      <td>0.006534</td>\n",
       "      <td>-0.018213</td>\n",
       "      <td>0.077561</td>\n",
       "      <td>0.096234</td>\n",
       "    </tr>\n",
       "    <tr>\n",
       "      <th>3</th>\n",
       "      <td>0</td>\n",
       "      <td>4</td>\n",
       "      <td>0</td>\n",
       "      <td>-0.033495</td>\n",
       "      <td>0.015533</td>\n",
       "      <td>0.005096</td>\n",
       "      <td>-0.043513</td>\n",
       "      <td>-0.005947</td>\n",
       "      <td>-0.056855</td>\n",
       "      <td>0.041795</td>\n",
       "      <td>...</td>\n",
       "      <td>0.001696</td>\n",
       "      <td>0.006708</td>\n",
       "      <td>0.105851</td>\n",
       "      <td>-0.071261</td>\n",
       "      <td>-0.072761</td>\n",
       "      <td>0.096332</td>\n",
       "      <td>-0.001789</td>\n",
       "      <td>-0.045279</td>\n",
       "      <td>-0.029035</td>\n",
       "      <td>0.145897</td>\n",
       "    </tr>\n",
       "    <tr>\n",
       "      <th>4</th>\n",
       "      <td>0</td>\n",
       "      <td>5</td>\n",
       "      <td>0</td>\n",
       "      <td>-0.042478</td>\n",
       "      <td>0.004748</td>\n",
       "      <td>-0.016097</td>\n",
       "      <td>-0.022749</td>\n",
       "      <td>0.038530</td>\n",
       "      <td>-0.077928</td>\n",
       "      <td>0.025429</td>\n",
       "      <td>...</td>\n",
       "      <td>0.059302</td>\n",
       "      <td>0.057774</td>\n",
       "      <td>0.033259</td>\n",
       "      <td>-0.091182</td>\n",
       "      <td>0.022480</td>\n",
       "      <td>0.082200</td>\n",
       "      <td>-0.037139</td>\n",
       "      <td>-0.047719</td>\n",
       "      <td>0.041705</td>\n",
       "      <td>0.047374</td>\n",
       "    </tr>\n",
       "    <tr>\n",
       "      <th>...</th>\n",
       "      <td>...</td>\n",
       "      <td>...</td>\n",
       "      <td>...</td>\n",
       "      <td>...</td>\n",
       "      <td>...</td>\n",
       "      <td>...</td>\n",
       "      <td>...</td>\n",
       "      <td>...</td>\n",
       "      <td>...</td>\n",
       "      <td>...</td>\n",
       "      <td>...</td>\n",
       "      <td>...</td>\n",
       "      <td>...</td>\n",
       "      <td>...</td>\n",
       "      <td>...</td>\n",
       "      <td>...</td>\n",
       "      <td>...</td>\n",
       "      <td>...</td>\n",
       "      <td>...</td>\n",
       "      <td>...</td>\n",
       "      <td>...</td>\n",
       "    </tr>\n",
       "    <tr>\n",
       "      <th>2155</th>\n",
       "      <td>11</td>\n",
       "      <td>172</td>\n",
       "      <td>0</td>\n",
       "      <td>0.113921</td>\n",
       "      <td>-0.084961</td>\n",
       "      <td>0.041170</td>\n",
       "      <td>0.026886</td>\n",
       "      <td>0.053265</td>\n",
       "      <td>0.003064</td>\n",
       "      <td>0.012231</td>\n",
       "      <td>...</td>\n",
       "      <td>0.001202</td>\n",
       "      <td>-0.088741</td>\n",
       "      <td>-0.044822</td>\n",
       "      <td>-0.013509</td>\n",
       "      <td>-0.010990</td>\n",
       "      <td>0.023929</td>\n",
       "      <td>0.071145</td>\n",
       "      <td>-0.062928</td>\n",
       "      <td>-0.010691</td>\n",
       "      <td>0.055998</td>\n",
       "    </tr>\n",
       "    <tr>\n",
       "      <th>2156</th>\n",
       "      <td>11</td>\n",
       "      <td>172</td>\n",
       "      <td>0</td>\n",
       "      <td>0.113921</td>\n",
       "      <td>-0.084961</td>\n",
       "      <td>0.041170</td>\n",
       "      <td>0.026886</td>\n",
       "      <td>0.053265</td>\n",
       "      <td>0.003064</td>\n",
       "      <td>0.012231</td>\n",
       "      <td>...</td>\n",
       "      <td>0.001202</td>\n",
       "      <td>-0.088741</td>\n",
       "      <td>-0.044822</td>\n",
       "      <td>-0.013509</td>\n",
       "      <td>-0.010990</td>\n",
       "      <td>0.023929</td>\n",
       "      <td>0.071145</td>\n",
       "      <td>-0.062928</td>\n",
       "      <td>-0.010691</td>\n",
       "      <td>0.055998</td>\n",
       "    </tr>\n",
       "    <tr>\n",
       "      <th>2157</th>\n",
       "      <td>11</td>\n",
       "      <td>172</td>\n",
       "      <td>0</td>\n",
       "      <td>0.113921</td>\n",
       "      <td>-0.084961</td>\n",
       "      <td>0.041170</td>\n",
       "      <td>0.026886</td>\n",
       "      <td>0.053265</td>\n",
       "      <td>0.003064</td>\n",
       "      <td>0.012231</td>\n",
       "      <td>...</td>\n",
       "      <td>0.001202</td>\n",
       "      <td>-0.088741</td>\n",
       "      <td>-0.044822</td>\n",
       "      <td>-0.013509</td>\n",
       "      <td>-0.010990</td>\n",
       "      <td>0.023929</td>\n",
       "      <td>0.071145</td>\n",
       "      <td>-0.062928</td>\n",
       "      <td>-0.010691</td>\n",
       "      <td>0.055998</td>\n",
       "    </tr>\n",
       "    <tr>\n",
       "      <th>2158</th>\n",
       "      <td>11</td>\n",
       "      <td>172</td>\n",
       "      <td>0</td>\n",
       "      <td>0.113921</td>\n",
       "      <td>-0.084961</td>\n",
       "      <td>0.041170</td>\n",
       "      <td>0.026886</td>\n",
       "      <td>0.053265</td>\n",
       "      <td>0.003064</td>\n",
       "      <td>0.012231</td>\n",
       "      <td>...</td>\n",
       "      <td>0.001202</td>\n",
       "      <td>-0.088741</td>\n",
       "      <td>-0.044822</td>\n",
       "      <td>-0.013509</td>\n",
       "      <td>-0.010990</td>\n",
       "      <td>0.023929</td>\n",
       "      <td>0.071145</td>\n",
       "      <td>-0.062928</td>\n",
       "      <td>-0.010691</td>\n",
       "      <td>0.055998</td>\n",
       "    </tr>\n",
       "    <tr>\n",
       "      <th>2159</th>\n",
       "      <td>11</td>\n",
       "      <td>172</td>\n",
       "      <td>0</td>\n",
       "      <td>0.113921</td>\n",
       "      <td>-0.084961</td>\n",
       "      <td>0.041170</td>\n",
       "      <td>0.026886</td>\n",
       "      <td>0.053265</td>\n",
       "      <td>0.003064</td>\n",
       "      <td>0.012231</td>\n",
       "      <td>...</td>\n",
       "      <td>0.001202</td>\n",
       "      <td>-0.088741</td>\n",
       "      <td>-0.044822</td>\n",
       "      <td>-0.013509</td>\n",
       "      <td>-0.010990</td>\n",
       "      <td>0.023929</td>\n",
       "      <td>0.071145</td>\n",
       "      <td>-0.062928</td>\n",
       "      <td>-0.010691</td>\n",
       "      <td>0.055998</td>\n",
       "    </tr>\n",
       "  </tbody>\n",
       "</table>\n",
       "<p>2160 rows × 387 columns</p>\n",
       "</div>"
      ],
      "text/plain": [
       "      timeline_id  timeline_index  time_diff        e1        e2        e3  \\\n",
       "0               0               1          0 -0.033914 -0.056344 -0.018686   \n",
       "1               0               2          0  0.054954 -0.071623  0.009873   \n",
       "2               0               3          0  0.013112 -0.045922  0.039516   \n",
       "3               0               4          0 -0.033495  0.015533  0.005096   \n",
       "4               0               5          0 -0.042478  0.004748 -0.016097   \n",
       "...           ...             ...        ...       ...       ...       ...   \n",
       "2155           11             172          0  0.113921 -0.084961  0.041170   \n",
       "2156           11             172          0  0.113921 -0.084961  0.041170   \n",
       "2157           11             172          0  0.113921 -0.084961  0.041170   \n",
       "2158           11             172          0  0.113921 -0.084961  0.041170   \n",
       "2159           11             172          0  0.113921 -0.084961  0.041170   \n",
       "\n",
       "            e4        e5        e6        e7  ...      e375      e376  \\\n",
       "0    -0.044377  0.046446  0.049675  0.068462  ...  0.010260  0.011031   \n",
       "1    -0.026837  0.033548 -0.019022 -0.004354  ...  0.033689 -0.064126   \n",
       "2     0.020252  0.109262 -0.041117 -0.002435  ...  0.040395  0.064763   \n",
       "3    -0.043513 -0.005947 -0.056855  0.041795  ...  0.001696  0.006708   \n",
       "4    -0.022749  0.038530 -0.077928  0.025429  ...  0.059302  0.057774   \n",
       "...        ...       ...       ...       ...  ...       ...       ...   \n",
       "2155  0.026886  0.053265  0.003064  0.012231  ...  0.001202 -0.088741   \n",
       "2156  0.026886  0.053265  0.003064  0.012231  ...  0.001202 -0.088741   \n",
       "2157  0.026886  0.053265  0.003064  0.012231  ...  0.001202 -0.088741   \n",
       "2158  0.026886  0.053265  0.003064  0.012231  ...  0.001202 -0.088741   \n",
       "2159  0.026886  0.053265  0.003064  0.012231  ...  0.001202 -0.088741   \n",
       "\n",
       "          e377      e378      e379      e380      e381      e382      e383  \\\n",
       "0     0.007589 -0.021461  0.060242  0.117523  0.017214 -0.024263  0.119020   \n",
       "1    -0.031007  0.001700 -0.048721 -0.039767  0.098562 -0.068049 -0.027087   \n",
       "2    -0.026375 -0.009620  0.008540  0.066074  0.006534 -0.018213  0.077561   \n",
       "3     0.105851 -0.071261 -0.072761  0.096332 -0.001789 -0.045279 -0.029035   \n",
       "4     0.033259 -0.091182  0.022480  0.082200 -0.037139 -0.047719  0.041705   \n",
       "...        ...       ...       ...       ...       ...       ...       ...   \n",
       "2155 -0.044822 -0.013509 -0.010990  0.023929  0.071145 -0.062928 -0.010691   \n",
       "2156 -0.044822 -0.013509 -0.010990  0.023929  0.071145 -0.062928 -0.010691   \n",
       "2157 -0.044822 -0.013509 -0.010990  0.023929  0.071145 -0.062928 -0.010691   \n",
       "2158 -0.044822 -0.013509 -0.010990  0.023929  0.071145 -0.062928 -0.010691   \n",
       "2159 -0.044822 -0.013509 -0.010990  0.023929  0.071145 -0.062928 -0.010691   \n",
       "\n",
       "          e384  \n",
       "0    -0.016244  \n",
       "1     0.035374  \n",
       "2     0.096234  \n",
       "3     0.145897  \n",
       "4     0.047374  \n",
       "...        ...  \n",
       "2155  0.055998  \n",
       "2156  0.055998  \n",
       "2157  0.055998  \n",
       "2158  0.055998  \n",
       "2159  0.055998  \n",
       "\n",
       "[2160 rows x 387 columns]"
      ]
     },
     "execution_count": 66,
     "metadata": {},
     "output_type": "execute_result"
    }
   ],
   "source": [
    "dataset.df_padded"
   ]
  },
  {
   "cell_type": "code",
   "execution_count": 67,
   "metadata": {
    "scrolled": false
   },
   "outputs": [
    {
     "data": {
      "text/plain": [
       "(2160, 387)"
      ]
     },
     "execution_count": 67,
     "metadata": {},
     "output_type": "execute_result"
    }
   ],
   "source": [
    "dataset.df_padded.shape"
   ]
  },
  {
   "cell_type": "markdown",
   "metadata": {},
   "source": [
    "## Method 2: By post history"
   ]
  },
  {
   "cell_type": "code",
   "execution_count": 68,
   "metadata": {
    "scrolled": false
   },
   "outputs": [
    {
     "name": "stdout",
     "output_type": "stream",
     "text": [
      "[INFO] Padding ids and storing in .df_padded and .array_padded attributes\n"
     ]
    },
    {
     "data": {
      "text/plain": [
       "(2000, 10, 387)"
      ]
     },
     "execution_count": 68,
     "metadata": {},
     "output_type": "execute_result"
    }
   ],
   "source": [
    "history_path = dataset.pad(pad_by=\"history\",\n",
    "                           method=\"k_last\",\n",
    "                           zero_padding=True,\n",
    "                           k=10,\n",
    "                           time_feature=[\"timeline_index\", \"time_diff\"])\n",
    "history_path.shape"
   ]
  },
  {
   "cell_type": "markdown",
   "metadata": {},
   "source": [
    "We can now see that each post has a path now (2000 posts, rather than 12 timelines). We can see the first few elements of this array and see how it is containing the last few posts only and is padded with zeros to make the length of the path 10."
   ]
  },
  {
   "cell_type": "code",
   "execution_count": 69,
   "metadata": {},
   "outputs": [
    {
     "data": {
      "text/plain": [
       "array([[ 0.        ,  0.        ,  0.        , ...,  0.        ,\n",
       "         0.        ,  0.        ],\n",
       "       [ 0.        ,  0.        ,  0.        , ...,  0.        ,\n",
       "         0.        ,  0.        ],\n",
       "       [ 0.        ,  0.        ,  0.        , ...,  0.        ,\n",
       "         0.        ,  0.        ],\n",
       "       ...,\n",
       "       [ 0.        ,  0.        ,  0.        , ...,  0.        ,\n",
       "         0.        ,  0.        ],\n",
       "       [ 0.        ,  0.        ,  0.        , ...,  0.        ,\n",
       "         0.        ,  0.        ],\n",
       "       [ 0.        ,  1.        ,  0.        , ..., -0.02426258,\n",
       "         0.11901976, -0.01624358]])"
      ]
     },
     "execution_count": 69,
     "metadata": {},
     "output_type": "execute_result"
    }
   ],
   "source": [
    "history_path[1]"
   ]
  },
  {
   "cell_type": "code",
   "execution_count": 70,
   "metadata": {},
   "outputs": [
    {
     "data": {
      "text/plain": [
       "array([[ 0.        ,  0.        ,  0.        , ...,  0.        ,\n",
       "         0.        ,  0.        ],\n",
       "       [ 0.        ,  0.        ,  0.        , ...,  0.        ,\n",
       "         0.        ,  0.        ],\n",
       "       [ 0.        ,  0.        ,  0.        , ...,  0.        ,\n",
       "         0.        ,  0.        ],\n",
       "       ...,\n",
       "       [ 0.        ,  1.        ,  0.        , ..., -0.02426258,\n",
       "         0.11901976, -0.01624358],\n",
       "       [ 0.        ,  2.        ,  0.        , ..., -0.06804942,\n",
       "        -0.02708741,  0.03537449],\n",
       "       [ 0.        ,  3.        ,  0.        , ..., -0.01821259,\n",
       "         0.07756057,  0.09623449]])"
      ]
     },
     "execution_count": 70,
     "metadata": {},
     "output_type": "execute_result"
    }
   ],
   "source": [
    "history_path[3]"
   ]
  },
  {
   "cell_type": "markdown",
   "metadata": {},
   "source": [
    "By setting `zero_padding=False`, we pad by the latest post to that point:"
   ]
  },
  {
   "cell_type": "code",
   "execution_count": 71,
   "metadata": {},
   "outputs": [
    {
     "name": "stdout",
     "output_type": "stream",
     "text": [
      "[INFO] Padding ids and storing in .df_padded and .array_padded attributes\n"
     ]
    },
    {
     "data": {
      "text/plain": [
       "(2000, 10, 387)"
      ]
     },
     "execution_count": 71,
     "metadata": {},
     "output_type": "execute_result"
    }
   ],
   "source": [
    "history_path = dataset.pad(pad_by=\"history\",\n",
    "                           method=\"k_last\",\n",
    "                           zero_padding=False,\n",
    "                           k=10,\n",
    "                           time_feature=[\"timeline_index\", \"time_diff\"])\n",
    "history_path.shape"
   ]
  },
  {
   "cell_type": "markdown",
   "metadata": {},
   "source": [
    "Now, in `history_path[1]`, we just have a repetition of the first post."
   ]
  },
  {
   "cell_type": "code",
   "execution_count": 72,
   "metadata": {
    "scrolled": true
   },
   "outputs": [
    {
     "data": {
      "text/plain": [
       "array([[ 0.        ,  1.        ,  0.        , ..., -0.02426258,\n",
       "         0.11901976, -0.01624358],\n",
       "       [ 0.        ,  1.        ,  0.        , ..., -0.02426258,\n",
       "         0.11901976, -0.01624358],\n",
       "       [ 0.        ,  1.        ,  0.        , ..., -0.02426258,\n",
       "         0.11901976, -0.01624358],\n",
       "       ...,\n",
       "       [ 0.        ,  1.        ,  0.        , ..., -0.02426258,\n",
       "         0.11901976, -0.01624358],\n",
       "       [ 0.        ,  1.        ,  0.        , ..., -0.02426258,\n",
       "         0.11901976, -0.01624358],\n",
       "       [ 0.        ,  1.        ,  0.        , ..., -0.02426258,\n",
       "         0.11901976, -0.01624358]])"
      ]
     },
     "execution_count": 72,
     "metadata": {},
     "output_type": "execute_result"
    }
   ],
   "source": [
    "history_path[1]"
   ]
  },
  {
   "cell_type": "markdown",
   "metadata": {},
   "source": [
    "And in `history_path[3]`, we see that the last post is repeated to fill out the path (so from the third row, all the posts are the same)"
   ]
  },
  {
   "cell_type": "code",
   "execution_count": 73,
   "metadata": {},
   "outputs": [
    {
     "data": {
      "text/plain": [
       "array([[ 0.        ,  1.        ,  0.        , ..., -0.02426258,\n",
       "         0.11901976, -0.01624358],\n",
       "       [ 0.        ,  2.        ,  0.        , ..., -0.06804942,\n",
       "        -0.02708741,  0.03537449],\n",
       "       [ 0.        ,  3.        ,  0.        , ..., -0.01821259,\n",
       "         0.07756057,  0.09623449],\n",
       "       ...,\n",
       "       [ 0.        ,  3.        ,  0.        , ..., -0.01821259,\n",
       "         0.07756057,  0.09623449],\n",
       "       [ 0.        ,  3.        ,  0.        , ..., -0.01821259,\n",
       "         0.07756057,  0.09623449],\n",
       "       [ 0.        ,  3.        ,  0.        , ..., -0.01821259,\n",
       "         0.07756057,  0.09623449]])"
      ]
     },
     "execution_count": 73,
     "metadata": {},
     "output_type": "execute_result"
    }
   ],
   "source": [
    "history_path[3]"
   ]
  },
  {
   "cell_type": "markdown",
   "metadata": {},
   "source": [
    "Note to Talia: I've actually changed the code a bit for the padding functions (by id and history) - the final result is the same it returns the same result, but I think the code is a bit clearer now. So `_pad_timeline()` is a method which returns the padded dataframe for a given index (using a similar method like you wrote), but instead of concatenating to a data frame and needing to pass a variable `i` which keeps track of the index, we don't have that anymore.\n",
    "\n",
    "Instead, I can just call `._pad_timeline()` for each timeline id in a list comprehension so I have a list of dataframes (where each of these are padded to have the same number of records) which I can just concatenate at the end.\n",
    "\n",
    "This concatenated dataframe is stored in `.df_padded`. We can see here that the ones with `timeline_id==0` have a couple of "
   ]
  },
  {
   "cell_type": "code",
   "execution_count": 74,
   "metadata": {},
   "outputs": [
    {
     "data": {
      "text/html": [
       "<div>\n",
       "<style scoped>\n",
       "    .dataframe tbody tr th:only-of-type {\n",
       "        vertical-align: middle;\n",
       "    }\n",
       "\n",
       "    .dataframe tbody tr th {\n",
       "        vertical-align: top;\n",
       "    }\n",
       "\n",
       "    .dataframe thead th {\n",
       "        text-align: right;\n",
       "    }\n",
       "</style>\n",
       "<table border=\"1\" class=\"dataframe\">\n",
       "  <thead>\n",
       "    <tr style=\"text-align: right;\">\n",
       "      <th></th>\n",
       "      <th>timeline_id</th>\n",
       "      <th>timeline_index</th>\n",
       "      <th>time_diff</th>\n",
       "      <th>e1</th>\n",
       "      <th>e2</th>\n",
       "      <th>e3</th>\n",
       "      <th>e4</th>\n",
       "      <th>e5</th>\n",
       "      <th>e6</th>\n",
       "      <th>e7</th>\n",
       "      <th>...</th>\n",
       "      <th>e375</th>\n",
       "      <th>e376</th>\n",
       "      <th>e377</th>\n",
       "      <th>e378</th>\n",
       "      <th>e379</th>\n",
       "      <th>e380</th>\n",
       "      <th>e381</th>\n",
       "      <th>e382</th>\n",
       "      <th>e383</th>\n",
       "      <th>e384</th>\n",
       "    </tr>\n",
       "  </thead>\n",
       "  <tbody>\n",
       "    <tr>\n",
       "      <th>0</th>\n",
       "      <td>0</td>\n",
       "      <td>0</td>\n",
       "      <td>0</td>\n",
       "      <td>0.000000</td>\n",
       "      <td>0.000000</td>\n",
       "      <td>0.000000</td>\n",
       "      <td>0.000000</td>\n",
       "      <td>0.000000</td>\n",
       "      <td>0.000000</td>\n",
       "      <td>0.000000</td>\n",
       "      <td>...</td>\n",
       "      <td>0.000000</td>\n",
       "      <td>0.000000</td>\n",
       "      <td>0.000000</td>\n",
       "      <td>0.000000</td>\n",
       "      <td>0.000000</td>\n",
       "      <td>0.000000</td>\n",
       "      <td>0.000000</td>\n",
       "      <td>0.000000</td>\n",
       "      <td>0.000000</td>\n",
       "      <td>0.000000</td>\n",
       "    </tr>\n",
       "    <tr>\n",
       "      <th>1</th>\n",
       "      <td>0</td>\n",
       "      <td>0</td>\n",
       "      <td>0</td>\n",
       "      <td>0.000000</td>\n",
       "      <td>0.000000</td>\n",
       "      <td>0.000000</td>\n",
       "      <td>0.000000</td>\n",
       "      <td>0.000000</td>\n",
       "      <td>0.000000</td>\n",
       "      <td>0.000000</td>\n",
       "      <td>...</td>\n",
       "      <td>0.000000</td>\n",
       "      <td>0.000000</td>\n",
       "      <td>0.000000</td>\n",
       "      <td>0.000000</td>\n",
       "      <td>0.000000</td>\n",
       "      <td>0.000000</td>\n",
       "      <td>0.000000</td>\n",
       "      <td>0.000000</td>\n",
       "      <td>0.000000</td>\n",
       "      <td>0.000000</td>\n",
       "    </tr>\n",
       "    <tr>\n",
       "      <th>2</th>\n",
       "      <td>0</td>\n",
       "      <td>0</td>\n",
       "      <td>0</td>\n",
       "      <td>0.000000</td>\n",
       "      <td>0.000000</td>\n",
       "      <td>0.000000</td>\n",
       "      <td>0.000000</td>\n",
       "      <td>0.000000</td>\n",
       "      <td>0.000000</td>\n",
       "      <td>0.000000</td>\n",
       "      <td>...</td>\n",
       "      <td>0.000000</td>\n",
       "      <td>0.000000</td>\n",
       "      <td>0.000000</td>\n",
       "      <td>0.000000</td>\n",
       "      <td>0.000000</td>\n",
       "      <td>0.000000</td>\n",
       "      <td>0.000000</td>\n",
       "      <td>0.000000</td>\n",
       "      <td>0.000000</td>\n",
       "      <td>0.000000</td>\n",
       "    </tr>\n",
       "    <tr>\n",
       "      <th>3</th>\n",
       "      <td>0</td>\n",
       "      <td>0</td>\n",
       "      <td>0</td>\n",
       "      <td>0.000000</td>\n",
       "      <td>0.000000</td>\n",
       "      <td>0.000000</td>\n",
       "      <td>0.000000</td>\n",
       "      <td>0.000000</td>\n",
       "      <td>0.000000</td>\n",
       "      <td>0.000000</td>\n",
       "      <td>...</td>\n",
       "      <td>0.000000</td>\n",
       "      <td>0.000000</td>\n",
       "      <td>0.000000</td>\n",
       "      <td>0.000000</td>\n",
       "      <td>0.000000</td>\n",
       "      <td>0.000000</td>\n",
       "      <td>0.000000</td>\n",
       "      <td>0.000000</td>\n",
       "      <td>0.000000</td>\n",
       "      <td>0.000000</td>\n",
       "    </tr>\n",
       "    <tr>\n",
       "      <th>4</th>\n",
       "      <td>0</td>\n",
       "      <td>0</td>\n",
       "      <td>0</td>\n",
       "      <td>0.000000</td>\n",
       "      <td>0.000000</td>\n",
       "      <td>0.000000</td>\n",
       "      <td>0.000000</td>\n",
       "      <td>0.000000</td>\n",
       "      <td>0.000000</td>\n",
       "      <td>0.000000</td>\n",
       "      <td>...</td>\n",
       "      <td>0.000000</td>\n",
       "      <td>0.000000</td>\n",
       "      <td>0.000000</td>\n",
       "      <td>0.000000</td>\n",
       "      <td>0.000000</td>\n",
       "      <td>0.000000</td>\n",
       "      <td>0.000000</td>\n",
       "      <td>0.000000</td>\n",
       "      <td>0.000000</td>\n",
       "      <td>0.000000</td>\n",
       "    </tr>\n",
       "    <tr>\n",
       "      <th>...</th>\n",
       "      <td>...</td>\n",
       "      <td>...</td>\n",
       "      <td>...</td>\n",
       "      <td>...</td>\n",
       "      <td>...</td>\n",
       "      <td>...</td>\n",
       "      <td>...</td>\n",
       "      <td>...</td>\n",
       "      <td>...</td>\n",
       "      <td>...</td>\n",
       "      <td>...</td>\n",
       "      <td>...</td>\n",
       "      <td>...</td>\n",
       "      <td>...</td>\n",
       "      <td>...</td>\n",
       "      <td>...</td>\n",
       "      <td>...</td>\n",
       "      <td>...</td>\n",
       "      <td>...</td>\n",
       "      <td>...</td>\n",
       "      <td>...</td>\n",
       "    </tr>\n",
       "    <tr>\n",
       "      <th>1645</th>\n",
       "      <td>0</td>\n",
       "      <td>160</td>\n",
       "      <td>0</td>\n",
       "      <td>0.025370</td>\n",
       "      <td>-0.000868</td>\n",
       "      <td>-0.020023</td>\n",
       "      <td>-0.015379</td>\n",
       "      <td>0.046203</td>\n",
       "      <td>0.013396</td>\n",
       "      <td>0.006162</td>\n",
       "      <td>...</td>\n",
       "      <td>-0.016257</td>\n",
       "      <td>0.034730</td>\n",
       "      <td>0.006583</td>\n",
       "      <td>0.044105</td>\n",
       "      <td>-0.092818</td>\n",
       "      <td>-0.028148</td>\n",
       "      <td>0.070636</td>\n",
       "      <td>-0.109902</td>\n",
       "      <td>0.036103</td>\n",
       "      <td>-0.019832</td>\n",
       "    </tr>\n",
       "    <tr>\n",
       "      <th>1646</th>\n",
       "      <td>0</td>\n",
       "      <td>161</td>\n",
       "      <td>0</td>\n",
       "      <td>0.107889</td>\n",
       "      <td>-0.013836</td>\n",
       "      <td>-0.022154</td>\n",
       "      <td>0.044377</td>\n",
       "      <td>0.108223</td>\n",
       "      <td>-0.022691</td>\n",
       "      <td>-0.006360</td>\n",
       "      <td>...</td>\n",
       "      <td>0.023377</td>\n",
       "      <td>-0.008330</td>\n",
       "      <td>-0.067436</td>\n",
       "      <td>-0.091909</td>\n",
       "      <td>-0.049138</td>\n",
       "      <td>0.007657</td>\n",
       "      <td>-0.043537</td>\n",
       "      <td>-0.101449</td>\n",
       "      <td>0.046258</td>\n",
       "      <td>0.006571</td>\n",
       "    </tr>\n",
       "    <tr>\n",
       "      <th>1647</th>\n",
       "      <td>0</td>\n",
       "      <td>162</td>\n",
       "      <td>0</td>\n",
       "      <td>-0.046488</td>\n",
       "      <td>-0.041986</td>\n",
       "      <td>-0.094121</td>\n",
       "      <td>0.079017</td>\n",
       "      <td>0.022416</td>\n",
       "      <td>0.067141</td>\n",
       "      <td>-0.023770</td>\n",
       "      <td>...</td>\n",
       "      <td>0.098877</td>\n",
       "      <td>-0.057650</td>\n",
       "      <td>0.002821</td>\n",
       "      <td>0.025024</td>\n",
       "      <td>-0.054017</td>\n",
       "      <td>0.007554</td>\n",
       "      <td>-0.105401</td>\n",
       "      <td>-0.075639</td>\n",
       "      <td>-0.058692</td>\n",
       "      <td>0.002234</td>\n",
       "    </tr>\n",
       "    <tr>\n",
       "      <th>1648</th>\n",
       "      <td>0</td>\n",
       "      <td>163</td>\n",
       "      <td>0</td>\n",
       "      <td>-0.018908</td>\n",
       "      <td>-0.014813</td>\n",
       "      <td>-0.017482</td>\n",
       "      <td>-0.045656</td>\n",
       "      <td>-0.042531</td>\n",
       "      <td>0.007781</td>\n",
       "      <td>0.068478</td>\n",
       "      <td>...</td>\n",
       "      <td>0.007243</td>\n",
       "      <td>-0.012933</td>\n",
       "      <td>0.049774</td>\n",
       "      <td>-0.005479</td>\n",
       "      <td>0.029110</td>\n",
       "      <td>0.095445</td>\n",
       "      <td>0.066490</td>\n",
       "      <td>-0.024560</td>\n",
       "      <td>0.038768</td>\n",
       "      <td>0.002063</td>\n",
       "    </tr>\n",
       "    <tr>\n",
       "      <th>1649</th>\n",
       "      <td>0</td>\n",
       "      <td>164</td>\n",
       "      <td>0</td>\n",
       "      <td>0.042642</td>\n",
       "      <td>-0.007804</td>\n",
       "      <td>-0.012163</td>\n",
       "      <td>-0.005255</td>\n",
       "      <td>0.023247</td>\n",
       "      <td>0.076407</td>\n",
       "      <td>-0.065785</td>\n",
       "      <td>...</td>\n",
       "      <td>0.027267</td>\n",
       "      <td>0.020785</td>\n",
       "      <td>0.025420</td>\n",
       "      <td>-0.029233</td>\n",
       "      <td>-0.009675</td>\n",
       "      <td>-0.015309</td>\n",
       "      <td>0.038279</td>\n",
       "      <td>-0.071600</td>\n",
       "      <td>0.024407</td>\n",
       "      <td>0.045655</td>\n",
       "    </tr>\n",
       "  </tbody>\n",
       "</table>\n",
       "<p>1650 rows × 387 columns</p>\n",
       "</div>"
      ],
      "text/plain": [
       "      timeline_id  timeline_index  time_diff        e1        e2        e3  \\\n",
       "0               0               0          0  0.000000  0.000000  0.000000   \n",
       "1               0               0          0  0.000000  0.000000  0.000000   \n",
       "2               0               0          0  0.000000  0.000000  0.000000   \n",
       "3               0               0          0  0.000000  0.000000  0.000000   \n",
       "4               0               0          0  0.000000  0.000000  0.000000   \n",
       "...           ...             ...        ...       ...       ...       ...   \n",
       "1645            0             160          0  0.025370 -0.000868 -0.020023   \n",
       "1646            0             161          0  0.107889 -0.013836 -0.022154   \n",
       "1647            0             162          0 -0.046488 -0.041986 -0.094121   \n",
       "1648            0             163          0 -0.018908 -0.014813 -0.017482   \n",
       "1649            0             164          0  0.042642 -0.007804 -0.012163   \n",
       "\n",
       "            e4        e5        e6        e7  ...      e375      e376  \\\n",
       "0     0.000000  0.000000  0.000000  0.000000  ...  0.000000  0.000000   \n",
       "1     0.000000  0.000000  0.000000  0.000000  ...  0.000000  0.000000   \n",
       "2     0.000000  0.000000  0.000000  0.000000  ...  0.000000  0.000000   \n",
       "3     0.000000  0.000000  0.000000  0.000000  ...  0.000000  0.000000   \n",
       "4     0.000000  0.000000  0.000000  0.000000  ...  0.000000  0.000000   \n",
       "...        ...       ...       ...       ...  ...       ...       ...   \n",
       "1645 -0.015379  0.046203  0.013396  0.006162  ... -0.016257  0.034730   \n",
       "1646  0.044377  0.108223 -0.022691 -0.006360  ...  0.023377 -0.008330   \n",
       "1647  0.079017  0.022416  0.067141 -0.023770  ...  0.098877 -0.057650   \n",
       "1648 -0.045656 -0.042531  0.007781  0.068478  ...  0.007243 -0.012933   \n",
       "1649 -0.005255  0.023247  0.076407 -0.065785  ...  0.027267  0.020785   \n",
       "\n",
       "          e377      e378      e379      e380      e381      e382      e383  \\\n",
       "0     0.000000  0.000000  0.000000  0.000000  0.000000  0.000000  0.000000   \n",
       "1     0.000000  0.000000  0.000000  0.000000  0.000000  0.000000  0.000000   \n",
       "2     0.000000  0.000000  0.000000  0.000000  0.000000  0.000000  0.000000   \n",
       "3     0.000000  0.000000  0.000000  0.000000  0.000000  0.000000  0.000000   \n",
       "4     0.000000  0.000000  0.000000  0.000000  0.000000  0.000000  0.000000   \n",
       "...        ...       ...       ...       ...       ...       ...       ...   \n",
       "1645  0.006583  0.044105 -0.092818 -0.028148  0.070636 -0.109902  0.036103   \n",
       "1646 -0.067436 -0.091909 -0.049138  0.007657 -0.043537 -0.101449  0.046258   \n",
       "1647  0.002821  0.025024 -0.054017  0.007554 -0.105401 -0.075639 -0.058692   \n",
       "1648  0.049774 -0.005479  0.029110  0.095445  0.066490 -0.024560  0.038768   \n",
       "1649  0.025420 -0.029233 -0.009675 -0.015309  0.038279 -0.071600  0.024407   \n",
       "\n",
       "          e384  \n",
       "0     0.000000  \n",
       "1     0.000000  \n",
       "2     0.000000  \n",
       "3     0.000000  \n",
       "4     0.000000  \n",
       "...        ...  \n",
       "1645 -0.019832  \n",
       "1646  0.006571  \n",
       "1647  0.002234  \n",
       "1648  0.002063  \n",
       "1649  0.045655  \n",
       "\n",
       "[1650 rows x 387 columns]"
      ]
     },
     "execution_count": 74,
     "metadata": {},
     "output_type": "execute_result"
    }
   ],
   "source": [
    "dataset.df_padded[dataset.df_padded[\"timeline_id\"]==0]"
   ]
  },
  {
   "cell_type": "markdown",
   "metadata": {},
   "source": [
    "Note that passing in the dimension reduced embeddings is optional:"
   ]
  },
  {
   "cell_type": "code",
   "execution_count": 84,
   "metadata": {},
   "outputs": [
    {
     "name": "stdout",
     "output_type": "stream",
     "text": [
      "[INFO] Adding time feature columns into dataframe in .df\n"
     ]
    }
   ],
   "source": [
    "dataset_2 = nlpsig.PrepareData(dataset_df,\n",
    "                               embeddings_sentence,\n",
    "                               id_column=\"timeline_id\")"
   ]
  },
  {
   "cell_type": "code",
   "execution_count": 88,
   "metadata": {},
   "outputs": [
    {
     "name": "stdout",
     "output_type": "stream",
     "text": [
      "[INFO] Padding ids and storing in .df_padded and .array_padded attributes\n"
     ]
    },
    {
     "data": {
      "text/plain": [
       "array([[[ 0.00000000e+00,  1.63000000e+02,  0.00000000e+00, ...,\n",
       "         -2.45601200e-02,  3.87683213e-02,  2.06314586e-03],\n",
       "        [ 0.00000000e+00,  1.64000000e+02,  0.00000000e+00, ...,\n",
       "         -7.16003180e-02,  2.44067777e-02,  4.56551909e-02],\n",
       "        [ 0.00000000e+00,  1.65000000e+02,  0.00000000e+00, ...,\n",
       "         -1.19088657e-01, -1.98633093e-02,  2.88002435e-02]],\n",
       "\n",
       "       [[ 1.00000000e+00,  1.59000000e+02,  0.00000000e+00, ...,\n",
       "         -5.34566268e-02, -2.45609297e-03,  5.04989438e-02],\n",
       "        [ 1.00000000e+00,  1.60000000e+02,  0.00000000e+00, ...,\n",
       "         -5.56482561e-02, -2.10284777e-02, -4.26219217e-02],\n",
       "        [ 1.00000000e+00,  1.61000000e+02,  0.00000000e+00, ...,\n",
       "          3.52130993e-03, -2.89438944e-02,  7.76198879e-02]],\n",
       "\n",
       "       [[ 2.00000000e+00,  1.50000000e+02,  0.00000000e+00, ...,\n",
       "         -1.02695249e-01, -6.61741477e-03,  2.41936948e-02],\n",
       "        [ 2.00000000e+00,  1.51000000e+02,  0.00000000e+00, ...,\n",
       "         -6.60129189e-02,  3.97481285e-02,  8.37119967e-02],\n",
       "        [ 2.00000000e+00,  1.52000000e+02,  0.00000000e+00, ...,\n",
       "         -5.75359128e-02,  7.31620640e-02,  6.35489225e-02]],\n",
       "\n",
       "       ...,\n",
       "\n",
       "       [[ 9.00000000e+00,  1.78000000e+02,  0.00000000e+00, ...,\n",
       "          4.34585214e-02,  7.91643336e-02, -1.30325966e-02],\n",
       "        [ 9.00000000e+00,  1.79000000e+02,  0.00000000e+00, ...,\n",
       "          1.50411911e-02,  7.30904341e-02,  5.80841340e-02],\n",
       "        [ 9.00000000e+00,  1.80000000e+02,  0.00000000e+00, ...,\n",
       "         -2.92013679e-02,  3.40775438e-02,  4.24899571e-02]],\n",
       "\n",
       "       [[ 1.00000000e+01,  1.61000000e+02,  0.00000000e+00, ...,\n",
       "         -7.40878135e-02,  2.25544628e-02, -2.91453525e-02],\n",
       "        [ 1.00000000e+01,  1.62000000e+02,  0.00000000e+00, ...,\n",
       "         -1.59471836e-02,  3.79012618e-03,  8.41378327e-03],\n",
       "        [ 1.00000000e+01,  1.63000000e+02,  0.00000000e+00, ...,\n",
       "         -4.16337028e-02,  4.21865508e-02,  1.94020495e-02]],\n",
       "\n",
       "       [[ 1.10000000e+01,  1.70000000e+02,  0.00000000e+00, ...,\n",
       "         -6.46851137e-02,  5.38894609e-02,  3.74850482e-02],\n",
       "        [ 1.10000000e+01,  1.71000000e+02,  0.00000000e+00, ...,\n",
       "         -8.57949406e-02, -7.33592920e-03,  1.60031199e-01],\n",
       "        [ 1.10000000e+01,  1.72000000e+02,  0.00000000e+00, ...,\n",
       "         -6.29284605e-02, -1.06909312e-02,  5.59977293e-02]]])"
      ]
     },
     "execution_count": 88,
     "metadata": {},
     "output_type": "execute_result"
    }
   ],
   "source": [
    "dataset_2.pad(pad_by=\"id\",\n",
    "              method=\"k_last\",\n",
    "              zero_padding=True,\n",
    "              k=3,\n",
    "              time_feature=[\"timeline_index\", \"time_diff\"])"
   ]
  },
  {
   "cell_type": "code",
   "execution_count": 89,
   "metadata": {},
   "outputs": [
    {
     "data": {
      "text/plain": [
       "(12, 3, 387)"
      ]
     },
     "execution_count": 89,
     "metadata": {},
     "output_type": "execute_result"
    }
   ],
   "source": [
    "dataset_2.array_padded.shape"
   ]
  },
  {
   "cell_type": "code",
   "execution_count": 90,
   "metadata": {},
   "outputs": [
    {
     "data": {
      "text/html": [
       "<div>\n",
       "<style scoped>\n",
       "    .dataframe tbody tr th:only-of-type {\n",
       "        vertical-align: middle;\n",
       "    }\n",
       "\n",
       "    .dataframe tbody tr th {\n",
       "        vertical-align: top;\n",
       "    }\n",
       "\n",
       "    .dataframe thead th {\n",
       "        text-align: right;\n",
       "    }\n",
       "</style>\n",
       "<table border=\"1\" class=\"dataframe\">\n",
       "  <thead>\n",
       "    <tr style=\"text-align: right;\">\n",
       "      <th></th>\n",
       "      <th>timeline_id</th>\n",
       "      <th>timeline_index</th>\n",
       "      <th>time_diff</th>\n",
       "      <th>e1</th>\n",
       "      <th>e2</th>\n",
       "      <th>e3</th>\n",
       "      <th>e4</th>\n",
       "      <th>e5</th>\n",
       "      <th>e6</th>\n",
       "      <th>e7</th>\n",
       "      <th>...</th>\n",
       "      <th>e375</th>\n",
       "      <th>e376</th>\n",
       "      <th>e377</th>\n",
       "      <th>e378</th>\n",
       "      <th>e379</th>\n",
       "      <th>e380</th>\n",
       "      <th>e381</th>\n",
       "      <th>e382</th>\n",
       "      <th>e383</th>\n",
       "      <th>e384</th>\n",
       "    </tr>\n",
       "  </thead>\n",
       "  <tbody>\n",
       "    <tr>\n",
       "      <th>0</th>\n",
       "      <td>0</td>\n",
       "      <td>163</td>\n",
       "      <td>0</td>\n",
       "      <td>-0.018908</td>\n",
       "      <td>-0.014813</td>\n",
       "      <td>-0.017482</td>\n",
       "      <td>-0.045656</td>\n",
       "      <td>-0.042531</td>\n",
       "      <td>0.007781</td>\n",
       "      <td>0.068478</td>\n",
       "      <td>...</td>\n",
       "      <td>0.007243</td>\n",
       "      <td>-0.012933</td>\n",
       "      <td>0.049774</td>\n",
       "      <td>-0.005479</td>\n",
       "      <td>0.029110</td>\n",
       "      <td>0.095445</td>\n",
       "      <td>0.066490</td>\n",
       "      <td>-0.024560</td>\n",
       "      <td>0.038768</td>\n",
       "      <td>0.002063</td>\n",
       "    </tr>\n",
       "    <tr>\n",
       "      <th>1</th>\n",
       "      <td>0</td>\n",
       "      <td>164</td>\n",
       "      <td>0</td>\n",
       "      <td>0.042642</td>\n",
       "      <td>-0.007804</td>\n",
       "      <td>-0.012163</td>\n",
       "      <td>-0.005255</td>\n",
       "      <td>0.023247</td>\n",
       "      <td>0.076407</td>\n",
       "      <td>-0.065785</td>\n",
       "      <td>...</td>\n",
       "      <td>0.027267</td>\n",
       "      <td>0.020785</td>\n",
       "      <td>0.025420</td>\n",
       "      <td>-0.029233</td>\n",
       "      <td>-0.009675</td>\n",
       "      <td>-0.015309</td>\n",
       "      <td>0.038279</td>\n",
       "      <td>-0.071600</td>\n",
       "      <td>0.024407</td>\n",
       "      <td>0.045655</td>\n",
       "    </tr>\n",
       "    <tr>\n",
       "      <th>2</th>\n",
       "      <td>0</td>\n",
       "      <td>165</td>\n",
       "      <td>0</td>\n",
       "      <td>0.063822</td>\n",
       "      <td>-0.036153</td>\n",
       "      <td>-0.011823</td>\n",
       "      <td>0.055463</td>\n",
       "      <td>0.096392</td>\n",
       "      <td>-0.042728</td>\n",
       "      <td>-0.097622</td>\n",
       "      <td>...</td>\n",
       "      <td>0.025915</td>\n",
       "      <td>-0.062183</td>\n",
       "      <td>-0.050186</td>\n",
       "      <td>0.021873</td>\n",
       "      <td>-0.154850</td>\n",
       "      <td>-0.048426</td>\n",
       "      <td>0.012281</td>\n",
       "      <td>-0.119089</td>\n",
       "      <td>-0.019863</td>\n",
       "      <td>0.028800</td>\n",
       "    </tr>\n",
       "    <tr>\n",
       "      <th>3</th>\n",
       "      <td>1</td>\n",
       "      <td>159</td>\n",
       "      <td>0</td>\n",
       "      <td>-0.055176</td>\n",
       "      <td>0.057381</td>\n",
       "      <td>0.118514</td>\n",
       "      <td>0.016655</td>\n",
       "      <td>0.040336</td>\n",
       "      <td>0.006866</td>\n",
       "      <td>-0.025337</td>\n",
       "      <td>...</td>\n",
       "      <td>-0.006925</td>\n",
       "      <td>-0.081017</td>\n",
       "      <td>-0.031130</td>\n",
       "      <td>0.007082</td>\n",
       "      <td>0.057768</td>\n",
       "      <td>0.057018</td>\n",
       "      <td>0.031306</td>\n",
       "      <td>-0.053457</td>\n",
       "      <td>-0.002456</td>\n",
       "      <td>0.050499</td>\n",
       "    </tr>\n",
       "    <tr>\n",
       "      <th>4</th>\n",
       "      <td>1</td>\n",
       "      <td>160</td>\n",
       "      <td>0</td>\n",
       "      <td>0.093581</td>\n",
       "      <td>-0.036284</td>\n",
       "      <td>-0.040417</td>\n",
       "      <td>0.032056</td>\n",
       "      <td>0.070038</td>\n",
       "      <td>0.027983</td>\n",
       "      <td>0.020975</td>\n",
       "      <td>...</td>\n",
       "      <td>0.069012</td>\n",
       "      <td>0.018489</td>\n",
       "      <td>-0.084885</td>\n",
       "      <td>0.061317</td>\n",
       "      <td>-0.087391</td>\n",
       "      <td>-0.044331</td>\n",
       "      <td>-0.022192</td>\n",
       "      <td>-0.055648</td>\n",
       "      <td>-0.021028</td>\n",
       "      <td>-0.042622</td>\n",
       "    </tr>\n",
       "    <tr>\n",
       "      <th>5</th>\n",
       "      <td>1</td>\n",
       "      <td>161</td>\n",
       "      <td>0</td>\n",
       "      <td>0.008420</td>\n",
       "      <td>0.041799</td>\n",
       "      <td>0.081391</td>\n",
       "      <td>0.059575</td>\n",
       "      <td>0.131569</td>\n",
       "      <td>0.035437</td>\n",
       "      <td>-0.027575</td>\n",
       "      <td>...</td>\n",
       "      <td>0.027052</td>\n",
       "      <td>0.024256</td>\n",
       "      <td>-0.047567</td>\n",
       "      <td>0.090815</td>\n",
       "      <td>-0.092199</td>\n",
       "      <td>0.068407</td>\n",
       "      <td>-0.004386</td>\n",
       "      <td>0.003521</td>\n",
       "      <td>-0.028944</td>\n",
       "      <td>0.077620</td>\n",
       "    </tr>\n",
       "    <tr>\n",
       "      <th>6</th>\n",
       "      <td>2</td>\n",
       "      <td>150</td>\n",
       "      <td>0</td>\n",
       "      <td>0.017999</td>\n",
       "      <td>-0.005040</td>\n",
       "      <td>0.002259</td>\n",
       "      <td>0.111517</td>\n",
       "      <td>0.053426</td>\n",
       "      <td>-0.016232</td>\n",
       "      <td>-0.063077</td>\n",
       "      <td>...</td>\n",
       "      <td>0.020914</td>\n",
       "      <td>-0.032487</td>\n",
       "      <td>-0.002982</td>\n",
       "      <td>0.015381</td>\n",
       "      <td>-0.048213</td>\n",
       "      <td>0.068908</td>\n",
       "      <td>-0.004683</td>\n",
       "      <td>-0.102695</td>\n",
       "      <td>-0.006617</td>\n",
       "      <td>0.024194</td>\n",
       "    </tr>\n",
       "    <tr>\n",
       "      <th>7</th>\n",
       "      <td>2</td>\n",
       "      <td>151</td>\n",
       "      <td>0</td>\n",
       "      <td>0.038020</td>\n",
       "      <td>-0.056973</td>\n",
       "      <td>0.109420</td>\n",
       "      <td>0.068377</td>\n",
       "      <td>0.050227</td>\n",
       "      <td>0.056639</td>\n",
       "      <td>-0.147607</td>\n",
       "      <td>...</td>\n",
       "      <td>0.051475</td>\n",
       "      <td>-0.043321</td>\n",
       "      <td>-0.038291</td>\n",
       "      <td>-0.030539</td>\n",
       "      <td>-0.085369</td>\n",
       "      <td>-0.003487</td>\n",
       "      <td>-0.029742</td>\n",
       "      <td>-0.066013</td>\n",
       "      <td>0.039748</td>\n",
       "      <td>0.083712</td>\n",
       "    </tr>\n",
       "    <tr>\n",
       "      <th>8</th>\n",
       "      <td>2</td>\n",
       "      <td>152</td>\n",
       "      <td>0</td>\n",
       "      <td>-0.041876</td>\n",
       "      <td>-0.066531</td>\n",
       "      <td>0.065343</td>\n",
       "      <td>-0.139950</td>\n",
       "      <td>0.104556</td>\n",
       "      <td>0.024908</td>\n",
       "      <td>-0.020456</td>\n",
       "      <td>...</td>\n",
       "      <td>0.100886</td>\n",
       "      <td>0.002315</td>\n",
       "      <td>-0.008325</td>\n",
       "      <td>-0.008739</td>\n",
       "      <td>0.035832</td>\n",
       "      <td>0.046722</td>\n",
       "      <td>0.021463</td>\n",
       "      <td>-0.057536</td>\n",
       "      <td>0.073162</td>\n",
       "      <td>0.063549</td>\n",
       "    </tr>\n",
       "    <tr>\n",
       "      <th>9</th>\n",
       "      <td>3</td>\n",
       "      <td>172</td>\n",
       "      <td>0</td>\n",
       "      <td>0.007478</td>\n",
       "      <td>-0.031630</td>\n",
       "      <td>-0.022934</td>\n",
       "      <td>0.041796</td>\n",
       "      <td>0.048448</td>\n",
       "      <td>0.013830</td>\n",
       "      <td>-0.056123</td>\n",
       "      <td>...</td>\n",
       "      <td>0.062193</td>\n",
       "      <td>0.019601</td>\n",
       "      <td>-0.007836</td>\n",
       "      <td>-0.011172</td>\n",
       "      <td>-0.166786</td>\n",
       "      <td>-0.021606</td>\n",
       "      <td>-0.064027</td>\n",
       "      <td>-0.030552</td>\n",
       "      <td>0.014199</td>\n",
       "      <td>0.057888</td>\n",
       "    </tr>\n",
       "    <tr>\n",
       "      <th>10</th>\n",
       "      <td>3</td>\n",
       "      <td>173</td>\n",
       "      <td>0</td>\n",
       "      <td>0.081314</td>\n",
       "      <td>0.024986</td>\n",
       "      <td>-0.002572</td>\n",
       "      <td>0.078315</td>\n",
       "      <td>0.020401</td>\n",
       "      <td>0.052732</td>\n",
       "      <td>-0.002966</td>\n",
       "      <td>...</td>\n",
       "      <td>-0.002212</td>\n",
       "      <td>0.039970</td>\n",
       "      <td>-0.014091</td>\n",
       "      <td>-0.051469</td>\n",
       "      <td>-0.014658</td>\n",
       "      <td>0.013498</td>\n",
       "      <td>0.050605</td>\n",
       "      <td>-0.051250</td>\n",
       "      <td>-0.047869</td>\n",
       "      <td>0.008645</td>\n",
       "    </tr>\n",
       "    <tr>\n",
       "      <th>11</th>\n",
       "      <td>3</td>\n",
       "      <td>174</td>\n",
       "      <td>0</td>\n",
       "      <td>0.021244</td>\n",
       "      <td>-0.000772</td>\n",
       "      <td>0.022687</td>\n",
       "      <td>-0.031602</td>\n",
       "      <td>0.089683</td>\n",
       "      <td>0.029163</td>\n",
       "      <td>0.022646</td>\n",
       "      <td>...</td>\n",
       "      <td>0.041955</td>\n",
       "      <td>-0.060911</td>\n",
       "      <td>0.018343</td>\n",
       "      <td>0.019738</td>\n",
       "      <td>-0.077389</td>\n",
       "      <td>0.005970</td>\n",
       "      <td>0.066027</td>\n",
       "      <td>0.006970</td>\n",
       "      <td>0.006157</td>\n",
       "      <td>-0.018834</td>\n",
       "    </tr>\n",
       "    <tr>\n",
       "      <th>12</th>\n",
       "      <td>4</td>\n",
       "      <td>163</td>\n",
       "      <td>0</td>\n",
       "      <td>0.036098</td>\n",
       "      <td>0.111371</td>\n",
       "      <td>0.086671</td>\n",
       "      <td>0.075474</td>\n",
       "      <td>0.068746</td>\n",
       "      <td>0.039204</td>\n",
       "      <td>-0.030166</td>\n",
       "      <td>...</td>\n",
       "      <td>0.006797</td>\n",
       "      <td>0.025606</td>\n",
       "      <td>-0.032057</td>\n",
       "      <td>-0.014708</td>\n",
       "      <td>-0.038876</td>\n",
       "      <td>0.034971</td>\n",
       "      <td>-0.012147</td>\n",
       "      <td>-0.075365</td>\n",
       "      <td>-0.070478</td>\n",
       "      <td>0.071301</td>\n",
       "    </tr>\n",
       "    <tr>\n",
       "      <th>13</th>\n",
       "      <td>4</td>\n",
       "      <td>164</td>\n",
       "      <td>0</td>\n",
       "      <td>-0.014889</td>\n",
       "      <td>0.026375</td>\n",
       "      <td>0.050502</td>\n",
       "      <td>0.031618</td>\n",
       "      <td>0.064115</td>\n",
       "      <td>-0.024642</td>\n",
       "      <td>0.115795</td>\n",
       "      <td>...</td>\n",
       "      <td>0.012948</td>\n",
       "      <td>0.023635</td>\n",
       "      <td>-0.083252</td>\n",
       "      <td>0.042637</td>\n",
       "      <td>-0.074313</td>\n",
       "      <td>-0.074671</td>\n",
       "      <td>0.038090</td>\n",
       "      <td>-0.006466</td>\n",
       "      <td>-0.078479</td>\n",
       "      <td>-0.036731</td>\n",
       "    </tr>\n",
       "    <tr>\n",
       "      <th>14</th>\n",
       "      <td>4</td>\n",
       "      <td>165</td>\n",
       "      <td>0</td>\n",
       "      <td>0.040340</td>\n",
       "      <td>0.038955</td>\n",
       "      <td>0.045714</td>\n",
       "      <td>0.034268</td>\n",
       "      <td>0.058435</td>\n",
       "      <td>-0.017656</td>\n",
       "      <td>-0.065105</td>\n",
       "      <td>...</td>\n",
       "      <td>0.040943</td>\n",
       "      <td>-0.054698</td>\n",
       "      <td>-0.066513</td>\n",
       "      <td>0.056455</td>\n",
       "      <td>-0.120176</td>\n",
       "      <td>0.044809</td>\n",
       "      <td>-0.013053</td>\n",
       "      <td>-0.028758</td>\n",
       "      <td>-0.035897</td>\n",
       "      <td>0.065244</td>\n",
       "    </tr>\n",
       "    <tr>\n",
       "      <th>15</th>\n",
       "      <td>5</td>\n",
       "      <td>174</td>\n",
       "      <td>0</td>\n",
       "      <td>0.022744</td>\n",
       "      <td>-0.028302</td>\n",
       "      <td>0.058648</td>\n",
       "      <td>-0.033404</td>\n",
       "      <td>0.043366</td>\n",
       "      <td>-0.055474</td>\n",
       "      <td>0.076405</td>\n",
       "      <td>...</td>\n",
       "      <td>-0.030852</td>\n",
       "      <td>-0.010789</td>\n",
       "      <td>0.025168</td>\n",
       "      <td>-0.043897</td>\n",
       "      <td>0.011453</td>\n",
       "      <td>-0.000444</td>\n",
       "      <td>0.109179</td>\n",
       "      <td>-0.036970</td>\n",
       "      <td>0.008755</td>\n",
       "      <td>0.022578</td>\n",
       "    </tr>\n",
       "    <tr>\n",
       "      <th>16</th>\n",
       "      <td>5</td>\n",
       "      <td>175</td>\n",
       "      <td>0</td>\n",
       "      <td>-0.022306</td>\n",
       "      <td>-0.016079</td>\n",
       "      <td>0.041488</td>\n",
       "      <td>-0.088860</td>\n",
       "      <td>0.018281</td>\n",
       "      <td>0.000303</td>\n",
       "      <td>-0.046232</td>\n",
       "      <td>...</td>\n",
       "      <td>0.063646</td>\n",
       "      <td>0.040656</td>\n",
       "      <td>0.080764</td>\n",
       "      <td>-0.051910</td>\n",
       "      <td>0.030105</td>\n",
       "      <td>0.041492</td>\n",
       "      <td>0.033171</td>\n",
       "      <td>0.032823</td>\n",
       "      <td>0.028112</td>\n",
       "      <td>0.054376</td>\n",
       "    </tr>\n",
       "    <tr>\n",
       "      <th>17</th>\n",
       "      <td>5</td>\n",
       "      <td>176</td>\n",
       "      <td>0</td>\n",
       "      <td>-0.040486</td>\n",
       "      <td>-0.006108</td>\n",
       "      <td>0.094328</td>\n",
       "      <td>-0.077355</td>\n",
       "      <td>0.081606</td>\n",
       "      <td>0.085251</td>\n",
       "      <td>0.036523</td>\n",
       "      <td>...</td>\n",
       "      <td>0.016547</td>\n",
       "      <td>-0.008807</td>\n",
       "      <td>0.082862</td>\n",
       "      <td>-0.033948</td>\n",
       "      <td>0.020052</td>\n",
       "      <td>0.126307</td>\n",
       "      <td>0.060060</td>\n",
       "      <td>0.028568</td>\n",
       "      <td>0.003486</td>\n",
       "      <td>0.075106</td>\n",
       "    </tr>\n",
       "    <tr>\n",
       "      <th>18</th>\n",
       "      <td>6</td>\n",
       "      <td>163</td>\n",
       "      <td>0</td>\n",
       "      <td>0.034429</td>\n",
       "      <td>0.009722</td>\n",
       "      <td>0.022031</td>\n",
       "      <td>0.026043</td>\n",
       "      <td>0.007901</td>\n",
       "      <td>-0.042962</td>\n",
       "      <td>0.026743</td>\n",
       "      <td>...</td>\n",
       "      <td>0.047667</td>\n",
       "      <td>-0.023226</td>\n",
       "      <td>0.039988</td>\n",
       "      <td>-0.007510</td>\n",
       "      <td>-0.038547</td>\n",
       "      <td>0.070572</td>\n",
       "      <td>0.039564</td>\n",
       "      <td>0.024487</td>\n",
       "      <td>0.042906</td>\n",
       "      <td>-0.069528</td>\n",
       "    </tr>\n",
       "    <tr>\n",
       "      <th>19</th>\n",
       "      <td>6</td>\n",
       "      <td>164</td>\n",
       "      <td>0</td>\n",
       "      <td>-0.041923</td>\n",
       "      <td>0.047391</td>\n",
       "      <td>0.072246</td>\n",
       "      <td>0.039238</td>\n",
       "      <td>0.099224</td>\n",
       "      <td>0.059746</td>\n",
       "      <td>0.022305</td>\n",
       "      <td>...</td>\n",
       "      <td>-0.031210</td>\n",
       "      <td>0.085808</td>\n",
       "      <td>0.003005</td>\n",
       "      <td>-0.008934</td>\n",
       "      <td>-0.024346</td>\n",
       "      <td>0.120728</td>\n",
       "      <td>0.094814</td>\n",
       "      <td>-0.024386</td>\n",
       "      <td>0.052346</td>\n",
       "      <td>0.075838</td>\n",
       "    </tr>\n",
       "    <tr>\n",
       "      <th>20</th>\n",
       "      <td>6</td>\n",
       "      <td>165</td>\n",
       "      <td>0</td>\n",
       "      <td>0.013283</td>\n",
       "      <td>-0.021800</td>\n",
       "      <td>0.033763</td>\n",
       "      <td>-0.065777</td>\n",
       "      <td>0.053639</td>\n",
       "      <td>0.036018</td>\n",
       "      <td>-0.016478</td>\n",
       "      <td>...</td>\n",
       "      <td>0.017055</td>\n",
       "      <td>0.060475</td>\n",
       "      <td>0.118898</td>\n",
       "      <td>-0.115287</td>\n",
       "      <td>-0.022915</td>\n",
       "      <td>0.030094</td>\n",
       "      <td>0.036419</td>\n",
       "      <td>-0.025023</td>\n",
       "      <td>0.040618</td>\n",
       "      <td>0.073190</td>\n",
       "    </tr>\n",
       "    <tr>\n",
       "      <th>21</th>\n",
       "      <td>7</td>\n",
       "      <td>168</td>\n",
       "      <td>0</td>\n",
       "      <td>-0.042535</td>\n",
       "      <td>-0.082120</td>\n",
       "      <td>0.047720</td>\n",
       "      <td>-0.047705</td>\n",
       "      <td>0.024173</td>\n",
       "      <td>0.005757</td>\n",
       "      <td>0.000566</td>\n",
       "      <td>...</td>\n",
       "      <td>0.025559</td>\n",
       "      <td>-0.079060</td>\n",
       "      <td>0.009495</td>\n",
       "      <td>-0.040128</td>\n",
       "      <td>-0.014588</td>\n",
       "      <td>0.037660</td>\n",
       "      <td>0.087958</td>\n",
       "      <td>-0.038175</td>\n",
       "      <td>0.125804</td>\n",
       "      <td>0.058496</td>\n",
       "    </tr>\n",
       "    <tr>\n",
       "      <th>22</th>\n",
       "      <td>7</td>\n",
       "      <td>169</td>\n",
       "      <td>0</td>\n",
       "      <td>-0.023363</td>\n",
       "      <td>0.022999</td>\n",
       "      <td>0.053055</td>\n",
       "      <td>-0.046648</td>\n",
       "      <td>0.071648</td>\n",
       "      <td>0.069771</td>\n",
       "      <td>0.029324</td>\n",
       "      <td>...</td>\n",
       "      <td>-0.024009</td>\n",
       "      <td>0.038604</td>\n",
       "      <td>0.016106</td>\n",
       "      <td>-0.074913</td>\n",
       "      <td>0.063398</td>\n",
       "      <td>0.100724</td>\n",
       "      <td>0.072157</td>\n",
       "      <td>0.008997</td>\n",
       "      <td>-0.001401</td>\n",
       "      <td>0.062107</td>\n",
       "    </tr>\n",
       "    <tr>\n",
       "      <th>23</th>\n",
       "      <td>7</td>\n",
       "      <td>170</td>\n",
       "      <td>0</td>\n",
       "      <td>0.011846</td>\n",
       "      <td>0.012615</td>\n",
       "      <td>0.008598</td>\n",
       "      <td>-0.000890</td>\n",
       "      <td>0.125457</td>\n",
       "      <td>-0.061704</td>\n",
       "      <td>0.016630</td>\n",
       "      <td>...</td>\n",
       "      <td>0.047863</td>\n",
       "      <td>-0.029974</td>\n",
       "      <td>0.054885</td>\n",
       "      <td>0.048609</td>\n",
       "      <td>-0.012431</td>\n",
       "      <td>0.129431</td>\n",
       "      <td>0.109423</td>\n",
       "      <td>-0.000681</td>\n",
       "      <td>-0.019032</td>\n",
       "      <td>-0.029429</td>\n",
       "    </tr>\n",
       "    <tr>\n",
       "      <th>24</th>\n",
       "      <td>8</td>\n",
       "      <td>155</td>\n",
       "      <td>0</td>\n",
       "      <td>-0.024584</td>\n",
       "      <td>-0.003746</td>\n",
       "      <td>-0.035141</td>\n",
       "      <td>-0.091416</td>\n",
       "      <td>-0.039984</td>\n",
       "      <td>0.037425</td>\n",
       "      <td>0.045902</td>\n",
       "      <td>...</td>\n",
       "      <td>0.018773</td>\n",
       "      <td>0.007549</td>\n",
       "      <td>0.033296</td>\n",
       "      <td>-0.086216</td>\n",
       "      <td>-0.018698</td>\n",
       "      <td>0.088124</td>\n",
       "      <td>0.021164</td>\n",
       "      <td>0.034249</td>\n",
       "      <td>0.052701</td>\n",
       "      <td>0.023057</td>\n",
       "    </tr>\n",
       "    <tr>\n",
       "      <th>25</th>\n",
       "      <td>8</td>\n",
       "      <td>156</td>\n",
       "      <td>0</td>\n",
       "      <td>-0.016545</td>\n",
       "      <td>-0.082077</td>\n",
       "      <td>0.017289</td>\n",
       "      <td>0.012897</td>\n",
       "      <td>0.039852</td>\n",
       "      <td>0.013913</td>\n",
       "      <td>-0.067003</td>\n",
       "      <td>...</td>\n",
       "      <td>0.049024</td>\n",
       "      <td>-0.001067</td>\n",
       "      <td>-0.003313</td>\n",
       "      <td>-0.036901</td>\n",
       "      <td>0.009328</td>\n",
       "      <td>0.132574</td>\n",
       "      <td>-0.052572</td>\n",
       "      <td>-0.094901</td>\n",
       "      <td>-0.046854</td>\n",
       "      <td>-0.023933</td>\n",
       "    </tr>\n",
       "    <tr>\n",
       "      <th>26</th>\n",
       "      <td>8</td>\n",
       "      <td>157</td>\n",
       "      <td>0</td>\n",
       "      <td>0.008420</td>\n",
       "      <td>0.041799</td>\n",
       "      <td>0.081391</td>\n",
       "      <td>0.059575</td>\n",
       "      <td>0.131569</td>\n",
       "      <td>0.035437</td>\n",
       "      <td>-0.027575</td>\n",
       "      <td>...</td>\n",
       "      <td>0.027052</td>\n",
       "      <td>0.024256</td>\n",
       "      <td>-0.047567</td>\n",
       "      <td>0.090815</td>\n",
       "      <td>-0.092199</td>\n",
       "      <td>0.068407</td>\n",
       "      <td>-0.004386</td>\n",
       "      <td>0.003521</td>\n",
       "      <td>-0.028944</td>\n",
       "      <td>0.077620</td>\n",
       "    </tr>\n",
       "    <tr>\n",
       "      <th>27</th>\n",
       "      <td>9</td>\n",
       "      <td>178</td>\n",
       "      <td>0</td>\n",
       "      <td>-0.026742</td>\n",
       "      <td>-0.036379</td>\n",
       "      <td>-0.014359</td>\n",
       "      <td>0.020848</td>\n",
       "      <td>0.081460</td>\n",
       "      <td>0.084181</td>\n",
       "      <td>-0.065841</td>\n",
       "      <td>...</td>\n",
       "      <td>0.037064</td>\n",
       "      <td>-0.060899</td>\n",
       "      <td>0.069690</td>\n",
       "      <td>0.006893</td>\n",
       "      <td>0.048772</td>\n",
       "      <td>-0.013123</td>\n",
       "      <td>-0.095821</td>\n",
       "      <td>0.043459</td>\n",
       "      <td>0.079164</td>\n",
       "      <td>-0.013033</td>\n",
       "    </tr>\n",
       "    <tr>\n",
       "      <th>28</th>\n",
       "      <td>9</td>\n",
       "      <td>179</td>\n",
       "      <td>0</td>\n",
       "      <td>-0.004676</td>\n",
       "      <td>0.030449</td>\n",
       "      <td>0.013664</td>\n",
       "      <td>-0.005347</td>\n",
       "      <td>0.065621</td>\n",
       "      <td>0.029934</td>\n",
       "      <td>0.001590</td>\n",
       "      <td>...</td>\n",
       "      <td>-0.039909</td>\n",
       "      <td>-0.001782</td>\n",
       "      <td>0.008776</td>\n",
       "      <td>-0.053096</td>\n",
       "      <td>-0.020846</td>\n",
       "      <td>0.104553</td>\n",
       "      <td>-0.036112</td>\n",
       "      <td>0.015041</td>\n",
       "      <td>0.073090</td>\n",
       "      <td>0.058084</td>\n",
       "    </tr>\n",
       "    <tr>\n",
       "      <th>29</th>\n",
       "      <td>9</td>\n",
       "      <td>180</td>\n",
       "      <td>0</td>\n",
       "      <td>0.008444</td>\n",
       "      <td>-0.040875</td>\n",
       "      <td>0.010680</td>\n",
       "      <td>0.013658</td>\n",
       "      <td>0.088012</td>\n",
       "      <td>-0.035396</td>\n",
       "      <td>-0.014023</td>\n",
       "      <td>...</td>\n",
       "      <td>0.076451</td>\n",
       "      <td>-0.049070</td>\n",
       "      <td>-0.066750</td>\n",
       "      <td>-0.056102</td>\n",
       "      <td>-0.082826</td>\n",
       "      <td>0.002984</td>\n",
       "      <td>-0.005583</td>\n",
       "      <td>-0.029201</td>\n",
       "      <td>0.034078</td>\n",
       "      <td>0.042490</td>\n",
       "    </tr>\n",
       "    <tr>\n",
       "      <th>30</th>\n",
       "      <td>10</td>\n",
       "      <td>161</td>\n",
       "      <td>0</td>\n",
       "      <td>0.014744</td>\n",
       "      <td>-0.033921</td>\n",
       "      <td>-0.041137</td>\n",
       "      <td>-0.047015</td>\n",
       "      <td>0.011292</td>\n",
       "      <td>0.087419</td>\n",
       "      <td>-0.009538</td>\n",
       "      <td>...</td>\n",
       "      <td>0.061104</td>\n",
       "      <td>-0.102381</td>\n",
       "      <td>-0.000008</td>\n",
       "      <td>0.024190</td>\n",
       "      <td>-0.030520</td>\n",
       "      <td>0.021480</td>\n",
       "      <td>-0.013929</td>\n",
       "      <td>-0.074088</td>\n",
       "      <td>0.022554</td>\n",
       "      <td>-0.029145</td>\n",
       "    </tr>\n",
       "    <tr>\n",
       "      <th>31</th>\n",
       "      <td>10</td>\n",
       "      <td>162</td>\n",
       "      <td>0</td>\n",
       "      <td>0.038515</td>\n",
       "      <td>-0.046562</td>\n",
       "      <td>-0.053386</td>\n",
       "      <td>0.021584</td>\n",
       "      <td>0.064898</td>\n",
       "      <td>0.014580</td>\n",
       "      <td>0.052947</td>\n",
       "      <td>...</td>\n",
       "      <td>0.049794</td>\n",
       "      <td>0.023373</td>\n",
       "      <td>-0.063237</td>\n",
       "      <td>0.010680</td>\n",
       "      <td>-0.057770</td>\n",
       "      <td>-0.034171</td>\n",
       "      <td>0.029252</td>\n",
       "      <td>-0.015947</td>\n",
       "      <td>0.003790</td>\n",
       "      <td>0.008414</td>\n",
       "    </tr>\n",
       "    <tr>\n",
       "      <th>32</th>\n",
       "      <td>10</td>\n",
       "      <td>163</td>\n",
       "      <td>0</td>\n",
       "      <td>-0.044150</td>\n",
       "      <td>0.003284</td>\n",
       "      <td>0.014474</td>\n",
       "      <td>0.015551</td>\n",
       "      <td>-0.045022</td>\n",
       "      <td>0.097576</td>\n",
       "      <td>-0.082624</td>\n",
       "      <td>...</td>\n",
       "      <td>0.048664</td>\n",
       "      <td>0.047899</td>\n",
       "      <td>-0.060848</td>\n",
       "      <td>-0.056815</td>\n",
       "      <td>-0.009260</td>\n",
       "      <td>0.008234</td>\n",
       "      <td>-0.007229</td>\n",
       "      <td>-0.041634</td>\n",
       "      <td>0.042187</td>\n",
       "      <td>0.019402</td>\n",
       "    </tr>\n",
       "    <tr>\n",
       "      <th>33</th>\n",
       "      <td>11</td>\n",
       "      <td>170</td>\n",
       "      <td>0</td>\n",
       "      <td>-0.000453</td>\n",
       "      <td>0.103065</td>\n",
       "      <td>0.077814</td>\n",
       "      <td>-0.002597</td>\n",
       "      <td>0.106310</td>\n",
       "      <td>-0.028143</td>\n",
       "      <td>0.035563</td>\n",
       "      <td>...</td>\n",
       "      <td>0.014149</td>\n",
       "      <td>-0.047515</td>\n",
       "      <td>0.142819</td>\n",
       "      <td>-0.040407</td>\n",
       "      <td>-0.028161</td>\n",
       "      <td>0.166323</td>\n",
       "      <td>0.054139</td>\n",
       "      <td>-0.064685</td>\n",
       "      <td>0.053889</td>\n",
       "      <td>0.037485</td>\n",
       "    </tr>\n",
       "    <tr>\n",
       "      <th>34</th>\n",
       "      <td>11</td>\n",
       "      <td>171</td>\n",
       "      <td>0</td>\n",
       "      <td>-0.099692</td>\n",
       "      <td>0.000819</td>\n",
       "      <td>-0.054546</td>\n",
       "      <td>-0.005025</td>\n",
       "      <td>-0.027236</td>\n",
       "      <td>-0.013001</td>\n",
       "      <td>0.035526</td>\n",
       "      <td>...</td>\n",
       "      <td>-0.017440</td>\n",
       "      <td>-0.015440</td>\n",
       "      <td>0.047069</td>\n",
       "      <td>-0.139013</td>\n",
       "      <td>0.029818</td>\n",
       "      <td>0.032999</td>\n",
       "      <td>0.089632</td>\n",
       "      <td>-0.085795</td>\n",
       "      <td>-0.007336</td>\n",
       "      <td>0.160031</td>\n",
       "    </tr>\n",
       "    <tr>\n",
       "      <th>35</th>\n",
       "      <td>11</td>\n",
       "      <td>172</td>\n",
       "      <td>0</td>\n",
       "      <td>0.113921</td>\n",
       "      <td>-0.084961</td>\n",
       "      <td>0.041170</td>\n",
       "      <td>0.026886</td>\n",
       "      <td>0.053265</td>\n",
       "      <td>0.003064</td>\n",
       "      <td>0.012231</td>\n",
       "      <td>...</td>\n",
       "      <td>0.001202</td>\n",
       "      <td>-0.088741</td>\n",
       "      <td>-0.044822</td>\n",
       "      <td>-0.013509</td>\n",
       "      <td>-0.010990</td>\n",
       "      <td>0.023929</td>\n",
       "      <td>0.071145</td>\n",
       "      <td>-0.062928</td>\n",
       "      <td>-0.010691</td>\n",
       "      <td>0.055998</td>\n",
       "    </tr>\n",
       "  </tbody>\n",
       "</table>\n",
       "<p>36 rows × 387 columns</p>\n",
       "</div>"
      ],
      "text/plain": [
       "    timeline_id  timeline_index  time_diff        e1        e2        e3  \\\n",
       "0             0             163          0 -0.018908 -0.014813 -0.017482   \n",
       "1             0             164          0  0.042642 -0.007804 -0.012163   \n",
       "2             0             165          0  0.063822 -0.036153 -0.011823   \n",
       "3             1             159          0 -0.055176  0.057381  0.118514   \n",
       "4             1             160          0  0.093581 -0.036284 -0.040417   \n",
       "5             1             161          0  0.008420  0.041799  0.081391   \n",
       "6             2             150          0  0.017999 -0.005040  0.002259   \n",
       "7             2             151          0  0.038020 -0.056973  0.109420   \n",
       "8             2             152          0 -0.041876 -0.066531  0.065343   \n",
       "9             3             172          0  0.007478 -0.031630 -0.022934   \n",
       "10            3             173          0  0.081314  0.024986 -0.002572   \n",
       "11            3             174          0  0.021244 -0.000772  0.022687   \n",
       "12            4             163          0  0.036098  0.111371  0.086671   \n",
       "13            4             164          0 -0.014889  0.026375  0.050502   \n",
       "14            4             165          0  0.040340  0.038955  0.045714   \n",
       "15            5             174          0  0.022744 -0.028302  0.058648   \n",
       "16            5             175          0 -0.022306 -0.016079  0.041488   \n",
       "17            5             176          0 -0.040486 -0.006108  0.094328   \n",
       "18            6             163          0  0.034429  0.009722  0.022031   \n",
       "19            6             164          0 -0.041923  0.047391  0.072246   \n",
       "20            6             165          0  0.013283 -0.021800  0.033763   \n",
       "21            7             168          0 -0.042535 -0.082120  0.047720   \n",
       "22            7             169          0 -0.023363  0.022999  0.053055   \n",
       "23            7             170          0  0.011846  0.012615  0.008598   \n",
       "24            8             155          0 -0.024584 -0.003746 -0.035141   \n",
       "25            8             156          0 -0.016545 -0.082077  0.017289   \n",
       "26            8             157          0  0.008420  0.041799  0.081391   \n",
       "27            9             178          0 -0.026742 -0.036379 -0.014359   \n",
       "28            9             179          0 -0.004676  0.030449  0.013664   \n",
       "29            9             180          0  0.008444 -0.040875  0.010680   \n",
       "30           10             161          0  0.014744 -0.033921 -0.041137   \n",
       "31           10             162          0  0.038515 -0.046562 -0.053386   \n",
       "32           10             163          0 -0.044150  0.003284  0.014474   \n",
       "33           11             170          0 -0.000453  0.103065  0.077814   \n",
       "34           11             171          0 -0.099692  0.000819 -0.054546   \n",
       "35           11             172          0  0.113921 -0.084961  0.041170   \n",
       "\n",
       "          e4        e5        e6        e7  ...      e375      e376      e377  \\\n",
       "0  -0.045656 -0.042531  0.007781  0.068478  ...  0.007243 -0.012933  0.049774   \n",
       "1  -0.005255  0.023247  0.076407 -0.065785  ...  0.027267  0.020785  0.025420   \n",
       "2   0.055463  0.096392 -0.042728 -0.097622  ...  0.025915 -0.062183 -0.050186   \n",
       "3   0.016655  0.040336  0.006866 -0.025337  ... -0.006925 -0.081017 -0.031130   \n",
       "4   0.032056  0.070038  0.027983  0.020975  ...  0.069012  0.018489 -0.084885   \n",
       "5   0.059575  0.131569  0.035437 -0.027575  ...  0.027052  0.024256 -0.047567   \n",
       "6   0.111517  0.053426 -0.016232 -0.063077  ...  0.020914 -0.032487 -0.002982   \n",
       "7   0.068377  0.050227  0.056639 -0.147607  ...  0.051475 -0.043321 -0.038291   \n",
       "8  -0.139950  0.104556  0.024908 -0.020456  ...  0.100886  0.002315 -0.008325   \n",
       "9   0.041796  0.048448  0.013830 -0.056123  ...  0.062193  0.019601 -0.007836   \n",
       "10  0.078315  0.020401  0.052732 -0.002966  ... -0.002212  0.039970 -0.014091   \n",
       "11 -0.031602  0.089683  0.029163  0.022646  ...  0.041955 -0.060911  0.018343   \n",
       "12  0.075474  0.068746  0.039204 -0.030166  ...  0.006797  0.025606 -0.032057   \n",
       "13  0.031618  0.064115 -0.024642  0.115795  ...  0.012948  0.023635 -0.083252   \n",
       "14  0.034268  0.058435 -0.017656 -0.065105  ...  0.040943 -0.054698 -0.066513   \n",
       "15 -0.033404  0.043366 -0.055474  0.076405  ... -0.030852 -0.010789  0.025168   \n",
       "16 -0.088860  0.018281  0.000303 -0.046232  ...  0.063646  0.040656  0.080764   \n",
       "17 -0.077355  0.081606  0.085251  0.036523  ...  0.016547 -0.008807  0.082862   \n",
       "18  0.026043  0.007901 -0.042962  0.026743  ...  0.047667 -0.023226  0.039988   \n",
       "19  0.039238  0.099224  0.059746  0.022305  ... -0.031210  0.085808  0.003005   \n",
       "20 -0.065777  0.053639  0.036018 -0.016478  ...  0.017055  0.060475  0.118898   \n",
       "21 -0.047705  0.024173  0.005757  0.000566  ...  0.025559 -0.079060  0.009495   \n",
       "22 -0.046648  0.071648  0.069771  0.029324  ... -0.024009  0.038604  0.016106   \n",
       "23 -0.000890  0.125457 -0.061704  0.016630  ...  0.047863 -0.029974  0.054885   \n",
       "24 -0.091416 -0.039984  0.037425  0.045902  ...  0.018773  0.007549  0.033296   \n",
       "25  0.012897  0.039852  0.013913 -0.067003  ...  0.049024 -0.001067 -0.003313   \n",
       "26  0.059575  0.131569  0.035437 -0.027575  ...  0.027052  0.024256 -0.047567   \n",
       "27  0.020848  0.081460  0.084181 -0.065841  ...  0.037064 -0.060899  0.069690   \n",
       "28 -0.005347  0.065621  0.029934  0.001590  ... -0.039909 -0.001782  0.008776   \n",
       "29  0.013658  0.088012 -0.035396 -0.014023  ...  0.076451 -0.049070 -0.066750   \n",
       "30 -0.047015  0.011292  0.087419 -0.009538  ...  0.061104 -0.102381 -0.000008   \n",
       "31  0.021584  0.064898  0.014580  0.052947  ...  0.049794  0.023373 -0.063237   \n",
       "32  0.015551 -0.045022  0.097576 -0.082624  ...  0.048664  0.047899 -0.060848   \n",
       "33 -0.002597  0.106310 -0.028143  0.035563  ...  0.014149 -0.047515  0.142819   \n",
       "34 -0.005025 -0.027236 -0.013001  0.035526  ... -0.017440 -0.015440  0.047069   \n",
       "35  0.026886  0.053265  0.003064  0.012231  ...  0.001202 -0.088741 -0.044822   \n",
       "\n",
       "        e378      e379      e380      e381      e382      e383      e384  \n",
       "0  -0.005479  0.029110  0.095445  0.066490 -0.024560  0.038768  0.002063  \n",
       "1  -0.029233 -0.009675 -0.015309  0.038279 -0.071600  0.024407  0.045655  \n",
       "2   0.021873 -0.154850 -0.048426  0.012281 -0.119089 -0.019863  0.028800  \n",
       "3   0.007082  0.057768  0.057018  0.031306 -0.053457 -0.002456  0.050499  \n",
       "4   0.061317 -0.087391 -0.044331 -0.022192 -0.055648 -0.021028 -0.042622  \n",
       "5   0.090815 -0.092199  0.068407 -0.004386  0.003521 -0.028944  0.077620  \n",
       "6   0.015381 -0.048213  0.068908 -0.004683 -0.102695 -0.006617  0.024194  \n",
       "7  -0.030539 -0.085369 -0.003487 -0.029742 -0.066013  0.039748  0.083712  \n",
       "8  -0.008739  0.035832  0.046722  0.021463 -0.057536  0.073162  0.063549  \n",
       "9  -0.011172 -0.166786 -0.021606 -0.064027 -0.030552  0.014199  0.057888  \n",
       "10 -0.051469 -0.014658  0.013498  0.050605 -0.051250 -0.047869  0.008645  \n",
       "11  0.019738 -0.077389  0.005970  0.066027  0.006970  0.006157 -0.018834  \n",
       "12 -0.014708 -0.038876  0.034971 -0.012147 -0.075365 -0.070478  0.071301  \n",
       "13  0.042637 -0.074313 -0.074671  0.038090 -0.006466 -0.078479 -0.036731  \n",
       "14  0.056455 -0.120176  0.044809 -0.013053 -0.028758 -0.035897  0.065244  \n",
       "15 -0.043897  0.011453 -0.000444  0.109179 -0.036970  0.008755  0.022578  \n",
       "16 -0.051910  0.030105  0.041492  0.033171  0.032823  0.028112  0.054376  \n",
       "17 -0.033948  0.020052  0.126307  0.060060  0.028568  0.003486  0.075106  \n",
       "18 -0.007510 -0.038547  0.070572  0.039564  0.024487  0.042906 -0.069528  \n",
       "19 -0.008934 -0.024346  0.120728  0.094814 -0.024386  0.052346  0.075838  \n",
       "20 -0.115287 -0.022915  0.030094  0.036419 -0.025023  0.040618  0.073190  \n",
       "21 -0.040128 -0.014588  0.037660  0.087958 -0.038175  0.125804  0.058496  \n",
       "22 -0.074913  0.063398  0.100724  0.072157  0.008997 -0.001401  0.062107  \n",
       "23  0.048609 -0.012431  0.129431  0.109423 -0.000681 -0.019032 -0.029429  \n",
       "24 -0.086216 -0.018698  0.088124  0.021164  0.034249  0.052701  0.023057  \n",
       "25 -0.036901  0.009328  0.132574 -0.052572 -0.094901 -0.046854 -0.023933  \n",
       "26  0.090815 -0.092199  0.068407 -0.004386  0.003521 -0.028944  0.077620  \n",
       "27  0.006893  0.048772 -0.013123 -0.095821  0.043459  0.079164 -0.013033  \n",
       "28 -0.053096 -0.020846  0.104553 -0.036112  0.015041  0.073090  0.058084  \n",
       "29 -0.056102 -0.082826  0.002984 -0.005583 -0.029201  0.034078  0.042490  \n",
       "30  0.024190 -0.030520  0.021480 -0.013929 -0.074088  0.022554 -0.029145  \n",
       "31  0.010680 -0.057770 -0.034171  0.029252 -0.015947  0.003790  0.008414  \n",
       "32 -0.056815 -0.009260  0.008234 -0.007229 -0.041634  0.042187  0.019402  \n",
       "33 -0.040407 -0.028161  0.166323  0.054139 -0.064685  0.053889  0.037485  \n",
       "34 -0.139013  0.029818  0.032999  0.089632 -0.085795 -0.007336  0.160031  \n",
       "35 -0.013509 -0.010990  0.023929  0.071145 -0.062928 -0.010691  0.055998  \n",
       "\n",
       "[36 rows x 387 columns]"
      ]
     },
     "execution_count": 90,
     "metadata": {},
     "output_type": "execute_result"
    }
   ],
   "source": [
    "dataset_2.df_padded"
   ]
  },
  {
   "cell_type": "markdown",
   "metadata": {},
   "source": [
    "## Preparing the data for computing signatures"
   ]
  },
  {
   "cell_type": "markdown",
   "metadata": {},
   "source": [
    "Note to Talia: I've added the below code into the `PrepareData` class, as this class should deal with all the sort of things you'd want to do with the dataset."
   ]
  },
  {
   "cell_type": "code",
   "execution_count": 92,
   "metadata": {},
   "outputs": [],
   "source": [
    "if (model_specifics[\"time_injection\"][\"history_tp\"] == 'timestamp'):\n",
    "    # this includes the time_encoding column\n",
    "    path = torch.from_numpy(dataset.array_padded[: , : , 2:].astype(float))\n",
    "else:\n",
    "    # removes the time_encoding column and just keeps the embeddings or dimension reduced embeddings\n",
    "    path = torch.from_numpy(dataset.array_padded[: , : , 3:].astype(float))\n",
    "\n",
    "if (model_specifics[\"time_injection\"][\"post_tp\"]== 'timestamp'):\n",
    "    # this is when time_encoding is used\n",
    "    time_feature = torch.tensor((dataset.df[['time_encoding']].values - dataset.df['time_encoding'].mean()) / dataset.df['time_encoding'].std())\n",
    "    post_time = True\n",
    "elif (model_specifics[\"time_injection\"][\"post_tp\"]== 'timediff'):\n",
    "    # this is when time_diff is used\n",
    "    time_feature = torch.tensor((dataset.df[['time_diff']].values - dataset.df['time_diff'].mean()) / dataset.df['time_diff'].std())\n",
    "    post_time = True  \n",
    "else: \n",
    "    # no time feature is used\n",
    "    time_feature = None\n",
    "    post_time = False\n",
    "    \n",
    "if (model_specifics[\"embedding\"]['post_embedding_tp'] == 'sentence'):\n",
    "    bert_embeddings = torch.tensor(dataset.df[[c for c in dataset.df.columns if re.match(\"^e\\w*[0-9]\", c)]].values)\n",
    "else:\n",
    "    bert_embeddings = None"
   ]
  },
  {
   "cell_type": "markdown",
   "metadata": {},
   "source": [
    "## Obtaining the path\n",
    "\n",
    "So to obtain a path from the padded array, you can use the `.get_torch_path()` method, which can take in a boolean to decide whether or not you get the time features as well (by default, it does include the time features - this is equivalent as:\n",
    "```\n",
    "if (model_specifics[\"time_injection\"][\"history_tp\"] == 'timestamp'):\n",
    "    # this includes the time_encoding column\n",
    "    path = torch.from_numpy(array_padded[: , : , 2:].astype(float))\n",
    "```\n",
    "running above.\n",
    "\n",
    "If you set `include_time_features=False`, then it's like having the \n",
    "```\n",
    "else:\n",
    "    # removes the time_encoding column and just keeps the embeddings or dimension reduced embeddings\n",
    "    path = torch.from_numpy(array_padded[: , : , 3:].astype(float))\n",
    "```\n",
    "part run."
   ]
  },
  {
   "cell_type": "code",
   "execution_count": 93,
   "metadata": {},
   "outputs": [
    {
     "data": {
      "text/plain": [
       "torch.Size([2000, 10, 385])"
      ]
     },
     "execution_count": 93,
     "metadata": {},
     "output_type": "execute_result"
    }
   ],
   "source": [
    "dataset.get_torch_path().shape"
   ]
  },
  {
   "cell_type": "markdown",
   "metadata": {},
   "source": [
    "Verifying that this gives the same result as `path` as before:"
   ]
  },
  {
   "cell_type": "code",
   "execution_count": 94,
   "metadata": {
    "scrolled": true
   },
   "outputs": [
    {
     "data": {
      "text/plain": [
       "tensor(True)"
      ]
     },
     "execution_count": 94,
     "metadata": {},
     "output_type": "execute_result"
    }
   ],
   "source": [
    "(path == dataset.get_torch_path()).all()"
   ]
  },
  {
   "cell_type": "markdown",
   "metadata": {},
   "source": [
    "So if you now set `include_time_features=False`, then you will get a smaller torch tensor object as it removes the time features (recall there's only one as we ran `dataset.pad_timelines(time_feature=[\"time_encoding\"])` earlier so only kept the `time_encoding`."
   ]
  },
  {
   "cell_type": "code",
   "execution_count": 95,
   "metadata": {},
   "outputs": [
    {
     "data": {
      "text/plain": [
       "torch.Size([2000, 10, 383])"
      ]
     },
     "execution_count": 95,
     "metadata": {},
     "output_type": "execute_result"
    }
   ],
   "source": [
    "dataset.get_torch_path(include_time_features=False).shape"
   ]
  },
  {
   "cell_type": "markdown",
   "metadata": {},
   "source": [
    "## Obtaining a time feature torch tensor\n",
    "\n",
    "To obtain a torch tensor of the time feature that we want, we can use the `.get_torch_time_feature()` method, where we pass in the string denoting the feature we want to get (has to be either `\"time_encoding\"` or `\"time_diff\"`), and whether or not to standardise (by default it is `True`). So to get `time_encoding` as a torch tensor:"
   ]
  },
  {
   "cell_type": "code",
   "execution_count": 96,
   "metadata": {},
   "outputs": [
    {
     "data": {
      "text/plain": [
       "tensor([[-1.4818],\n",
       "        [-1.4818],\n",
       "        [-1.4818],\n",
       "        ...,\n",
       "        [ 1.4605],\n",
       "        [ 1.4605],\n",
       "        [ 1.4605]], dtype=torch.float64)"
      ]
     },
     "execution_count": 96,
     "metadata": {},
     "output_type": "execute_result"
    }
   ],
   "source": [
    "dataset.get_torch_time_feature(time_feature=\"time_encoding\")"
   ]
  },
  {
   "cell_type": "markdown",
   "metadata": {},
   "source": [
    "Verifying that this gives the same result as `time_feature` as before:"
   ]
  },
  {
   "cell_type": "code",
   "execution_count": 97,
   "metadata": {},
   "outputs": [
    {
     "data": {
      "text/plain": [
       "tensor(True)"
      ]
     },
     "execution_count": 97,
     "metadata": {},
     "output_type": "execute_result"
    }
   ],
   "source": [
    "(time_feature == dataset.get_torch_time_feature(time_feature=\"time_encoding\")).all()"
   ]
  },
  {
   "cell_type": "markdown",
   "metadata": {},
   "source": [
    "And if we wanted to use the `time_diff` as a feature, we can just do:"
   ]
  },
  {
   "cell_type": "code",
   "execution_count": 98,
   "metadata": {},
   "outputs": [
    {
     "data": {
      "text/plain": [
       "tensor([[-0.0506],\n",
       "        [-0.0506],\n",
       "        [-0.0506],\n",
       "        ...,\n",
       "        [-0.0506],\n",
       "        [-0.0506],\n",
       "        [-0.0506]], dtype=torch.float64)"
      ]
     },
     "execution_count": 98,
     "metadata": {},
     "output_type": "execute_result"
    }
   ],
   "source": [
    "dataset.get_torch_time_feature(time_feature=\"time_diff\")"
   ]
  },
  {
   "cell_type": "markdown",
   "metadata": {},
   "source": [
    "## Obtaining bert embeddings as a torch tensor\n",
    "\n",
    "We can just use `.get_torch_embeddings()` method to get the embeddings. There's an argument `reduced_embeddings` (which is defaulted to `False`) which is a boolean value to determine if you return the full embeddings (saved in `.embedding_sentences`) or the ones that are saved (`.embeddings_reduced`). So to get the full embeddings:"
   ]
  },
  {
   "cell_type": "code",
   "execution_count": 99,
   "metadata": {},
   "outputs": [
    {
     "data": {
      "text/plain": [
       "torch.Size([2000, 384])"
      ]
     },
     "execution_count": 99,
     "metadata": {},
     "output_type": "execute_result"
    }
   ],
   "source": [
    "dataset.get_torch_embeddings().shape"
   ]
  },
  {
   "cell_type": "markdown",
   "metadata": {},
   "source": [
    "Verifying that this gives the same as `bert_embeddings` as before:"
   ]
  },
  {
   "cell_type": "code",
   "execution_count": 100,
   "metadata": {},
   "outputs": [
    {
     "data": {
      "text/plain": [
       "tensor(True)"
      ]
     },
     "execution_count": 100,
     "metadata": {},
     "output_type": "execute_result"
    }
   ],
   "source": [
    "(bert_embeddings == dataset.get_torch_embeddings()).all()"
   ]
  },
  {
   "cell_type": "markdown",
   "metadata": {},
   "source": [
    "To get a torch tensor of the reduced embeddings:"
   ]
  },
  {
   "cell_type": "code",
   "execution_count": 101,
   "metadata": {},
   "outputs": [
    {
     "data": {
      "text/plain": [
       "torch.Size([2000, 10])"
      ]
     },
     "execution_count": 101,
     "metadata": {},
     "output_type": "execute_result"
    }
   ],
   "source": [
    "dataset.get_torch_embeddings(reduced_embeddings=True).shape"
   ]
  },
  {
   "cell_type": "markdown",
   "metadata": {},
   "source": [
    "### Putting it all together\n",
    "\n",
    "So for completeness, this would be how you write your above code, but now using the `PrepareData` class:"
   ]
  },
  {
   "cell_type": "code",
   "execution_count": 102,
   "metadata": {},
   "outputs": [],
   "source": [
    "if (model_specifics[\"time_injection\"][\"history_tp\"] == 'timestamp'):\n",
    "    # this includes the time_encoding column\n",
    "    # path = torch.from_numpy(array_padded[: , : , 2:].astype(float))\n",
    "    path = dataset.get_torch_path()\n",
    "else:\n",
    "    # removes the time_encoding column and just keeps the embeddings or dimension reduced embeddings\n",
    "    # path = torch.from_numpy(array_padded[: , : , 3:].astype(float))\n",
    "    path = dataset.get_torch_path(include_time_features=False)\n",
    "\n",
    "if (model_specifics[\"time_injection\"][\"post_tp\"]== 'timestamp'):\n",
    "    # this is when time_encoding is used\n",
    "    # time_feature = torch.tensor((dataset.df[['time_encoding']].values - dataset.df['time_encoding'].mean()) / dataset.df['time_encoding'].std())\n",
    "    time_feature = dataset.get_torch_time_feature(\"time_encoding\")\n",
    "    post_time = True\n",
    "elif (model_specifics[\"time_injection\"][\"post_tp\"]== 'timediff'):\n",
    "    # this is when time_diff is used\n",
    "    # time_feature = torch.tensor((dataset.df[['time_diff']].values - dataset.df['time_diff'].mean()) / dataset.df['time_diff'].std())\n",
    "    time_feature = dataset.get_torch_time_feature(\"time_diff\")\n",
    "    post_time = True  \n",
    "else: \n",
    "    # no time feature is used\n",
    "    time_feature = None\n",
    "    post_time = False\n",
    "    \n",
    "if (model_specifics[\"embedding\"]['post_embedding_tp'] == 'sentence'):\n",
    "    # bert_embeddings = torch.tensor(dataset.df[[c for c in dataset.df.columns if re.match(\"^e\\w*[0-9]\", c)]].values)\n",
    "    bert_embeddings = dataset.get_torch_embeddings()\n",
    "else:\n",
    "    bert_embeddings = None"
   ]
  },
  {
   "cell_type": "markdown",
   "metadata": {},
   "source": [
    "## Data prep for signatures"
   ]
  },
  {
   "cell_type": "code",
   "execution_count": null,
   "metadata": {},
   "outputs": [],
   "source": [
    "#torch conversion and removal of label and time dimensions for now\n",
    "path = torch.from_numpy(df_padded[: , : , 2:].astype(float))\n",
    "  \n",
    "if (model_specifics['time_injection_post_tp']== 'timestamp'):\n",
    "    mean = df_padded[: , : , 1][df_padded[: , : , 1]!=0].mean()\n",
    "    std = df_padded[: , : , 1][df_padded[: , : , 1]!=0].std()\n",
    "    time_feature = (torch.from_numpy(df_padded[: , : , 1].astype(float)).unsqueeze(1) - mean) /std\n",
    "    time_feature[time_feature < -100] = 0\n",
    "else:\n",
    "    time_feature = None\n",
    "\n",
    "if (model_specifics['post_embedding_tp'] == 'sentence'):\n",
    "    bert_embeddings = torch.tensor(df[[c for c in df.columns if re.match(\"^e\\w*[0-9]\", c)]].values).unsqueeze(2).repeat(1, 1, k)\n",
    "elif (model_specifics['post_embedding_tp'] == 'reduced'):\n",
    "    bert_embeddings = torch.tensor(df[[c for c in df.columns if re.match(\"^d\\w*[0-9]\", c)]].values).unsqueeze(2).repeat(1, 1, k)\n",
    "else:\n",
    "    bert_embeddings = None\n",
    "\n",
    "x_data = torch.transpose(path, 1,2)\n",
    "\n",
    "if (time_feature != None):\n",
    "    x_data = torch.cat((x_data, time_feature), dim=1)\n",
    "if (bert_embeddings != None):\n",
    "    x_data = torch.cat((x_data, bert_embeddings), dim=1)\n",
    "\n",
    "x_data.shape"
   ]
  },
  {
   "cell_type": "markdown",
   "metadata": {},
   "source": [
    "End of data preparation..."
   ]
  },
  {
   "cell_type": "code",
   "execution_count": null,
   "metadata": {},
   "outputs": [],
   "source": []
  },
  {
   "cell_type": "code",
   "execution_count": null,
   "metadata": {},
   "outputs": [],
   "source": []
  },
  {
   "cell_type": "code",
   "execution_count": null,
   "metadata": {},
   "outputs": [],
   "source": []
  },
  {
   "cell_type": "code",
   "execution_count": null,
   "metadata": {},
   "outputs": [],
   "source": []
  },
  {
   "cell_type": "code",
   "execution_count": null,
   "metadata": {},
   "outputs": [],
   "source": []
  },
  {
   "cell_type": "code",
   "execution_count": null,
   "metadata": {},
   "outputs": [],
   "source": []
  },
  {
   "cell_type": "code",
   "execution_count": null,
   "metadata": {},
   "outputs": [],
   "source": []
  },
  {
   "cell_type": "code",
   "execution_count": null,
   "metadata": {},
   "outputs": [],
   "source": []
  },
  {
   "cell_type": "code",
   "execution_count": null,
   "metadata": {},
   "outputs": [],
   "source": []
  },
  {
   "cell_type": "code",
   "execution_count": null,
   "metadata": {},
   "outputs": [],
   "source": []
  },
  {
   "cell_type": "code",
   "execution_count": null,
   "metadata": {},
   "outputs": [],
   "source": []
  },
  {
   "cell_type": "code",
   "execution_count": null,
   "metadata": {},
   "outputs": [],
   "source": []
  },
  {
   "cell_type": "code",
   "execution_count": null,
   "metadata": {},
   "outputs": [],
   "source": []
  },
  {
   "cell_type": "markdown",
   "metadata": {},
   "source": [
    "## Plot embeddings"
   ]
  },
  {
   "cell_type": "markdown",
   "metadata": {},
   "source": [
    "We can again plot the embeddings for each of these."
   ]
  },
  {
   "cell_type": "code",
   "execution_count": 64,
   "metadata": {},
   "outputs": [
    {
     "data": {
      "image/png": "[encoded data removed]",
      "text/plain": [
       "<Figure size 640x480 with 1 Axes>"
      ]
     },
     "metadata": {},
     "output_type": "display_data"
    }
   ],
   "source": [
    "plt_embed = nlpsig.PlotEmbedding(x_data = x_data,\n",
    "                                 y_data = dataset.df[\"label\"].values)\n",
    "plt_embed.plt_2d(\n",
    "    embed_args = {\n",
    "        \"method\": \"pca\",\n",
    "        \"dim\": 2\n",
    "    }\n",
    ")"
   ]
  },
  {
   "cell_type": "code",
   "execution_count": 65,
   "metadata": {},
   "outputs": [
    {
     "data": {
      "image/png": "[encoded data removed]",
      "text/plain": [
       "<Figure size 640x480 with 1 Axes>"
      ]
     },
     "metadata": {},
     "output_type": "display_data"
    }
   ],
   "source": [
    "plt_embed.plt_2d(\n",
    "    embed_args = {\n",
    "        \"method\": \"umap\",\n",
    "        \"dim\": 3\n",
    "    }\n",
    ")"
   ]
  },
  {
   "cell_type": "markdown",
   "metadata": {},
   "source": [
    "## Training a FFN for classification"
   ]
  },
  {
   "cell_type": "markdown",
   "metadata": {},
   "source": [
    "First we set some parameters for this specific example:"
   ]
  },
  {
   "cell_type": "code",
   "execution_count": 99,
   "metadata": {},
   "outputs": [
    {
     "data": {
      "text/plain": [
       "3"
      ]
     },
     "execution_count": 99,
     "metadata": {},
     "output_type": "execute_result"
    }
   ],
   "source": []
  },
  {
   "cell_type": "code",
   "execution_count": 66,
   "metadata": {},
   "outputs": [],
   "source": [
    "input_dim = x_data.shape[1]\n",
    "hidden_dim = 200 #200\n",
    "output_dim = len(dataset_df[\"label\"].value_counts())\n",
    "dropout_rate = 0.35 #0.35 #higher dropout than 0.25 and specifically 0.35 is very promising\n",
    "num_epochs = 100\n",
    "learning_rate = 0.0003 #0.0003 #empirically optimal lr value: 0.0001\n",
    "gamma = 2 #3 #empirically optimal gamma value: 3\n",
    "BATCH_SIZE = 64\n",
    "NUM_folds = 5\n",
    "patience = 2\n",
    "weight_decay_adam = 0.0001"
   ]
  },
  {
   "cell_type": "markdown",
   "metadata": {},
   "source": [
    "### KFold (splitting by groups)"
   ]
  },
  {
   "cell_type": "markdown",
   "metadata": {},
   "source": [
    "The `GroupFolds` class in `nlpsig` splits the data in folds which can be used later on for K-Fold validation. We can pass in the groups into the initialisation of the object as follows:"
   ]
  },
  {
   "cell_type": "code",
   "execution_count": 67,
   "metadata": {},
   "outputs": [],
   "source": [
    "data_folds = nlpsig.GroupFolds(df = dataset.df,\n",
    "                               x_data = x_data,\n",
    "                               y_data = torch.tensor(dataset.df[\"label\"]),\n",
    "                               groups = dataset.df[\"timeline_id\"],\n",
    "                               n_splits = NUM_folds)"
   ]
  },
  {
   "cell_type": "markdown",
   "metadata": {},
   "source": [
    "By default, the class uses the [`GroupKFold`](https://scikit-learn.org/stable/modules/generated/sklearn.model_selection.GroupKFold.html) class from [scikit-learn](https://scikit-learn.org/stable/). This ensures that each group will appear exactly once in the test set across all folds, but it does not allow for shuffling the dataset.\n",
    "\n",
    "If you'd like to shuffle the dataset, you can set `shuffle = True` (remember to set a seed number in `random_state` - but even if you don't, this defaults to `42`). In this case, the class uses [`GroupShuffleSplit`](https://scikit-learn.org/stable/modules/generated/sklearn.model_selection.GroupShuffleSplit.html). This *does not* ensure that each group will appear at least once in a test set. So in this choice, it is possible that some groups are never used to test in the K-Fold evalatuion."
   ]
  },
  {
   "cell_type": "code",
   "execution_count": 68,
   "metadata": {},
   "outputs": [],
   "source": [
    "data_folds_shuffled = nlpsig.GroupFolds(df = dataset.df,\n",
    "                                        x_data = x_data,\n",
    "                                        y_data = torch.tensor(dataset.df[\"label\"]),\n",
    "                                        groups = dataset.df[\"timeline_id\"],\n",
    "                                        n_splits = NUM_folds,\n",
    "                                        shuffle = True,\n",
    "                                        random_state = 2022)"
   ]
  },
  {
   "cell_type": "markdown",
   "metadata": {},
   "source": [
    "The indicies for each fold are saved in `fold_indices` attribute"
   ]
  },
  {
   "cell_type": "code",
   "execution_count": 69,
   "metadata": {},
   "outputs": [
    {
     "data": {
      "text/plain": [
       "(array([ 156,  157,  158, ..., 1997, 1998, 1999]),\n",
       " array([   0,    1,    2,    3,    4,    5,    6,    7,    8,    9,   10,\n",
       "          11,   12,   13,   14,   15,   16,   17,   18,   19,   20,   21,\n",
       "          22,   23,   24,   25,   26,   27,   28,   29,   30,   31,   32,\n",
       "          33,   34,   35,   36,   37,   38,   39,   40,   41,   42,   43,\n",
       "          44,   45,   46,   47,   48,   49,   50,   51,   52,   53,   54,\n",
       "          55,   56,   57,   58,   59,   60,   61,   62,   63,   64,   65,\n",
       "          66,   67,   68,   69,   70,   71,   72,   73,   74,   75,   76,\n",
       "          77,   78,   79,   80,   81,   82,   83,   84,   85,   86,   87,\n",
       "          88,   89,   90,   91,   92,   93,   94,   95,   96,   97,   98,\n",
       "          99,  100,  101,  102,  103,  104,  105,  106,  107,  108,  109,\n",
       "         110,  111,  112,  113,  114,  115,  116,  117,  118,  119,  120,\n",
       "         121,  122,  123,  124,  125,  126,  127,  128,  129,  130,  131,\n",
       "         132,  133,  134,  135,  136,  137,  138,  139,  140,  141,  142,\n",
       "         143,  144,  145,  146,  147,  148,  149,  150,  151,  152,  153,\n",
       "         154,  155, 1643, 1644, 1645, 1646, 1647, 1648, 1649, 1650, 1651,\n",
       "        1652, 1653, 1654, 1655, 1656, 1657, 1658, 1659, 1660, 1661, 1662,\n",
       "        1663, 1664, 1665, 1666, 1667, 1668, 1669, 1670, 1671, 1672, 1673,\n",
       "        1674, 1675, 1676, 1677, 1678, 1679, 1680, 1681, 1682, 1683, 1684,\n",
       "        1685, 1686, 1687, 1688, 1689, 1690, 1691, 1692, 1693, 1694, 1695,\n",
       "        1696, 1697, 1698, 1699, 1700, 1701, 1702, 1703, 1704, 1705, 1706,\n",
       "        1707, 1708, 1709, 1710, 1711, 1712, 1713, 1714, 1715, 1716, 1717,\n",
       "        1718, 1719, 1720, 1721, 1722, 1723, 1724, 1725, 1726, 1727, 1728,\n",
       "        1729, 1730, 1731, 1732, 1733, 1734, 1735, 1736, 1737, 1738, 1739,\n",
       "        1740, 1741, 1742, 1743, 1744, 1745, 1746, 1747, 1748, 1749, 1750,\n",
       "        1751, 1752, 1753, 1754, 1755, 1756, 1757, 1758, 1759, 1760, 1761,\n",
       "        1762, 1763, 1764, 1765, 1766, 1767, 1768, 1769, 1770, 1771, 1772,\n",
       "        1773, 1774, 1775, 1776, 1777, 1778, 1779, 1780, 1781, 1782, 1783,\n",
       "        1784, 1785, 1786, 1787, 1788, 1789, 1790, 1791, 1792, 1793, 1794,\n",
       "        1795, 1796, 1797, 1798, 1799, 1800, 1801, 1802, 1803, 1804, 1805,\n",
       "        1806, 1807, 1808, 1809, 1810, 1811, 1812, 1813, 1814, 1815, 1816,\n",
       "        1817, 1818, 1819, 1820, 1821, 1822, 1823, 1824, 1825, 1826, 1827]))"
      ]
     },
     "execution_count": 69,
     "metadata": {},
     "output_type": "execute_result"
    }
   ],
   "source": [
    "data_folds.fold_indices[0]"
   ]
  },
  {
   "cell_type": "markdown",
   "metadata": {},
   "source": [
    "We can obtain training dataset, validation dataset, test datasets via the `.get_splits()` method, which slices the data using the indicies stored in `fold_indices` for a given fold. For example, if we wanted training, validation, and test datasets for the first fold, we have:"
   ]
  },
  {
   "cell_type": "code",
   "execution_count": 70,
   "metadata": {
    "scrolled": false
   },
   "outputs": [
    {
     "data": {
      "text/plain": [
       "(tensor([[ 0.0000e+00,  0.0000e+00,  0.0000e+00,  ...,  0.0000e+00,\n",
       "           0.0000e+00, -1.4375e+00],\n",
       "         [ 0.0000e+00,  0.0000e+00,  0.0000e+00,  ...,  0.0000e+00,\n",
       "           0.0000e+00, -1.4375e+00],\n",
       "         [ 0.0000e+00, -6.1035e-01,  3.6097e+00,  ..., -7.4506e-09,\n",
       "          -2.9802e-08, -1.4375e+00],\n",
       "         ...,\n",
       "         [ 0.0000e+00, -3.2641e-01,  2.6874e+00,  ...,  3.9495e+00,\n",
       "          -3.8193e-01,  1.4488e+00],\n",
       "         [ 0.0000e+00, -1.0982e+00, -1.0805e+00,  ...,  3.4475e+00,\n",
       "          -2.0165e-01,  1.4488e+00],\n",
       "         [ 0.0000e+00, -5.5399e-01,  5.0340e-02,  ...,  3.4143e+00,\n",
       "          -4.4583e-02,  1.4488e+00]]),\n",
       " tensor([2, 0, 0, 0, 2, 1, 2, 0, 0, 0, 2, 0, 0, 2, 2, 0, 0, 0, 0, 0, 2, 0, 0, 0,\n",
       "         0, 0, 0, 0, 0, 0, 0, 2, 2, 0, 0, 0, 0, 0, 0, 0, 0, 0, 0, 0, 0, 2, 0, 2,\n",
       "         2, 0, 2, 2, 2, 0, 0, 0, 0, 0, 0, 2, 0, 0, 2, 2, 0, 2, 2, 0, 2, 2, 0, 2,\n",
       "         0, 2, 0, 2, 2, 2, 0, 0, 2, 0, 2, 0, 2, 0, 2, 0, 0, 2, 0, 2, 0, 2, 0, 2,\n",
       "         2, 2, 2, 2, 2, 2, 0, 2, 2, 2, 0, 0, 0, 2, 0, 0, 0, 0, 0, 0, 0, 2, 2, 0,\n",
       "         0, 2, 2, 0, 0, 0, 2, 0, 0, 2, 2, 0, 0, 0, 2, 2, 2, 2, 2, 2, 0, 2, 0, 0,\n",
       "         2, 0, 2, 2, 2, 2, 0, 0, 2, 2, 0, 2, 1, 2, 0, 0, 0, 0, 0, 2, 0, 0, 2, 0,\n",
       "         0, 0, 0, 0, 2, 2, 0, 0, 0, 0, 0, 0, 0, 0, 0, 0, 0, 0, 0, 2, 0, 0, 2, 0,\n",
       "         0, 0, 0, 2, 0, 0, 0, 0, 0, 0, 0, 0, 0, 0, 0, 0, 2, 0, 0, 0, 0, 0, 0, 0,\n",
       "         0, 2, 0, 2, 0, 0, 2, 0, 0, 2, 2, 0, 0, 0, 2, 2, 2, 0, 2, 2, 0, 0, 0, 2,\n",
       "         2, 0, 2, 2, 2, 2, 2, 2, 0, 2, 0, 2, 0, 0, 0, 0, 0, 2, 0, 2, 2, 0, 2, 0,\n",
       "         0, 0, 2, 2, 0, 0, 2, 2, 2, 0, 0, 2, 2, 2, 0, 2, 0, 2, 2, 0, 0, 0, 0, 2,\n",
       "         0, 0, 0, 0, 2, 0, 2, 2, 0, 2, 2, 2, 0, 0, 0, 0, 0, 2, 0, 0, 0, 0, 2, 2,\n",
       "         0, 2, 2, 0, 0, 2, 0, 2, 2, 2, 0, 2, 2, 2, 0, 0, 2, 0, 2, 2, 2, 2, 2, 2,\n",
       "         2, 0, 2, 2, 0]),\n",
       " tensor([[ 0.0000,  1.5781,  3.6095,  ...,  3.5895, -0.3942,  0.2991],\n",
       "         [ 0.0000,  0.2869,  1.7151,  ...,  3.5943, -0.3943,  0.2991],\n",
       "         [ 0.0000,  1.1364,  1.2429,  ...,  3.5428, -0.3928,  0.2991],\n",
       "         ...,\n",
       "         [ 0.0000, -0.5148,  4.3809,  ..., -0.2851, -2.4537,  1.4536],\n",
       "         [ 0.0000,  0.4502,  3.7007,  ..., -0.8336, -3.9177,  1.4536],\n",
       "         [ 0.0000, -0.6569,  4.2680,  ..., -0.6470, -1.7571,  1.4536]]),\n",
       " tensor([2, 2, 2, 0, 0, 0, 2, 0, 2, 2, 2, 0, 0, 2, 0, 0, 0, 2, 0, 0, 2, 0, 0, 2,\n",
       "         0, 0, 0, 2, 2, 2, 0, 0, 2, 2, 2, 0, 0, 0, 2, 2, 2, 2, 2, 2, 2, 0, 2, 0,\n",
       "         2, 2, 2, 2, 0, 2, 2, 2, 2, 2, 2, 2, 0, 2, 0, 2, 0, 2, 2, 2, 2, 0, 0, 2,\n",
       "         0, 0, 2, 0, 0, 2, 0, 0, 0, 0, 0, 0, 0, 0, 0, 0, 0, 0, 2, 2, 2, 0, 2, 0,\n",
       "         0, 0, 2, 0, 2, 2, 2, 2, 0, 0, 0, 0, 2, 2, 0, 0, 0, 2, 0, 0, 0, 0, 2, 2,\n",
       "         0, 0, 0, 0, 0, 2, 0, 0, 0, 0, 0, 2, 0, 0, 2, 2, 2, 0, 1, 0, 2, 0, 2, 0,\n",
       "         0, 2, 2, 0, 2, 0, 0, 0, 2, 2, 2, 2, 2, 0, 0, 2, 0, 2, 0, 0, 0, 0, 2, 2,\n",
       "         2, 2, 2, 0, 0, 2, 0, 2, 2, 0, 2, 2, 2, 0, 2, 2, 2, 2, 2, 2, 2, 0, 2, 0,\n",
       "         2, 0, 0, 2, 2, 0, 0, 2, 2, 0, 2, 0, 0, 2, 0, 0, 2, 0, 0, 2, 2, 1, 2, 2,\n",
       "         2, 2, 2, 0, 2, 2, 2, 2, 0, 0, 0, 0, 0, 0, 0, 2, 0, 0, 0, 2, 2, 0, 0, 0,\n",
       "         0, 0, 0, 0, 0, 0, 0, 0, 0, 2, 2, 0, 0, 0, 2, 0, 0, 0, 2, 0, 0, 2, 2, 0,\n",
       "         0, 2, 0, 0, 2, 0, 2, 0, 0, 0, 2, 0, 2, 0, 0, 2, 2, 0, 0, 0, 0, 0, 1, 0,\n",
       "         2, 0, 2, 0, 0, 2, 2, 0, 0, 0, 2, 2, 2, 2, 0, 0, 0, 2, 2, 2, 0, 2, 0, 2,\n",
       "         2, 0, 0, 0, 0, 2, 2, 2, 2, 0, 2, 0, 2, 0, 2, 2, 2, 2, 0, 2, 2, 0, 2, 2,\n",
       "         2, 0, 2, 0, 0, 2, 0, 2, 0, 2, 0, 0, 2, 2, 0, 0, 0, 0, 0, 2, 2, 2, 2, 2,\n",
       "         0, 2, 0, 2, 0, 2, 2, 0, 2, 0, 2, 0, 0, 2, 2, 2, 2, 2, 2, 0, 0, 0, 0, 0,\n",
       "         2, 0, 0, 0, 0, 0, 0, 0, 0, 0, 0, 0, 0, 0, 0, 0, 0, 0, 0, 0, 0, 0, 0, 2,\n",
       "         0, 0, 0, 0, 2, 0, 0, 1, 0, 0, 0, 0, 0, 0, 0, 0, 2, 2, 2, 0, 1, 2, 0, 0,\n",
       "         0, 2, 2, 0, 2, 2, 0, 0, 2, 2, 0, 0, 2, 2, 2, 0, 2, 0, 0, 0, 0, 0, 2, 2,\n",
       "         0, 0, 2, 2, 0, 0, 2, 2, 2, 2, 2, 2, 0, 0, 0, 0, 2, 0, 0, 0, 0, 0, 2, 0,\n",
       "         0, 2, 2, 2, 2, 2, 2, 2, 2, 0, 2, 0, 2, 0, 2, 0, 2, 2, 0, 0, 0, 0, 2, 0,\n",
       "         0, 2, 2, 0, 2, 2, 2, 2, 0, 2, 2, 2, 2, 0, 0, 0, 2, 0, 2, 2, 2, 2, 2, 2,\n",
       "         0, 0, 0, 0, 2, 0, 0, 2, 2, 2, 2, 2, 0, 2, 2, 0, 0, 0, 0, 2]),\n",
       " tensor([[ 0.0000e+00,  0.0000e+00,  0.0000e+00,  ...,  0.0000e+00,\n",
       "           0.0000e+00, -1.4327e+00],\n",
       "         [ 0.0000e+00,  0.0000e+00,  0.0000e+00,  ...,  0.0000e+00,\n",
       "           0.0000e+00, -1.4327e+00],\n",
       "         [ 0.0000e+00, -1.0701e+00, -3.6631e-01,  ...,  9.3132e-10,\n",
       "           5.5879e-09, -1.4327e+00],\n",
       "         ...,\n",
       "         [ 0.0000e+00,  6.7421e-01,  1.9036e+00,  ...,  3.5407e+00,\n",
       "          -3.9158e-01,  2.9907e-01],\n",
       "         [ 0.0000e+00,  1.8274e+00,  2.2588e+00,  ...,  3.5904e+00,\n",
       "          -3.9649e-01,  2.9907e-01],\n",
       "         [ 0.0000e+00, -1.5530e-01,  2.3981e+00,  ...,  3.5586e+00,\n",
       "          -3.8731e-01,  2.9907e-01]]),\n",
       " tensor([2, 2, 0,  ..., 0, 2, 0]))"
      ]
     },
     "execution_count": 70,
     "metadata": {},
     "output_type": "execute_result"
    }
   ],
   "source": [
    "data_folds.get_splits(0)"
   ]
  },
  {
   "cell_type": "markdown",
   "metadata": {},
   "source": [
    "By default, these will be in torch Tensors, but if we wanted them in as torch `DataLoader` objects, we set `as_DataLoader = True`:"
   ]
  },
  {
   "cell_type": "code",
   "execution_count": 71,
   "metadata": {},
   "outputs": [
    {
     "data": {
      "text/plain": [
       "(<torch.utils.data.dataloader.DataLoader at 0x29d840520>,\n",
       " <torch.utils.data.dataloader.DataLoader at 0x29d840eb0>,\n",
       " <torch.utils.data.dataloader.DataLoader at 0x2a6b81850>)"
      ]
     },
     "execution_count": 71,
     "metadata": {},
     "output_type": "execute_result"
    }
   ],
   "source": [
    "data_folds.get_splits(fold_index = 0,\n",
    "                      as_DataLoader = True)"
   ]
  },
  {
   "cell_type": "markdown",
   "metadata": {},
   "source": [
    "### Fitting a PyTorch model"
   ]
  },
  {
   "cell_type": "markdown",
   "metadata": {},
   "source": [
    "There are `validation_pytorch`, `training_pytorch` and `testing_pytorch` functions which we can use to train our model. We will do this with the first fold given above:"
   ]
  },
  {
   "cell_type": "code",
   "execution_count": 72,
   "metadata": {},
   "outputs": [],
   "source": [
    "train, valid, test = data_folds.get_splits(fold_index = 0,\n",
    "                                           as_DataLoader = True)"
   ]
  },
  {
   "cell_type": "markdown",
   "metadata": {},
   "source": [
    "`training_pytorch` does all the training (and uses the validation set and `validation_pytorch` to do so):"
   ]
  },
  {
   "cell_type": "code",
   "execution_count": 73,
   "metadata": {},
   "outputs": [],
   "source": [
    "# initial model definitions\n",
    "model = FeedforwardNeuralNetModel(input_dim,\n",
    "                                  hidden_dim,\n",
    "                                  output_dim,\n",
    "                                  dropout_rate)\n",
    "criterion = FocalLoss(gamma = gamma)\n",
    "optimizer = torch.optim.Adam(model.parameters(),\n",
    "                             lr = learning_rate,\n",
    "                             weight_decay = weight_decay_adam)"
   ]
  },
  {
   "cell_type": "code",
   "execution_count": 74,
   "metadata": {},
   "outputs": [
    {
     "name": "stderr",
     "output_type": "stream",
     "text": [
      "\r",
      "  0%|                                                                                                              | 0/1000 [00:00<?, ?it/s]"
     ]
    },
    {
     "name": "stdout",
     "output_type": "stream",
     "text": [
      "Epoch: 1/1000 || Item: 0/1111 || Loss: 1.6430288553237915\n"
     ]
    },
    {
     "name": "stderr",
     "output_type": "stream",
     "text": [
      "\r",
      "  0%|                                                                                                      | 1/1000 [00:01<18:19,  1.10s/it]"
     ]
    },
    {
     "name": "stdout",
     "output_type": "stream",
     "text": [
      "Epoch: 1/1000 || Item: 1000/1111 || Loss: 0.03744242340326309\n",
      "--------------------------------------------------\n",
      "##### Epoch: 1/1000 || Loss: 0.008848604746162891\n",
      "--------------------------------------------------\n",
      "Epoch: 1 || Loss: 0.2532393157577319 || Accuracy: 0.5364963412284851 || F1-score: 0.35888825330596585.\n"
     ]
    },
    {
     "name": "stderr",
     "output_type": "stream",
     "text": [
      "  2%|█▌                                                                                                   | 15/1000 [00:16<18:05,  1.10s/it]"
     ]
    },
    {
     "name": "stdout",
     "output_type": "stream",
     "text": [
      "Early stopping at epoch 16!\n"
     ]
    },
    {
     "name": "stderr",
     "output_type": "stream",
     "text": [
      "\n"
     ]
    }
   ],
   "source": [
    "trained_model = nlpsig.training_pytorch(model = model,\n",
    "                                        train_loader = train,\n",
    "                                        valid_loader = valid,\n",
    "                                        criterion = criterion,\n",
    "                                        optimizer = optimizer,\n",
    "                                        num_epochs=1000,\n",
    "                                        seed = 2022,\n",
    "                                        verbose = True)"
   ]
  },
  {
   "cell_type": "markdown",
   "metadata": {},
   "source": [
    "Lets see how well it performs on the test set:"
   ]
  },
  {
   "cell_type": "code",
   "execution_count": 75,
   "metadata": {},
   "outputs": [],
   "source": [
    "predicted, labels = nlpsig.testing_pytorch(model = model,\n",
    "                                           test_loader = test)"
   ]
  },
  {
   "cell_type": "code",
   "execution_count": 97,
   "metadata": {},
   "outputs": [
    {
     "data": {
      "text/plain": [
       "0    1131\n",
       "2     845\n",
       "1      24\n",
       "Name: label, dtype: int64"
      ]
     },
     "execution_count": 97,
     "metadata": {},
     "output_type": "execute_result"
    }
   ],
   "source": []
  },
  {
   "cell_type": "code",
   "execution_count": 76,
   "metadata": {},
   "outputs": [
    {
     "name": "stdout",
     "output_type": "stream",
     "text": [
      "accuracy: 0.589442789554596\n"
     ]
    }
   ],
   "source": [
    "print(\"accuracy: \" + str(((predicted == labels).sum() / labels.size(0)).item()))"
   ]
  },
  {
   "cell_type": "markdown",
   "metadata": {},
   "source": [
    "### KFold evaluation of a PyTorch model"
   ]
  },
  {
   "cell_type": "markdown",
   "metadata": {},
   "source": [
    "We have created a function called `KFold_pytorch` which allows you to pass in a `GroupFolds` object (which stores the folds and data), a Pytorch model, loss function and optimizer in and will perform the K-Fold evaluation. This returns the accuracy and F1-scores of each fold as a dataframe.\n",
    "\n",
    "We need to initialise the models first. It is vital that these are untrained, as we will do the K-Fold evaluation by first saving the PyTorch model and optimizer states. For each fold, these are re-loaded and then training and testing is performed for that particular fold."
   ]
  },
  {
   "cell_type": "code",
   "execution_count": 77,
   "metadata": {},
   "outputs": [],
   "source": [
    "# initial model definitions\n",
    "model = FeedforwardNeuralNetModel(input_dim,\n",
    "                                  hidden_dim,\n",
    "                                  output_dim,\n",
    "                                  dropout_rate)\n",
    "criterion = FocalLoss(gamma = gamma)\n",
    "optimizer = torch.optim.Adam(model.parameters(),\n",
    "                             lr = learning_rate,\n",
    "                             weight_decay = weight_decay_adam)"
   ]
  },
  {
   "cell_type": "markdown",
   "metadata": {},
   "source": [
    "We simply pass this into `KFold_pytorch` function as follows:"
   ]
  },
  {
   "cell_type": "code",
   "execution_count": 78,
   "metadata": {
    "scrolled": true
   },
   "outputs": [
    {
     "name": "stderr",
     "output_type": "stream",
     "text": [
      "  0%|                                                                                                                 | 0/5 [00:00<?, ?it/s]/Users/rchan/Library/CloudStorage/OneDrive-TheAlanTuringInstitute/rough_paths/path_signatures_bert/nlpsig/pytorch_utils.py:169: UserWarning: To copy construct from a tensor, it is recommended to use sourceTensor.clone().detach() or sourceTensor.clone().detach().requires_grad_(True), rather than torch.tensor(sourceTensor).\n",
      "  criterion.set_alpha_from_y(y = torch.tensor(y_train))\n"
     ]
    },
    {
     "name": "stdout",
     "output_type": "stream",
     "text": [
      "\n",
      "**************************************************\n",
      "Fold: 1 / 5\n",
      "**************************************************\n"
     ]
    },
    {
     "name": "stderr",
     "output_type": "stream",
     "text": [
      "\n",
      "  0%|                                                                                                              | 0/1000 [00:00<?, ?it/s]\u001b[A"
     ]
    },
    {
     "name": "stdout",
     "output_type": "stream",
     "text": [
      "Epoch: 1/1000 || Item: 0/1111 || Loss: 3.259897232055664\n"
     ]
    },
    {
     "name": "stderr",
     "output_type": "stream",
     "text": [
      "\n",
      "  0%|                                                                                                      | 1/1000 [00:01<19:08,  1.15s/it]\u001b[A"
     ]
    },
    {
     "name": "stdout",
     "output_type": "stream",
     "text": [
      "--------------------------------------------------\n",
      "##### Epoch: 1/1000 || Loss: 0.44480225443840027\n",
      "--------------------------------------------------\n",
      "Epoch: 1 || Loss: 0.6871108186140615 || Accuracy: 0.5091241002082825 || F1-score: 0.33810470330445636.\n"
     ]
    },
    {
     "name": "stderr",
     "output_type": "stream",
     "text": [
      "\n",
      "  0%|▏                                                                                                     | 2/1000 [00:02<18:51,  1.13s/it]\u001b[A\n",
      "  0%|▎                                                                                                     | 3/1000 [00:03<19:52,  1.20s/it]\u001b[A\n",
      "  0%|▍                                                                                                     | 4/1000 [00:04<19:21,  1.17s/it]\u001b[A\n",
      "  0%|▌                                                                                                     | 5/1000 [00:05<18:53,  1.14s/it]\u001b[A\n",
      "  1%|▌                                                                                                     | 6/1000 [00:06<19:01,  1.15s/it]\u001b[A\n",
      "  1%|▋                                                                                                     | 7/1000 [00:08<18:50,  1.14s/it]\u001b[A\n",
      "  1%|▊                                                                                                     | 8/1000 [00:09<19:08,  1.16s/it]\u001b[A\n",
      "  1%|▉                                                                                                     | 9/1000 [00:10<18:57,  1.15s/it]\u001b[A\n",
      "  1%|█                                                                                                    | 10/1000 [00:11<18:51,  1.14s/it]\u001b[A\n",
      "  1%|█                                                                                                    | 11/1000 [00:12<18:47,  1.14s/it]\u001b[A\n",
      "  1%|█▏                                                                                                   | 12/1000 [00:13<18:39,  1.13s/it]\u001b[A\n",
      "  1%|█▎                                                                                                   | 13/1000 [00:14<18:22,  1.12s/it]\u001b[A\n",
      "  1%|█▍                                                                                                   | 14/1000 [00:15<18:02,  1.10s/it]\u001b[A\n",
      "  2%|█▌                                                                                                   | 15/1000 [00:16<17:45,  1.08s/it]\u001b[A\n",
      "  2%|█▌                                                                                                   | 16/1000 [00:17<17:30,  1.07s/it]\u001b[A\n",
      "  2%|█▋                                                                                                   | 17/1000 [00:19<17:24,  1.06s/it]\u001b[A\n",
      "  2%|█▊                                                                                                   | 18/1000 [00:20<17:40,  1.08s/it]\u001b[A\n",
      "  2%|█▉                                                                                                   | 19/1000 [00:21<17:41,  1.08s/it]\u001b[A\n",
      "  2%|██                                                                                                   | 20/1000 [00:22<17:47,  1.09s/it]\u001b[A"
     ]
    },
    {
     "name": "stdout",
     "output_type": "stream",
     "text": [
      "Epoch: 21/1000 || Item: 0/1111 || Loss: 0.2449704259634018\n"
     ]
    },
    {
     "name": "stderr",
     "output_type": "stream",
     "text": [
      "\n",
      "  2%|██                                                                                                   | 21/1000 [00:23<17:54,  1.10s/it]\u001b[A"
     ]
    },
    {
     "name": "stdout",
     "output_type": "stream",
     "text": [
      "--------------------------------------------------\n",
      "##### Epoch: 21/1000 || Loss: 0.19298487901687622\n",
      "--------------------------------------------------\n",
      "Epoch: 21 || Loss: 3.0515410575994224 || Accuracy: 0.4781021773815155 || F1-score: 0.277788275520763.\n"
     ]
    },
    {
     "name": "stderr",
     "output_type": "stream",
     "text": [
      "\n",
      "  2%|██▏                                                                                                  | 22/1000 [00:24<17:54,  1.10s/it]\u001b[A\n",
      "  2%|██▎                                                                                                  | 23/1000 [00:25<17:59,  1.10s/it]\u001b[A\n",
      "  2%|██▍                                                                                                  | 24/1000 [00:26<18:01,  1.11s/it]\u001b[A\n",
      "  2%|██▌                                                                                                  | 25/1000 [00:27<18:26,  1.14s/it]\u001b[A\n",
      "  3%|██▋                                                                                                  | 26/1000 [00:29<18:41,  1.15s/it]\u001b[A\n",
      "  3%|██▋                                                                                                  | 27/1000 [00:30<18:34,  1.15s/it]\u001b[A\n",
      "  3%|██▊                                                                                                  | 28/1000 [00:31<18:04,  1.12s/it]\u001b[A\n",
      "  3%|██▉                                                                                                  | 29/1000 [00:32<18:06,  1.12s/it]\u001b[A\n",
      "  3%|███                                                                                                  | 30/1000 [00:33<17:53,  1.11s/it]\u001b[A\n",
      "  3%|███▏                                                                                                 | 31/1000 [00:34<17:37,  1.09s/it]\u001b[A\n",
      "  3%|███▏                                                                                                 | 32/1000 [00:35<17:35,  1.09s/it]\u001b[A\n",
      "  3%|███▎                                                                                                 | 33/1000 [00:36<17:16,  1.07s/it]\u001b[A\n",
      "  3%|███▍                                                                                                 | 34/1000 [00:37<17:43,  1.10s/it]\u001b[A\n",
      "  4%|███▌                                                                                                 | 35/1000 [00:39<18:27,  1.15s/it]\u001b[A\n",
      "  4%|███▋                                                                                                 | 36/1000 [00:40<19:32,  1.22s/it]\u001b[A\n",
      "  4%|███▋                                                                                                 | 37/1000 [00:41<18:52,  1.18s/it]\u001b[A\n",
      "  4%|███▊                                                                                                 | 38/1000 [00:42<18:15,  1.14s/it]\u001b[A\n",
      "  4%|███▉                                                                                                 | 39/1000 [00:43<17:45,  1.11s/it]\u001b[A\n",
      "  4%|████                                                                                                 | 40/1000 [00:44<17:34,  1.10s/it]\u001b[A"
     ]
    },
    {
     "name": "stdout",
     "output_type": "stream",
     "text": [
      "Epoch: 41/1000 || Item: 0/1111 || Loss: 0.3643237054347992\n"
     ]
    },
    {
     "name": "stderr",
     "output_type": "stream",
     "text": [
      "\n",
      "  4%|████▏                                                                                                | 41/1000 [00:45<17:30,  1.10s/it]\u001b[A"
     ]
    },
    {
     "name": "stdout",
     "output_type": "stream",
     "text": [
      "--------------------------------------------------\n",
      "##### Epoch: 41/1000 || Loss: 0.0011263604974374175\n",
      "--------------------------------------------------\n",
      "Epoch: 41 || Loss: 10.590729098710224 || Accuracy: 0.49635037779808044 || F1-score: 0.27876452189454876.\n"
     ]
    },
    {
     "name": "stderr",
     "output_type": "stream",
     "text": [
      "\n",
      "  4%|████▏                                                                                                | 42/1000 [00:48<18:15,  1.14s/it]\u001b[A\n",
      " 20%|█████████████████████                                                                                    | 1/5 [00:48<03:12, 48.05s/it]/Users/rchan/Library/CloudStorage/OneDrive-TheAlanTuringInstitute/rough_paths/path_signatures_bert/nlpsig/pytorch_utils.py:169: UserWarning: To copy construct from a tensor, it is recommended to use sourceTensor.clone().detach() or sourceTensor.clone().detach().requires_grad_(True), rather than torch.tensor(sourceTensor).\n",
      "  criterion.set_alpha_from_y(y = torch.tensor(y_train))\n"
     ]
    },
    {
     "name": "stdout",
     "output_type": "stream",
     "text": [
      "Early stopping at epoch 43!\n",
      "\n",
      "**************************************************\n",
      "Fold: 2 / 5\n",
      "**************************************************\n"
     ]
    },
    {
     "name": "stderr",
     "output_type": "stream",
     "text": [
      "\n",
      "  0%|                                                                                                              | 0/1000 [00:00<?, ?it/s]\u001b[A"
     ]
    },
    {
     "name": "stdout",
     "output_type": "stream",
     "text": [
      "Epoch: 1/1000 || Item: 0/1012 || Loss: 0.009128635749220848\n"
     ]
    },
    {
     "name": "stderr",
     "output_type": "stream",
     "text": [
      "\n",
      "  0%|                                                                                                      | 1/1000 [00:01<18:12,  1.09s/it]\u001b[A"
     ]
    },
    {
     "name": "stdout",
     "output_type": "stream",
     "text": [
      "--------------------------------------------------\n",
      "##### Epoch: 1/1000 || Loss: 0.4454842209815979\n",
      "--------------------------------------------------\n",
      "Epoch: 1 || Loss: 0.7218885194465063 || Accuracy: 0.5210421085357666 || F1-score: 0.30225017470300486.\n"
     ]
    },
    {
     "name": "stderr",
     "output_type": "stream",
     "text": [
      "\n",
      "  0%|▏                                                                                                     | 2/1000 [00:02<17:29,  1.05s/it]\u001b[A\n",
      "  0%|▎                                                                                                     | 3/1000 [00:03<17:30,  1.05s/it]\u001b[A\n",
      "  0%|▍                                                                                                     | 4/1000 [00:04<17:45,  1.07s/it]\u001b[A\n",
      "  0%|▌                                                                                                     | 5/1000 [00:05<17:38,  1.06s/it]\u001b[A\n",
      "  1%|▌                                                                                                     | 6/1000 [00:06<17:34,  1.06s/it]\u001b[A\n",
      "  1%|▋                                                                                                     | 7/1000 [00:07<17:30,  1.06s/it]\u001b[A\n",
      "  1%|▊                                                                                                     | 8/1000 [00:08<17:13,  1.04s/it]\u001b[A\n",
      "  1%|▉                                                                                                     | 9/1000 [00:09<17:06,  1.04s/it]\u001b[A\n",
      "  1%|█                                                                                                    | 10/1000 [00:10<16:54,  1.02s/it]\u001b[A\n",
      "  1%|█                                                                                                    | 11/1000 [00:11<16:40,  1.01s/it]\u001b[A\n",
      "  1%|█▏                                                                                                   | 12/1000 [00:12<16:43,  1.02s/it]\u001b[A\n",
      "  1%|█▎                                                                                                   | 13/1000 [00:13<16:27,  1.00s/it]\u001b[A\n",
      "  1%|█▍                                                                                                   | 14/1000 [00:14<16:33,  1.01s/it]\u001b[A\n",
      "  2%|█▌                                                                                                   | 15/1000 [00:15<16:59,  1.04s/it]\u001b[A\n",
      "  2%|█▌                                                                                                   | 16/1000 [00:16<16:41,  1.02s/it]\u001b[A\n",
      "  2%|█▋                                                                                                   | 17/1000 [00:17<16:35,  1.01s/it]\u001b[A\n",
      "  2%|█▊                                                                                                   | 18/1000 [00:18<16:26,  1.00s/it]\u001b[A\n",
      "  2%|█▉                                                                                                   | 19/1000 [00:19<16:18,  1.00it/s]\u001b[A\n",
      "  2%|██                                                                                                   | 20/1000 [00:20<16:09,  1.01it/s]\u001b[A"
     ]
    },
    {
     "name": "stdout",
     "output_type": "stream",
     "text": [
      "Epoch: 21/1000 || Item: 0/1012 || Loss: 0.08616822957992554\n"
     ]
    },
    {
     "name": "stderr",
     "output_type": "stream",
     "text": [
      "\n",
      "  2%|██                                                                                                   | 21/1000 [00:21<16:05,  1.01it/s]\u001b[A"
     ]
    },
    {
     "name": "stdout",
     "output_type": "stream",
     "text": [
      "--------------------------------------------------\n",
      "##### Epoch: 21/1000 || Loss: 0.06480317562818527\n",
      "--------------------------------------------------\n",
      "Epoch: 21 || Loss: 2.4058185239132777 || Accuracy: 0.531062126159668 || F1-score: 0.31906969815466546.\n"
     ]
    },
    {
     "name": "stderr",
     "output_type": "stream",
     "text": [
      "\n",
      "  2%|██▏                                                                                                  | 22/1000 [00:22<16:08,  1.01it/s]\u001b[A\n",
      "  2%|██▎                                                                                                  | 23/1000 [00:23<16:18,  1.00s/it]\u001b[A\n",
      "  2%|██▍                                                                                                  | 24/1000 [00:24<16:21,  1.01s/it]\u001b[A\n",
      "  2%|██▌                                                                                                  | 25/1000 [00:26<17:17,  1.06s/it]\u001b[A\n",
      " 40%|██████████████████████████████████████████                                                               | 2/5 [01:14<01:46, 35.46s/it]/Users/rchan/Library/CloudStorage/OneDrive-TheAlanTuringInstitute/rough_paths/path_signatures_bert/nlpsig/pytorch_utils.py:169: UserWarning: To copy construct from a tensor, it is recommended to use sourceTensor.clone().detach() or sourceTensor.clone().detach().requires_grad_(True), rather than torch.tensor(sourceTensor).\n",
      "  criterion.set_alpha_from_y(y = torch.tensor(y_train))\n"
     ]
    },
    {
     "name": "stdout",
     "output_type": "stream",
     "text": [
      "Early stopping at epoch 26!\n",
      "\n",
      "**************************************************\n",
      "Fold: 3 / 5\n",
      "**************************************************\n"
     ]
    },
    {
     "name": "stderr",
     "output_type": "stream",
     "text": [
      "\n",
      "  0%|                                                                                                              | 0/1000 [00:00<?, ?it/s]\u001b[A"
     ]
    },
    {
     "name": "stdout",
     "output_type": "stream",
     "text": [
      "Epoch: 1/1000 || Item: 0/1108 || Loss: 0.15960434079170227\n"
     ]
    },
    {
     "name": "stderr",
     "output_type": "stream",
     "text": [
      "\n",
      "  0%|                                                                                                      | 1/1000 [00:01<20:05,  1.21s/it]\u001b[A"
     ]
    },
    {
     "name": "stdout",
     "output_type": "stream",
     "text": [
      "--------------------------------------------------\n",
      "##### Epoch: 1/1000 || Loss: 0.06098439171910286\n",
      "--------------------------------------------------\n",
      "Epoch: 1 || Loss: 0.7103022122636247 || Accuracy: 0.5494505763053894 || F1-score: 0.3013465077981207.\n"
     ]
    },
    {
     "name": "stderr",
     "output_type": "stream",
     "text": [
      "\n",
      "  0%|▏                                                                                                     | 2/1000 [00:02<19:34,  1.18s/it]\u001b[A\n",
      "  0%|▎                                                                                                     | 3/1000 [00:03<19:32,  1.18s/it]\u001b[A\n",
      "  0%|▍                                                                                                     | 4/1000 [00:04<19:20,  1.16s/it]\u001b[A\n",
      "  0%|▌                                                                                                     | 5/1000 [00:06<22:45,  1.37s/it]\u001b[A\n",
      " 60%|███████████████████████████████████████████████████████████████                                          | 3/5 [01:21<00:44, 22.41s/it]/Users/rchan/Library/CloudStorage/OneDrive-TheAlanTuringInstitute/rough_paths/path_signatures_bert/nlpsig/pytorch_utils.py:169: UserWarning: To copy construct from a tensor, it is recommended to use sourceTensor.clone().detach() or sourceTensor.clone().detach().requires_grad_(True), rather than torch.tensor(sourceTensor).\n",
      "  criterion.set_alpha_from_y(y = torch.tensor(y_train))\n"
     ]
    },
    {
     "name": "stdout",
     "output_type": "stream",
     "text": [
      "Early stopping at epoch 6!\n",
      "\n",
      "**************************************************\n",
      "Fold: 4 / 5\n",
      "**************************************************\n"
     ]
    },
    {
     "name": "stderr",
     "output_type": "stream",
     "text": [
      "\n",
      "  0%|                                                                                                              | 0/1000 [00:00<?, ?it/s]\u001b[A"
     ]
    },
    {
     "name": "stdout",
     "output_type": "stream",
     "text": [
      "Epoch: 1/1000 || Item: 0/1015 || Loss: 1.9513946771621704\n"
     ]
    },
    {
     "name": "stderr",
     "output_type": "stream",
     "text": [
      "\n",
      "  0%|                                                                                                      | 1/1000 [00:01<17:29,  1.05s/it]\u001b[A"
     ]
    },
    {
     "name": "stdout",
     "output_type": "stream",
     "text": [
      "--------------------------------------------------\n",
      "##### Epoch: 1/1000 || Loss: 0.5094991326332092\n",
      "--------------------------------------------------\n",
      "Epoch: 1 || Loss: 0.506091718392785 || Accuracy: 0.5349301099777222 || F1-score: 0.334828617437313.\n"
     ]
    },
    {
     "name": "stderr",
     "output_type": "stream",
     "text": [
      "\n",
      "  0%|▏                                                                                                     | 2/1000 [00:02<17:02,  1.02s/it]\u001b[A\n",
      "  0%|▎                                                                                                     | 3/1000 [00:03<16:42,  1.01s/it]\u001b[A\n",
      "  0%|▍                                                                                                     | 4/1000 [00:04<16:28,  1.01it/s]\u001b[A\n",
      "  0%|▌                                                                                                     | 5/1000 [00:04<16:24,  1.01it/s]\u001b[A\n",
      "  1%|▌                                                                                                     | 6/1000 [00:06<16:37,  1.00s/it]\u001b[A\n",
      "  1%|▋                                                                                                     | 7/1000 [00:07<17:14,  1.04s/it]\u001b[A\n",
      "  1%|▊                                                                                                     | 8/1000 [00:08<17:10,  1.04s/it]\u001b[A\n",
      "  1%|▉                                                                                                     | 9/1000 [00:09<17:14,  1.04s/it]\u001b[A\n",
      "  1%|█                                                                                                    | 10/1000 [00:10<17:11,  1.04s/it]\u001b[A\n",
      "  1%|█                                                                                                    | 11/1000 [00:11<17:31,  1.06s/it]\u001b[A\n",
      "  1%|█▏                                                                                                   | 12/1000 [00:12<17:27,  1.06s/it]\u001b[A\n",
      "  1%|█▎                                                                                                   | 13/1000 [00:14<18:20,  1.12s/it]\u001b[A\n",
      " 80%|████████████████████████████████████████████████████████████████████████████████████                     | 4/5 [01:36<00:19, 19.30s/it]/Users/rchan/Library/CloudStorage/OneDrive-TheAlanTuringInstitute/rough_paths/path_signatures_bert/nlpsig/pytorch_utils.py:169: UserWarning: To copy construct from a tensor, it is recommended to use sourceTensor.clone().detach() or sourceTensor.clone().detach().requires_grad_(True), rather than torch.tensor(sourceTensor).\n",
      "  criterion.set_alpha_from_y(y = torch.tensor(y_train))\n"
     ]
    },
    {
     "name": "stdout",
     "output_type": "stream",
     "text": [
      "Early stopping at epoch 14!\n",
      "\n",
      "**************************************************\n",
      "Fold: 5 / 5\n",
      "**************************************************\n"
     ]
    },
    {
     "name": "stderr",
     "output_type": "stream",
     "text": [
      "\n",
      "  0%|                                                                                                              | 0/1000 [00:00<?, ?it/s]\u001b[A"
     ]
    },
    {
     "name": "stdout",
     "output_type": "stream",
     "text": [
      "Epoch: 1/1000 || Item: 0/1112 || Loss: 0.40888288617134094\n"
     ]
    },
    {
     "name": "stderr",
     "output_type": "stream",
     "text": [
      "\n",
      "  0%|                                                                                                      | 1/1000 [00:01<17:51,  1.07s/it]\u001b[A"
     ]
    },
    {
     "name": "stdout",
     "output_type": "stream",
     "text": [
      "--------------------------------------------------\n",
      "##### Epoch: 1/1000 || Loss: 0.2512040436267853\n",
      "--------------------------------------------------\n",
      "Epoch: 1 || Loss: 0.6673784349201864 || Accuracy: 0.49817517399787903 || F1-score: 0.31896289298273234.\n"
     ]
    },
    {
     "name": "stderr",
     "output_type": "stream",
     "text": [
      "\n",
      "  0%|▏                                                                                                     | 2/1000 [00:02<17:27,  1.05s/it]\u001b[A\n",
      "  0%|▎                                                                                                     | 3/1000 [00:03<17:22,  1.05s/it]\u001b[A\n",
      "  0%|▍                                                                                                     | 4/1000 [00:04<17:27,  1.05s/it]\u001b[A\n",
      "  0%|▌                                                                                                     | 5/1000 [00:05<17:31,  1.06s/it]\u001b[A\n",
      "  1%|▌                                                                                                     | 6/1000 [00:06<17:34,  1.06s/it]\u001b[A\n",
      "  1%|▋                                                                                                     | 7/1000 [00:07<17:47,  1.08s/it]\u001b[A\n",
      "  1%|▊                                                                                                     | 8/1000 [00:08<17:53,  1.08s/it]\u001b[A\n",
      "  1%|▉                                                                                                     | 9/1000 [00:09<17:56,  1.09s/it]\u001b[A\n",
      "  1%|█                                                                                                    | 10/1000 [00:10<18:01,  1.09s/it]\u001b[A\n",
      "  1%|█                                                                                                    | 11/1000 [00:11<17:59,  1.09s/it]\u001b[A\n",
      "  1%|█▏                                                                                                   | 12/1000 [00:14<19:14,  1.17s/it]\u001b[A\n",
      "100%|█████████████████████████████████████████████████████████████████████████████████████████████████████████| 5/5 [01:50<00:00, 22.03s/it]"
     ]
    },
    {
     "name": "stdout",
     "output_type": "stream",
     "text": [
      "Early stopping at epoch 13!\n"
     ]
    },
    {
     "name": "stderr",
     "output_type": "stream",
     "text": [
      "\n"
     ]
    }
   ],
   "source": [
    "kfold_eval = nlpsig.KFold_pytorch(data_folds,\n",
    "                                  model = model,\n",
    "                                  criterion = criterion,\n",
    "                                  optimizer = optimizer,\n",
    "                                  num_epochs = 1000,\n",
    "                                  verbose_args = {\n",
    "                                      \"verbose\": True,\n",
    "                                      \"verbose_epoch\": 20,\n",
    "                                      \"verbose_item\": 10000\n",
    "                                  })"
   ]
  },
  {
   "cell_type": "markdown",
   "metadata": {},
   "source": [
    "The accuracy and F1-scores are then saved as follows:"
   ]
  },
  {
   "cell_type": "code",
   "execution_count": 80,
   "metadata": {},
   "outputs": [
    {
     "data": {
      "text/html": [
       "<div>\n",
       "<style scoped>\n",
       "    .dataframe tbody tr th:only-of-type {\n",
       "        vertical-align: middle;\n",
       "    }\n",
       "\n",
       "    .dataframe tbody tr th {\n",
       "        vertical-align: top;\n",
       "    }\n",
       "\n",
       "    .dataframe thead th {\n",
       "        text-align: right;\n",
       "    }\n",
       "</style>\n",
       "<table border=\"1\" class=\"dataframe\">\n",
       "  <thead>\n",
       "    <tr style=\"text-align: right;\">\n",
       "      <th></th>\n",
       "      <th>accuracy</th>\n",
       "      <th>f1_score</th>\n",
       "    </tr>\n",
       "  </thead>\n",
       "  <tbody>\n",
       "    <tr>\n",
       "      <th>0</th>\n",
       "      <td>0.551320</td>\n",
       "      <td>0.289791</td>\n",
       "    </tr>\n",
       "    <tr>\n",
       "      <th>1</th>\n",
       "      <td>0.548057</td>\n",
       "      <td>0.354283</td>\n",
       "    </tr>\n",
       "    <tr>\n",
       "      <th>2</th>\n",
       "      <td>0.404624</td>\n",
       "      <td>0.230287</td>\n",
       "    </tr>\n",
       "    <tr>\n",
       "      <th>3</th>\n",
       "      <td>0.491736</td>\n",
       "      <td>0.317590</td>\n",
       "    </tr>\n",
       "    <tr>\n",
       "      <th>4</th>\n",
       "      <td>0.514706</td>\n",
       "      <td>0.336506</td>\n",
       "    </tr>\n",
       "  </tbody>\n",
       "</table>\n",
       "</div>"
      ],
      "text/plain": [
       "   accuracy  f1_score\n",
       "0  0.551320  0.289791\n",
       "1  0.548057  0.354283\n",
       "2  0.404624  0.230287\n",
       "3  0.491736  0.317590\n",
       "4  0.514706  0.336506"
      ]
     },
     "execution_count": 80,
     "metadata": {},
     "output_type": "execute_result"
    }
   ],
   "source": [
    "kfold_eval"
   ]
  }
 ],
 "metadata": {
  "kernelspec": {
   "display_name": "Python (py38esig)",
   "language": "python",
   "name": "py38esig"
  },
  "language_info": {
   "codemirror_mode": {
    "name": "ipython",
    "version": 3
   },
   "file_extension": ".py",
   "mimetype": "text/x-python",
   "name": "python",
   "nbconvert_exporter": "python",
   "pygments_lexer": "ipython3",
   "version": "3.8.13"
  },
  "vscode": {
   "interpreter": {
    "hash": "bc2069cb215c7de2e5937e427ca306059c4ba817c7096ba614207074d673f065"
   }
  }
 },
 "nbformat": 4,
 "nbformat_minor": 2
}
