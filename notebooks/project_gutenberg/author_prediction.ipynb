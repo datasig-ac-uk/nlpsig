{
 "cells": [
  {
   "cell_type": "code",
   "execution_count": null,
   "id": "3846a098",
   "metadata": {},
   "outputs": [],
   "source": [
    "DATASET_PATH = "
   ]
  }
 ],
 "metadata": {
  "kernelspec": {
   "display_name": "Python (py38esig)",
   "language": "python",
   "name": "py38esig"
  },
  "language_info": {
   "codemirror_mode": {
    "name": "ipython",
    "version": 3
   },
   "file_extension": ".py",
   "mimetype": "text/x-python",
   "name": "python",
   "nbconvert_exporter": "python",
   "pygments_lexer": "ipython3",
   "version": "3.8.13"
  }
 },
 "nbformat": 4,
 "nbformat_minor": 5
}
