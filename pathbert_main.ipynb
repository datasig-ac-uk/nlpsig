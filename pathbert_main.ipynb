{
 "cells": [
  {
   "cell_type": "markdown",
   "metadata": {},
   "source": [
    "# BERT and Path signature"
   ]
  },
  {
   "cell_type": "code",
   "execution_count": 1,
   "metadata": {},
   "outputs": [],
   "source": [
    "# solve issue with autocomplete\n",
    "%config Completer.use_jedi = False\n",
    "\n",
    "%load_ext autoreload\n",
    "%autoreload 2\n",
    "%matplotlib inline"
   ]
  },
  {
   "cell_type": "code",
   "execution_count": 2,
   "metadata": {},
   "outputs": [
    {
     "name": "stderr",
     "output_type": "stream",
     "text": [
      "/Users/khosseini/anaconda3/envs/py38esig/lib/python3.8/site-packages/tqdm/auto.py:22: TqdmWarning: IProgress not found. Please update jupyter and ipywidgets. See https://ipywidgets.readthedocs.io/en/stable/user_install.html\n",
      "  from .autonotebook import tqdm as notebook_tqdm\n"
     ]
    }
   ],
   "source": [
    "import matplotlib.pyplot as plt\n",
    "import matplotlib\n",
    "import numpy as np\n",
    "import pandas as pd\n",
    "import torch\n",
    "from tqdm import tqdm\n",
    "import pickle\n",
    "import sys\n",
    "import re\n",
    "\n",
    "# sys.path.insert(0, \"../../timeline_generation/\")  # Adds higher directory to python modules path\n",
    "# import src.data_handler"
   ]
  },
  {
   "cell_type": "code",
   "execution_count": 3,
   "metadata": {},
   "outputs": [
    {
     "name": "stderr",
     "output_type": "stream",
     "text": [
      "/Users/khosseini/anaconda3/envs/py38esig/lib/python3.8/site-packages/huggingface_hub/utils/_deprecation.py:97: FutureWarning: Deprecated argument(s) used in 'dataset_info': token. Will not be supported from version '0.12'.\n",
      "  warnings.warn(message, FutureWarning)\n",
      "Using custom data configuration default\n",
      "Found cached dataset newspop (/Users/khosseini/.cache/huggingface/datasets/newspop/default/0.0.0/9904d4082ffd3c0953efa538ff926c43d27da8f37c9b5d6a13f51ab96740474e)\n",
      "100%|██████████████████████████████████████████████████████████████████████████████████████████████████████████████████████████████| 1/1 [00:00<00:00, 167.28it/s]\n"
     ]
    }
   ],
   "source": [
    "from datasets import load_dataset\n",
    "dataset = load_dataset(\"newspop\")"
   ]
  },
  {
   "cell_type": "code",
   "execution_count": 4,
   "metadata": {},
   "outputs": [],
   "source": [
    "dataset_df_all = pd.DataFrame(dataset[\"train\"])"
   ]
  },
  {
   "cell_type": "code",
   "execution_count": 5,
   "metadata": {},
   "outputs": [
    {
     "data": {
      "text/html": [
       "<div>\n",
       "<style scoped>\n",
       "    .dataframe tbody tr th:only-of-type {\n",
       "        vertical-align: middle;\n",
       "    }\n",
       "\n",
       "    .dataframe tbody tr th {\n",
       "        vertical-align: top;\n",
       "    }\n",
       "\n",
       "    .dataframe thead th {\n",
       "        text-align: right;\n",
       "    }\n",
       "</style>\n",
       "<table border=\"1\" class=\"dataframe\">\n",
       "  <thead>\n",
       "    <tr style=\"text-align: right;\">\n",
       "      <th></th>\n",
       "      <th>id</th>\n",
       "      <th>title</th>\n",
       "      <th>headline</th>\n",
       "      <th>source</th>\n",
       "      <th>topic</th>\n",
       "      <th>publish_date</th>\n",
       "      <th>facebook</th>\n",
       "      <th>google_plus</th>\n",
       "      <th>linked_in</th>\n",
       "    </tr>\n",
       "  </thead>\n",
       "  <tbody>\n",
       "    <tr>\n",
       "      <th>0</th>\n",
       "      <td>99248</td>\n",
       "      <td>Obama Lays Wreath at Arlington National Cemetery</td>\n",
       "      <td>Obama Lays Wreath at Arlington National Cemete...</td>\n",
       "      <td>USA TODAY</td>\n",
       "      <td>obama</td>\n",
       "      <td>2002-04-02 00:00:00</td>\n",
       "      <td>-1</td>\n",
       "      <td>-1</td>\n",
       "      <td>-1</td>\n",
       "    </tr>\n",
       "    <tr>\n",
       "      <th>1</th>\n",
       "      <td>10423</td>\n",
       "      <td>A Look at the Health of the Chinese Economy</td>\n",
       "      <td>Tim Haywood, investment director business-unit...</td>\n",
       "      <td>Bloomberg</td>\n",
       "      <td>economy</td>\n",
       "      <td>2008-09-20 00:00:00</td>\n",
       "      <td>-1</td>\n",
       "      <td>-1</td>\n",
       "      <td>-1</td>\n",
       "    </tr>\n",
       "    <tr>\n",
       "      <th>2</th>\n",
       "      <td>18828</td>\n",
       "      <td>Nouriel Roubini: Global Economy Not Back to 2008</td>\n",
       "      <td>Nouriel Roubini, NYU professor and chairman at...</td>\n",
       "      <td>Bloomberg</td>\n",
       "      <td>economy</td>\n",
       "      <td>2012-01-28 00:00:00</td>\n",
       "      <td>-1</td>\n",
       "      <td>-1</td>\n",
       "      <td>-1</td>\n",
       "    </tr>\n",
       "    <tr>\n",
       "      <th>3</th>\n",
       "      <td>27788</td>\n",
       "      <td>Finland GDP Expands In Q4</td>\n",
       "      <td>Finland's economy expanded marginally in the t...</td>\n",
       "      <td>RTT News</td>\n",
       "      <td>economy</td>\n",
       "      <td>2015-03-01 00:06:00</td>\n",
       "      <td>-1</td>\n",
       "      <td>-1</td>\n",
       "      <td>-1</td>\n",
       "    </tr>\n",
       "    <tr>\n",
       "      <th>4</th>\n",
       "      <td>27789</td>\n",
       "      <td>Tourism, govt spending buoys Thai economy in J...</td>\n",
       "      <td>Tourism and public spending continued to boost...</td>\n",
       "      <td>The Nation - Thailand&amp;#39;s English news</td>\n",
       "      <td>economy</td>\n",
       "      <td>2015-03-01 00:11:00</td>\n",
       "      <td>-1</td>\n",
       "      <td>-1</td>\n",
       "      <td>-1</td>\n",
       "    </tr>\n",
       "  </tbody>\n",
       "</table>\n",
       "</div>"
      ],
      "text/plain": [
       "      id                                              title  \\\n",
       "0  99248   Obama Lays Wreath at Arlington National Cemetery   \n",
       "1  10423        A Look at the Health of the Chinese Economy   \n",
       "2  18828   Nouriel Roubini: Global Economy Not Back to 2008   \n",
       "3  27788                          Finland GDP Expands In Q4   \n",
       "4  27789  Tourism, govt spending buoys Thai economy in J...   \n",
       "\n",
       "                                            headline  \\\n",
       "0  Obama Lays Wreath at Arlington National Cemete...   \n",
       "1  Tim Haywood, investment director business-unit...   \n",
       "2  Nouriel Roubini, NYU professor and chairman at...   \n",
       "3  Finland's economy expanded marginally in the t...   \n",
       "4  Tourism and public spending continued to boost...   \n",
       "\n",
       "                                     source    topic         publish_date  \\\n",
       "0                                 USA TODAY    obama  2002-04-02 00:00:00   \n",
       "1                                 Bloomberg  economy  2008-09-20 00:00:00   \n",
       "2                                 Bloomberg  economy  2012-01-28 00:00:00   \n",
       "3                                  RTT News  economy  2015-03-01 00:06:00   \n",
       "4  The Nation - Thailand&#39;s English news  economy  2015-03-01 00:11:00   \n",
       "\n",
       "   facebook  google_plus  linked_in  \n",
       "0        -1           -1         -1  \n",
       "1        -1           -1         -1  \n",
       "2        -1           -1         -1  \n",
       "3        -1           -1         -1  \n",
       "4        -1           -1         -1  "
      ]
     },
     "execution_count": 5,
     "metadata": {},
     "output_type": "execute_result"
    }
   ],
   "source": [
    "dataset_df_all.head()"
   ]
  },
  {
   "cell_type": "code",
   "execution_count": 6,
   "metadata": {},
   "outputs": [],
   "source": [
    "use_cols = [\"id\", \"headline\", \"publish_date\", \"topic\"]"
   ]
  },
  {
   "cell_type": "code",
   "execution_count": 7,
   "metadata": {},
   "outputs": [],
   "source": [
    "dataset_df = dataset_df_all[use_cols]"
   ]
  },
  {
   "cell_type": "code",
   "execution_count": 8,
   "metadata": {},
   "outputs": [
    {
     "name": "stderr",
     "output_type": "stream",
     "text": [
      "/var/folders/hz/ldnbkg4j7qx7rmp1w2gddfwc3ydpnf/T/ipykernel_29904/461751101.py:1: SettingWithCopyWarning: \n",
      "A value is trying to be set on a copy of a slice from a DataFrame.\n",
      "Try using .loc[row_indexer,col_indexer] = value instead\n",
      "\n",
      "See the caveats in the documentation: https://pandas.pydata.org/pandas-docs/stable/user_guide/indexing.html#returning-a-view-versus-a-copy\n",
      "  dataset_df[\"postid\"] = dataset_df[\"id\"]\n"
     ]
    }
   ],
   "source": [
    "dataset_df[\"postid\"] = dataset_df[\"id\"]"
   ]
  },
  {
   "cell_type": "code",
   "execution_count": 9,
   "metadata": {},
   "outputs": [
    {
     "data": {
      "text/html": [
       "<div>\n",
       "<style scoped>\n",
       "    .dataframe tbody tr th:only-of-type {\n",
       "        vertical-align: middle;\n",
       "    }\n",
       "\n",
       "    .dataframe tbody tr th {\n",
       "        vertical-align: top;\n",
       "    }\n",
       "\n",
       "    .dataframe thead th {\n",
       "        text-align: right;\n",
       "    }\n",
       "</style>\n",
       "<table border=\"1\" class=\"dataframe\">\n",
       "  <thead>\n",
       "    <tr style=\"text-align: right;\">\n",
       "      <th></th>\n",
       "      <th>id</th>\n",
       "      <th>headline</th>\n",
       "      <th>publish_date</th>\n",
       "      <th>topic</th>\n",
       "      <th>postid</th>\n",
       "    </tr>\n",
       "  </thead>\n",
       "  <tbody>\n",
       "    <tr>\n",
       "      <th>0</th>\n",
       "      <td>99248</td>\n",
       "      <td>Obama Lays Wreath at Arlington National Cemete...</td>\n",
       "      <td>2002-04-02 00:00:00</td>\n",
       "      <td>obama</td>\n",
       "      <td>99248</td>\n",
       "    </tr>\n",
       "    <tr>\n",
       "      <th>1</th>\n",
       "      <td>10423</td>\n",
       "      <td>Tim Haywood, investment director business-unit...</td>\n",
       "      <td>2008-09-20 00:00:00</td>\n",
       "      <td>economy</td>\n",
       "      <td>10423</td>\n",
       "    </tr>\n",
       "    <tr>\n",
       "      <th>2</th>\n",
       "      <td>18828</td>\n",
       "      <td>Nouriel Roubini, NYU professor and chairman at...</td>\n",
       "      <td>2012-01-28 00:00:00</td>\n",
       "      <td>economy</td>\n",
       "      <td>18828</td>\n",
       "    </tr>\n",
       "    <tr>\n",
       "      <th>3</th>\n",
       "      <td>27788</td>\n",
       "      <td>Finland's economy expanded marginally in the t...</td>\n",
       "      <td>2015-03-01 00:06:00</td>\n",
       "      <td>economy</td>\n",
       "      <td>27788</td>\n",
       "    </tr>\n",
       "    <tr>\n",
       "      <th>4</th>\n",
       "      <td>27789</td>\n",
       "      <td>Tourism and public spending continued to boost...</td>\n",
       "      <td>2015-03-01 00:11:00</td>\n",
       "      <td>economy</td>\n",
       "      <td>27789</td>\n",
       "    </tr>\n",
       "  </tbody>\n",
       "</table>\n",
       "</div>"
      ],
      "text/plain": [
       "      id                                           headline  \\\n",
       "0  99248  Obama Lays Wreath at Arlington National Cemete...   \n",
       "1  10423  Tim Haywood, investment director business-unit...   \n",
       "2  18828  Nouriel Roubini, NYU professor and chairman at...   \n",
       "3  27788  Finland's economy expanded marginally in the t...   \n",
       "4  27789  Tourism and public spending continued to boost...   \n",
       "\n",
       "          publish_date    topic  postid  \n",
       "0  2002-04-02 00:00:00    obama   99248  \n",
       "1  2008-09-20 00:00:00  economy   10423  \n",
       "2  2012-01-28 00:00:00  economy   18828  \n",
       "3  2015-03-01 00:06:00  economy   27788  \n",
       "4  2015-03-01 00:11:00  economy   27789  "
      ]
     },
     "execution_count": 9,
     "metadata": {},
     "output_type": "execute_result"
    }
   ],
   "source": [
    "dataset_df.head()"
   ]
  },
  {
   "cell_type": "code",
   "execution_count": 10,
   "metadata": {},
   "outputs": [],
   "source": [
    "rename_cols = {\n",
    "    \"headline\": \"content\",\n",
    "    \"publish_date\": \"datetime\",\n",
    "    \"topic\": \"label\",\n",
    "    \"id\": \"timeline_id\",\n",
    "    \"postid\": \"postid\"\n",
    "}"
   ]
  },
  {
   "cell_type": "code",
   "execution_count": 11,
   "metadata": {},
   "outputs": [
    {
     "data": {
      "text/html": [
       "<div>\n",
       "<style scoped>\n",
       "    .dataframe tbody tr th:only-of-type {\n",
       "        vertical-align: middle;\n",
       "    }\n",
       "\n",
       "    .dataframe tbody tr th {\n",
       "        vertical-align: top;\n",
       "    }\n",
       "\n",
       "    .dataframe thead th {\n",
       "        text-align: right;\n",
       "    }\n",
       "</style>\n",
       "<table border=\"1\" class=\"dataframe\">\n",
       "  <thead>\n",
       "    <tr style=\"text-align: right;\">\n",
       "      <th></th>\n",
       "      <th>timeline_id</th>\n",
       "      <th>content</th>\n",
       "      <th>datetime</th>\n",
       "      <th>label</th>\n",
       "      <th>postid</th>\n",
       "    </tr>\n",
       "  </thead>\n",
       "  <tbody>\n",
       "    <tr>\n",
       "      <th>0</th>\n",
       "      <td>99248</td>\n",
       "      <td>Obama Lays Wreath at Arlington National Cemete...</td>\n",
       "      <td>2002-04-02 00:00:00</td>\n",
       "      <td>obama</td>\n",
       "      <td>99248</td>\n",
       "    </tr>\n",
       "    <tr>\n",
       "      <th>1</th>\n",
       "      <td>10423</td>\n",
       "      <td>Tim Haywood, investment director business-unit...</td>\n",
       "      <td>2008-09-20 00:00:00</td>\n",
       "      <td>economy</td>\n",
       "      <td>10423</td>\n",
       "    </tr>\n",
       "    <tr>\n",
       "      <th>2</th>\n",
       "      <td>18828</td>\n",
       "      <td>Nouriel Roubini, NYU professor and chairman at...</td>\n",
       "      <td>2012-01-28 00:00:00</td>\n",
       "      <td>economy</td>\n",
       "      <td>18828</td>\n",
       "    </tr>\n",
       "    <tr>\n",
       "      <th>3</th>\n",
       "      <td>27788</td>\n",
       "      <td>Finland's economy expanded marginally in the t...</td>\n",
       "      <td>2015-03-01 00:06:00</td>\n",
       "      <td>economy</td>\n",
       "      <td>27788</td>\n",
       "    </tr>\n",
       "    <tr>\n",
       "      <th>4</th>\n",
       "      <td>27789</td>\n",
       "      <td>Tourism and public spending continued to boost...</td>\n",
       "      <td>2015-03-01 00:11:00</td>\n",
       "      <td>economy</td>\n",
       "      <td>27789</td>\n",
       "    </tr>\n",
       "  </tbody>\n",
       "</table>\n",
       "</div>"
      ],
      "text/plain": [
       "   timeline_id                                            content  \\\n",
       "0        99248  Obama Lays Wreath at Arlington National Cemete...   \n",
       "1        10423  Tim Haywood, investment director business-unit...   \n",
       "2        18828  Nouriel Roubini, NYU professor and chairman at...   \n",
       "3        27788  Finland's economy expanded marginally in the t...   \n",
       "4        27789  Tourism and public spending continued to boost...   \n",
       "\n",
       "              datetime    label  postid  \n",
       "0  2002-04-02 00:00:00    obama   99248  \n",
       "1  2008-09-20 00:00:00  economy   10423  \n",
       "2  2012-01-28 00:00:00  economy   18828  \n",
       "3  2015-03-01 00:06:00  economy   27788  \n",
       "4  2015-03-01 00:11:00  economy   27789  "
      ]
     },
     "execution_count": 11,
     "metadata": {},
     "output_type": "execute_result"
    }
   ],
   "source": [
    "dataset_df = dataset_df.rename(columns=rename_cols)\n",
    "dataset_df.head()"
   ]
  },
  {
   "cell_type": "code",
   "execution_count": 34,
   "metadata": {},
   "outputs": [],
   "source": [
    "dataset_df['datetime'] =  pd.to_datetime(dataset_df['datetime'], format='%Y-%m-%d %H:%M:%S')"
   ]
  },
  {
   "cell_type": "code",
   "execution_count": 35,
   "metadata": {},
   "outputs": [
    {
     "data": {
      "text/html": [
       "<div>\n",
       "<style scoped>\n",
       "    .dataframe tbody tr th:only-of-type {\n",
       "        vertical-align: middle;\n",
       "    }\n",
       "\n",
       "    .dataframe tbody tr th {\n",
       "        vertical-align: top;\n",
       "    }\n",
       "\n",
       "    .dataframe thead th {\n",
       "        text-align: right;\n",
       "    }\n",
       "</style>\n",
       "<table border=\"1\" class=\"dataframe\">\n",
       "  <thead>\n",
       "    <tr style=\"text-align: right;\">\n",
       "      <th></th>\n",
       "      <th>timeline_id</th>\n",
       "      <th>content</th>\n",
       "      <th>datetime</th>\n",
       "      <th>label</th>\n",
       "      <th>postid</th>\n",
       "    </tr>\n",
       "  </thead>\n",
       "  <tbody>\n",
       "    <tr>\n",
       "      <th>0</th>\n",
       "      <td>99248</td>\n",
       "      <td>Obama Lays Wreath at Arlington National Cemete...</td>\n",
       "      <td>2002-04-02 00:00:00</td>\n",
       "      <td>0</td>\n",
       "      <td>99248</td>\n",
       "    </tr>\n",
       "    <tr>\n",
       "      <th>1</th>\n",
       "      <td>10423</td>\n",
       "      <td>Tim Haywood, investment director business-unit...</td>\n",
       "      <td>2008-09-20 00:00:00</td>\n",
       "      <td>1</td>\n",
       "      <td>10423</td>\n",
       "    </tr>\n",
       "    <tr>\n",
       "      <th>2</th>\n",
       "      <td>18828</td>\n",
       "      <td>Nouriel Roubini, NYU professor and chairman at...</td>\n",
       "      <td>2012-01-28 00:00:00</td>\n",
       "      <td>1</td>\n",
       "      <td>18828</td>\n",
       "    </tr>\n",
       "    <tr>\n",
       "      <th>3</th>\n",
       "      <td>27788</td>\n",
       "      <td>Finland's economy expanded marginally in the t...</td>\n",
       "      <td>2015-03-01 00:06:00</td>\n",
       "      <td>1</td>\n",
       "      <td>27788</td>\n",
       "    </tr>\n",
       "    <tr>\n",
       "      <th>4</th>\n",
       "      <td>27789</td>\n",
       "      <td>Tourism and public spending continued to boost...</td>\n",
       "      <td>2015-03-01 00:11:00</td>\n",
       "      <td>1</td>\n",
       "      <td>27789</td>\n",
       "    </tr>\n",
       "  </tbody>\n",
       "</table>\n",
       "</div>"
      ],
      "text/plain": [
       "   timeline_id                                            content  \\\n",
       "0        99248  Obama Lays Wreath at Arlington National Cemete...   \n",
       "1        10423  Tim Haywood, investment director business-unit...   \n",
       "2        18828  Nouriel Roubini, NYU professor and chairman at...   \n",
       "3        27788  Finland's economy expanded marginally in the t...   \n",
       "4        27789  Tourism and public spending continued to boost...   \n",
       "\n",
       "             datetime  label  postid  \n",
       "0 2002-04-02 00:00:00      0   99248  \n",
       "1 2008-09-20 00:00:00      1   10423  \n",
       "2 2012-01-28 00:00:00      1   18828  \n",
       "3 2015-03-01 00:06:00      1   27788  \n",
       "4 2015-03-01 00:11:00      1   27789  "
      ]
     },
     "execution_count": 35,
     "metadata": {},
     "output_type": "execute_result"
    }
   ],
   "source": [
    "dataset_df.head()"
   ]
  },
  {
   "cell_type": "code",
   "execution_count": 36,
   "metadata": {},
   "outputs": [
    {
     "data": {
      "text/plain": [
       "0    678\n",
       "1    322\n",
       "Name: label, dtype: int64"
      ]
     },
     "execution_count": 36,
     "metadata": {},
     "output_type": "execute_result"
    }
   ],
   "source": [
    "dataset_df[\"label\"].value_counts()"
   ]
  },
  {
   "cell_type": "code",
   "execution_count": 37,
   "metadata": {},
   "outputs": [],
   "source": [
    "encode_labels = {\n",
    "    \"label\": \n",
    "        {\"economy\": 1,\n",
    "         \"obama\": 0,\n",
    "         \"microsoft\": 0,\n",
    "         \"palestine\": 0\n",
    "        }\n",
    "}"
   ]
  },
  {
   "cell_type": "code",
   "execution_count": 38,
   "metadata": {},
   "outputs": [
    {
     "data": {
      "text/html": [
       "<div>\n",
       "<style scoped>\n",
       "    .dataframe tbody tr th:only-of-type {\n",
       "        vertical-align: middle;\n",
       "    }\n",
       "\n",
       "    .dataframe tbody tr th {\n",
       "        vertical-align: top;\n",
       "    }\n",
       "\n",
       "    .dataframe thead th {\n",
       "        text-align: right;\n",
       "    }\n",
       "</style>\n",
       "<table border=\"1\" class=\"dataframe\">\n",
       "  <thead>\n",
       "    <tr style=\"text-align: right;\">\n",
       "      <th></th>\n",
       "      <th>timeline_id</th>\n",
       "      <th>content</th>\n",
       "      <th>datetime</th>\n",
       "      <th>label</th>\n",
       "      <th>postid</th>\n",
       "    </tr>\n",
       "  </thead>\n",
       "  <tbody>\n",
       "    <tr>\n",
       "      <th>0</th>\n",
       "      <td>99248</td>\n",
       "      <td>Obama Lays Wreath at Arlington National Cemete...</td>\n",
       "      <td>2002-04-02 00:00:00</td>\n",
       "      <td>0</td>\n",
       "      <td>99248</td>\n",
       "    </tr>\n",
       "    <tr>\n",
       "      <th>1</th>\n",
       "      <td>10423</td>\n",
       "      <td>Tim Haywood, investment director business-unit...</td>\n",
       "      <td>2008-09-20 00:00:00</td>\n",
       "      <td>1</td>\n",
       "      <td>10423</td>\n",
       "    </tr>\n",
       "    <tr>\n",
       "      <th>2</th>\n",
       "      <td>18828</td>\n",
       "      <td>Nouriel Roubini, NYU professor and chairman at...</td>\n",
       "      <td>2012-01-28 00:00:00</td>\n",
       "      <td>1</td>\n",
       "      <td>18828</td>\n",
       "    </tr>\n",
       "    <tr>\n",
       "      <th>3</th>\n",
       "      <td>27788</td>\n",
       "      <td>Finland's economy expanded marginally in the t...</td>\n",
       "      <td>2015-03-01 00:06:00</td>\n",
       "      <td>1</td>\n",
       "      <td>27788</td>\n",
       "    </tr>\n",
       "    <tr>\n",
       "      <th>4</th>\n",
       "      <td>27789</td>\n",
       "      <td>Tourism and public spending continued to boost...</td>\n",
       "      <td>2015-03-01 00:11:00</td>\n",
       "      <td>1</td>\n",
       "      <td>27789</td>\n",
       "    </tr>\n",
       "  </tbody>\n",
       "</table>\n",
       "</div>"
      ],
      "text/plain": [
       "   timeline_id                                            content  \\\n",
       "0        99248  Obama Lays Wreath at Arlington National Cemete...   \n",
       "1        10423  Tim Haywood, investment director business-unit...   \n",
       "2        18828  Nouriel Roubini, NYU professor and chairman at...   \n",
       "3        27788  Finland's economy expanded marginally in the t...   \n",
       "4        27789  Tourism and public spending continued to boost...   \n",
       "\n",
       "             datetime  label  postid  \n",
       "0 2002-04-02 00:00:00      0   99248  \n",
       "1 2008-09-20 00:00:00      1   10423  \n",
       "2 2012-01-28 00:00:00      1   18828  \n",
       "3 2015-03-01 00:06:00      1   27788  \n",
       "4 2015-03-01 00:11:00      1   27789  "
      ]
     },
     "execution_count": 38,
     "metadata": {},
     "output_type": "execute_result"
    }
   ],
   "source": [
    "dataset_df = dataset_df.replace(encode_labels)\n",
    "dataset_df.head()"
   ]
  },
  {
   "cell_type": "code",
   "execution_count": 39,
   "metadata": {},
   "outputs": [
    {
     "data": {
      "text/plain": [
       "0    678\n",
       "1    322\n",
       "Name: label, dtype: int64"
      ]
     },
     "execution_count": 39,
     "metadata": {},
     "output_type": "execute_result"
    }
   ],
   "source": [
    "dataset_df[\"label\"].value_counts()"
   ]
  },
  {
   "cell_type": "code",
   "execution_count": 46,
   "metadata": {},
   "outputs": [
    {
     "data": {
      "text/plain": [
       "0    73\n",
       "1    27\n",
       "Name: label, dtype: int64"
      ]
     },
     "execution_count": 46,
     "metadata": {},
     "output_type": "execute_result"
    }
   ],
   "source": [
    "dataset_df = dataset_df[:100]\n",
    "dataset_df[\"label\"].value_counts()"
   ]
  },
  {
   "cell_type": "code",
   "execution_count": 47,
   "metadata": {},
   "outputs": [],
   "source": [
    "# ================================\n",
    "#model specifics\n",
    "model_specifics = {\"global_embedding_tp\": 'SBERT', #options: SBERT, BERT_cls , BERT_mean, BERT_max\n",
    "    \"dimensionality_reduction_tp\": 'umap', #options: ppapca, ppapcappa, umap\n",
    "    \"dimensionality_reduction_components\": 10, # options: any int number between 1 and embedding dimensions\n",
    "    \"time_injection_history_tp\": 'timestamp', #options: timestamp, None\n",
    "    \"time_injection_post_tp\": 'timestamp', #options: timestamp, timediff, None\n",
    "    \"signature_dimensions\": 3, #options: any int number larger than 1\n",
    "    \"post_embedding_tp\": 'sentence', #options: sentence, reduced\n",
    "    \"feature_combination_method\": 'attention', #options concatenation, attention \n",
    "    \"signature_tp\": 'log', # options: log, sig\n",
    "    \"classifier_name\": 'FFN2hidden', # options: FFN2hidden (any future classifiers added)\n",
    "    \"classes_num\": '3class', #options: 3class (5class to be added in the future)\n",
    "}"
   ]
  },
  {
   "cell_type": "code",
   "execution_count": 48,
   "metadata": {},
   "outputs": [],
   "source": [
    "from sentence_transformers import SentenceTransformer\n",
    "sentences = dataset_df[\"content\"].to_list()"
   ]
  },
  {
   "cell_type": "code",
   "execution_count": 49,
   "metadata": {},
   "outputs": [
    {
     "data": {
      "text/plain": [
       "['Obama Lays Wreath at Arlington National Cemetery. President Barack Obama has laid a wreath at the Tomb of the Unknowns to honor',\n",
       " 'Tim Haywood, investment director business-unit head for fixed income at Gam, discusses the China beige book and the state of the economy.',\n",
       " \"Nouriel Roubini, NYU professor and chairman at Roubini Global Economics, explains why the global economy isn't facing the same conditions\",\n",
       " \"Finland's economy expanded marginally in the three months ended December, after contracting in the previous quarter, preliminary figures from Statistics Finland showed Monday. \",\n",
       " 'Tourism and public spending continued to boost the economy in January, in light of contraction in private consumption and exports, according to the Bank of Thailand data. ',\n",
       " 'Over 100 attendees expected to see latest version of Microsoft Dynamics SL and Dynamics GP (PRWeb February 29, 2016) Read the full story at http://www.prweb.com/releases/2016/03/prweb13238571.htm ',\n",
       " 'RAMALLAH, February 25, 2016 (WAFA) - Palestine Liberation Organization’s Sectretary-General Saeb Erekat Thursday expressed his concerns over Kenyan President Uhuru Kenyatta’s visit to Jerusalem and the Jordan Valley. ',\n",
       " 'First lady Michelle Obama speaks in the State Dinning Room at the White House in Washington, Wednesday, Feb. 24, 2016, during an interactive student workshop on the musical legacy of Ray Charles , where students from 10 schools and community organizations from across the country participate as part of the &quot;In Performance at the White House&quot; series. ',\n",
       " 'A Hancock County man lost a barn early Monday morning that had been in his family more than 100 years. ',\n",
       " 'New Delhi, Feb.29 : Technology giant Microsoft has targeted its rival Apple in its new series of ads focusing on Windows 10, gross bugs, and the Windows machines. ']"
      ]
     },
     "execution_count": 49,
     "metadata": {},
     "output_type": "execute_result"
    }
   ],
   "source": [
    "sentences[:10]"
   ]
  },
  {
   "cell_type": "code",
   "execution_count": 50,
   "metadata": {},
   "outputs": [],
   "source": [
    "st_model = SentenceTransformer('all-MiniLM-L6-v2')"
   ]
  },
  {
   "cell_type": "code",
   "execution_count": 51,
   "metadata": {},
   "outputs": [
    {
     "name": "stderr",
     "output_type": "stream",
     "text": [
      "Batches: 100%|██████████████████████████████████████████████████████████████████████████████████████████████████████████████████████| 2/2 [00:01<00:00,  1.59it/s]\n"
     ]
    }
   ],
   "source": [
    "embeddings_sentence = st_model.encode(sentences,\n",
    "                                      batch_size=64,\n",
    "                                      show_progress_bar=True,\n",
    "                                      output_value='sentence_embedding', \n",
    "                                      convert_to_numpy=True,\n",
    "                                      convert_to_tensor=False,\n",
    "                                      device=None,\n",
    "                                      normalize_embeddings=False,\n",
    "                                     )"
   ]
  },
  {
   "cell_type": "code",
   "execution_count": 52,
   "metadata": {},
   "outputs": [
    {
     "data": {
      "text/plain": [
       "array([[ 0.04053084,  0.12677234,  0.03034632, ...,  0.01346123,\n",
       "         0.00509904, -0.02261563],\n",
       "       [ 0.00132182, -0.00187154,  0.04704985, ..., -0.12755233,\n",
       "        -0.00235982, -0.01032065],\n",
       "       [-0.00446173, -0.077429  , -0.02367794, ..., -0.12149306,\n",
       "        -0.02713376, -0.01476173],\n",
       "       ...,\n",
       "       [-0.03346207,  0.00325029, -0.02158457, ..., -0.10729703,\n",
       "        -0.00453167,  0.11721924],\n",
       "       [-0.00459458,  0.03299496,  0.01338389, ..., -0.05713576,\n",
       "         0.03441487,  0.05552595],\n",
       "       [-0.03066568, -0.00086962, -0.04076744, ..., -0.06957944,\n",
       "         0.03964642, -0.02920447]], dtype=float32)"
      ]
     },
     "execution_count": 52,
     "metadata": {},
     "output_type": "execute_result"
    }
   ],
   "source": [
    "embeddings_sentence"
   ]
  },
  {
   "cell_type": "code",
   "execution_count": 53,
   "metadata": {},
   "outputs": [],
   "source": [
    "#dimensionality reduction\n",
    "from src import DimensionalityReduction\n",
    "\n",
    "reduction = DimensionalityReduction(method= model_specifics['dimensionality_reduction_tp'], \n",
    "                                    components=model_specifics['dimensionality_reduction_components'])"
   ]
  },
  {
   "cell_type": "code",
   "execution_count": 54,
   "metadata": {},
   "outputs": [
    {
     "name": "stdout",
     "output_type": "stream",
     "text": [
      "(100, 10)\n"
     ]
    }
   ],
   "source": [
    "embeddings_reduced = reduction.fit_transform(embeddings_sentence)\n",
    "\n",
    "print(embeddings_reduced.shape)"
   ]
  },
  {
   "cell_type": "code",
   "execution_count": 55,
   "metadata": {},
   "outputs": [
    {
     "data": {
      "text/plain": [
       "array([[12.302852  ,  9.243699  ,  4.7989    ,  8.696953  ,  1.9157919 ,\n",
       "         8.339737  ,  1.6259124 ,  8.808037  ,  4.209265  ,  2.6453235 ],\n",
       "       [10.622737  ,  8.703552  ,  4.381641  ,  8.20753   ,  1.5959508 ,\n",
       "         7.63687   ,  0.9893982 ,  9.183858  ,  2.5997453 ,  2.2063086 ],\n",
       "       [10.738586  ,  8.464451  ,  4.7766623 ,  8.50733   ,  2.5095427 ,\n",
       "         7.652453  ,  0.5903145 ,  9.699511  ,  3.0608497 ,  1.8164501 ],\n",
       "       [10.764558  ,  8.008527  ,  5.3117905 ,  6.945367  ,  1.5039841 ,\n",
       "         6.959218  ,  0.83099455,  9.958994  ,  3.4660575 ,  2.706539  ],\n",
       "       [10.238422  ,  8.304144  ,  5.2809787 ,  7.338672  ,  1.6640078 ,\n",
       "         7.855867  ,  0.52792203,  9.99826   ,  3.1431499 ,  1.5868814 ],\n",
       "       [12.051455  ,  9.241452  ,  4.1045156 ,  7.296282  ,  1.271073  ,\n",
       "         7.511548  ,  2.974853  ,  9.398601  ,  3.3590808 ,  3.2355175 ],\n",
       "       [11.702003  ,  8.836721  ,  4.4399977 ,  8.312136  ,  1.4363387 ,\n",
       "         8.447865  ,  2.152368  ,  9.543498  ,  3.4945545 ,  2.5738766 ],\n",
       "       [12.5709305 ,  9.2555685 ,  4.7603893 ,  9.22293   ,  1.3974656 ,\n",
       "         7.9246416 ,  1.7705065 ,  8.906934  ,  3.4404287 ,  2.348377  ],\n",
       "       [11.53868   ,  9.170377  ,  5.1644125 ,  8.229833  ,  2.2119288 ,\n",
       "         7.9994416 ,  0.5577579 ,  8.6539    ,  4.2258906 ,  2.148875  ],\n",
       "       [12.246318  ,  8.715741  ,  4.966128  ,  8.227087  ,  1.1485617 ,\n",
       "         6.529645  ,  3.3184214 ,  9.169129  ,  2.2933252 ,  3.3741188 ],\n",
       "       [12.214351  ,  9.438686  ,  5.3644633 ,  7.7606764 ,  1.4202543 ,\n",
       "         7.2603073 ,  3.5372038 ,  8.460085  ,  2.8335433 ,  3.5876105 ],\n",
       "       [11.857751  ,  8.821061  ,  5.571769  ,  7.7237754 ,  1.353489  ,\n",
       "         7.150821  ,  3.0633647 ,  8.729443  ,  2.428962  ,  2.8016844 ],\n",
       "       [10.490341  ,  7.9284725 ,  5.8123145 ,  7.4088507 ,  1.9452057 ,\n",
       "         7.05998   ,  0.80689836,  9.725428  ,  3.3938165 ,  2.2413511 ],\n",
       "       [10.954479  ,  7.833185  ,  5.0244923 ,  8.299921  ,  0.9745048 ,\n",
       "         7.1781545 ,  1.8527894 , 10.017526  ,  3.2663858 ,  2.47304   ],\n",
       "       [13.104815  ,  8.776333  ,  4.6240087 ,  8.7097845 ,  0.116364  ,\n",
       "         7.3317757 ,  3.2795155 ,  7.744795  ,  3.1410768 ,  3.9515803 ],\n",
       "       [12.918265  ,  9.2020235 ,  5.457745  ,  8.074343  ,  0.87045306,\n",
       "         6.880589  ,  3.41984   ,  8.596067  ,  1.9953786 ,  2.3692653 ],\n",
       "       [11.814652  ,  8.974215  ,  4.8749537 ,  8.633674  , -0.2150177 ,\n",
       "         7.3600116 ,  3.821423  ,  9.224779  ,  3.3003633 ,  3.2004054 ],\n",
       "       [12.708808  ,  8.930759  ,  5.9473    ,  7.7604394 ,  1.2084634 ,\n",
       "         7.331326  ,  3.5197513 ,  8.863347  ,  3.1981435 ,  3.561137  ],\n",
       "       [10.645364  ,  8.673836  ,  5.8451815 ,  7.6597576 ,  1.5022318 ,\n",
       "         6.875352  ,  0.68109256,  9.930132  ,  3.5587986 ,  2.5092463 ],\n",
       "       [10.692013  ,  7.7197995 ,  5.568267  ,  7.6885715 ,  1.771176  ,\n",
       "         7.6117005 ,  0.6267791 , 10.583285  ,  3.5621831 ,  1.8876715 ],\n",
       "       [11.996473  ,  9.158038  ,  4.6519794 ,  8.657034  , -0.14753346,\n",
       "         7.569776  ,  4.124729  ,  8.887569  ,  2.8966236 ,  3.8379288 ],\n",
       "       [10.583565  ,  8.457702  ,  5.4152884 ,  7.281541  ,  2.134258  ,\n",
       "         7.4324794 ,  0.8740673 ,  9.488517  ,  4.276673  ,  2.202532  ],\n",
       "       [11.4425745 ,  8.635717  ,  5.334707  ,  7.8407445 ,  1.1156163 ,\n",
       "         7.7047033 ,  1.1332614 ,  9.0333605 ,  2.9241574 ,  1.5988775 ],\n",
       "       [11.263314  ,  8.871372  ,  5.762851  ,  7.8705664 ,  1.3739324 ,\n",
       "         8.19209   ,  1.2102842 ,  9.242213  ,  2.7052152 ,  2.0552766 ],\n",
       "       [12.448862  ,  9.070316  ,  4.503613  ,  8.406916  ,  2.0447786 ,\n",
       "         7.5371556 ,  1.9991081 ,  9.058248  ,  3.2495344 ,  3.1551526 ],\n",
       "       [10.65077   ,  8.288183  ,  5.0890822 ,  7.084166  ,  1.0706929 ,\n",
       "         7.930247  ,  1.7641798 ,  9.820845  ,  3.428877  ,  1.8500248 ],\n",
       "       [12.683546  ,  9.198607  ,  4.8609176 ,  8.79758   ,  1.8886497 ,\n",
       "         7.697815  ,  2.3950675 ,  9.308463  ,  3.863939  ,  2.8239927 ],\n",
       "       [12.863829  ,  8.764879  ,  4.7868133 ,  8.044676  , -0.21479665,\n",
       "         7.055985  ,  3.8265755 ,  9.526488  ,  3.8774085 ,  3.1953313 ],\n",
       "       [10.300478  ,  8.622277  ,  4.5943193 ,  7.525188  ,  1.3156023 ,\n",
       "         7.813657  ,  1.5446967 , 10.124777  ,  3.0555205 ,  1.9250209 ],\n",
       "       [10.516016  ,  7.9379554 ,  5.0847993 ,  7.4437923 ,  1.1365955 ,\n",
       "         7.888052  ,  1.374976  ,  9.679514  ,  2.7621562 ,  2.1178591 ],\n",
       "       [12.416426  ,  9.170122  ,  4.6411343 ,  7.6011977 ,  0.9672857 ,\n",
       "         6.7146454 ,  4.080022  ,  8.873024  ,  3.1096802 ,  2.5256958 ],\n",
       "       [11.193396  ,  8.555131  ,  4.9835477 ,  9.021887  ,  2.1508522 ,\n",
       "         8.09016   ,  1.1838716 ,  8.968804  ,  3.2731953 ,  1.8282056 ],\n",
       "       [11.533936  ,  8.879249  ,  5.5535493 ,  7.64139   ,  1.6503298 ,\n",
       "         7.557344  ,  1.3722872 ,  9.718592  ,  2.8716238 ,  1.68694   ],\n",
       "       [11.029477  ,  8.215028  ,  4.642728  ,  8.375268  ,  1.1549561 ,\n",
       "         7.5117927 ,  1.1513093 ,  9.951161  ,  2.631738  ,  1.9024738 ],\n",
       "       [13.0023155 , 10.048763  ,  3.638907  ,  8.85932   , -0.09502111,\n",
       "         7.7279525 ,  3.594088  ,  8.24848   ,  3.3042576 ,  3.779558  ],\n",
       "       [12.946986  ,  9.506474  ,  4.9846997 ,  8.41467   ,  0.7232114 ,\n",
       "         7.0564065 ,  3.7175953 ,  8.605535  ,  3.8215704 ,  4.3960824 ],\n",
       "       [13.164654  ,  9.3107195 ,  3.9678617 ,  8.270898  ,  0.6349501 ,\n",
       "         6.8659754 ,  4.0832562 ,  9.463596  ,  4.617919  ,  4.025324  ],\n",
       "       [12.62694   ,  9.037266  ,  4.709629  ,  7.4734354 ,  0.7728748 ,\n",
       "         6.722617  ,  3.4002638 ,  9.3424015 ,  3.6306021 ,  2.5652978 ],\n",
       "       [12.592766  ,  9.560779  ,  3.4076936 ,  7.931239  ,  0.2849237 ,\n",
       "         7.350037  ,  3.6911635 ,  9.516237  ,  3.6092458 ,  3.8117006 ],\n",
       "       [12.597933  ,  8.703767  ,  3.6600897 ,  9.564765  ,  0.62538916,\n",
       "         7.9086924 ,  3.3341942 ,  8.4101715 ,  4.059168  ,  4.53603   ],\n",
       "       [12.303844  ,  8.082826  ,  4.443475  ,  9.664117  ,  0.577639  ,\n",
       "         7.905322  ,  3.1168346 ,  8.394756  ,  4.0585227 ,  3.8154066 ],\n",
       "       [12.512269  ,  9.030305  ,  3.1971211 ,  8.6212015 , -0.03097274,\n",
       "         7.6922636 ,  3.2570317 ,  8.1982975 ,  2.9685278 ,  3.8059864 ],\n",
       "       [12.462909  ,  9.015152  ,  4.2552023 ,  8.099203  ,  0.82128567,\n",
       "         7.190079  ,  4.755989  ,  8.882924  ,  4.365375  ,  3.2921047 ],\n",
       "       [11.412099  ,  7.7984576 ,  4.8297    ,  8.006403  ,  1.4034693 ,\n",
       "         8.010923  ,  1.0409046 , 10.300404  ,  3.4998744 ,  1.7964492 ],\n",
       "       [10.938391  ,  8.017285  ,  5.3867726 ,  8.380844  ,  1.4894223 ,\n",
       "         8.018716  ,  1.3657502 , 10.373963  ,  3.416694  ,  1.7752862 ],\n",
       "       [12.172304  ,  8.913719  ,  3.4463372 ,  9.116882  ,  0.76231027,\n",
       "         8.159917  ,  3.075467  ,  8.063775  ,  3.0676174 ,  4.113195  ],\n",
       "       [12.974061  ,  8.645075  ,  4.2202454 ,  9.055408  ,  1.1183834 ,\n",
       "         7.2063704 ,  3.9830244 ,  9.680149  ,  4.442116  ,  3.8688014 ],\n",
       "       [13.357812  ,  8.74359   ,  4.219808  ,  8.315227  ,  0.82591933,\n",
       "         7.658797  ,  3.8032107 ,  9.265116  ,  4.665352  ,  3.699149  ],\n",
       "       [12.101297  ,  9.068287  ,  4.4767585 ,  7.7487803 ,  1.3365583 ,\n",
       "         6.6658325 ,  2.8332753 ,  9.719974  ,  2.957105  ,  2.9067636 ],\n",
       "       [12.030615  ,  8.32529   ,  4.748602  ,  7.9715176 ,  0.97297925,\n",
       "         7.33664   ,  4.789938  ,  8.880412  ,  3.502632  ,  3.3936143 ],\n",
       "       [12.142191  ,  8.794511  ,  3.3726366 ,  9.245488  ,  0.30002186,\n",
       "         8.392021  ,  4.030442  ,  8.37771   ,  3.6951282 ,  3.9474945 ],\n",
       "       [12.572577  ,  9.752416  ,  5.322875  ,  8.3600235 ,  0.5261309 ,\n",
       "         7.5203805 ,  2.8577795 ,  9.406577  ,  3.2292147 ,  3.6625872 ],\n",
       "       [13.329008  ,  9.495428  ,  4.765409  ,  8.402864  ,  0.9643423 ,\n",
       "         6.8333535 ,  3.5749087 ,  8.8342    ,  2.1597981 ,  3.006534  ],\n",
       "       [10.450007  ,  7.7371244 ,  5.160216  ,  7.8039403 ,  1.5053333 ,\n",
       "         7.1540346 ,  0.4800144 ,  9.628132  ,  3.4969501 ,  2.2717822 ],\n",
       "       [12.20881   ,  7.998509  ,  4.405467  ,  9.179194  ,  0.51915264,\n",
       "         8.015833  ,  3.847874  ,  9.206168  ,  3.9529479 ,  3.310855  ],\n",
       "       [11.781099  ,  8.128622  ,  4.6563206 ,  8.511897  ,  0.9317481 ,\n",
       "         7.9842553 ,  3.5689917 ,  8.969853  ,  4.1712475 ,  4.0204725 ],\n",
       "       [11.338672  ,  8.325308  ,  4.697889  ,  7.8853765 ,  1.0068839 ,\n",
       "         8.181407  ,  2.129878  , 10.190678  ,  3.4305437 ,  2.3947089 ],\n",
       "       [12.894519  ,  8.934189  ,  3.8205667 ,  8.0849085 ,  0.66388977,\n",
       "         7.2513843 ,  4.1573105 ,  9.891865  ,  3.8073604 ,  4.0168347 ],\n",
       "       [11.668517  ,  8.416818  ,  5.3001285 ,  8.478747  ,  0.7622114 ,\n",
       "         6.720778  ,  3.1562665 ,  9.313986  ,  2.9397874 ,  3.024379  ],\n",
       "       [12.240379  ,  9.468503  ,  3.3738427 ,  8.399     ,  1.1145713 ,\n",
       "         8.253764  ,  3.430017  ,  8.767803  ,  2.980847  ,  3.8708782 ],\n",
       "       [12.80442   ,  8.929053  ,  3.522051  ,  8.385579  ,  1.347096  ,\n",
       "         8.067271  ,  4.0178113 ,  9.17539   ,  3.7450917 ,  4.375403  ],\n",
       "       [12.08922   ,  8.1348915 ,  4.058412  ,  8.424459  ,  0.77545613,\n",
       "         7.855781  ,  4.4978356 ,  8.673104  ,  3.9635768 ,  3.8763351 ],\n",
       "       [10.622732  ,  8.490215  ,  5.0781937 ,  8.781818  ,  1.8938196 ,\n",
       "         7.386844  ,  0.8767267 ,  9.23577   ,  3.8837316 ,  1.236859  ],\n",
       "       [11.386011  ,  7.888028  ,  5.208658  ,  8.431353  ,  2.198553  ,\n",
       "         7.4248333 ,  0.49585566,  8.982878  ,  3.4310694 ,  1.742187  ],\n",
       "       [11.200255  ,  8.702995  ,  5.1062655 ,  8.883756  ,  1.9347275 ,\n",
       "         7.5705996 ,  0.4656936 ,  9.597566  ,  3.564321  ,  2.1915696 ],\n",
       "       [12.560165  ,  8.807086  ,  4.1130314 ,  9.360695  ,  1.2278013 ,\n",
       "         7.1802197 ,  3.3812284 ,  8.674698  ,  3.258618  ,  2.978865  ],\n",
       "       [12.571308  ,  9.479     ,  3.482597  ,  8.757661  ,  0.3265703 ,\n",
       "         7.4766483 ,  4.525263  ,  8.460638  ,  3.9080253 ,  4.0677505 ],\n",
       "       [12.368475  ,  9.943755  ,  3.8457024 ,  8.606948  ,  0.6972209 ,\n",
       "         8.343732  ,  4.3691115 ,  8.944109  ,  3.6637263 ,  3.6121206 ],\n",
       "       [12.351382  ,  9.345225  ,  4.168294  ,  8.171549  ,  0.7766442 ,\n",
       "         7.8950696 ,  4.561561  ,  9.5553665 ,  4.607501  ,  3.9841871 ],\n",
       "       [11.006733  ,  8.75844   ,  5.252894  ,  7.8084173 ,  1.969273  ,\n",
       "         7.4649177 ,  0.09434436,  8.937405  ,  4.080831  ,  1.5459555 ],\n",
       "       [10.92175   ,  8.480645  ,  5.00065   ,  7.979031  ,  2.7436743 ,\n",
       "         7.573523  ,  0.39064598,  9.129937  ,  4.0630693 ,  1.9491168 ],\n",
       "       [10.544649  ,  8.860438  ,  5.5705843 ,  8.147878  ,  2.176989  ,\n",
       "         7.732507  ,  0.4573122 ,  8.847968  ,  3.8650153 ,  2.2077897 ],\n",
       "       [12.561209  ,  8.951392  ,  3.8873672 ,  7.8148685 ,  0.5897491 ,\n",
       "         7.5770907 ,  4.8487597 ,  9.024527  ,  3.5906951 ,  3.8771813 ],\n",
       "       [12.635468  ,  8.7365265 ,  5.5150824 ,  8.494445  ,  1.0849565 ,\n",
       "         7.379298  ,  3.4174364 ,  9.325188  ,  2.164123  ,  3.0771692 ],\n",
       "       [12.660354  ,  9.692692  ,  5.9193516 ,  8.425385  ,  0.6406601 ,\n",
       "         7.4303102 ,  3.9232533 ,  9.438554  ,  3.3622446 ,  3.8874483 ],\n",
       "       [13.117464  ,  9.12358   ,  5.3522344 ,  8.674968  ,  0.4004736 ,\n",
       "         7.0615625 ,  3.2257667 ,  8.774132  ,  2.217814  ,  2.8453944 ],\n",
       "       [12.99626   ,  9.35441   ,  5.838895  ,  8.006424  ,  0.42095333,\n",
       "         7.3634424 ,  3.3248725 ,  9.344216  ,  3.715522  ,  3.6962767 ],\n",
       "       [12.933854  ,  9.433898  ,  3.8487809 ,  8.07144   ,  0.6269871 ,\n",
       "         7.893926  ,  3.395948  ,  8.322923  ,  3.4396024 ,  4.440649  ],\n",
       "       [13.078973  ,  9.135722  ,  5.0828185 ,  8.603645  ,  0.7286862 ,\n",
       "         7.806926  ,  3.7061133 ,  8.447778  ,  2.3962312 ,  2.775738  ],\n",
       "       [12.062638  ,  9.136714  ,  5.26782   ,  8.443552  ,  1.5321238 ,\n",
       "         7.5137267 ,  2.1388881 ,  8.720083  ,  4.021739  ,  2.7409298 ],\n",
       "       [12.428053  ,  8.688718  ,  5.208004  ,  8.4575405 ,  1.7209432 ,\n",
       "         7.946077  ,  1.6570817 ,  8.775115  ,  3.530968  ,  2.2422364 ],\n",
       "       [12.100451  ,  8.239814  ,  3.874687  ,  8.632522  ,  0.01960774,\n",
       "         8.213341  ,  3.474492  ,  8.958212  ,  4.2839336 ,  3.8659463 ],\n",
       "       [12.431679  ,  8.37169   ,  3.8662488 ,  8.716758  ,  0.19067152,\n",
       "         7.480268  ,  3.6440735 ,  7.8077674 ,  3.6699984 ,  4.3274074 ],\n",
       "       [12.8720255 ,  9.201849  ,  4.1365056 ,  8.637655  , -0.4828626 ,\n",
       "         7.137029  ,  3.6786108 ,  8.596999  ,  3.8557692 ,  3.813188  ],\n",
       "       [11.182187  ,  8.867702  ,  4.25514   ,  8.035062  ,  1.1551963 ,\n",
       "         7.687849  ,  2.4943774 ,  8.717782  ,  2.7792354 ,  2.7974331 ],\n",
       "       [11.562205  ,  8.272259  ,  3.9458098 ,  8.756247  ,  0.8424003 ,\n",
       "         8.120189  ,  2.9111571 ,  8.531321  ,  3.1115236 ,  3.5524185 ],\n",
       "       [12.821057  ,  9.328148  ,  4.3930197 ,  9.190421  ,  1.2026    ,\n",
       "         7.1086392 ,  3.2316315 ,  8.593646  ,  2.3576612 ,  3.0294855 ],\n",
       "       [12.988881  ,  9.068223  ,  3.5979013 ,  8.879663  ,  0.52735853,\n",
       "         7.2505336 ,  3.3795154 ,  8.726762  ,  3.7858    ,  4.492204  ],\n",
       "       [12.478264  ,  8.2687645 ,  4.2611647 ,  9.050648  , -0.15803346,\n",
       "         7.6853323 ,  3.0026276 ,  8.200818  ,  3.4801104 ,  3.6533093 ],\n",
       "       [12.038236  ,  9.290987  ,  5.188388  ,  8.853812  ,  0.81422776,\n",
       "         6.7245865 ,  3.2496448 ,  9.256017  ,  2.59771   ,  2.6404846 ],\n",
       "       [13.274342  ,  8.930436  ,  4.317346  ,  8.695203  ,  0.59457344,\n",
       "         8.335948  ,  3.5533245 ,  8.159749  ,  3.137114  ,  3.868382  ],\n",
       "       [12.413285  ,  9.542586  ,  4.158948  ,  7.8255234 ,  1.2177119 ,\n",
       "         6.742226  ,  3.834736  ,  8.842998  ,  3.8913767 ,  3.2901502 ],\n",
       "       [12.063142  ,  9.221266  ,  4.4410124 ,  8.468363  ,  0.10484567,\n",
       "         7.9018693 ,  4.3904123 ,  9.073286  ,  4.64925   ,  3.8850932 ],\n",
       "       [12.995241  ,  9.286908  ,  4.357779  ,  8.182311  ,  1.0566096 ,\n",
       "         7.3489423 ,  3.3985612 ,  9.317534  ,  3.1642444 ,  2.4248176 ],\n",
       "       [10.545291  ,  8.333191  ,  4.6849275 ,  8.319374  ,  1.9157478 ,\n",
       "         7.3278794 ,  0.1582918 ,  8.887205  ,  3.3530166 ,  1.7997671 ],\n",
       "       [12.884282  ,  9.726872  ,  4.300885  ,  7.7988276 ,  0.9632746 ,\n",
       "         7.808635  ,  4.123214  ,  9.139304  ,  3.3830595 ,  3.8029158 ],\n",
       "       [12.705636  ,  9.546215  ,  4.1196213 ,  9.345079  ,  0.44576406,\n",
       "         7.7686453 ,  3.9014938 ,  8.5275545 ,  4.4224353 ,  4.054186  ],\n",
       "       [10.944331  ,  8.154134  ,  5.172757  ,  8.844253  ,  1.6246455 ,\n",
       "         7.2506995 ,  1.5890479 ,  8.896417  ,  3.4660227 ,  1.9856027 ],\n",
       "       [12.817647  ,  9.224032  ,  5.029195  ,  8.327027  ,  0.2592964 ,\n",
       "         7.3624454 ,  4.111349  ,  9.780675  ,  4.375289  ,  3.8185713 ],\n",
       "       [11.708561  ,  9.120202  ,  4.499908  ,  7.6091995 ,  0.8312383 ,\n",
       "         7.177284  ,  3.2848098 ,  8.637428  ,  3.1699483 ,  2.6143465 ]],\n",
       "      dtype=float32)"
      ]
     },
     "execution_count": 55,
     "metadata": {},
     "output_type": "execute_result"
    }
   ],
   "source": [
    "embeddings_reduced"
   ]
  },
  {
   "cell_type": "code",
   "execution_count": 56,
   "metadata": {
    "scrolled": true
   },
   "outputs": [
    {
     "name": "stderr",
     "output_type": "stream",
     "text": [
      "/Users/khosseini/Desktop/codes/2019/path_signatures_bert/src/timeinjection.py:36: SettingWithCopyWarning: \n",
      "A value is trying to be set on a copy of a slice from a DataFrame\n",
      "\n",
      "See the caveats in the documentation: https://pandas.pydata.org/pandas-docs/stable/user_guide/indexing.html#returning-a-view-versus-a-copy\n",
      "  df['timeline_index'][first_index:last_index] = np.arange(t_id_len)\n"
     ]
    },
    {
     "data": {
      "text/plain": [
       "(100, 1, 13)"
      ]
     },
     "execution_count": 56,
     "metadata": {},
     "output_type": "execute_result"
    }
   ],
   "source": [
    "#concatenate new dataframe\n",
    "from src.dataset import get_modeling_dataframe\n",
    "df = get_modeling_dataframe(dataset_df, embeddings_sentence, embeddings_reduced)\n",
    "\n",
    "#get time features\n",
    "from src.timeinjection import TimeFeatures, Padding\n",
    "tf = TimeFeatures()\n",
    "df = tf.get_time_features(df)\n",
    "\n",
    "\n",
    "#padding\n",
    "pad = Padding()\n",
    "df_padded = pad.pad_timelines(df)\n",
    "df_padded.shape"
   ]
  },
  {
   "cell_type": "code",
   "execution_count": 59,
   "metadata": {},
   "outputs": [
    {
     "ename": "ModuleNotFoundError",
     "evalue": "No module named 'signatory'",
     "output_type": "error",
     "traceback": [
      "\u001b[0;31m---------------------------------------------------------------------------\u001b[0m",
      "\u001b[0;31mModuleNotFoundError\u001b[0m                       Traceback (most recent call last)",
      "Cell \u001b[0;32mIn [59], line 22\u001b[0m\n\u001b[1;32m     19\u001b[0m     bert_embeddings \u001b[38;5;241m=\u001b[39m \u001b[38;5;28;01mNone\u001b[39;00m\n\u001b[1;32m     21\u001b[0m \u001b[38;5;66;03m#calculate paths\u001b[39;00m\n\u001b[0;32m---> 22\u001b[0m \u001b[38;5;28;01mfrom\u001b[39;00m \u001b[38;5;21;01msrc\u001b[39;00m\u001b[38;5;21;01m.\u001b[39;00m\u001b[38;5;21;01mdyadic_path\u001b[39;00m \u001b[38;5;28;01mimport\u001b[39;00m DyadicSignatures\n\u001b[1;32m     24\u001b[0m dsig \u001b[38;5;241m=\u001b[39m DyadicSignatures(original_size \u001b[38;5;241m=\u001b[39m df\u001b[38;5;241m.\u001b[39mshape[\u001b[38;5;241m0\u001b[39m], d \u001b[38;5;241m=\u001b[39m path\u001b[38;5;241m.\u001b[39mshape[\u001b[38;5;241m2\u001b[39m], sig_d \u001b[38;5;241m=\u001b[39m model_specifics[\u001b[38;5;124m'\u001b[39m\u001b[38;5;124msignature_dimensions\u001b[39m\u001b[38;5;124m'\u001b[39m], \\\n\u001b[1;32m     25\u001b[0m     intervals \u001b[38;5;241m=\u001b[39m \u001b[38;5;241m1\u001b[39m\u001b[38;5;241m/\u001b[39m\u001b[38;5;241m12\u001b[39m, k_history\u001b[38;5;241m=\u001b[39m \u001b[38;5;28;01mNone\u001b[39;00m, embedding_tp \u001b[38;5;241m=\u001b[39m model_specifics[\u001b[38;5;124m'\u001b[39m\u001b[38;5;124mpost_embedding_tp\u001b[39m\u001b[38;5;124m'\u001b[39m], \\\n\u001b[1;32m     26\u001b[0m     method \u001b[38;5;241m=\u001b[39m model_specifics[\u001b[38;5;124m'\u001b[39m\u001b[38;5;124mfeature_combination_method\u001b[39m\u001b[38;5;124m'\u001b[39m], \\\n\u001b[1;32m     27\u001b[0m     history_tp \u001b[38;5;241m=\u001b[39m model_specifics[\u001b[38;5;124m'\u001b[39m\u001b[38;5;124msignature_tp\u001b[39m\u001b[38;5;124m'\u001b[39m] , add_time \u001b[38;5;241m=\u001b[39m post_time)\n\u001b[1;32m     29\u001b[0m sig, last_index_dt_all \u001b[38;5;241m=\u001b[39m dsig\u001b[38;5;241m.\u001b[39mcompute_signatures(path)\n",
      "File \u001b[0;32m~/Desktop/codes/2019/path_signatures_bert/src/dyadic_path.py:1\u001b[0m\n\u001b[0;32m----> 1\u001b[0m \u001b[38;5;28;01mimport\u001b[39;00m \u001b[38;5;21;01msignatory\u001b[39;00m\n\u001b[1;32m      2\u001b[0m \u001b[38;5;28;01mimport\u001b[39;00m \u001b[38;5;21;01mmath\u001b[39;00m\n\u001b[1;32m      3\u001b[0m \u001b[38;5;28;01mimport\u001b[39;00m \u001b[38;5;21;01mtorch\u001b[39;00m \n",
      "\u001b[0;31mModuleNotFoundError\u001b[0m: No module named 'signatory'"
     ]
    }
   ],
   "source": [
    "if (model_specifics['time_injection_history_tp'] == 'timestamp'):\n",
    "    path = torch.from_numpy(df_padded[: , : , 2:].astype(float))\n",
    "else:\n",
    "    path = torch.from_numpy(df_padded[: , : , 3:].astype(float))\n",
    "  \n",
    "if (model_specifics['time_injection_post_tp']== 'timestamp'):\n",
    "    time_feature = torch.tensor((df[['time_encoding']].values - df['time_encoding'].mean()) / df['time_encoding'].std() )\n",
    "    post_time = True\n",
    "elif (model_specifics['time_injection_post_tp']== 'timediff'):\n",
    "    time_feature = torch.tensor( (df[['time_diff']].values - df['time_diff'].mean()) / df['time_diff'].std()  )\n",
    "    post_time = True  \n",
    "else: \n",
    "    time_feature = None\n",
    "    post_time = False\n",
    "\n",
    "if (model_specifics['post_embedding_tp'] == 'sentence'):\n",
    "    bert_embeddings = torch.tensor(df[[c for c in df.columns if re.match(\"^e\\w*[0-9]\", c)]].values)\n",
    "else:\n",
    "    bert_embeddings = None\n",
    "\n",
    "#calculate paths\n",
    "from src.dyadic_path import DyadicSignatures\n",
    "\n",
    "dsig = DyadicSignatures(original_size = df.shape[0], d = path.shape[2], sig_d = model_specifics['signature_dimensions'], \\\n",
    "    intervals = 1/12, k_history= None, embedding_tp = model_specifics['post_embedding_tp'], \\\n",
    "    method = model_specifics['feature_combination_method'], \\\n",
    "    history_tp = model_specifics['signature_tp'] , add_time = post_time)\n",
    "\n",
    "sig, last_index_dt_all = dsig.compute_signatures(path)\n",
    "sig_combined = dsig.combine_signatures(sig)\n",
    "x_data = dsig.create_features(path, sig_combined, last_index_dt_all, bert_embeddings, time_feature)\n",
    "\n",
    "sig.shape, last_index_dt_all.shape, sig_combined.shape, x_data.shape"
   ]
  },
  {
   "cell_type": "code",
   "execution_count": null,
   "metadata": {},
   "outputs": [],
   "source": []
  },
  {
   "cell_type": "code",
   "execution_count": null,
   "metadata": {},
   "outputs": [],
   "source": []
  },
  {
   "cell_type": "markdown",
   "metadata": {},
   "source": [
    "Read raw data"
   ]
  },
  {
   "cell_type": "code",
   "execution_count": null,
   "metadata": {},
   "outputs": [],
   "source": [
    "# TalkLifeDataset = data_handler.TalkLifeDataset()\n",
    "# annotations = TalkLifeDataset.return_annotated_timelines(load_from_pickle=False)\n",
    "# annotations = annotations[annotations['content']!='nan']\n",
    "\n",
    "# sample_size = annotations.shape[0]\n",
    "# print(sample_size)\n",
    "# annotations.head()\n",
    "# #column format: \"timeline_id\"\t\"postid\"\t\"content\"\t\"label\"\t\"datetime\""
   ]
  },
  {
   "cell_type": "markdown",
   "metadata": {},
   "source": [
    "Define Model"
   ]
  },
  {
   "cell_type": "code",
   "execution_count": null,
   "metadata": {},
   "outputs": [],
   "source": [
    "# # ================================\n",
    "# #model specifics\n",
    "# model_specifics = {\"global_embedding_tp\": 'SBERT', #options: SBERT, BERT_cls , BERT_mean, BERT_max\n",
    "#     \"dimensionality_reduction_tp\": 'ppapca', #options: ppapca, ppapcappa, umap\n",
    "#     \"dimensionality_reduction_components\": 10, # options: any int number between 1 and embedding dimensions\n",
    "#     \"time_injection_history_tp\": 'timestamp', #options: timestamp, None\n",
    "#     \"time_injection_post_tp\": 'timestamp', #options: timestamp, timediff, None\n",
    "#     \"signature_dimensions\": 3, #options: any int number larger than 1\n",
    "#     \"post_embedding_tp\": 'sentence', #options: sentence, reduced\n",
    "#     \"feature_combination_method\": 'attention', #options concatenation, attention \n",
    "#     \"signature_tp\": 'log', # options: log, sig\n",
    "#     \"classifier_name\": 'FFN2hidden', # options: FFN2hidden (any future classifiers added)\n",
    "#     \"classes_num\": '3class', #options: 3class (5class to be added in the future)\n",
    "# }"
   ]
  },
  {
   "cell_type": "markdown",
   "metadata": {},
   "source": [
    "Post Embeddings, Dimensionality Reduction"
   ]
  },
  {
   "cell_type": "code",
   "execution_count": null,
   "metadata": {},
   "outputs": [],
   "source": [
    "# #post embedding\n",
    "# from embeddings import Representations\n",
    "\n",
    "# rep = Representations(type = model_specifics['global_embedding_tp'])\n",
    "# embeddings_sentence = rep.get_embeddings()\n",
    "\n",
    "# print(embeddings_sentence.shape)\n",
    "\n",
    "# #dimensionality reduction\n",
    "# from dimensionality_reduction import DimensionalityReduction\n",
    "\n",
    "# reduction = DimensionalityReduction(method= model_specifics['dimensionality_reduction_tp'], components=model_specifics['dimensionality_reduction_components'])\n",
    "# embeddings_reduced = reduction.fit_transform(embeddings_sentence)\n",
    "\n",
    "# print(embeddings_reduced.shape)"
   ]
  },
  {
   "cell_type": "markdown",
   "metadata": {},
   "source": [
    "Time features"
   ]
  },
  {
   "cell_type": "code",
   "execution_count": null,
   "metadata": {},
   "outputs": [],
   "source": [
    "# #concatenate new dataframe\n",
    "# from dataset import get_modeling_dataframe\n",
    "# df = get_modeling_dataframe(annotations, embeddings_sentence, embeddings_reduced)\n",
    "\n",
    "# #get time features\n",
    "# from timeinjection import TimeFeatures, Padding\n",
    "# tf = TimeFeatures()\n",
    "# df = tf.get_time_features(df)\n",
    "\n",
    "\n",
    "# #padding\n",
    "# pad = Padding()\n",
    "# df_padded = pad.pad_timelines(df)\n",
    "# df_padded.shape"
   ]
  },
  {
   "cell_type": "markdown",
   "metadata": {},
   "source": [
    "Dyadic paths and data combination"
   ]
  },
  {
   "cell_type": "code",
   "execution_count": null,
   "metadata": {},
   "outputs": [],
   "source": [
    "if (model_specifics['time_injection_history_tp'] == 'timestamp'):\n",
    "    path = torch.from_numpy(df_padded[: , : , 2:].astype(float))\n",
    "else:\n",
    "    path = torch.from_numpy(df_padded[: , : , 3:].astype(float))\n",
    "  \n",
    "if (model_specifics['time_injection_post_tp']== 'timestamp'):\n",
    "    time_feature = torch.tensor((df[['time_encoding']].values - df['time_encoding'].mean()) / df['time_encoding'].std() )\n",
    "    post_time = True\n",
    "elif (model_specifics['time_injection_post_tp']== 'timediff'):\n",
    "    time_feature = torch.tensor( (df[['time_diff']].values - df['time_diff'].mean()) / df['time_diff'].std()  )\n",
    "    post_time = True  \n",
    "else: \n",
    "    time_feature = None\n",
    "    post_time = False\n",
    "\n",
    "if (model_specifics['post_embedding_tp'] == 'sentence'):\n",
    "    bert_embeddings = torch.tensor(df[[c for c in df.columns if re.match(\"^e\\w*[0-9]\", c)]].values)\n",
    "else:\n",
    "    bert_embeddings = None\n",
    "\n",
    "#calculate paths\n",
    "from dyadic_path import DyadicSignatures\n",
    "\n",
    "dsig = DyadicSignatures(original_size = df.shape[0], d = path.shape[2], sig_d = model_specifics['signature_dimensions'], \\\n",
    "    intervals = 1/12, k_history= None, embedding_tp = model_specifics['post_embedding_tp'], \\\n",
    "    method = model_specifics['feature_combination_method'], \\\n",
    "    history_tp = model_specifics['signature_tp'] , add_time = post_time)\n",
    "\n",
    "sig, last_index_dt_all = dsig.compute_signatures(path)\n",
    "sig_combined = dsig.combine_signatures(sig)\n",
    "x_data = dsig.create_features(path, sig_combined, last_index_dt_all, bert_embeddings, time_feature)\n",
    "\n",
    "sig.shape, last_index_dt_all.shape, sig_combined.shape, x_data.shape"
   ]
  },
  {
   "cell_type": "markdown",
   "metadata": {},
   "source": [
    "K fold cross validation with random seeds in FFN"
   ]
  },
  {
   "cell_type": "code",
   "execution_count": null,
   "metadata": {},
   "outputs": [],
   "source": [
    "from sklearn import metrics\n",
    "import random\n",
    "from datetime import date\n",
    "import math\n",
    "\n",
    "from classification_utils import Folds, set_seed, validation, training, testing\n",
    "from ffn import FeedforwardNeuralNetModel, FocalLoss\n",
    "\n",
    "# ================================\n",
    "save_results = False\n",
    "# ================================\n",
    "\n",
    "#GLOBAL MODEL PARAMETERS\n",
    "input_dim = x_data.shape[1]\n",
    "hidden_dim = 200 #200\n",
    "output_dim = 3\n",
    "dropout_rate = 0.35 #0.35 #higher dropout than 0.25 and specifically 0.35 is very promising\n",
    "num_epochs = 100\n",
    "learning_rate = 0.0003 #0.0003 #empirically optimal lr value: 0.0001\n",
    "gamma = 2 #3 #empirically optimal gamma value: 3\n",
    "BATCH_SIZE = 64\n",
    "NUM_folds = 5\n",
    "patience = 2\n",
    "weight_decay_adam = 0.0001\n",
    "RANDOM_SEED_list = [0, 1, 12, 123, 1234]\n",
    "\n",
    "classifier_params = {\"input_dim\": input_dim,\n",
    "  \"hidden_dim\": hidden_dim,\n",
    "  \"output_dim\": output_dim,\n",
    "  \"dropout_rate\": dropout_rate,\n",
    "  \"num_epochs\": num_epochs,\n",
    "  \"learning_rate\": learning_rate,\n",
    "  \"gamma\": gamma,\n",
    "  \"BATCH_SIZE\": BATCH_SIZE,\n",
    "  \"NUM_folds\": NUM_folds,\n",
    "  \"patience\": patience,\n",
    "  \"weight_decay_adam\": weight_decay_adam,\n",
    "  \"RANDOM_SEED_list\": RANDOM_SEED_list,\n",
    "}\n",
    "# ================================\n",
    "model_code_name = model_specifics[\"global_embedding_tp\"]  \\\n",
    "+ \"_\" + str(model_specifics['dimensionality_reduction_tp']) + str(model_specifics['dimensionality_reduction_components']) \\\n",
    "+ \"_\" + str(model_specifics['time_injection_history_tp']) + str(model_specifics['time_injection_post_tp']) \\\n",
    "+ \"_\" + str(model_specifics['post_embedding_tp']) + \"_\" + str(model_specifics['feature_combination_method']) \\\n",
    "+ \"_\" + str(model_specifics['signature_tp']) + \"_\" + str(model_specifics['signature_dimensions']) \\\n",
    "+ \"_\" + str(model_specifics['classifier_name']) + \"_\" + str(model_specifics['classes_num']) \n",
    "\n",
    "FOLDER_models = '/storage/ttseriotou/pathbert/models/v1/'\n",
    "FOLDER_results = '/storage/ttseriotou/pathbert/results/v1/'\n",
    "\n",
    "# ================================\n",
    "KFolds = Folds(num_folds=NUM_folds)\n",
    "y_data = KFolds.get_labels(df)\n",
    "# ================================\n",
    "#K FOLD RUNS\n",
    "\n",
    "for my_ran_seed in RANDOM_SEED_list:\n",
    "    set_seed(my_ran_seed)\n",
    "    myGenerator = torch.Generator()\n",
    "    myGenerator.manual_seed(my_ran_seed)    \n",
    "    for test_fold in range(NUM_folds):\n",
    "\n",
    "        print('Starting random seed #',my_ran_seed, ' and fold #', test_fold)\n",
    "        #get ith-fold data\n",
    "        x_test, y_test, x_valid, y_valid, x_train , y_train, test_tl_ids, test_pids = KFolds.get_splits(df, x_data, y_data, test_fold= test_fold)\n",
    "\n",
    "        #data loaders with batches\n",
    "        train = torch.utils.data.TensorDataset( x_train, y_train)\n",
    "        valid = torch.utils.data.TensorDataset( x_valid, y_valid)\n",
    "        test = torch.utils.data.TensorDataset( x_test, y_test)\n",
    "\n",
    "        train_loader = torch.utils.data.DataLoader(dataset=train, batch_size = BATCH_SIZE, shuffle = True)\n",
    "        valid_loader = torch.utils.data.DataLoader(dataset=valid, batch_size = BATCH_SIZE, shuffle = True)\n",
    "        test_loader = torch.utils.data.DataLoader(dataset=test, batch_size = BATCH_SIZE, shuffle = True)\n",
    "\n",
    "        #calculate alpha for focal loss\n",
    "        alpha_values = torch.Tensor([math.sqrt(1/(y_train[y_train==0].shape[0]/y_train.shape[0])), math.sqrt(1/(y_train[y_train==1].shape[0]/y_train.shape[0])), math.sqrt(1/(y_train[y_train==2].shape[0]/y_train.shape[0]))])\n",
    "\n",
    "        #early stopping params\n",
    "        last_metric = 0\n",
    "        trigger_times = 0\n",
    "        best_metric = 0\n",
    "\n",
    "        #model definitions\n",
    "        model = FeedforwardNeuralNetModel(input_dim, hidden_dim, output_dim, dropout_rate)\n",
    "        criterion = FocalLoss(gamma = gamma, alpha = alpha_values)\n",
    "        optimizer = torch.optim.Adam(model.parameters(), lr=learning_rate, weight_decay= weight_decay_adam)\n",
    "\n",
    "        #model train/validation per epoch\n",
    "        for epoch in range(num_epochs):\n",
    "\n",
    "            training(model, train_loader, criterion, optimizer, epoch, num_epochs)\n",
    "        \n",
    "            # Early stopping\n",
    "            \n",
    "            _ , f1_v = validation(model, valid_loader, criterion)\n",
    "            print('Current Macro F1:', f1_v)\n",
    "\n",
    "            if f1_v > best_metric :\n",
    "                best_metric = f1_v\n",
    "\n",
    "                #test and save so far best model\n",
    "                predicted_test, labels_test = testing(model, test_loader)\n",
    "\n",
    "                results = {\n",
    "                    \"model_code_name\": model_code_name, \n",
    "                    \"model_specifics\": model_specifics, \n",
    "                    \"classifier_params\": classifier_params, \n",
    "                    \"date_run\": date.today().strftime(\"%d/%m/%Y\"),\n",
    "                    \"test_tl_ids\": test_tl_ids,\n",
    "                    \"test_pids\": test_pids,\n",
    "                    \"labels\": labels_test,\n",
    "                    \"predictions\": predicted_test,\n",
    "                    \"test_fold\": test_fold,\n",
    "                    \"random_seed\": my_ran_seed,\n",
    "                    \"epoch\": epoch,\n",
    "                }\n",
    "\n",
    "                if (save_results==True):\n",
    "                    file_name_results = FOLDER_results + model_code_name + \"_\" + str(my_ran_seed) + \"seed\" + \"_\" + str(test_fold) + \"fold\" +'.pkl'\n",
    "                    file_name_model = FOLDER_models + model_code_name + \"_\" + str(my_ran_seed) + \"seed\" + \"_\" + str(test_fold) + \"fold\" +'.pkl'\n",
    "                    pickle.dump(results, open(file_name_results, 'wb'))\n",
    "                    torch.save(model.state_dict(), file_name_model)\n",
    "\n",
    "            if f1_v < last_metric:\n",
    "                trigger_times += 1\n",
    "                print('Trigger Times:', trigger_times)\n",
    "\n",
    "                if trigger_times >= patience:\n",
    "                    print('Early stopping!')\n",
    "                    break\n",
    "\n",
    "            else:\n",
    "                print('Trigger Times: 0')\n",
    "                trigger_times = 0\n",
    "\n",
    "            last_metric = f1_v\n",
    "     \n",
    "        "
   ]
  },
  {
   "cell_type": "markdown",
   "metadata": {},
   "source": [
    "Process Model results"
   ]
  },
  {
   "cell_type": "code",
   "execution_count": null,
   "metadata": {},
   "outputs": [],
   "source": [
    "from classification_utils import process_model_results\n",
    "process_model_results(model_code_name, FOLDER_results)"
   ]
  }
 ],
 "metadata": {
  "kernelspec": {
   "display_name": "Python 3 (ipykernel)",
   "language": "python",
   "name": "python3"
  },
  "language_info": {
   "codemirror_mode": {
    "name": "ipython",
    "version": 3
   },
   "file_extension": ".py",
   "mimetype": "text/x-python",
   "name": "python",
   "nbconvert_exporter": "python",
   "pygments_lexer": "ipython3",
   "version": "3.8.13"
  },
  "vscode": {
   "interpreter": {
    "hash": "ffd82183065ba16b0ba4c22bb197cdb29e58519baae1d5fdebe67fa52052b7e8"
   }
  }
 },
 "nbformat": 4,
 "nbformat_minor": 2
}
