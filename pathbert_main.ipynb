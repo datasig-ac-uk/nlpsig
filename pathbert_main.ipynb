{
 "cells": [
  {
   "cell_type": "markdown",
   "metadata": {},
   "source": [
    "# BERT and Path signature"
   ]
  },
  {
   "cell_type": "code",
   "execution_count": null,
   "metadata": {},
   "outputs": [],
   "source": [
    "# solve issue with autocomplete\n",
    "%config Completer.use_jedi = False\n",
    "\n",
    "%load_ext autoreload\n",
    "%autoreload 2\n",
    "%matplotlib inline"
   ]
  },
  {
   "cell_type": "code",
   "execution_count": null,
   "metadata": {},
   "outputs": [],
   "source": [
    "import pandas as pd\n",
    "import torch\n",
    "import pickle\n",
    "import re\n",
    "\n",
    "# import sys\n",
    "# sys.path.insert(0, \"../../timeline_generation/\")  # Adds higher directory to python modules path\n",
    "# import src.data_handler"
   ]
  },
  {
   "cell_type": "markdown",
   "metadata": {},
   "source": [
    "## Load dataset"
   ]
  },
  {
   "cell_type": "code",
   "execution_count": null,
   "metadata": {},
   "outputs": [],
   "source": [
    "# loadHF: load a dataset from hugging face\n",
    "from src import loadHF\n",
    "data_loader = loadHF(dataset_name=\"newspop\", \n",
    "                     split_name=\"train\")"
   ]
  },
  {
   "cell_type": "code",
   "execution_count": null,
   "metadata": {},
   "outputs": [],
   "source": [
    "# Note: default_preproces_newspop is implemented in loadHF\n",
    "data_loader.load_preprocessed_df(default_preprocess=\"newspop\")"
   ]
  },
  {
   "cell_type": "code",
   "execution_count": null,
   "metadata": {},
   "outputs": [],
   "source": [
    "dataset_df = data_loader.dataset_df"
   ]
  },
  {
   "cell_type": "code",
   "execution_count": null,
   "metadata": {},
   "outputs": [],
   "source": [
    "dataset_df.head()"
   ]
  },
  {
   "cell_type": "markdown",
   "metadata": {},
   "source": [
    "## Encode labels"
   ]
  },
  {
   "cell_type": "code",
   "execution_count": null,
   "metadata": {},
   "outputs": [],
   "source": [
    "dataset_df = dataset_df[:500]\n",
    "dataset_df[\"label\"].value_counts()"
   ]
  },
  {
   "cell_type": "code",
   "execution_count": null,
   "metadata": {},
   "outputs": [],
   "source": [
    "model_specifics = {\n",
    "    \"global_embedding_tp\": 'SBERT', #options: SBERT, BERT_cls , BERT_mean, BERT_max\n",
    "    \"dimensionality_reduction_tp\": 'ppapca', #options: ppapca, ppapcappa, umap\n",
    "    \"dimensionality_reduction_components\": 10, # options: any int number between 1 and embedding dimensions\n",
    "    \"time_injection_history_tp\": 'timestamp', #options: timestamp, None\n",
    "    \"time_injection_post_tp\": 'timestamp', #options: timestamp, timediff, None\n",
    "    \"signature_dimensions\": 3, #options: any int number larger than 1\n",
    "    \"post_embedding_tp\": 'sentence', #options: sentence, reduced\n",
    "    \"feature_combination_method\": 'attention', #options concatenation, attention \n",
    "    \"signature_tp\": 'log', # options: log, sig\n",
    "    \"classifier_name\": 'FFN2hidden', # options: FFN2hidden (any future classifiers added)\n",
    "    \"classes_num\": '3class', #options: 3class (5class to be added in the future)\n",
    "}"
   ]
  },
  {
   "cell_type": "code",
   "execution_count": null,
   "metadata": {},
   "outputs": [],
   "source": [
    "from sentence_transformers import SentenceTransformer\n",
    "sentences = dataset_df[\"content\"].to_list()"
   ]
  },
  {
   "cell_type": "code",
   "execution_count": null,
   "metadata": {},
   "outputs": [],
   "source": [
    "sentences[:10]"
   ]
  },
  {
   "cell_type": "code",
   "execution_count": null,
   "metadata": {},
   "outputs": [],
   "source": [
    "st_model = SentenceTransformer('all-MiniLM-L6-v2')"
   ]
  },
  {
   "cell_type": "code",
   "execution_count": null,
   "metadata": {},
   "outputs": [],
   "source": [
    "embeddings_sentence = st_model.encode(sentences,\n",
    "                                      batch_size=64,\n",
    "                                      show_progress_bar=True,\n",
    "                                      output_value='sentence_embedding', \n",
    "                                      convert_to_numpy=True,\n",
    "                                      convert_to_tensor=False,\n",
    "                                      device=None,\n",
    "                                      normalize_embeddings=False,\n",
    "                                     )"
   ]
  },
  {
   "cell_type": "code",
   "execution_count": null,
   "metadata": {},
   "outputs": [],
   "source": [
    "#dimensionality reduction\n",
    "from src import DimensionalityReduction\n",
    "\n",
    "reduction = DimensionalityReduction(method= model_specifics['dimensionality_reduction_tp'], \n",
    "                                    components=model_specifics['dimensionality_reduction_components'])"
   ]
  },
  {
   "cell_type": "code",
   "execution_count": null,
   "metadata": {},
   "outputs": [],
   "source": [
    "embeddings_reduced = reduction.fit_transform(embeddings_sentence)"
   ]
  },
  {
   "cell_type": "code",
   "execution_count": null,
   "metadata": {},
   "outputs": [],
   "source": [
    "print(embeddings_sentence.shape)\n",
    "print(embeddings_reduced.shape)"
   ]
  },
  {
   "cell_type": "code",
   "execution_count": null,
   "metadata": {},
   "outputs": [],
   "source": [
    "embeddings_reduced"
   ]
  },
  {
   "cell_type": "code",
   "execution_count": null,
   "metadata": {
    "scrolled": true
   },
   "outputs": [],
   "source": [
    "#concatenate new dataframe\n",
    "from src.dataset import get_modeling_dataframe\n",
    "df = get_modeling_dataframe(dataset_df, embeddings_sentence, embeddings_reduced)\n",
    "\n",
    "#get time features\n",
    "from src.timeinjection import TimeFeatures, Padding\n",
    "tf = TimeFeatures()\n",
    "df = tf.get_time_features(df)\n",
    "\n",
    "\n",
    "#padding\n",
    "pad = Padding()\n",
    "df_padded = pad.pad_timelines(df)\n",
    "df_padded.shape"
   ]
  },
  {
   "cell_type": "code",
   "execution_count": null,
   "metadata": {},
   "outputs": [],
   "source": [
    "if (model_specifics['time_injection_history_tp'] == 'timestamp'):\n",
    "    path = torch.from_numpy(df_padded[: , : , 2:].astype(float))\n",
    "else:\n",
    "    path = torch.from_numpy(df_padded[: , : , 3:].astype(float))\n",
    "\n",
    "if (model_specifics['time_injection_post_tp']== 'timestamp'):\n",
    "    time_feature = torch.tensor((df[['time_encoding']].values - df['time_encoding'].mean()) / df['time_encoding'].std() )\n",
    "    post_time = True\n",
    "elif (model_specifics['time_injection_post_tp']== 'timediff'):\n",
    "    time_feature = torch.tensor( (df[['time_diff']].values - df['time_diff'].mean()) / df['time_diff'].std()  )\n",
    "    post_time = True  \n",
    "else: \n",
    "    time_feature = None\n",
    "    post_time = False\n",
    "\n",
    "if (model_specifics['post_embedding_tp'] == 'sentence'):\n",
    "    bert_embeddings = torch.tensor(df[[c for c in df.columns if re.match(\"^e\\w*[0-9]\", c)]].values)\n",
    "else:\n",
    "    bert_embeddings = None"
   ]
  },
  {
   "cell_type": "code",
   "execution_count": null,
   "metadata": {},
   "outputs": [],
   "source": [
    "#path = path.squeeze()"
   ]
  },
  {
   "cell_type": "code",
   "execution_count": null,
   "metadata": {},
   "outputs": [],
   "source": [
    "#calculate paths\n",
    "from src.dyadic_path import DyadicSignatures\n",
    "\n",
    "dsig = DyadicSignatures(original_size = df.shape[0], \n",
    "                        d = path.shape[2], \n",
    "                        sig_d = model_specifics['signature_dimensions'],\n",
    "                        intervals = 1/12, \n",
    "                        k_history= None, \n",
    "                        embedding_tp = model_specifics['post_embedding_tp'],\n",
    "                        method = model_specifics['feature_combination_method'],\n",
    "                        history_tp = model_specifics['signature_tp'], \n",
    "                        add_time = post_time)"
   ]
  },
  {
   "cell_type": "code",
   "execution_count": null,
   "metadata": {},
   "outputs": [],
   "source": [
    "sig, last_index_dt_all = dsig.compute_signatures(path)\n",
    "sig_combined = dsig.combine_signatures(sig)"
   ]
  },
  {
   "cell_type": "code",
   "execution_count": null,
   "metadata": {},
   "outputs": [],
   "source": [
    "x_data = dsig.create_features(path, sig_combined, last_index_dt_all, bert_embeddings, time_feature)"
   ]
  },
  {
   "cell_type": "code",
   "execution_count": null,
   "metadata": {},
   "outputs": [],
   "source": [
    "sig.shape, last_index_dt_all.shape, sig_combined.shape, x_data.shape"
   ]
  }
 ],
 "metadata": {
  "kernelspec": {
   "display_name": "Python 3 (ipykernel)",
   "language": "python",
   "name": "python3"
  },
  "language_info": {
   "codemirror_mode": {
    "name": "ipython",
    "version": 3
   },
   "file_extension": ".py",
   "mimetype": "text/x-python",
   "name": "python",
   "nbconvert_exporter": "python",
   "pygments_lexer": "ipython3",
   "version": "3.8.13"
  },
  "vscode": {
   "interpreter": {
    "hash": "bc2069cb215c7de2e5937e427ca306059c4ba817c7096ba614207074d673f065"
   }
  }
 },
 "nbformat": 4,
 "nbformat_minor": 2
}
